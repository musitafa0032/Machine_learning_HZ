{
 "cells": [
  {
   "cell_type": "code",
   "execution_count": 1,
   "metadata": {
    "colab": {
     "base_uri": "https://localhost:8080/"
    },
    "id": "g1-78pxMAa_Q",
    "outputId": "d235b8a4-e55f-44f3-fad4-36a246200452"
   },
   "outputs": [
    {
     "name": "stdout",
     "output_type": "stream",
     "text": [
      "Loading cached data...done (33sec)\n"
     ]
    }
   ],
   "source": [
    "import numpy as np\n",
    "from urllib.request import urlopen\n",
    "from tqdm import tqdm\n",
    "import os.path\n",
    "import time\n",
    "\n",
    "class AlignedEmbeddingLoader(object):\n",
    "  \"\"\"This data loader will download an aligned fasttext embedding given a two letter language code.\n",
    "  More information ca be found at https://fasttext.cc/docs/en/aligned-vectors.html .\"\"\"\n",
    "  def __init__(self, lang='en'):\n",
    "    \"\"\"Data loader\"\"\"\n",
    "    self._dataurl = \"https://dl.fbaipublicfiles.com/fasttext/vectors-aligned/wiki.%s.align.vec\" % lang\n",
    "    cachefile = \"cache_%s.npz\" % lang\n",
    "    if os.path.exists(cachefile):\n",
    "      print(\"Loading cached data...\", end=\"\")\n",
    "      t = time.time()\n",
    "      data = np.load(cachefile)\n",
    "      self.idx2token_ = list(data['idx2token'])\n",
    "      self.vectors_ = data['vectors']\n",
    "      print(\"done (%isec)\" % (time.time()-t), flush=True)\n",
    "    else:\n",
    "      with urlopen(self._dataurl) as remote_file:\n",
    "        get_decoded_line = lambda file: file.readline().decode('utf-8')\n",
    "        self.n_tokens, self.n_dim = [int(n) for n in get_decoded_line(remote_file).split()]\n",
    "        self.idx2token_ = list()\n",
    "        self.vectors_ = np.zeros((self.n_tokens, self.n_dim), dtype=np.float32)\n",
    "        for n in tqdm(range(self.vectors_.shape[0]), desc=\"Downloading and parsing vectors\"):\n",
    "          textline = get_decoded_line(remote_file)\n",
    "          linedata = textline.split(' ')\n",
    "          self.idx2token_.append(linedata[0])\n",
    "          self.vectors_[n, :] = np.asarray(linedata[1:], dtype=np.float32)\n",
    "      np.savez(cachefile, vectors=self.vectors_, idx2token=self.idx2token_)\n",
    "    self.token2idx_ = {token:i for i, token in enumerate(self.idx2token_)}\n",
    "\n",
    "loaded_embedding = AlignedEmbeddingLoader('en')\n",
    "\n",
    "#!ls -l"
   ]
  },
  {
   "cell_type": "code",
   "execution_count": 2,
   "metadata": {},
   "outputs": [
    {
     "data": {
      "text/plain": [
       "2519370"
      ]
     },
     "execution_count": 2,
     "metadata": {},
     "output_type": "execute_result"
    }
   ],
   "source": [
    "len(loaded_embedding.vectors_) #get the number of all word vectors"
   ]
  },
  {
   "cell_type": "code",
   "execution_count": 3,
   "metadata": {},
   "outputs": [
    {
     "data": {
      "text/plain": [
       "array([-0.0113, -0.0021, -0.0515,  0.0208, -0.0697, -0.0385,  0.0381,\n",
       "       -0.0948,  0.0109,  0.152 ,  0.028 , -0.0565,  0.0471, -0.0454,\n",
       "       -0.0167, -0.0714, -0.054 , -0.0541,  0.033 ,  0.0488, -0.0328,\n",
       "        0.1158, -0.0638, -0.0041, -0.0516,  0.1195,  0.0321, -0.1157,\n",
       "       -0.0524,  0.0028, -0.0397,  0.128 , -0.0256,  0.0989,  0.0247,\n",
       "       -0.0919, -0.056 , -0.1255,  0.0228, -0.0246,  0.0305,  0.0752,\n",
       "       -0.0274, -0.0236, -0.0486, -0.0172, -0.0446, -0.0395, -0.0005,\n",
       "       -0.041 , -0.0635,  0.0073, -0.042 , -0.0258, -0.0519, -0.0206,\n",
       "        0.0421,  0.1102, -0.0783,  0.0918,  0.0259, -0.1046,  0.0814,\n",
       "       -0.0704, -0.0776,  0.003 , -0.0373, -0.0446, -0.1412,  0.0132,\n",
       "        0.0104,  0.0117,  0.0726, -0.1611, -0.0477, -0.0165,  0.0344,\n",
       "        0.0113,  0.0319,  0.0912, -0.0655,  0.0703, -0.0131, -0.0112,\n",
       "        0.0475, -0.016 , -0.0136, -0.0335,  0.0831, -0.029 ,  0.01  ,\n",
       "       -0.0378,  0.0592, -0.0377,  0.052 ,  0.0249,  0.0037, -0.0316,\n",
       "        0.044 ,  0.029 ,  0.0024,  0.0382, -0.0059,  0.0303, -0.0354,\n",
       "        0.087 , -0.1114,  0.0323, -0.0191, -0.0135,  0.03  ,  0.0355,\n",
       "       -0.0451, -0.0429, -0.0621, -0.0009,  0.091 ,  0.0025, -0.0007,\n",
       "        0.0211,  0.0529, -0.0595, -0.0045,  0.1166, -0.029 , -0.0005,\n",
       "        0.0422,  0.0099,  0.1056,  0.0804,  0.0182,  0.0601,  0.0863,\n",
       "        0.0369,  0.0151, -0.0631,  0.0151,  0.0472, -0.0526,  0.0616,\n",
       "       -0.0275,  0.0401,  0.1007,  0.0569,  0.068 ,  0.1284,  0.0183,\n",
       "       -0.0015, -0.0436, -0.0037, -0.0568, -0.1392,  0.0227, -0.004 ,\n",
       "        0.0761, -0.0713,  0.0315, -0.0552,  0.1322,  0.0708, -0.0106,\n",
       "        0.1135, -0.0788,  0.0765,  0.0674,  0.0109, -0.0535, -0.0241,\n",
       "        0.0374, -0.0221, -0.0927,  0.0054, -0.0051,  0.0008,  0.0436,\n",
       "       -0.0249, -0.0419,  0.0409, -0.004 , -0.0038,  0.0166, -0.0979,\n",
       "        0.0162,  0.0303,  0.0079,  0.1322, -0.0962, -0.0742, -0.0075,\n",
       "       -0.0311, -0.048 , -0.0982,  0.0682, -0.    , -0.0922,  0.0597,\n",
       "       -0.0034,  0.0421, -0.1474, -0.019 ,  0.0222, -0.0801, -0.1147,\n",
       "        0.0257,  0.0675, -0.0975, -0.0078,  0.0132,  0.0891, -0.0116,\n",
       "        0.1075, -0.0208, -0.037 , -0.0426, -0.024 ,  0.0233, -0.0288,\n",
       "       -0.074 , -0.1034, -0.0268, -0.0056, -0.0584, -0.0746, -0.0267,\n",
       "       -0.0259, -0.0237,  0.0141, -0.0461,  0.1322,  0.0266,  0.0291,\n",
       "        0.0301,  0.0045, -0.0586, -0.0811, -0.0142,  0.0014, -0.0783,\n",
       "       -0.0668, -0.0925,  0.0111,  0.0899, -0.0089, -0.003 ,  0.0697,\n",
       "        0.0159,  0.0698, -0.015 , -0.0741,  0.0452,  0.0323,  0.0089,\n",
       "       -0.1176,  0.0026, -0.0314, -0.0419,  0.0148,  0.04  ,  0.0127,\n",
       "        0.0287,  0.0025,  0.0434, -0.0088, -0.0379,  0.0017,  0.0677,\n",
       "        0.0225, -0.0264,  0.0041, -0.0748, -0.0718,  0.0318, -0.0111,\n",
       "       -0.0706, -0.0824, -0.0936,  0.0517,  0.0008, -0.0796, -0.0356,\n",
       "        0.0564,  0.0407, -0.0294, -0.0315,  0.0746, -0.0582,  0.0813,\n",
       "        0.0687,  0.0224, -0.0294,  0.0227, -0.0563,  0.0215, -0.0113,\n",
       "        0.0126, -0.0568,  0.0053,  0.0436, -0.0077,  0.0724],\n",
       "      dtype=float32)"
      ]
     },
     "execution_count": 3,
     "metadata": {},
     "output_type": "execute_result"
    }
   ],
   "source": [
    "loaded_embedding.vectors_[0,:] # get the first word vector"
   ]
  },
  {
   "cell_type": "markdown",
   "metadata": {
    "id": "rEuxXfXilufb"
   },
   "source": [
    "## Your analyzer\n",
    "This is the analyzer. Your task is to finish this in line with the unit tests, the assignment text specifications, and the paper Bolukbasi (2016)."
   ]
  },
  {
   "cell_type": "code",
   "execution_count": 4,
   "metadata": {
    "id": "sREGXFXQ9rwv"
   },
   "outputs": [],
   "source": [
    "from sklearn.metrics.pairwise import cosine_similarity,euclidean_distances\n",
    "from sklearn.metrics import pairwise_distances\n",
    "\n",
    "class EmbeddingAnalyzer(object):\n",
    "  def __init__(self, embedding):\n",
    "    self.vectors_ = embedding.vectors_\n",
    "    self.token2idx_ = embedding.token2idx_\n",
    "    self.idx2token_ = embedding.idx2token_\n",
    "\n",
    "  def __len__(self):\n",
    "    return len(self.vectors_)  #get the number of vectors\n",
    "\n",
    "\n",
    "  def __getitem__(self, tokens):  # return the vectors for tokens\n",
    "        if isinstance(tokens,list) and len(tokens)>1:\n",
    "            vectors=self.vectors_[self.token2idx_[tokens[0]]]\n",
    "            for t in tokens[1:]:\n",
    "                v=self.vectors_[self.token2idx_[t]]\n",
    "                vectors=np.vstack((vectors,v))\n",
    "            return vectors\n",
    "        else:\n",
    "            return np.array([self.vectors_[self.token2idx_[tokens],:]])\n",
    "    \n",
    "\n",
    "  def __contains__(self, token): # Judge if the token is included in the analyzer\n",
    "    return token in self.token2idx_\n",
    "\n",
    "  def projection(self, direction, vectors): #get the projection\n",
    "        return cosine_similarity(direction,vectors)\n",
    "\n",
    "\n",
    "  def simple_analogy(self, pair, query, k=5):\n",
    "    vec = lambda token: np.vstack(self.vectors_[self.token2idx_[token], :]).T  #use lambbda to get query vector\n",
    "    v = vec(query) - vec(pair[0]) + vec(pair[1]) #get the match vector\n",
    "    distances = pairwise_distances(self.vectors_, v, metric='euclidean').ravel() #calculate distances\n",
    "    best_m=[]\n",
    "    for idx in np.argsort(distances)[:k]: #get the indexes of the top 5 best match vectors\n",
    "        best_m.append(self.idx2token_[idx])\n",
    "    return best_m\n",
    "  \n",
    "  def simple_analogy2(self, pair, query, k=5): #explore different ways to implement analogy\n",
    "    v = self.__getitem__(query) - self.__getitem__(pair[0]) + self.__getitem__(pair[1])\n",
    "    distances = pairwise_distances(self.vectors_, v, metric='euclidean').ravel()\n",
    "    best_m=[]\n",
    "    for idx in np.argsort(distances)[:k]:\n",
    "        best_m.append(self.idx2token_[idx])\n",
    "    return best_m  \n",
    "\n",
    "  def simple_analogy3(self, pair, query, k=5): #explore different ways to implement analogy\n",
    "    vec = lambda token: np.array([self.vectors_[self.token2idx_[token], :]])\n",
    "    v = vec(query) - vec(pair[0]) + vec(pair[1])\n",
    "    distances = euclidean_distances(self.vectors_, v).ravel()\n",
    "    best_m=[self.idx2token_[idx] for idx in np.argsort(distances)[:k]]\n",
    "    return best_m\n",
    "\n",
    "  def similarity(self, token1, token2): # get the cosine similarity value\n",
    "        return cosine_similarity(self.__getitem__(token1),self.__getitem__(token2))\n",
    "\n",
    "\n",
    "  def analogies(self, analogy_direction, tokens):# To be aligned with the paper, the function only return one best match pair for each token\n",
    "    pair_list_final=[]\n",
    "    for token1 in tokens:\n",
    "        pair_list=[]\n",
    "        pair_score=np.zeros(len(tokens))\n",
    "        for i,token2 in enumerate(tokens):\n",
    "            if token2!=token1:\n",
    "                distance=euclidean_distances(self.__getitem__(token1),self.__getitem__(token2)) # get the euclidean distance\n",
    "                v_minus=self.__getitem__(token1)-self.__getitem__(token2)\n",
    "                if distance<=1:\n",
    "                    pair_score[i]=cosine_similarity(analogy_direction,v_minus)\n",
    "            pair_list.append((token1,token2))\n",
    "        best_idx=np.argsort(-pair_score)[0] #get the index of the best match vector with highest cosine similarity scores/I sorted it in a reverse order\n",
    "        if pair_score[best_idx]>0: #As the paper stated, the function only return pairs with positive scores\n",
    "            pair_list_final.append(pair_list[best_idx])\n",
    "    return pair_list_final\n",
    "            \n",
    "        \n",
    "\n",
    "analyzer = EmbeddingAnalyzer(loaded_embedding)\n",
    "\n",
    "assert 'man' in analyzer\n",
    "assert 'woman' in analyzer\n",
    "assert 'kdjfsfhgkdsjfdh' not in analyzer\n",
    "\n",
    "assert len(analyzer) > 100000\n",
    "\n",
    "assert type(analyzer['man']) is np.ndarray\n",
    "assert np.isclose(np.sum(analyzer['man']-analyzer['man']), 0)"
   ]
  },
  {
   "cell_type": "code",
   "execution_count": 5,
   "metadata": {},
   "outputs": [
    {
     "data": {
      "text/plain": [
       "array([[-4.040e-02,  7.400e-03, -9.610e-02,  1.362e-01, -3.900e-02,\n",
       "        -7.760e-02, -3.880e-02, -7.040e-02, -3.270e-02,  5.410e-02,\n",
       "         7.540e-02, -2.420e-02, -1.900e-03,  1.350e-02, -2.000e-04,\n",
       "        -9.620e-02, -6.600e-02, -4.700e-02, -2.300e-03,  4.910e-02,\n",
       "        -3.000e-02, -1.750e-02, -4.870e-02, -7.600e-03, -9.020e-02,\n",
       "        -1.000e-04, -2.100e-02,  2.030e-02,  5.330e-02, -8.200e-03,\n",
       "         4.200e-02,  1.590e-02, -1.041e-01,  2.470e-02,  1.000e-02,\n",
       "        -6.600e-02,  1.220e-02, -3.440e-02,  3.570e-02,  1.050e-02,\n",
       "         1.389e-01,  7.280e-02, -4.230e-02, -5.270e-02, -2.910e-02,\n",
       "         4.700e-03,  5.980e-02, -2.140e-02, -4.800e-02,  3.570e-02,\n",
       "        -9.600e-03,  5.120e-02, -1.230e-02, -1.250e-02,  2.110e-02,\n",
       "         8.030e-02, -7.590e-02,  6.790e-02,  4.370e-02,  2.150e-02,\n",
       "        -6.300e-03, -7.580e-02,  2.600e-02,  3.410e-02, -2.490e-02,\n",
       "        -7.580e-02, -1.056e-01, -4.500e-03,  4.400e-02, -6.240e-02,\n",
       "        -1.193e-01, -1.090e-02,  3.930e-02, -2.540e-02, -3.750e-02,\n",
       "        -8.060e-02,  6.040e-02,  5.640e-02, -4.730e-02, -8.270e-02,\n",
       "         3.470e-02, -2.390e-02, -2.870e-02, -1.104e-01, -1.081e-01,\n",
       "         1.080e-02,  2.960e-02,  5.810e-02,  8.200e-03, -2.730e-02,\n",
       "         3.040e-02, -3.790e-02,  3.800e-03, -7.370e-02,  2.660e-02,\n",
       "         4.450e-02,  2.730e-02,  9.860e-02,  7.580e-02, -4.730e-02,\n",
       "         3.350e-02, -3.620e-02,  3.100e-03, -1.310e-02, -4.050e-02,\n",
       "        -6.810e-02, -4.710e-02,  7.900e-02, -9.130e-02, -3.290e-02,\n",
       "        -3.000e-02,  5.280e-02, -7.210e-02,  1.330e-02, -3.780e-02,\n",
       "        -2.600e-03,  1.100e-03,  8.610e-02,  1.770e-02, -1.930e-02,\n",
       "         1.712e-01, -2.000e-03, -2.590e-02, -6.050e-02,  9.200e-03,\n",
       "        -5.110e-02, -3.940e-02,  2.400e-03,  2.900e-03,  8.360e-02,\n",
       "         3.170e-02, -2.920e-02,  1.040e-02,  4.700e-02, -4.070e-02,\n",
       "         3.000e-03,  4.910e-02,  1.160e-02, -6.720e-02,  1.159e-01,\n",
       "         6.660e-02,  1.013e-01,  1.950e-02,  1.930e-02, -6.020e-02,\n",
       "         9.210e-02,  1.020e-02, -1.070e-02,  7.620e-02,  1.500e-02,\n",
       "         6.180e-02,  3.060e-02,  3.130e-02, -7.830e-02,  5.580e-02,\n",
       "        -9.000e-02,  3.380e-02,  7.080e-02,  1.260e-02, -2.290e-02,\n",
       "         2.400e-02, -1.540e-02, -1.780e-02,  3.300e-02, -1.400e-03,\n",
       "        -3.830e-02, -7.680e-02,  3.070e-02,  8.500e-03,  3.590e-02,\n",
       "        -1.336e-01,  3.100e-03, -3.440e-02, -1.880e-02, -6.370e-02,\n",
       "         4.800e-02,  2.390e-02, -4.940e-02,  5.730e-02, -9.720e-02,\n",
       "        -8.640e-02, -3.000e-04,  4.840e-02, -1.350e-02,  2.780e-02,\n",
       "         1.054e-01,  8.520e-02,  8.070e-02, -1.380e-02, -1.235e-01,\n",
       "         2.330e-02, -8.040e-02,  4.600e-03, -1.190e-02, -1.353e-01,\n",
       "        -4.500e-03,  2.050e-02,  4.350e-02,  1.300e-03,  1.300e-02,\n",
       "        -7.660e-02,  4.000e-04, -5.090e-02, -6.500e-03, -3.950e-02,\n",
       "        -1.439e-01, -9.590e-02, -7.910e-02,  6.760e-02,  3.740e-02,\n",
       "         5.540e-02, -3.010e-02, -2.390e-02,  1.210e-02, -6.900e-03,\n",
       "        -2.710e-02, -4.370e-02, -1.716e-01,  1.417e-01, -2.330e-02,\n",
       "        -2.440e-02, -2.470e-02,  6.350e-02,  4.200e-03, -9.400e-03,\n",
       "        -1.220e-02, -3.500e-02, -8.370e-02,  5.800e-03,  2.140e-02,\n",
       "        -3.030e-02,  3.490e-02, -7.090e-02,  1.930e-02,  4.490e-02,\n",
       "        -5.600e-02, -5.760e-02, -5.810e-02,  3.610e-02, -2.000e-02,\n",
       "        -4.900e-03, -5.600e-03,  3.170e-02, -4.820e-02, -3.390e-02,\n",
       "         1.093e-01,  1.680e-02, -8.800e-03, -1.285e-01, -8.180e-02,\n",
       "         1.410e-02, -7.990e-02, -1.300e-03,  4.930e-02, -1.870e-02,\n",
       "         7.910e-02,  3.280e-02,  4.620e-02,  2.960e-02, -3.500e-03,\n",
       "        -8.700e-03,  2.040e-02,  5.300e-03, -1.550e-01, -9.610e-02,\n",
       "         1.580e-02, -1.062e-01,  1.940e-02, -6.560e-02,  4.070e-02,\n",
       "        -1.050e-02,  2.670e-02,  3.200e-03, -3.120e-02, -2.390e-02,\n",
       "         1.810e-02,  7.500e-02,  4.730e-02, -5.080e-02, -1.200e-03,\n",
       "         1.028e-01,  1.072e-01,  1.300e-02,  1.000e-04,  5.260e-02,\n",
       "         1.100e-03,  1.860e-02, -3.280e-02, -1.006e-01,  2.110e-02,\n",
       "        -1.640e-02, -2.830e-02,  1.232e-01,  1.410e-02, -1.267e-01,\n",
       "        -9.400e-03, -3.230e-02,  9.830e-02,  1.055e-01,  1.605e-01],\n",
       "       [-3.300e-03, -2.190e-02, -7.170e-02,  8.100e-03, -1.013e-01,\n",
       "         4.000e-04, -6.000e-03, -2.200e-02,  6.560e-02,  5.180e-02,\n",
       "         1.099e-01,  1.130e-01,  5.560e-02, -1.940e-02, -5.600e-03,\n",
       "        -9.560e-02, -1.181e-01,  2.660e-02, -2.400e-03,  4.670e-02,\n",
       "        -2.900e-02, -5.280e-02, -7.020e-02, -5.770e-02,  4.880e-02,\n",
       "         2.980e-02, -4.670e-02, -1.020e-02,  1.760e-02, -1.510e-02,\n",
       "         1.050e-02,  1.099e-01, -5.910e-02,  2.600e-03, -8.600e-03,\n",
       "        -1.323e-01,  4.480e-02, -2.130e-02,  1.590e-02,  7.860e-02,\n",
       "         3.050e-02, -6.370e-02,  2.360e-02, -4.920e-02, -2.880e-02,\n",
       "        -7.020e-02, -7.400e-02, -3.090e-02,  1.680e-02,  1.100e-02,\n",
       "        -7.190e-02,  4.650e-02,  2.590e-02, -2.790e-02, -3.500e-02,\n",
       "        -2.470e-02,  8.980e-02,  4.430e-02,  1.099e-01,  7.900e-03,\n",
       "         8.480e-02, -3.130e-02,  5.060e-02,  7.140e-02, -6.600e-02,\n",
       "        -8.200e-03,  4.080e-02,  1.210e-02,  7.730e-02,  2.640e-02,\n",
       "         6.900e-03,  1.330e-02,  6.220e-02, -7.510e-02,  4.810e-02,\n",
       "         2.760e-02,  1.084e-01,  1.570e-02, -6.010e-02,  9.390e-02,\n",
       "         1.140e-02, -1.320e-02,  4.710e-02,  6.680e-02, -5.020e-02,\n",
       "         4.920e-02,  1.840e-02,  1.013e-01, -4.590e-02, -1.190e-02,\n",
       "        -1.100e-02, -6.180e-02,  5.480e-02, -4.570e-02,  1.000e-03,\n",
       "         7.420e-02,  3.600e-02, -3.570e-02, -1.113e-01, -7.090e-02,\n",
       "         2.630e-02, -2.400e-03, -6.500e-02, -5.940e-02, -3.370e-02,\n",
       "        -3.100e-03,  1.090e-02,  3.340e-02, -2.460e-02,  5.300e-03,\n",
       "         9.110e-02, -8.600e-03, -6.670e-02,  4.300e-03, -2.740e-02,\n",
       "        -2.220e-02,  5.600e-02,  5.200e-03, -7.530e-02, -4.720e-02,\n",
       "         1.660e-02, -5.700e-03,  9.260e-02,  1.216e-01,  3.140e-02,\n",
       "         2.800e-02,  1.840e-02,  1.224e-01, -1.020e-02, -3.100e-03,\n",
       "        -7.700e-02,  1.254e-01, -1.087e-01, -2.250e-02, -4.400e-02,\n",
       "        -6.520e-02,  1.500e-03, -3.200e-03, -2.000e-04, -1.210e-02,\n",
       "        -6.900e-03,  4.660e-02,  8.630e-02, -3.720e-02, -7.560e-02,\n",
       "         2.900e-03, -4.020e-02, -2.690e-02,  5.400e-03,  2.820e-02,\n",
       "         8.250e-02, -2.380e-02, -9.190e-02,  3.800e-03, -7.320e-02,\n",
       "         7.470e-02, -8.630e-02, -5.630e-02, -7.880e-02, -7.650e-02,\n",
       "        -3.620e-02,  2.720e-02, -7.360e-02,  5.350e-02, -6.170e-02,\n",
       "         6.300e-03,  2.730e-02,  2.940e-02,  1.143e-01,  3.930e-02,\n",
       "         1.000e-03,  2.530e-02, -1.097e-01, -5.600e-03, -2.680e-02,\n",
       "        -1.860e-02,  3.550e-02,  2.920e-02,  9.390e-02, -7.180e-02,\n",
       "         5.770e-02, -7.350e-02,  2.220e-02,  4.340e-02, -7.170e-02,\n",
       "         5.060e-02, -1.620e-02, -1.430e-02,  2.050e-02,  9.050e-02,\n",
       "         1.980e-02, -1.331e-01,  3.970e-02,  4.500e-02, -1.300e-03,\n",
       "        -1.070e-02, -9.990e-02, -8.600e-03, -4.930e-02, -3.100e-02,\n",
       "         1.230e-02, -1.000e-04,  1.000e-02,  0.000e+00, -5.860e-02,\n",
       "        -7.970e-02, -7.800e-02,  2.490e-02,  5.830e-02,  1.020e-02,\n",
       "         1.643e-01, -1.253e-01, -2.430e-02, -6.090e-02,  9.170e-02,\n",
       "         1.200e-03,  1.660e-02, -5.880e-02, -7.330e-02,  5.340e-02,\n",
       "        -6.740e-02,  7.400e-03, -7.580e-02,  6.790e-02,  1.840e-02,\n",
       "        -4.440e-02, -6.480e-02,  6.920e-02,  1.990e-02,  3.410e-02,\n",
       "         9.160e-02,  5.040e-02, -3.310e-02, -7.000e-02,  5.780e-02,\n",
       "         7.480e-02, -6.260e-02,  4.270e-02,  2.950e-02, -2.160e-02,\n",
       "         7.040e-02,  9.900e-03,  9.430e-02,  1.453e-01,  4.060e-02,\n",
       "         6.700e-03, -1.950e-02,  2.360e-02, -4.930e-02, -4.900e-02,\n",
       "        -6.890e-02, -2.240e-02, -9.710e-02, -3.810e-02, -1.670e-02,\n",
       "         4.180e-02, -1.055e-01,  1.280e-02,  5.500e-02,  2.070e-02,\n",
       "        -1.334e-01,  1.780e-02, -3.000e-04, -4.630e-02, -1.040e-01,\n",
       "        -1.270e-02, -3.890e-02, -1.040e-02,  9.700e-03, -3.520e-02,\n",
       "        -3.410e-02,  2.430e-02,  4.380e-02, -2.180e-02, -1.279e-01,\n",
       "        -3.430e-02,  8.000e-04,  3.580e-02,  2.000e-03, -7.590e-02,\n",
       "         1.159e-01, -2.390e-02,  8.610e-02,  1.410e-02, -2.700e-03,\n",
       "         6.770e-02,  4.790e-02,  1.280e-02, -7.240e-02, -7.560e-02,\n",
       "        -6.220e-02, -1.314e-01,  3.720e-02, -1.410e-02,  5.200e-03,\n",
       "        -2.740e-02, -1.257e-01,  4.510e-02,  6.300e-02,  3.470e-02]],\n",
       "      dtype=float32)"
      ]
     },
     "execution_count": 5,
     "metadata": {},
     "output_type": "execute_result"
    }
   ],
   "source": [
    "analyzer[[\"water\",\"man\"]]"
   ]
  },
  {
   "cell_type": "code",
   "execution_count": 6,
   "metadata": {},
   "outputs": [
    {
     "data": {
      "text/plain": [
       "array([[0.63804495]], dtype=float32)"
      ]
     },
     "execution_count": 6,
     "metadata": {},
     "output_type": "execute_result"
    }
   ],
   "source": [
    "analyzer.similarity('cat', 'dog')"
   ]
  },
  {
   "cell_type": "code",
   "execution_count": 7,
   "metadata": {},
   "outputs": [
    {
     "data": {
      "text/plain": [
       "array([[0.39173397]], dtype=float32)"
      ]
     },
     "execution_count": 7,
     "metadata": {},
     "output_type": "execute_result"
    }
   ],
   "source": [
    "analyzer.similarity('cat', 'cow') "
   ]
  },
  {
   "cell_type": "markdown",
   "metadata": {
    "id": "EX_7UbfKeLzH"
   },
   "source": [
    "## Word similarity\n",
    "\n",
    "We should be able to meassure similarity as cosine similarity.\n",
    "\n",
    "$cos(\\overrightarrow{cat}, \\overrightarrow{dog}) \\geq cos(\\overrightarrow{cat}, \\overrightarrow{cow})$"
   ]
  },
  {
   "cell_type": "code",
   "execution_count": 8,
   "metadata": {
    "id": "LwrYqvyYMUQq"
   },
   "outputs": [],
   "source": [
    "assert analyzer.similarity('cat', 'dog') >= analyzer.similarity('cat', 'cow')"
   ]
  },
  {
   "cell_type": "markdown",
   "metadata": {
    "id": "TKsJ7LfELybJ"
   },
   "source": [
    "## Word analogies\n",
    "\n",
    "One of the core tasks for showing any semantic properties in an embedding is finding word analogies. We can this of this as word a is to word b, as word c is to word d. Our task is to find word d, knowing a, b, and c.\n",
    "\n",
    "$\\overrightarrow{a} - \\overrightarrow{b} \\approx \\overrightarrow{c} - \\overrightarrow{d}$\n",
    "\n",
    "For gender, this becomes:\n",
    "\n",
    "$\\overrightarrow{man} - \\overrightarrow{woman} \\approx \\overrightarrow{king} - \\overrightarrow{x}$\n",
    "\n",
    "By rearranging we get:\n",
    "\n",
    "$\\overrightarrow{king} - \\overrightarrow{man} + \\overrightarrow{woman} \\approx \\overrightarrow{x}$"
   ]
  },
  {
   "cell_type": "code",
   "execution_count": 9,
   "metadata": {
    "colab": {
     "base_uri": "https://localhost:8080/"
    },
    "id": "CMtTEzuvHDls",
    "outputId": "89d4ee4a-db74-4366-91ab-171bc088571e"
   },
   "outputs": [
    {
     "name": "stdout",
     "output_type": "stream",
     "text": [
      "Matches (in order of similarity):\n",
      "1 king\n",
      "2 queen\n",
      "3 princess\n",
      "4 regnant\n",
      "5 princesses\n"
     ]
    }
   ],
   "source": [
    "best_matches = analyzer.simple_analogy(('man', 'woman'), 'king', k=5)\n",
    "print(\"Matches (in order of similarity):\")\n",
    "for i, token in enumerate(best_matches):\n",
    "  print(i+1, token)\n",
    "\n",
    "assert 'queen' in analyzer.simple_analogy(('man', 'woman'), 'king', k=5)"
   ]
  },
  {
   "cell_type": "markdown",
   "metadata": {
    "id": "yY3FS9q5x9qr"
   },
   "source": [
    "We can do this for capitols too.\n",
    "\n",
    "$\\overrightarrow{France} - \\overrightarrow{Japan} \\approx \\overrightarrow{Paris} - \\overrightarrow{x}$"
   ]
  },
  {
   "cell_type": "code",
   "execution_count": 10,
   "metadata": {
    "colab": {
     "base_uri": "https://localhost:8080/"
    },
    "id": "xL3dPVqKx9wa",
    "outputId": "6baece41-9191-464d-f6e7-28fe42229110"
   },
   "outputs": [
    {
     "name": "stdout",
     "output_type": "stream",
     "text": [
      "Matches (in order of similarity):\n",
      "1 tokyo\n",
      "2 japan\n",
      "3 osaka\n",
      "4 kyoto\n",
      "5 tokyo ",
      "\n"
     ]
    }
   ],
   "source": [
    "best_matches = analyzer.simple_analogy(('france', 'japan'), 'paris', k=5)\n",
    "print(\"Matches (in order of similarity):\")\n",
    "for i, token in enumerate(best_matches):\n",
    "  print(i+1, token)\n",
    "\n",
    "assert 'tokyo' in analyzer.simple_analogy(('france', 'japan'), 'paris', k=5)"
   ]
  },
  {
   "cell_type": "markdown",
   "metadata": {
    "id": "X1EknjnwpI2H"
   },
   "source": [
    "Please try doing this for at least one other famous category (e.g. comparing adjectives)."
   ]
  },
  {
   "cell_type": "markdown",
   "metadata": {},
   "source": [
    "We can do this for adjectives too.\n",
    "\n",
    "$\\overrightarrow{Beautiful} - \\overrightarrow{Handsome} \\approx \\overrightarrow{Girl} - \\overrightarrow{Boy}$"
   ]
  },
  {
   "cell_type": "code",
   "execution_count": 11,
   "metadata": {},
   "outputs": [
    {
     "name": "stdout",
     "output_type": "stream",
     "text": [
      "Matches (in order of similarity):\n",
      "1 girl\n",
      "2 boy\n",
      "3 handsome\n",
      "4 teenaged\n",
      "5 teenager\n"
     ]
    }
   ],
   "source": [
    "best_matches=analyzer.simple_analogy((\"beautiful\",\"handsome\"),\"girl\",k=5)\n",
    "print(\"Matches (in order of similarity):\")\n",
    "for i, token in enumerate(best_matches):\n",
    "    print(i+1,token)\n",
    "    \n",
    "assert \"boy\" in analyzer.simple_analogy((\"beautiful\",\"handsome\"),\"girl\",k=5)"
   ]
  },
  {
   "cell_type": "code",
   "execution_count": 12,
   "metadata": {},
   "outputs": [
    {
     "name": "stdout",
     "output_type": "stream",
     "text": [
      "Matches (in order of similarity):\n",
      "1 girl\n",
      "2 boy\n",
      "3 handsome\n",
      "4 teenaged\n",
      "5 teenager\n"
     ]
    }
   ],
   "source": [
    "best_matches2=analyzer.simple_analogy2((\"beautiful\",\"handsome\"),\"girl\",k=5) #test my second simple analogy function\n",
    "print(\"Matches (in order of similarity):\")\n",
    "for i, token in enumerate(best_matches2):\n",
    "    print(i+1,token)\n",
    "    \n",
    "assert \"boy\" in analyzer.simple_analogy((\"beautiful\",\"handsome\"),\"girl\",k=5)"
   ]
  },
  {
   "cell_type": "code",
   "execution_count": 13,
   "metadata": {},
   "outputs": [
    {
     "name": "stdout",
     "output_type": "stream",
     "text": [
      "Matches (in order of similarity):\n",
      "1 girl\n",
      "2 boy\n",
      "3 handsome\n",
      "4 teenaged\n",
      "5 teenager\n"
     ]
    }
   ],
   "source": [
    "best_matches3=analyzer.simple_analogy3((\"beautiful\",\"handsome\"),\"girl\",k=5) # test my third simple analogy function\n",
    "print(\"Matches (in order of similarity):\")\n",
    "for i, token in enumerate(best_matches3):\n",
    "    print(i+1,token)\n",
    "    \n",
    "assert \"boy\" in analyzer.simple_analogy((\"beautiful\",\"handsome\"),\"girl\",k=5)"
   ]
  },
  {
   "cell_type": "markdown",
   "metadata": {
    "id": "XgPGM1cvzIIo"
   },
   "source": [
    "## Finding the genderedness of professions\n",
    "\n",
    "Bulokbasi (2016) has a repo for the paper. We can download their data for professions. This allows us to find the genderedness for our embedding and plot against their survey data."
   ]
  },
  {
   "cell_type": "code",
   "execution_count": 14,
   "metadata": {
    "colab": {
     "base_uri": "https://localhost:8080/"
    },
    "id": "ABmxQ1Fu56fr",
    "outputId": "fbb7dd22-02a8-4487-cf56-eb8df38ff474"
   },
   "outputs": [
    {
     "name": "stdout",
     "output_type": "stream",
     "text": [
      "Loaded 320 professions\n"
     ]
    }
   ],
   "source": [
    "import json\n",
    "with urlopen('https://raw.githubusercontent.com/tolga-b/debiaswe/master/data/professions.json') as remote_file:\n",
    "  professions = {title: {'definitional': defi, 'stereotypical': ster} for title, defi, ster in json.load(remote_file)}\n",
    "print(\"Loaded %i professions\" % len(professions))"
   ]
  },
  {
   "cell_type": "markdown",
   "metadata": {
    "id": "1mbuzbDNpygo"
   },
   "source": [
    "We want to find the projection of vectors for different profession on a gender direction. This can be done by finding the cosine similarity as:\n",
    "\n",
    "$cos(\\overrightarrow{man} - \\overrightarrow{woman}, \\overrightarrow{butcher})$\n",
    "\n",
    "$cos(\\overrightarrow{man} - \\overrightarrow{woman}, \\overrightarrow{ballerina})$\n",
    "\n",
    "The projection should be non-negative as $|cos(\\cdot,\\cdot)|$. However, by letting the projection method of the anlayzer give us the ccosine similarity, we can see the direction of the projection by looking at its sign."
   ]
  },
  {
   "cell_type": "code",
   "execution_count": 15,
   "metadata": {
    "id": "uXVOOb8UEOsG"
   },
   "outputs": [],
   "source": [
    "assert type(analyzer[['man', 'woman', 'butcher']]) is np.ndarray\n",
    "assert analyzer[['man', 'woman', 'butcher']].shape[0] == 3\n",
    "\n",
    "assert analyzer.projection(analyzer['man']-analyzer['woman'], analyzer['butcher']) > 0\n",
    "assert analyzer.projection(analyzer['man']-analyzer['woman'], analyzer['ballerina']) < 0"
   ]
  },
  {
   "cell_type": "markdown",
   "metadata": {
    "id": "hvWMsRHWrZ-G"
   },
   "source": [
    "We create a woman-man direction."
   ]
  },
  {
   "cell_type": "code",
   "execution_count": 16,
   "metadata": {
    "id": "o7qVcJM5_h7Y"
   },
   "outputs": [],
   "source": [
    "direction = analyzer['man']-analyzer['woman']\n",
    "titles = [title for title in professions.keys() if title in analyzer]\n",
    "projection = analyzer.projection(direction, analyzer[titles])"
   ]
  },
  {
   "cell_type": "markdown",
   "metadata": {
    "id": "I4ld8hekrdEm"
   },
   "source": [
    "The estimation of the gender direction can be improved by using several pairs. Again, we use the data from Bulokbasi (2016)."
   ]
  },
  {
   "cell_type": "code",
   "execution_count": 17,
   "metadata": {
    "colab": {
     "base_uri": "https://localhost:8080/"
    },
    "id": "unzkpmHOs6Wi",
    "outputId": "4f6e2c31-5366-4a90-e636-e815365d5d65"
   },
   "outputs": [
    {
     "data": {
      "text/plain": [
       "[('woman', 'man'),\n",
       " ('girl', 'boy'),\n",
       " ('she', 'he'),\n",
       " ('mother', 'father'),\n",
       " ('daughter', 'son'),\n",
       " ('gal', 'guy'),\n",
       " ('female', 'male'),\n",
       " ('her', 'his'),\n",
       " ('herself', 'himself'),\n",
       " ('Mary', 'John')]"
      ]
     },
     "execution_count": 17,
     "metadata": {},
     "output_type": "execute_result"
    }
   ],
   "source": [
    "import json\n",
    "with urlopen('https://raw.githubusercontent.com/tolga-b/debiaswe/master/data/definitional_pairs.json') as remote_file:\n",
    "  definitional_pairs = [(m, f) for m, f in json.load(remote_file)]\n",
    "definitional_pairs"
   ]
  },
  {
   "cell_type": "code",
   "execution_count": 18,
   "metadata": {
    "id": "sueBKKyFGduH"
   },
   "outputs": [],
   "source": [
    "direction2 = np.zeros(analyzer['man'].shape) # get the direction2 for testing the complex analogy function\n",
    "for female, male in definitional_pairs:\n",
    "  direction2 += analyzer[male.lower()]\n",
    "  direction2 -= analyzer[female.lower()]\n",
    "\n",
    "projection2 = analyzer.projection(direction2, analyzer[titles])"
   ]
  },
  {
   "cell_type": "markdown",
   "metadata": {
    "id": "DrRCBj3dr6m_"
   },
   "source": [
    "We can plot the relation between genderedness in the data and human annotation."
   ]
  },
  {
   "cell_type": "code",
   "execution_count": 19,
   "metadata": {
    "colab": {
     "base_uri": "https://localhost:8080/",
     "height": 381
    },
    "id": "qxgJnULiG0_Q",
    "outputId": "3e4d6b62-6799-43e1-cc03-8642b5a3ef4a"
   },
   "outputs": [
    {
     "data": {
      "image/png": "[encoded data removed]",
      "text/plain": [
       "<Figure size 864x360 with 2 Axes>"
      ]
     },
     "metadata": {
      "needs_background": "light"
     },
     "output_type": "display_data"
    }
   ],
   "source": [
    "import matplotlib.pyplot as plt\n",
    "import seaborn as sns\n",
    "\n",
    "fig = plt.figure(figsize=(12, 5))\n",
    "ax = fig.subplots(1, 2)\n",
    "stereotypicality = [professions[title]['stereotypical'] for title in titles]\n",
    "sns.regplot(x=projection, y=stereotypicality, ax=ax[0])\n",
    "a = sns.regplot(x=projection2, y=stereotypicality, ax=ax[1])\n",
    "ax[0].set_xlabel(\"Projection (one pair)\")\n",
    "ax[1].set_xlabel(\"Projection (several pairs)\")\n",
    "ax[0].set_ylabel(\"Human labelled stereotypicality\")\n",
    "fig.tight_layout(pad=.5)\n",
    "fig.show()"
   ]
  },
  {
   "cell_type": "code",
   "execution_count": 20,
   "metadata": {
    "colab": {
     "base_uri": "https://localhost:8080/",
     "height": 381
    },
    "id": "Rb4MO33THKEN",
    "outputId": "50e7e3eb-7b7e-44f5-ec62-23a58252d3e1"
   },
   "outputs": [
    {
     "data": {
      "image/png": "[encoded data removed]",
      "text/plain": [
       "<Figure size 864x360 with 2 Axes>"
      ]
     },
     "metadata": {
      "needs_background": "light"
     },
     "output_type": "display_data"
    }
   ],
   "source": [
    "fig = plt.figure(figsize=(12, 5))\n",
    "ax = fig.subplots(1, 2)\n",
    "definitionality = [professions[title]['definitional'] for title in titles]\n",
    "sns.regplot(x=projection, y=definitionality, ax=ax[0])\n",
    "a = sns.regplot(x=projection2, y=definitionality, ax=ax[1])\n",
    "ax[0].set_xlabel(\"Projection (one pair)\")\n",
    "ax[1].set_xlabel(\"Projection (several pairs)\")\n",
    "ax[0].set_ylabel(\"Human labelled definitional genderedness\")\n",
    "fig.tight_layout(pad=.5)\n",
    "fig.show()"
   ]
  },
  {
   "cell_type": "markdown",
   "metadata": {},
   "source": [
    "Based on the plots, we can see that the diagnol line is the gender direction and definitely conclude that data projections vary largely from human labelled annotations,which shows that a gender bias in word embeddings or human labelled data exists"
   ]
  },
  {
   "cell_type": "markdown",
   "metadata": {
    "id": "cjgbqFix9A6Z"
   },
   "source": [
    "## More analogies\n",
    "\n",
    "The paper defines a more advances procedure for analogies as:\n",
    "\n",
    "$S_{(a,b)}(x, y) = \\left\\{\\begin{matrix}\n",
    "cos(\\overrightarrow{a}-\\overrightarrow{b}, \\overrightarrow{x}-\\overrightarrow{y}) & \\parallel \\overrightarrow{x}-\\overrightarrow{y} \\parallel \\leq 1\\\\ \n",
    "0 &  \\text{otherwise}\n",
    "\\end{matrix}\\right.$\n",
    "\n",
    "This should return a list of tuples with word pairs."
   ]
  },
  {
   "cell_type": "code",
   "execution_count": 21,
   "metadata": {
    "colab": {
     "base_uri": "https://localhost:8080/"
    },
    "id": "HY3EsrrTvxFx",
    "outputId": "f5b4f1ff-cb4f-4cc5-818f-2b5a2a41dd4e"
   },
   "outputs": [
    {
     "data": {
      "text/plain": [
       "[('actor', 'actress')]"
      ]
     },
     "execution_count": 21,
     "metadata": {},
     "output_type": "execute_result"
    }
   ],
   "source": [
    "assert len(analyzer.analogies(analyzer['man']-analyzer['woman'], ['actor', 'actress'])) == 1\n",
    "assert type(analyzer.analogies(analyzer['man']-analyzer['woman'], ['actor', 'actress'])) == list\n",
    "assert type(analyzer.analogies(analyzer['man']-analyzer['woman'], ['actor', 'actress'])[0]) == tuple\n",
    "\n",
    "analyzer.analogies(analyzer['man']-analyzer['woman'], ['actor', 'actress'])"
   ]
  },
  {
   "cell_type": "code",
   "execution_count": 22,
   "metadata": {},
   "outputs": [
    {
     "data": {
      "text/plain": [
       "[('accountant', 'businesswoman'),\n",
       " ('actor', 'actress'),\n",
       " ('actress', 'waitress'),\n",
       " ('administrator', 'bureaucrat'),\n",
       " ('adventurer', 'protagonist'),\n",
       " ('advocate', 'campaigner'),\n",
       " ('aide', 'counselor'),\n",
       " ('alderman', 'solicitor'),\n",
       " ('alter_ego', 'fashion_designer'),\n",
       " ('ambassador', 'secretary'),\n",
       " ('analyst', 'columnist'),\n",
       " ('anthropologist', 'pediatrician'),\n",
       " ('archaeologist', 'anthropologist'),\n",
       " ('archbishop', 'parishioner'),\n",
       " ('architect', 'painter'),\n",
       " ('artist', 'singer'),\n",
       " ('artiste', 'performer'),\n",
       " ('assassin', 'bodyguard'),\n",
       " ('astronomer', 'archaeologist'),\n",
       " ('athlete', 'swimmer'),\n",
       " ('attorney', 'paralegal'),\n",
       " ('author', 'novelist'),\n",
       " ('ballerina', 'actress'),\n",
       " ('banker', 'businesswoman'),\n",
       " ('barber', 'hairdresser'),\n",
       " ('barrister', 'campaigner'),\n",
       " ('bartender', 'waitress'),\n",
       " ('biologist', 'pediatrician'),\n",
       " ('bishop', 'parishioner'),\n",
       " ('bookkeeper', 'waitress'),\n",
       " ('boss', 'bartender'),\n",
       " ('boxer', 'wrestler'),\n",
       " ('broadcaster', 'columnist'),\n",
       " ('broker', 'realtor'),\n",
       " ('businessman', 'businesswoman'),\n",
       " ('businesswoman', 'waitress'),\n",
       " ('butcher', 'hairdresser'),\n",
       " ('butler', 'baker'),\n",
       " ('cameraman', 'photojournalist'),\n",
       " ('campaigner', 'businesswoman'),\n",
       " ('captain', 'officer'),\n",
       " ('cardiologist', 'nurse'),\n",
       " ('caretaker', 'housekeeper'),\n",
       " ('cartoonist', 'novelist'),\n",
       " ('cellist', 'ballerina'),\n",
       " ('chancellor', 'secretary'),\n",
       " ('chaplain', 'lecturer'),\n",
       " ('character', 'protagonist'),\n",
       " ('chemist', 'pediatrician'),\n",
       " ('choreographer', 'actress'),\n",
       " ('cinematographer', 'actress'),\n",
       " ('cleric', 'chaplain'),\n",
       " ('clerk', 'bookkeeper'),\n",
       " ('coach', 'goalkeeper'),\n",
       " ('collector', 'curator'),\n",
       " ('colonel', 'surgeon'),\n",
       " ('columnist', 'novelist'),\n",
       " ('comedian', 'actress'),\n",
       " ('comic', 'illustrator'),\n",
       " ('commander', 'deputy'),\n",
       " ('commentator', 'columnist'),\n",
       " ('commissioner', 'secretary'),\n",
       " ('composer', 'singer'),\n",
       " ('conductor', 'cellist'),\n",
       " ('confesses', 'waitress'),\n",
       " ('congressman', 'senator'),\n",
       " ('constable', 'detective'),\n",
       " ('consultant', 'businesswoman'),\n",
       " ('cop', 'detective'),\n",
       " ('correspondent', 'photojournalist'),\n",
       " ('councilman', 'realtor'),\n",
       " ('councilor', 'secretary'),\n",
       " ('counselor', 'therapist'),\n",
       " ('critic', 'novelist'),\n",
       " ('crooner', 'singer'),\n",
       " ('curator', 'librarian'),\n",
       " ('dad', 'trucker'),\n",
       " ('dancer', 'actress'),\n",
       " ('dean', 'professor'),\n",
       " ('dentist', 'nurse'),\n",
       " ('deputy', 'secretary'),\n",
       " ('dermatologist', 'nurse'),\n",
       " ('detective', 'receptionist'),\n",
       " ('diplomat', 'socialite'),\n",
       " ('director', 'choreographer'),\n",
       " ('drummer', 'vocalist'),\n",
       " ('economist', 'anthropologist'),\n",
       " ('editor', 'columnist'),\n",
       " ('educator', 'businesswoman'),\n",
       " ('electrician', 'homemaker'),\n",
       " ('employee', 'receptionist'),\n",
       " ('entertainer', 'actress'),\n",
       " ('entrepreneur', 'businesswoman'),\n",
       " ('environmentalist', 'businesswoman'),\n",
       " ('envoy', 'ambassador'),\n",
       " ('epidemiologist', 'pediatrician'),\n",
       " ('evangelist', 'parishioner'),\n",
       " ('farmer', 'housewife'),\n",
       " ('filmmaker', 'actress'),\n",
       " ('financier', 'businesswoman'),\n",
       " ('firefighter', 'welder'),\n",
       " ('fireman', 'firefighter'),\n",
       " ('fisherman', 'sailor'),\n",
       " ('footballer', 'swimmer'),\n",
       " ('foreman', 'bookkeeper'),\n",
       " ('gangster', 'bartender'),\n",
       " ('gardener', 'housekeeper'),\n",
       " ('geologist', 'anthropologist'),\n",
       " ('goalkeeper', 'understudy'),\n",
       " ('guitarist', 'vocalist'),\n",
       " ('hairdresser', 'waitress'),\n",
       " ('handyman', 'waitress'),\n",
       " ('headmaster', 'teacher'),\n",
       " ('historian', 'novelist'),\n",
       " ('hitman', 'bartender'),\n",
       " ('homemaker', 'waitress'),\n",
       " ('housekeeper', 'maid'),\n",
       " ('housewife', 'maid'),\n",
       " ('illustrator', 'novelist'),\n",
       " ('industrialist', 'businesswoman'),\n",
       " ('infielder', 'ballplayer'),\n",
       " ('inspector', 'prosecutor'),\n",
       " ('instructor', 'teacher'),\n",
       " ('inventor', 'philanthropist'),\n",
       " ('janitor', 'waitress'),\n",
       " ('jeweler', 'shopkeeper'),\n",
       " ('journalist', 'actress'),\n",
       " ('judge', 'prosecutor'),\n",
       " ('jurist', 'sociologist'),\n",
       " ('laborer', 'housewife'),\n",
       " ('landlord', 'shopkeeper'),\n",
       " ('lawmaker', 'prosecutor'),\n",
       " ('lawyer', 'businesswoman'),\n",
       " ('lecturer', 'librarian'),\n",
       " ('legislator', 'businesswoman'),\n",
       " ('lieutenant', 'superintendent'),\n",
       " ('lyricist', 'actress'),\n",
       " ('maestro', 'violinist'),\n",
       " ('magician', 'performer'),\n",
       " ('magistrate', 'servant'),\n",
       " ('manager', 'caretaker'),\n",
       " ('marshal', 'officer'),\n",
       " ('mathematician', 'pediatrician'),\n",
       " ('mechanic', 'welder'),\n",
       " ('medic', 'nurse'),\n",
       " ('midfielder', 'goalkeeper'),\n",
       " ('minister', 'secretary'),\n",
       " ('missionary', 'parishioner'),\n",
       " ('mobster', 'bartender'),\n",
       " ('monk', 'nun'),\n",
       " ('musician', 'actress'),\n",
       " ('nanny', 'maid'),\n",
       " ('narrator', 'protagonist'),\n",
       " ('naturalist', 'anthropologist'),\n",
       " ('negotiator', 'mediator'),\n",
       " ('neurologist', 'pediatrician'),\n",
       " ('neurosurgeon', 'nurse'),\n",
       " ('novelist', 'actress'),\n",
       " ('nurse', 'maid'),\n",
       " ('officer', 'serviceman'),\n",
       " ('organist', 'cellist'),\n",
       " ('painter', 'novelist'),\n",
       " ('parishioner', 'housekeeper'),\n",
       " ('parliamentarian', 'campaigner'),\n",
       " ('pastor', 'parishioner'),\n",
       " ('pathologist', 'nurse'),\n",
       " ('patrolman', 'bartender'),\n",
       " ('pediatrician', 'nurse'),\n",
       " ('performer', 'actress'),\n",
       " ('pharmacist', 'nurse'),\n",
       " ('philanthropist', 'businesswoman'),\n",
       " ('philosopher', 'novelist'),\n",
       " ('photographer', 'stylist'),\n",
       " ('photojournalist', 'novelist'),\n",
       " ('physician', 'nurse'),\n",
       " ('physicist', 'pediatrician'),\n",
       " ('pianist', 'actress'),\n",
       " ('playwright', 'actress'),\n",
       " ('plumber', 'hairdresser'),\n",
       " ('poet', 'singer'),\n",
       " ('policeman', 'waitress'),\n",
       " ('politician', 'businesswoman'),\n",
       " ('preacher', 'parishioner'),\n",
       " ('president', 'secretary'),\n",
       " ('priest', 'nun'),\n",
       " ('professor', 'pediatrician'),\n",
       " ('proprietor', 'shopkeeper'),\n",
       " ('protege', 'bodyguard'),\n",
       " ('provost', 'chaplain'),\n",
       " ('psychiatrist', 'nurse'),\n",
       " ('psychologist', 'therapist'),\n",
       " ('publicist', 'businesswoman'),\n",
       " ('pundit', 'columnist'),\n",
       " ('radiologist', 'nurse'),\n",
       " ('ranger', 'trooper'),\n",
       " ('realtor', 'businesswoman'),\n",
       " ('receptionist', 'waitress'),\n",
       " ('researcher', 'pediatrician'),\n",
       " ('restaurateur', 'waitress'),\n",
       " ('salesman', 'waitress'),\n",
       " ('saxophonist', 'singer'),\n",
       " ('scholar', 'librarian'),\n",
       " ('scientist', 'pediatrician'),\n",
       " ('screenwriter', 'actress'),\n",
       " ('sculptor', 'artist'),\n",
       " ('sergeant', 'medic'),\n",
       " ('servant', 'maid'),\n",
       " ('serviceman', 'medic'),\n",
       " ('shopkeeper', 'waitress'),\n",
       " ('singer', 'actress'),\n",
       " ('socialite', 'waitress'),\n",
       " ('sociologist', 'pediatrician'),\n",
       " ('soldier', 'servant'),\n",
       " ('solicitor', 'paralegal'),\n",
       " ('soloist', 'ballerina'),\n",
       " ('sportsman', 'athlete'),\n",
       " ('sportswriter', 'columnist'),\n",
       " ('statesman', 'journalist'),\n",
       " ('steward', 'bureaucrat'),\n",
       " ('stockbroker', 'businesswoman'),\n",
       " ('strategist', 'planner'),\n",
       " ('student', 'teacher'),\n",
       " ('stylist', 'actress'),\n",
       " ('superintendent', 'principal'),\n",
       " ('surgeon', 'nurse'),\n",
       " ('surveyor', 'solicitor'),\n",
       " ('teacher', 'homemaker'),\n",
       " ('technician', 'nurse'),\n",
       " ('teenager', 'waitress'),\n",
       " ('therapist', 'nurse'),\n",
       " ('trader', 'shopkeeper'),\n",
       " ('treasurer', 'secretary'),\n",
       " ('trooper', 'medic'),\n",
       " ('trucker', 'cabbie'),\n",
       " ('trumpeter', 'vocalist'),\n",
       " ('tutor', 'teacher'),\n",
       " ('tycoon', 'businesswoman'),\n",
       " ('undersecretary', 'secretary'),\n",
       " ('vice_chancellor', 'alter_ego'),\n",
       " ('violinist', 'actress'),\n",
       " ('vocalist', 'actress'),\n",
       " ('waiter', 'waitress'),\n",
       " ('waitress', 'maid'),\n",
       " ('warden', 'chaplain'),\n",
       " ('welder', 'worker'),\n",
       " ('worker', 'housewife'),\n",
       " ('wrestler', 'swimmer'),\n",
       " ('writer', 'novelist')]"
      ]
     },
     "execution_count": 22,
     "metadata": {},
     "output_type": "execute_result"
    }
   ],
   "source": [
    "analyzer.analogies(analogy_direction=direction2, tokens=titles)"
   ]
  },
  {
   "cell_type": "markdown",
   "metadata": {},
   "source": [
    "## Education part\n",
    "To my mind, defining the complex analogies is the most difficult part, because we have to find the best match pair for each token, which is a little bit time-consuming. Furthermore, I misunderstood the output of the complex analogies function at first and thought it should output one pair with the highest cosine_similarity score, so I read the article again, then realized that this function is to find the best match pair for each token, not the best match pair among all possible pairs. After designing my Embedding analyzer, I prefer importing the Word2Vec from gensim models or other word vector modules, which are more convenient. Generally speaking, each part inside my analyzer class is necessary to make sure our tokens are contained by the word embedding vectors and return the right vector for the token. At last, I would like to mention that the trickiest part of my complex analogy is to ensure that vectors used to calculate the euclidean distance must be 2D arrays."
   ]
  }
 ],
 "metadata": {
  "colab": {
   "authorship_tag": "ABX9TyPDkAWeeiIJZ7jU16khA5Sx",
   "collapsed_sections": [],
   "name": "Assignment 4 - Gendered Directions in Embeddings.ipynb",
   "provenance": []
  },
  "kernelspec": {
   "display_name": "Python 3",
   "language": "python",
   "name": "python3"
  },
  "language_info": {
   "codemirror_mode": {
    "name": "ipython",
    "version": 3
   },
   "file_extension": ".py",
   "mimetype": "text/x-python",
   "name": "python",
   "nbconvert_exporter": "python",
   "pygments_lexer": "ipython3",
   "version": "3.8.5"
  }
 },
 "nbformat": 4,
 "nbformat_minor": 1
}
