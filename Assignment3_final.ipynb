{
 "cells": [
  {
   "cell_type": "markdown",
   "metadata": {},
   "source": [
    "## In my assignment I will implement all 8 extensions as below.\n",
    "1. GRU implementation.\n",
    "2. Bi-directional RNN layer implementation.\n",
    "3. Use PyTorch's Dataset and DataLoader classes for loading the data\n",
    "4. Dropout and weigh decay regularization\n",
    "5. Back translation data augmentation method\n",
    "6. see detailed languages I chose below\n",
    "7. Included in my report\n",
    "8. Choose Japanese to compare the performance between universal tag sets and specific Japanese tagsets\n",
    "9. The last part of my notebook is data visualization for the performance analysis.\n",
    "\n",
    "\n",
    "## Language sources(all my languages' genre is news/wiki)\n",
    "1. Arabic/As main language to explore 5 extensions that need coding\n",
    "2. Chinese\n",
    "3. English\n",
    "4. Greek\n",
    "5. Spanish\n",
    "6. Korean\n",
    "7. Japanese (I will use Japanese to compare the performance between universal tag sets and specific Japanese tagsets because it's already included in the conllu fils)\n",
    "8. Swedish\n",
    "9. Hungarian\n",
    "10. Hebrew\n",
    "11. Hindi"
   ]
  },
  {
   "cell_type": "markdown",
   "metadata": {},
   "source": [
    "## Pipeline design\n",
    "First of all, I chose the Entropycross loss function and AdamW optimizer，because the Entropycross loss function will include the softmax function itself based on the Pytorch documentation, I won't need to write softmax function inside my training class model, which simplifies my code. Furthermore, it can speed up the model's rate of convergence. As for AdamW, it's a modified version of Adam algorithm which will accelerate the training process.\n",
    "Secondly, I imported the Dataset and Dataloader module to create my data collecting class which used pyconll module to parse the conllu corpus, then loaded the dataset into the dataloader which equals batch_iterator function, in this case, batch_iterator function is not needed in my code. One thing to mention is that I created a my_collate function for dataloader to make sure my dataloader can accept different lengths of sentences in one batch, but later, I found out that this way is a little redundant, so I just treated pad_and_encode as my collate function. After this, I trained my model and got test accuracy.\n",
    "\n",
    "## Performance among 11 different languages\n",
    "I loaded the 11 different languages, trained them with the initial LSTM model, and visualized their performance results in the end. Based on the bar chart, Arabic, Spanish, Japanese, and Hindi performed over 90%, among them, Spanish got the best result reaching almost 94%; Hebrew, Chinese, English, Greek, Swedish's performances linger from 85-90%, which is normal; Hungarian and Korean are below 80%, thereinto, Korean got the worst result down to 70%. As per the results, Initially, I investigated the training data size for every language, then I noticed that Spanish, Hindi have more than 13,000 train sentences, maybe it contributed to improving the test accuracy. The English, Hebrew, and Swedish only have about 4,000 to 5,000 train sentences, if we enhanced the train data size, it may improve the accuracy. For Hungarian, the train data size is only 908, so that's why the accuracy is a little low and the model is overfitting; however, for Korean, it acquired the lowest accuracy with more than 10,000 train sentences, I guess the reason for this is that Korean has a unique morphology and more morphological than western languages if we use some specific Korean tag sets, it maybe performs better. I think the same rule applies for Chinese, Greek, Arabic, and Hindi and they are just more suitable for UD tag sets than Korean. One last interesting thing is that Japanese reached a nice result with only 7025 train sentences, then I checked the token(vocabulary) size for it, it unexpectedly goes to 20,177 which far bigger than most of the chosen languages, it as well means although Japanese corpus is not very large, tokens are more various than other languages, so the model got the better generality.\n",
    "All in all, I think if we want to evaluate the model performance, we need to take train data size, train data token size, and the language's morphology into consideration.\n",
    "\n",
    "## The relation between model complexity and accuracy\n",
    "Based on the plot in the end, if I enhance the word embedding and LSTM hidden dimension, all languages acquired higher accuracy except the Hindi language, in this case, enhancing model complexity properly can improve the test accuracy. In my case, Hindi doesn't need higher dimensions, otherwise, it would be more overfitting with a more complex model. Furthermore, I think I need a more complex model for morphologically various languages like Korean, Chinese, Greek, and Arabic. Generally speaking, at first, the complexity increases, and accuracy increases. At a certain point, the model will become too complex and tend to overfit the training data.\n",
    "\n",
    "## Network accuracy baseline.\n",
    "Given the experience that I created classifiers in two previous machine learning assignments and the fact we used the LSTM neural and advanced AdamW algorithm, I set my baseline accuracy to 90%. After exploring all languages' corpus, only 4 languages outperformed my baseline, so for those not reaching my baseline, I may need to enhance model complexity for Greek and Chinese corpus, enrich the corpus of Hungarian, English, and Swedish, and apply specific Korean tag sets for Korean.\n",
    "\n",
    "## LSTM,GRU,Bi-directional LSTM performances analysis\n",
    "As we see in the bar charts, GRU is 0.7% higher than LSTM. For LSTM and GRU, since GRU parameters are less(only has two gates) and the convergence speed is faster, the actual time is much less, which can greatly speed up our iterative process. In terms of performance, there is no conclusive conclusion about which one is better and almost no difference and my result verified this; Bi-directional LSTM is 3% higher than LSTM. Bidirectional will go through inputs from two directions, one from past to future and one from future to past to preserve information from both past and future. It will comprehend the context better because employing the content from the future could be easier for the neural network to predict. Last but not least, bidirectional LSTM seems to perform the best.\n",
    "\n",
    "## Regularization performance analysis\n",
    "As we can infer from the barplot, the accuracy will rise by 1.5% and 1.8% after using dropout and weight decay along with lowering train dataset accuracy, which fully proved that these two regularizations solved the model overfitting issue. For dropout, I added it to the fully-connected layer instead of the LSTM layer, because I checked some paper that said the LSTM RNN layer may amplify the noise, if we add it to the LSTM layer, it may lower the accuracy, but we can add it to the fully-connected layer, which will help improve the model generality; For weight decay, I think it would be better off starting with a low value, in my case, I used 0.0001, and adjust it as per the test accuracy performance\n",
    "\n",
    "## Data Augmentation performance analysis\n",
    "In this part, I chose the back translation to enrich my train corpus, and the test accuracy improved by 0.9%, which verified that this method can enhance the model's generality. In my case, I just chose the first 3 batches(about 5% of the whole train dataset to implement, so next maybe I can choose more like 10% of the whole dataset to investigate the performance, but the rule of thumb is that the augmented dataset shouldn't overwhelm the original dataset.\n",
    "\n",
    "## Extension 7-Shortcomings of the current model and how to improve it concerning a recent POS tagging paper \n",
    "As I mentioned before, the LSTM RNN layer will amplify the noise and it has more parameters that will lead to model overfitting. Most importantly, Although LSTM can handle longer sequences than RNN, the only 100-magnitude sequence at most(I found this from one paper). All of the languages I chose have sentences longer than 100, so the LSTM model cannot learn features from very long sequences. Another point is that each cell of LSTM encloses 4 fully connected layers (MLP). If the time span of LSTM is large and the network is deep, this calculation will be very large and time-consuming.\n",
    "Based on the recent POS tagging paper, we can bring in an Adversarial training regularization method to improve the tagging accuracy. The basic theory is to train neural networks on how to spot intentionally misleading data or behaviors. At each training loop, we\n",
    "create adversarial examples against the current model, and train on the mixture of positive data and adversarial data to achieve robustness to input perturbations. Adversarial training not only improves the overall tagging accuracy but also avoids over-fitting well in low resource languages and boosts tagging accuracy for rarely unobservable words.\n",
    "\n",
    "## Extension 8 analysis-Japanese test dataset performance using UD's universal vs Japanese specific tag sets.\n",
    "When I used the Japanese specific tag sets to train the model, the test dataset accuracy rose by 1% compared with universal tag sets. Because the specific tag sets can tag tokens in a more detailed and accurate way, this leads to higher model generality. However, this is not 100% sure, if the specific language tag sets have much more categories than universal's, it may be more difficult for the model to predict, then lower the test accuracy.\n",
    "\n",
    "## General educational  summary\n",
    "I think PyTorch is a very powerful module to implement machine learning, and we can use LSTM, GRU neural networks to train the model. If the model doesn't perform very well, we can use the built-in regularization method to solve the overfitting issue, which is very convenient. Moreover, we can use dataloader and dataset module to load the data in a very efficient way.\n",
    "When I tried to refactor the model, it took me a large amount of time to make it work, so it's a little tricky to include forward and neural network training inside one Class. Also, loading 11 languages and training each of them is super time-consuming, besides these, I also explored different word embedding and hidden state dimensions, which as well spent a lot of time. But one thing is that if I pushed the training process to the GPU, it will be much faster than the CPU.\n",
    "From my perspective, I feel that the padding and encoding part is a little complex, so I just put the modified pad_and_encode function in the dataloader, which both saves time and simplifies my code. Another thought is that maybe we can one-hot encoding which is easier."
   ]
  },
  {
   "cell_type": "code",
   "execution_count": 1,
   "metadata": {
    "id": "qDDstzhwztQS"
   },
   "outputs": [],
   "source": [
    "import numpy as np\n",
    "\n",
    "from tqdm import tqdm\n",
    "import matplotlib.pyplot as plt\n",
    "\n",
    "import torch\n",
    "import torch.nn as nn\n",
    "import torch.utils.data\n",
    "from torch.utils.data import Dataset,DataLoader\n",
    "import pyconll"
   ]
  },
  {
   "cell_type": "markdown",
   "metadata": {
    "id": "Okj6Den-4-Wd"
   },
   "source": [
    "Check my laptop if supports GPU"
   ]
  },
  {
   "cell_type": "code",
   "execution_count": 2,
   "metadata": {
    "colab": {
     "base_uri": "https://localhost:8080/"
    },
    "id": "nYGiUxG746pz",
    "outputId": "b38febd6-e797-4154-ace3-1ab4d2d213e3"
   },
   "outputs": [
    {
     "name": "stdout",
     "output_type": "stream",
     "text": [
      "GeForce MX250\n"
     ]
    }
   ],
   "source": [
    "if torch.cuda.is_available():\n",
    "  for i in range(torch.cuda.device_count()):\n",
    "    print(torch.cuda.get_device_name(i))\n",
    "else:\n",
    "  print(\"No GPU available\")"
   ]
  },
  {
   "cell_type": "markdown",
   "metadata": {
    "id": "hO0m41-MzJRc"
   },
   "source": [
    "## Extension 1 Load Arabic tagging data by Dataset and DataLoader"
   ]
  },
  {
   "cell_type": "code",
   "execution_count": 3,
   "metadata": {},
   "outputs": [
    {
     "name": "stderr",
     "output_type": "stream",
     "text": [
      "--2021-05-17 23:23:00--  https://raw.githubusercontent.com/UniversalDependencies/UD_Arabic-PADT/dev/ar_padt-ud-train.conllu\n",
      "Resolving raw.githubusercontent.com (raw.githubusercontent.com)... 185.199.111.133, 185.199.108.133, 185.199.110.133, ...\n",
      "Connecting to raw.githubusercontent.com (raw.githubusercontent.com)|185.199.111.133|:443... connected.\n",
      "HTTP request sent, awaiting response... 200 OK\n",
      "Length: 40657370 (39M) [text/plain]\n",
      "Saving to: 'ar_padt-ud-train.conllu'\n",
      "\n",
      "     0K .......... .......... .......... .......... ..........  0% 10.4M 4s\n",
      "    50K .......... .......... .......... .......... ..........  0%  122M 2s\n",
      "   100K .......... .......... .......... .......... ..........  0% 31.6M 2s\n",
      "   150K .......... .......... .......... .......... ..........  0% 14.4M 2s\n",
      "   200K .......... .......... .......... .......... ..........  0% 15.0M 2s\n",
      "   250K .......... .......... .......... .......... ..........  0% 13.3M 2s\n",
      "   300K .......... .......... .......... .......... ..........  0% 22.3M 2s\n",
      "   350K .......... .......... .......... .......... ..........  1% 19.1M 2s\n",
      "   400K .......... .......... .......... .......... ..........  1% 16.1M 2s\n",
      "   450K .......... .......... .......... .......... ..........  1% 14.0M 2s\n",
      "   500K .......... .......... .......... .......... ..........  1% 28.9M 2s\n",
      "   550K .......... .......... .......... .......... ..........  1% 13.1M 2s\n",
      "   600K .......... .......... .......... .......... ..........  1% 37.2M 2s\n",
      "   650K .......... .......... .......... .......... ..........  1% 17.1M 2s\n",
      "   700K .......... .......... .......... .......... ..........  1% 13.3M 2s\n",
      "   750K .......... .......... .......... .......... ..........  2% 29.7M 2s\n",
      "   800K .......... .......... .......... .......... ..........  2% 12.2M 2s\n",
      "   850K .......... .......... .......... .......... ..........  2% 18.1M 2s\n",
      "   900K .......... .......... .......... .......... ..........  2% 33.8M 2s\n",
      "   950K .......... .......... .......... .......... ..........  2% 12.3M 2s\n",
      "  1000K .......... .......... .......... .......... ..........  2% 19.0M 2s\n",
      "  1050K .......... .......... .......... .......... ..........  2% 40.8M 2s\n",
      "  1100K .......... .......... .......... .......... ..........  2% 19.0M 2s\n",
      "  1150K .......... .......... .......... .......... ..........  3% 16.3M 2s\n",
      "  1200K .......... .......... .......... .......... ..........  3% 22.4M 2s\n",
      "  1250K .......... .......... .......... .......... ..........  3% 10.4M 2s\n",
      "  1300K .......... .......... .......... .......... ..........  3% 16.0M 2s\n",
      "  1350K .......... .......... .......... .......... ..........  3% 33.9M 2s\n",
      "  1400K .......... .......... .......... .......... ..........  3% 41.1M 2s\n",
      "  1450K .......... .......... .......... .......... ..........  3% 12.7M 2s\n",
      "  1500K .......... .......... .......... .......... ..........  3% 28.3M 2s\n",
      "  1550K .......... .......... .......... .......... ..........  4% 17.8M 2s\n",
      "  1600K .......... .......... .......... .......... ..........  4% 55.5M 2s\n",
      "  1650K .......... .......... .......... .......... ..........  4% 29.4M 2s\n",
      "  1700K .......... .......... .......... .......... ..........  4% 13.6M 2s\n",
      "  1750K .......... .......... .......... .......... ..........  4% 38.1M 2s\n",
      "  1800K .......... .......... .......... .......... ..........  4% 6.54M 2s\n",
      "  1850K .......... .......... .......... .......... ..........  4%  219M 2s\n",
      "  1900K .......... .......... .......... .......... ..........  4%  417M 2s\n",
      "  1950K .......... .......... .......... .......... ..........  5% 27.4M 2s\n",
      "  2000K .......... .......... .......... .......... ..........  5% 11.2M 2s\n",
      "  2050K .......... .......... .......... .......... ..........  5% 25.7M 2s\n",
      "  2100K .......... .......... .......... .......... ..........  5% 10.8M 2s\n",
      "  2150K .......... .......... .......... .......... ..........  5%  249M 2s\n",
      "  2200K .......... .......... .......... .......... ..........  5% 75.8M 2s\n",
      "  2250K .......... .......... .......... .......... ..........  5% 19.5M 2s\n",
      "  2300K .......... .......... .......... .......... ..........  5% 19.8M 2s\n",
      "  2350K .......... .......... .......... .......... ..........  6% 23.6M 2s\n",
      "  2400K .......... .......... .......... .......... ..........  6% 15.2M 2s\n",
      "  2450K .......... .......... .......... .......... ..........  6% 48.3M 2s\n",
      "  2500K .......... .......... .......... .......... ..........  6% 23.0M 2s\n",
      "  2550K .......... .......... .......... .......... ..........  6% 31.2M 2s\n",
      "  2600K .......... .......... .......... .......... ..........  6% 21.1M 2s\n",
      "  2650K .......... .......... .......... .......... ..........  6% 68.1M 2s\n",
      "  2700K .......... .......... .......... .......... ..........  6% 20.4M 2s\n",
      "  2750K .......... .......... .......... .......... ..........  7% 66.3M 2s\n",
      "  2800K .......... .......... .......... .......... ..........  7% 15.2M 2s\n",
      "  2850K .......... .......... .......... .......... ..........  7%  108M 2s\n",
      "  2900K .......... .......... .......... .......... ..........  7% 19.3M 2s\n",
      "  2950K .......... .......... .......... .......... ..........  7% 23.8M 2s\n",
      "  3000K .......... .......... .......... .......... ..........  7% 25.6M 2s\n",
      "  3050K .......... .......... .......... .......... ..........  7%  177M 2s\n",
      "  3100K .......... .......... .......... .......... ..........  7% 15.9M 2s\n",
      "  3150K .......... .......... .......... .......... ..........  8%  129M 2s\n",
      "  3200K .......... .......... .......... .......... ..........  8% 37.9M 2s\n",
      "  3250K .......... .......... .......... .......... ..........  8% 19.1M 2s\n",
      "  3300K .......... .......... .......... .......... ..........  8% 12.2M 2s\n",
      "  3350K .......... .......... .......... .......... ..........  8% 20.7M 2s\n",
      "  3400K .......... .......... .......... .......... ..........  8%  463M 2s\n",
      "  3450K .......... .......... .......... .......... ..........  8% 27.5M 2s\n",
      "  3500K .......... .......... .......... .......... ..........  8% 16.9M 2s\n",
      "  3550K .......... .......... .......... .......... ..........  9%  137M 2s\n",
      "  3600K .......... .......... .......... .......... ..........  9% 21.1M 2s\n",
      "  3650K .......... .......... .......... .......... ..........  9% 15.2M 2s\n",
      "  3700K .......... .......... .......... .......... ..........  9%  185M 2s\n",
      "  3750K .......... .......... .......... .......... ..........  9% 12.7M 2s\n",
      "  3800K .......... .......... .......... .......... ..........  9%  218M 2s\n",
      "  3850K .......... .......... .......... .......... ..........  9%  155M 2s\n",
      "  3900K .......... .......... .......... .......... ..........  9% 14.7M 2s\n",
      "  3950K .......... .......... .......... .......... .......... 10%  119M 2s\n",
      "  4000K .......... .......... .......... .......... .......... 10% 24.1M 2s\n",
      "  4050K .......... .......... .......... .......... .......... 10% 26.6M 2s\n",
      "  4100K .......... .......... .......... .......... .......... 10% 18.6M 2s\n",
      "  4150K .......... .......... .......... .......... .......... 10%  414M 2s\n",
      "  4200K .......... .......... .......... .......... .......... 10% 17.7M 2s\n",
      "  4250K .......... .......... .......... .......... .......... 10%  319M 2s\n",
      "  4300K .......... .......... .......... .......... .......... 10% 20.4M 2s\n",
      "  4350K .......... .......... .......... .......... .......... 11% 85.3M 2s\n",
      "  4400K .......... .......... .......... .......... .......... 11% 24.4M 2s\n",
      "  4450K .......... .......... .......... .......... .......... 11% 36.4M 2s\n",
      "  4500K .......... .......... .......... .......... .......... 11% 28.0M 2s\n",
      "  4550K .......... .......... .......... .......... .......... 11% 27.7M 2s\n",
      "  4600K .......... .......... .......... .......... .......... 11% 27.6M 2s\n",
      "  4650K .......... .......... .......... .......... .......... 11%  469M 1s\n",
      "  4700K .......... .......... .......... .......... .......... 11% 20.7M 1s\n",
      "  4750K .......... .......... .......... .......... .......... 12% 29.4M 1s\n",
      "  4800K .......... .......... .......... .......... .......... 12% 8.53M 2s\n",
      "  4850K .......... .......... .......... .......... .......... 12%  271M 1s\n",
      "  4900K .......... .......... .......... .......... .......... 12%  193M 1s\n",
      "  4950K .......... .......... .......... .......... .......... 12% 21.7M 1s\n",
      "  5000K .......... .......... .......... .......... .......... 12%  333M 1s\n",
      "  5050K .......... .......... .......... .......... .......... 12% 21.7M 1s\n",
      "  5100K .......... .......... .......... .......... .......... 12% 24.3M 1s\n",
      "  5150K .......... .......... .......... .......... .......... 13% 27.5M 1s\n",
      "  5200K .......... .......... .......... .......... .......... 13% 23.4M 1s\n",
      "  5250K .......... .......... .......... .......... .......... 13% 13.9M 1s\n",
      "  5300K .......... .......... .......... .......... .......... 13%  246M 1s\n",
      "  5350K .......... .......... .......... .......... .......... 13% 21.1M 1s\n",
      "  5400K .......... .......... .......... .......... .......... 13%  232M 1s\n",
      "  5450K .......... .......... .......... .......... .......... 13% 17.6M 1s\n",
      "  5500K .......... .......... .......... .......... .......... 13%  319M 1s\n",
      "  5550K .......... .......... .......... .......... .......... 14%  112M 1s\n",
      "  5600K .......... .......... .......... .......... .......... 14% 22.3M 1s\n",
      "  5650K .......... .......... .......... .......... .......... 14% 30.5M 1s\n",
      "  5700K .......... .......... .......... .......... .......... 14% 12.5M 1s\n",
      "  5750K .......... .......... .......... .......... .......... 14%  154M 1s\n",
      "  5800K .......... .......... .......... .......... .......... 14%  558M 1s\n",
      "  5850K .......... .......... .......... .......... .......... 14% 20.0M 1s\n",
      "  5900K .......... .......... .......... .......... .......... 14%  486M 1s\n",
      "  5950K .......... .......... .......... .......... .......... 15% 20.6M 1s\n",
      "  6000K .......... .......... .......... .......... .......... 15%  432M 1s\n",
      "  6050K .......... .......... .......... .......... .......... 15% 8.36M 1s\n",
      "  6100K .......... .......... .......... .......... .......... 15% 24.7M 1s\n",
      "  6150K .......... .......... .......... .......... .......... 15%  268M 1s\n",
      "  6200K .......... .......... .......... .......... .......... 15% 20.6M 1s\n",
      "  6250K .......... .......... .......... .......... .......... 15% 10.7M 1s\n",
      "  6300K .......... .......... .......... .......... .......... 15%  171M 1s\n",
      "  6350K .......... .......... .......... .......... .......... 16%  161M 1s\n",
      "  6400K .......... .......... .......... .......... .......... 16% 15.3M 1s\n",
      "  6450K .......... .......... .......... .......... .......... 16%  170M 1s\n",
      "  6500K .......... .......... .......... .......... .......... 16%  170M 1s\n",
      "  6550K .......... .......... .......... .......... .......... 16% 22.1M 1s\n",
      "  6600K .......... .......... .......... .......... .......... 16% 28.4M 1s\n",
      "  6650K .......... .......... .......... .......... .......... 16% 26.8M 1s\n",
      "  6700K .......... .......... .......... .......... .......... 17% 16.3M 1s\n",
      "  6750K .......... .......... .......... .......... .......... 17%  135M 1s\n",
      "  6800K .......... .......... .......... .......... .......... 17% 11.4M 1s\n",
      "  6850K .......... .......... .......... .......... .......... 17%  190M 1s\n",
      "  6900K .......... .......... .......... .......... .......... 17%  167M 1s\n",
      "  6950K .......... .......... .......... .......... .......... 17% 17.3M 1s\n",
      "  7000K .......... .......... .......... .......... .......... 17%  240M 1s\n",
      "  7050K .......... .......... .......... .......... .......... 17%  628M 1s\n",
      "  7100K .......... .......... .......... .......... .......... 18% 15.7M 1s\n",
      "  7150K .......... .......... .......... .......... .......... 18% 98.3M 1s\n"
     ]
    },
    {
     "name": "stderr",
     "output_type": "stream",
     "text": [
      "  7200K .......... .......... .......... .......... .......... 18% 16.6M 1s\n",
      "  7250K .......... .......... .......... .......... .......... 18%  191M 1s\n",
      "  7300K .......... .......... .......... .......... .......... 18% 33.0M 1s\n",
      "  7350K .......... .......... .......... .......... .......... 18%  153M 1s\n",
      "  7400K .......... .......... .......... .......... .......... 18% 23.8M 1s\n",
      "  7450K .......... .......... .......... .......... .......... 18%  350M 1s\n",
      "  7500K .......... .......... .......... .......... .......... 19% 13.4M 1s\n",
      "  7550K .......... .......... .......... .......... .......... 19%  214M 1s\n",
      "  7600K .......... .......... .......... .......... .......... 19%  196M 1s\n",
      "  7650K .......... .......... .......... .......... .......... 19% 14.1M 1s\n",
      "  7700K .......... .......... .......... .......... .......... 19%  544M 1s\n",
      "  7750K .......... .......... .......... .......... .......... 19% 26.0M 1s\n",
      "  7800K .......... .......... .......... .......... .......... 19% 12.9M 1s\n",
      "  7850K .......... .......... .......... .......... .......... 19%  236M 1s\n",
      "  7900K .......... .......... .......... .......... .......... 20%  161M 1s\n",
      "  7950K .......... .......... .......... .......... .......... 20% 12.8M 1s\n",
      "  8000K .......... .......... .......... .......... .......... 20%  152M 1s\n",
      "  8050K .......... .......... .......... .......... .......... 20%  639M 1s\n",
      "  8100K .......... .......... .......... .......... .......... 20%  659M 1s\n",
      "  8150K .......... .......... .......... .......... .......... 20% 10.8M 1s\n",
      "  8200K .......... .......... .......... .......... .......... 20%  139M 1s\n",
      "  8250K .......... .......... .......... .......... .......... 20% 15.8M 1s\n",
      "  8300K .......... .......... .......... .......... .......... 21% 13.1M 1s\n",
      "  8350K .......... .......... .......... .......... .......... 21%  244M 1s\n",
      "  8400K .......... .......... .......... .......... .......... 21%  142M 1s\n",
      "  8450K .......... .......... .......... .......... .......... 21%  175M 1s\n",
      "  8500K .......... .......... .......... .......... .......... 21% 34.8M 1s\n",
      "  8550K .......... .......... .......... .......... .......... 21%  588M 1s\n",
      "  8600K .......... .......... .......... .......... .......... 21% 19.7M 1s\n",
      "  8650K .......... .......... .......... .......... .......... 21% 30.0M 1s\n",
      "  8700K .......... .......... .......... .......... .......... 22% 26.0M 1s\n",
      "  8750K .......... .......... .......... .......... .......... 22% 37.5M 1s\n",
      "  8800K .......... .......... .......... .......... .......... 22% 20.4M 1s\n",
      "  8850K .......... .......... .......... .......... .......... 22%  298M 1s\n",
      "  8900K .......... .......... .......... .......... .......... 22% 15.5M 1s\n",
      "  8950K .......... .......... .......... .......... .......... 22%  376M 1s\n",
      "  9000K .......... .......... .......... .......... .......... 22% 18.5M 1s\n",
      "  9050K .......... .......... .......... .......... .......... 22%  232M 1s\n",
      "  9100K .......... .......... .......... .......... .......... 23%  238M 1s\n",
      "  9150K .......... .......... .......... .......... .......... 23% 9.98M 1s\n",
      "  9200K .......... .......... .......... .......... .......... 23%  210M 1s\n",
      "  9250K .......... .......... .......... .......... .......... 23%  245M 1s\n",
      "  9300K .......... .......... .......... .......... .......... 23% 14.4M 1s\n",
      "  9350K .......... .......... .......... .......... .......... 23%  470M 1s\n",
      "  9400K .......... .......... .......... .......... .......... 23%  332M 1s\n",
      "  9450K .......... .......... .......... .......... .......... 23%  343M 1s\n",
      "  9500K .......... .......... .......... .......... .......... 24% 15.2M 1s\n",
      "  9550K .......... .......... .......... .......... .......... 24%  316M 1s\n",
      "  9600K .......... .......... .......... .......... .......... 24%  459M 1s\n",
      "  9650K .......... .......... .......... .......... .......... 24% 6.23M 1s\n",
      "  9700K .......... .......... .......... .......... .......... 24%  160M 1s\n",
      "  9750K .......... .......... .......... .......... .......... 24% 11.4M 1s\n",
      "  9800K .......... .......... .......... .......... .......... 24%  140M 1s\n",
      "  9850K .......... .......... .......... .......... .......... 24%  419M 1s\n",
      "  9900K .......... .......... .......... .......... .......... 25%  125M 1s\n",
      "  9950K .......... .......... .......... .......... .......... 25% 12.3M 1s\n",
      " 10000K .......... .......... .......... .......... .......... 25%  154M 1s\n",
      " 10050K .......... .......... .......... .......... .......... 25%  662M 1s\n",
      " 10100K .......... .......... .......... .......... .......... 25% 19.3M 1s\n",
      " 10150K .......... .......... .......... .......... .......... 25%  171M 1s\n",
      " 10200K .......... .......... .......... .......... .......... 25%  103M 1s\n",
      " 10250K .......... .......... .......... .......... .......... 25%  409M 1s\n",
      " 10300K .......... .......... .......... .......... .......... 26% 9.99M 1s\n",
      " 10350K .......... .......... .......... .......... .......... 26% 35.8M 1s\n",
      " 10400K .......... .......... .......... .......... .......... 26% 17.0M 1s\n",
      " 10450K .......... .......... .......... .......... .......... 26%  149M 1s\n",
      " 10500K .......... .......... .......... .......... .......... 26% 17.9M 1s\n",
      " 10550K .......... .......... .......... .......... .......... 26%  242M 1s\n",
      " 10600K .......... .......... .......... .......... .......... 26%  222M 1s\n",
      " 10650K .......... .......... .......... .......... .......... 26% 11.2M 1s\n",
      " 10700K .......... .......... .......... .......... .......... 27%  115M 1s\n",
      " 10750K .......... .......... .......... .......... .......... 27%  294M 1s\n",
      " 10800K .......... .......... .......... .......... .......... 27% 13.0M 1s\n",
      " 10850K .......... .......... .......... .......... .......... 27%  235M 1s\n",
      " 10900K .......... .......... .......... .......... .......... 27%  216M 1s\n",
      " 10950K .......... .......... .......... .......... .......... 27%  587M 1s\n",
      " 11000K .......... .......... .......... .......... .......... 27% 12.3M 1s\n",
      " 11050K .......... .......... .......... .......... .......... 27%  103M 1s\n",
      " 11100K .......... .......... .......... .......... .......... 28%  193M 1s\n",
      " 11150K .......... .......... .......... .......... .......... 28%  496M 1s\n",
      " 11200K .......... .......... .......... .......... .......... 28% 15.4M 1s\n",
      " 11250K .......... .......... .......... .......... .......... 28%  111M 1s\n",
      " 11300K .......... .......... .......... .......... .......... 28%  446M 1s\n",
      " 11350K .......... .......... .......... .......... .......... 28% 15.2M 1s\n",
      " 11400K .......... .......... .......... .......... .......... 28%  207M 1s\n",
      " 11450K .......... .......... .......... .......... .......... 28%  124M 1s\n",
      " 11500K .......... .......... .......... .......... .......... 29% 10.1M 1s\n",
      " 11550K .......... .......... .......... .......... .......... 29%  119M 1s\n",
      " 11600K .......... .......... .......... .......... .......... 29%  213M 1s\n",
      " 11650K .......... .......... .......... .......... .......... 29%  460M 1s\n",
      " 11700K .......... .......... .......... .......... .......... 29% 13.7M 1s\n",
      " 11750K .......... .......... .......... .......... .......... 29%  212M 1s\n",
      " 11800K .......... .......... .......... .......... .......... 29%  451M 1s\n",
      " 11850K .......... .......... .......... .......... .......... 29% 12.5M 1s\n",
      " 11900K .......... .......... .......... .......... .......... 30% 92.1M 1s\n",
      " 11950K .......... .......... .......... .......... .......... 30%  329M 1s\n",
      " 12000K .......... .......... .......... .......... .......... 30%  451M 1s\n",
      " 12050K .......... .......... .......... .......... .......... 30% 15.4M 1s\n",
      " 12100K .......... .......... .......... .......... .......... 30%  252M 1s\n",
      " 12150K .......... .......... .......... .......... .......... 30%  126M 1s\n",
      " 12200K .......... .......... .......... .......... .......... 30% 14.9M 1s\n",
      " 12250K .......... .......... .......... .......... .......... 30%  195M 1s\n",
      " 12300K .......... .......... .......... .......... .......... 31% 10.5M 1s\n",
      " 12350K .......... .......... .......... .......... .......... 31%  253M 1s\n",
      " 12400K .......... .......... .......... .......... .......... 31% 13.0M 1s\n",
      " 12450K .......... .......... .......... .......... .......... 31%  375M 1s\n",
      " 12500K .......... .......... .......... .......... .......... 31%  294M 1s\n",
      " 12550K .......... .......... .......... .......... .......... 31% 9.45M 1s\n",
      " 12600K .......... .......... .......... .......... .......... 31%  306M 1s\n",
      " 12650K .......... .......... .......... .......... .......... 31%  231M 1s\n",
      " 12700K .......... .......... .......... .......... .......... 32%  273M 1s\n",
      " 12750K .......... .......... .......... .......... .......... 32% 13.0M 1s\n",
      " 12800K .......... .......... .......... .......... .......... 32%  251M 1s\n",
      " 12850K .......... .......... .......... .......... .......... 32%  180M 1s\n",
      " 12900K .......... .......... .......... .......... .......... 32%  392M 1s\n",
      " 12950K .......... .......... .......... .......... .......... 32% 11.1M 1s\n",
      " 13000K .......... .......... .......... .......... .......... 32%  209M 1s\n",
      " 13050K .......... .......... .......... .......... .......... 32%  248M 1s\n",
      " 13100K .......... .......... .......... .......... .......... 33%  106M 1s\n",
      " 13150K .......... .......... .......... .......... .......... 33% 13.2M 1s\n",
      " 13200K .......... .......... .......... .......... .......... 33%  214M 1s\n",
      " 13250K .......... .......... .......... .......... .......... 33%  361M 1s\n",
      " 13300K .......... .......... .......... .......... .......... 33% 16.4M 1s\n",
      " 13350K .......... .......... .......... .......... .......... 33%  110M 1s\n",
      " 13400K .......... .......... .......... .......... .......... 33%  484M 1s\n",
      " 13450K .......... .......... .......... .......... .......... 34%  664M 1s\n",
      " 13500K .......... .......... .......... .......... .......... 34% 9.55M 1s\n",
      " 13550K .......... .......... .......... .......... .......... 34%  189M 1s\n",
      " 13600K .......... .......... .......... .......... .......... 34% 22.9M 1s\n",
      " 13650K .......... .......... .......... .......... .......... 34% 10.1M 1s\n",
      " 13700K .......... .......... .......... .......... .......... 34% 20.4M 1s\n",
      " 13750K .......... .......... .......... .......... .......... 34%  127M 1s\n",
      " 13800K .......... .......... .......... .......... .......... 34% 14.2M 1s\n",
      " 13850K .......... .......... .......... .......... .......... 35%  145M 1s\n",
      " 13900K .......... .......... .......... .......... .......... 35% 16.5M 1s\n",
      " 13950K .......... .......... .......... .......... .......... 35%  149M 1s\n",
      " 14000K .......... .......... .......... .......... .......... 35% 13.0M 1s\n",
      " 14050K .......... .......... .......... .......... .......... 35%  166M 1s\n",
      " 14100K .......... .......... .......... .......... .......... 35%  214M 1s\n",
      " 14150K .......... .......... .......... .......... .......... 35%  644M 1s\n",
      " 14200K .......... .......... .......... .......... .......... 35% 11.8M 1s\n",
      " 14250K .......... .......... .......... .......... .......... 36%  125M 1s\n",
      " 14300K .......... .......... .......... .......... .......... 36%  175M 1s\n",
      " 14350K .......... .......... .......... .......... .......... 36%  438M 1s\n",
      " 14400K .......... .......... .......... .......... .......... 36% 13.0M 1s\n",
      " 14450K .......... .......... .......... .......... .......... 36%  175M 1s\n",
      " 14500K .......... .......... .......... .......... .......... 36%  365M 1s\n",
      " 14550K .......... .......... .......... .......... .......... 36% 12.0M 1s\n",
      " 14600K .......... .......... .......... .......... .......... 36% 87.8M 1s\n",
      " 14650K .......... .......... .......... .......... .......... 37%  164M 1s\n",
      " 14700K .......... .......... .......... .......... .......... 37%  290M 1s\n",
      " 14750K .......... .......... .......... .......... .......... 37% 13.3M 1s\n",
      " 14800K .......... .......... .......... .......... .......... 37%  115M 1s\n",
      " 14850K .......... .......... .......... .......... .......... 37%  634M 1s\n",
      " 14900K .......... .......... .......... .......... .......... 37%  693M 1s\n",
      " 14950K .......... .......... .......... .......... .......... 37% 14.2M 1s\n",
      " 15000K .......... .......... .......... .......... .......... 37%  134M 1s\n",
      " 15050K .......... .......... .......... .......... .......... 38%  131M 1s\n",
      " 15100K .......... .......... .......... .......... .......... 38% 12.9M 1s\n",
      " 15150K .......... .......... .......... .......... .......... 38%  275M 1s\n",
      " 15200K .......... .......... .......... .......... .......... 38%  147M 1s\n",
      " 15250K .......... .......... .......... .......... .......... 38%  424M 1s\n",
      " 15300K .......... .......... .......... .......... .......... 38% 15.9M 1s\n",
      " 15350K .......... .......... .......... .......... .......... 38%  184M 1s\n",
      " 15400K .......... .......... .......... .......... .......... 38%  570M 1s\n",
      " 15450K .......... .......... .......... .......... .......... 39% 13.3M 1s\n",
      " 15500K .......... .......... .......... .......... .......... 39%  389M 1s\n",
      " 15550K .......... .......... .......... .......... .......... 39%  156M 1s\n",
      " 15600K .......... .......... .......... .......... .......... 39%  196M 1s\n",
      " 15650K .......... .......... .......... .......... .......... 39% 13.5M 1s\n",
      " 15700K .......... .......... .......... .......... .......... 39%  121M 1s\n",
      " 15750K .......... .......... .......... .......... .......... 39%  266M 1s\n",
      " 15800K .......... .......... .......... .......... .......... 39%  333M 1s\n",
      " 15850K .......... .......... .......... .......... .......... 40% 9.61M 1s\n",
      " 15900K .......... .......... .......... .......... .......... 40%  152M 1s\n",
      " 15950K .......... .......... .......... .......... .......... 40%  223M 1s\n",
      " 16000K .......... .......... .......... .......... .......... 40% 14.4M 1s\n",
      " 16050K .......... .......... .......... .......... .......... 40%  178M 1s\n",
      " 16100K .......... .......... .......... .......... .......... 40%  211M 1s\n",
      " 16150K .......... .......... .......... .......... .......... 40%  409M 1s\n",
      " 16200K .......... .......... .......... .......... .......... 40% 17.0M 1s\n",
      " 16250K .......... .......... .......... .......... .......... 41% 9.11M 1s\n",
      " 16300K .......... .......... .......... .......... .......... 41%  374M 1s\n",
      " 16350K .......... .......... .......... .......... .......... 41%  198M 1s\n",
      " 16400K .......... .......... .......... .......... .......... 41% 11.3M 1s\n",
      " 16450K .......... .......... .......... .......... .......... 41%  282M 1s\n",
      " 16500K .......... .......... .......... .......... .......... 41%  599M 1s\n",
      " 16550K .......... .......... .......... .......... .......... 41% 12.6M 1s\n",
      " 16600K .......... .......... .......... .......... .......... 41%  104M 1s\n",
      " 16650K .......... .......... .......... .......... .......... 42%  143M 1s\n",
      " 16700K .......... .......... .......... .......... .......... 42%  400M 1s\n",
      " 16750K .......... .......... .......... .......... .......... 42% 13.1M 1s\n",
      " 16800K .......... .......... .......... .......... .......... 42%  134M 1s\n",
      " 16850K .......... .......... .......... .......... .......... 42%  223M 1s\n",
      " 16900K .......... .......... .......... .......... .......... 42% 11.1M 1s\n",
      " 16950K .......... .......... .......... .......... .......... 42% 98.5M 1s\n",
      " 17000K .......... .......... .......... .......... .......... 42%  293M 1s\n",
      " 17050K .......... .......... .......... .......... .......... 43%  184M 1s\n",
      " 17100K .......... .......... .......... .......... .......... 43% 10.3M 1s\n",
      " 17150K .......... .......... .......... .......... .......... 43%  129M 1s\n",
      " 17200K .......... .......... .......... .......... .......... 43% 12.1M 1s\n",
      " 17250K .......... .......... .......... .......... .......... 43%  235M 1s\n",
      " 17300K .......... .......... .......... .......... .......... 43%  190M 1s\n",
      " 17350K .......... .......... .......... .......... .......... 43%  606M 1s\n",
      " 17400K .......... .......... .......... .......... .......... 43% 14.0M 1s\n",
      " 17450K .......... .......... .......... .......... .......... 44%  122M 1s\n",
      " 17500K .......... .......... .......... .......... .......... 44%  340M 1s\n",
      " 17550K .......... .......... .......... .......... .......... 44%  679M 1s\n",
      " 17600K .......... .......... .......... .......... .......... 44% 9.94M 1s\n",
      " 17650K .......... .......... .......... .......... .......... 44%  201M 1s\n",
      " 17700K .......... .......... .......... .......... .......... 44%  488M 1s\n",
      " 17750K .......... .......... .......... .......... .......... 44%  266M 1s\n",
      " 17800K .......... .......... .......... .......... .......... 44% 12.8M 1s\n",
      " 17850K .......... .......... .......... .......... .......... 45%  135M 1s\n",
      " 17900K .......... .......... .......... .......... .......... 45%  345M 1s\n",
      " 17950K .......... .......... .......... .......... .......... 45% 11.4M 1s\n",
      " 18000K .......... .......... .......... .......... .......... 45%  204M 1s\n",
      " 18050K .......... .......... .......... .......... .......... 45%  520M 1s\n",
      " 18100K .......... .......... .......... .......... .......... 45%  421M 1s\n",
      " 18150K .......... .......... .......... .......... .......... 45% 12.5M 1s\n",
      " 18200K .......... .......... .......... .......... .......... 45%  265M 1s\n",
      " 18250K .......... .......... .......... .......... .......... 46%  196M 1s\n",
      " 18300K .......... .......... .......... .......... .......... 46%  345M 1s\n",
      " 18350K .......... .......... .......... .......... .......... 46% 13.0M 1s\n",
      " 18400K .......... .......... .......... .......... .......... 46%  160M 1s\n",
      " 18450K .......... .......... .......... .......... .......... 46%  672M 1s\n",
      " 18500K .......... .......... .......... .......... .......... 46% 13.4M 1s\n",
      " 18550K .......... .......... .......... .......... .......... 46%  200M 1s\n",
      " 18600K .......... .......... .......... .......... .......... 46%  295M 1s\n",
      " 18650K .......... .......... .......... .......... .......... 47%  176M 1s\n",
      " 18700K .......... .......... .......... .......... .......... 47% 16.2M 1s\n",
      " 18750K .......... .......... .......... .......... .......... 47%  363M 1s\n",
      " 18800K .......... .......... .......... .......... .......... 47%  285M 1s\n",
      " 18850K .......... .......... .......... .......... .......... 47% 8.14M 1s\n",
      " 18900K .......... .......... .......... .......... .......... 47%  153M 1s\n",
      " 18950K .......... .......... .......... .......... .......... 47% 23.1M 1s\n",
      " 19000K .......... .......... .......... .......... .......... 47%  376M 1s\n",
      " 19050K .......... .......... .......... .......... .......... 48% 13.4M 1s\n",
      " 19100K .......... .......... .......... .......... .......... 48%  235M 1s\n",
      " 19150K .......... .......... .......... .......... .......... 48% 11.2M 1s\n",
      " 19200K .......... .......... .......... .......... .......... 48%  148M 1s\n",
      " 19250K .......... .......... .......... .......... .......... 48%  601M 1s\n",
      " 19300K .......... .......... .......... .......... .......... 48%  374M 1s\n",
      " 19350K .......... .......... .......... .......... .......... 48% 11.5M 1s\n",
      " 19400K .......... .......... .......... .......... .......... 48%  104M 1s\n",
      " 19450K .......... .......... .......... .......... .......... 49%  138M 1s\n",
      " 19500K .......... .......... .......... .......... .......... 49%  414M 1s\n",
      " 19550K .......... .......... .......... .......... .......... 49% 10.2M 1s\n",
      " 19600K .......... .......... .......... .......... .......... 49%  198M 1s\n",
      " 19650K .......... .......... .......... .......... .......... 49%  103M 1s\n",
      " 19700K .......... .......... .......... .......... .......... 49% 13.8M 1s\n",
      " 19750K .......... .......... .......... .......... .......... 49%  226M 1s\n",
      " 19800K .......... .......... .......... .......... .......... 49%  268M 1s\n",
      " 19850K .......... .......... .......... .......... .......... 50%  148M 1s\n",
      " 19900K .......... .......... .......... .......... .......... 50% 10.8M 1s\n",
      " 19950K .......... .......... .......... .......... .......... 50%  198M 1s\n",
      " 20000K .......... .......... .......... .......... .......... 50%  549M 1s\n",
      " 20050K .......... .......... .......... .......... .......... 50% 15.4M 1s\n",
      " 20100K .......... .......... .......... .......... .......... 50%  436M 1s\n",
      " 20150K .......... .......... .......... .......... .......... 50%  129M 1s\n",
      " 20200K .......... .......... .......... .......... .......... 51%  249M 1s\n",
      " 20250K .......... .......... .......... .......... .......... 51% 11.2M 1s\n",
      " 20300K .......... .......... .......... .......... .......... 51%  180M 1s\n",
      " 20350K .......... .......... .......... .......... .......... 51%  288M 1s\n",
      " 20400K .......... .......... .......... .......... .......... 51%  192M 1s\n",
      " 20450K .......... .......... .......... .......... .......... 51% 14.2M 1s\n",
      " 20500K .......... .......... .......... .......... .......... 51%  364M 1s\n",
      " 20550K .......... .......... .......... .......... .......... 51%  666M 1s\n",
      " 20600K .......... .......... .......... .......... .......... 52% 12.2M 1s\n",
      " 20650K .......... .......... .......... .......... .......... 52%  216M 1s\n",
      " 20700K .......... .......... .......... .......... .......... 52%  180M 1s\n",
      " 20750K .......... .......... .......... .......... .......... 52%  637M 1s\n",
      " 20800K .......... .......... .......... .......... .......... 52% 12.9M 1s\n",
      " 20850K .......... .......... .......... .......... .......... 52%  152M 1s\n",
      " 20900K .......... .......... .......... .......... .......... 52%  643M 1s\n",
      " 20950K .......... .......... .......... .......... .......... 52%  526M 1s\n",
      " 21000K .......... .......... .......... .......... .......... 53% 9.37M 1s\n",
      " 21050K .......... .......... .......... .......... .......... 53%  134M 1s\n",
      " 21100K .......... .......... .......... .......... .......... 53% 11.3M 1s\n",
      " 21150K .......... .......... .......... .......... .......... 53%  345M 1s\n",
      " 21200K .......... .......... .......... .......... .......... 53%  193M 1s\n",
      " 21250K .......... .......... .......... .......... .......... 53%  658M 1s\n",
      " 21300K .......... .......... .......... .......... .......... 53% 12.1M 1s\n",
      " 21350K .......... .......... .......... .......... .......... 53%  273M 1s\n",
      " 21400K .......... .......... .......... .......... .......... 54%  202M 1s\n",
      " 21450K .......... .......... .......... .......... .......... 54% 10.6M 1s\n",
      " 21500K .......... .......... .......... .......... .......... 54%  164M 1s\n",
      " 21550K .......... .......... .......... .......... .......... 54%  268M 1s\n",
      " 21600K .......... .......... .......... .......... .......... 54%  380M 1s\n",
      " 21650K .......... .......... .......... .......... .......... 54% 12.0M 1s\n",
      " 21700K .......... .......... .......... .......... .......... 54%  183M 1s\n",
      " 21750K .......... .......... .......... .......... .......... 54%  204M 1s\n",
      " 21800K .......... .......... .......... .......... .......... 55%  118M 1s\n",
      " 21850K .......... .......... .......... .......... .......... 55% 15.8M 1s\n",
      " 21900K .......... .......... .......... .......... .......... 55%  229M 1s\n",
      " 21950K .......... .......... .......... .......... .......... 55%  284M 1s\n",
      " 22000K .......... .......... .......... .......... .......... 55% 13.0M 1s\n",
      " 22050K .......... .......... .......... .......... .......... 55%  359M 1s\n",
      " 22100K .......... .......... .......... .......... .......... 55%  254M 1s\n",
      " 22150K .......... .......... .......... .......... .......... 55%  433M 1s\n",
      " 22200K .......... .......... .......... .......... .......... 56% 12.0M 1s\n",
      " 22250K .......... .......... .......... .......... .......... 56%  209M 1s\n",
      " 22300K .......... .......... .......... .......... .......... 56%  692M 1s\n",
      " 22350K .......... .......... .......... .......... .......... 56%  707M 1s\n",
      " 22400K .......... .......... .......... .......... .......... 56% 12.2M 1s\n",
      " 22450K .......... .......... .......... .......... .......... 56%  160M 1s\n",
      " 22500K .......... .......... .......... .......... .......... 56%  190M 1s\n",
      " 22550K .......... .......... .......... .......... .......... 56% 14.4M 1s\n",
      " 22600K .......... .......... .......... .......... .......... 57%  128M 1s\n",
      " 22650K .......... .......... .......... .......... .......... 57%  220M 1s\n",
      " 22700K .......... .......... .......... .......... .......... 57%  406M 1s\n",
      " 22750K .......... .......... .......... .......... .......... 57% 14.9M 1s\n",
      " 22800K .......... .......... .......... .......... .......... 57%  235M 1s\n",
      " 22850K .......... .......... .......... .......... .......... 57%  294M 1s\n",
      " 22900K .......... .......... .......... .......... .......... 57%  671M 1s\n",
      " 22950K .......... .......... .......... .......... .......... 57% 12.9M 1s\n",
      " 23000K .......... .......... .......... .......... .......... 58%  108M 1s\n",
      " 23050K .......... .......... .......... .......... .......... 58%  415M 1s\n",
      " 23100K .......... .......... .......... .......... .......... 58%  369M 1s\n",
      " 23150K .......... .......... .......... .......... .......... 58% 6.91M 1s\n",
      " 23200K .......... .......... .......... .......... .......... 58% 17.6M 1s\n",
      " 23250K .......... .......... .......... .......... .......... 58%  175M 1s\n",
      " 23300K .......... .......... .......... .......... .......... 58%  315M 1s\n",
      " 23350K .......... .......... .......... .......... .......... 58% 17.2M 1s\n",
      " 23400K .......... .......... .......... .......... .......... 59% 78.2M 1s\n",
      " 23450K .......... .......... .......... .......... .......... 59%  163M 1s\n",
      " 23500K .......... .......... .......... .......... .......... 59% 17.3M 1s\n",
      " 23550K .......... .......... .......... .......... .......... 59%  157M 1s\n",
      " 23600K .......... .......... .......... .......... .......... 59%  370M 1s\n",
      " 23650K .......... .......... .......... .......... .......... 59% 13.1M 1s\n",
      " 23700K .......... .......... .......... .......... .......... 59%  145M 0s\n",
      " 23750K .......... .......... .......... .......... .......... 59%  214M 0s\n",
      " 23800K .......... .......... .......... .......... .......... 60%  141M 0s\n",
      " 23850K .......... .......... .......... .......... .......... 60% 15.4M 0s\n",
      " 23900K .......... .......... .......... .......... .......... 60%  171M 0s\n",
      " 23950K .......... .......... .......... .......... .......... 60%  409M 0s\n",
      " 24000K .......... .......... .......... .......... .......... 60% 10.6M 0s\n",
      " 24050K .......... .......... .......... .......... .......... 60% 7.68M 0s\n",
      " 24100K .......... .......... .......... .......... .......... 60%  257M 0s\n",
      " 24150K .......... .......... .......... .......... .......... 60%  220M 0s\n",
      " 24200K .......... .......... .......... .......... .......... 61% 15.7M 0s\n",
      " 24250K .......... .......... .......... .......... .......... 61%  269M 0s\n",
      " 24300K .......... .......... .......... .......... .......... 61%  202M 0s\n",
      " 24350K .......... .......... .......... .......... .......... 61%  255M 0s\n",
      " 24400K .......... .......... .......... .......... .......... 61% 10.4M 0s\n",
      " 24450K .......... .......... .......... .......... .......... 61% 98.5M 0s\n",
      " 24500K .......... .......... .......... .......... .......... 61%  395M 0s\n",
      " 24550K .......... .......... .......... .......... .......... 61% 9.21M 0s\n",
      " 24600K .......... .......... .......... .......... .......... 62% 86.1M 0s\n",
      " 24650K .......... .......... .......... .......... .......... 62%  542M 0s\n",
      " 24700K .......... .......... .......... .......... .......... 62% 14.4M 0s\n",
      " 24750K .......... .......... .......... .......... .......... 62%  189M 0s\n",
      " 24800K .......... .......... .......... .......... .......... 62%  296M 0s\n",
      " 24850K .......... .......... .......... .......... .......... 62%  331M 0s\n",
      " 24900K .......... .......... .......... .......... .......... 62% 10.5M 0s\n",
      " 24950K .......... .......... .......... .......... .......... 62%  136M 0s\n",
      " 25000K .......... .......... .......... .......... .......... 63%  104M 0s\n",
      " 25050K .......... .......... .......... .......... .......... 63% 12.3M 0s\n",
      " 25100K .......... .......... .......... .......... .......... 63%  388M 0s\n",
      " 25150K .......... .......... .......... .......... .......... 63%  273M 0s\n",
      " 25200K .......... .......... .......... .......... .......... 63%  330M 0s\n",
      " 25250K .......... .......... .......... .......... .......... 63% 11.8M 0s\n",
      " 25300K .......... .......... .......... .......... .......... 63%  151M 0s\n",
      " 25350K .......... .......... .......... .......... .......... 63%  272M 0s\n",
      " 25400K .......... .......... .......... .......... .......... 64%  142M 0s\n",
      " 25450K .......... .......... .......... .......... .......... 64% 14.2M 0s\n",
      " 25500K .......... .......... .......... .......... .......... 64%  168M 0s\n",
      " 25550K .......... .......... .......... .......... .......... 64%  480M 0s\n",
      " 25600K .......... .......... .......... .......... .......... 64% 13.0M 0s\n",
      " 25650K .......... .......... .......... .......... .......... 64%  198M 0s\n",
      " 25700K .......... .......... .......... .......... .......... 64%  186M 0s\n",
      " 25750K .......... .......... .......... .......... .......... 64%  385M 0s\n",
      " 25800K .......... .......... .......... .......... .......... 65% 13.1M 0s\n",
      " 25850K .......... .......... .......... .......... .......... 65%  223M 0s\n",
      " 25900K .......... .......... .......... .......... .......... 65%  331M 0s\n",
      " 25950K .......... .......... .......... .......... .......... 65%  436M 0s\n",
      " 26000K .......... .......... .......... .......... .......... 65% 12.5M 0s\n",
      " 26050K .......... .......... .......... .......... .......... 65%  171M 0s\n",
      " 26100K .......... .......... .......... .......... .......... 65%  292M 0s\n",
      " 26150K .......... .......... .......... .......... .......... 65% 14.7M 0s\n",
      " 26200K .......... .......... .......... .......... .......... 66%  117M 0s\n",
      " 26250K .......... .......... .......... .......... .......... 66%  661M 0s\n",
      " 26300K .......... .......... .......... .......... .......... 66%  270M 0s\n",
      " 26350K .......... .......... .......... .......... .......... 66% 10.6M 0s\n",
      " 26400K .......... .......... .......... .......... .......... 66%  258M 0s\n",
      " 26450K .......... .......... .......... .......... .......... 66%  375M 0s\n",
      " 26500K .......... .......... .......... .......... .......... 66% 11.9M 0s\n",
      " 26550K .......... .......... .......... .......... .......... 66%  211M 0s\n",
      " 26600K .......... .......... .......... .......... .......... 67% 94.7M 0s\n",
      " 26650K .......... .......... .......... .......... .......... 67%  510M 0s\n",
      " 26700K .......... .......... .......... .......... .......... 67% 8.85M 0s\n",
      " 26750K .......... .......... .......... .......... .......... 67%  268M 0s\n",
      " 26800K .......... .......... .......... .......... .......... 67%  318M 0s\n",
      " 26850K .......... .......... .......... .......... .......... 67%  334M 0s\n",
      " 26900K .......... .......... .......... .......... .......... 67% 13.6M 0s\n",
      " 26950K .......... .......... .......... .......... .......... 68%  261M 0s\n",
      " 27000K .......... .......... .......... .......... .......... 68%  121M 0s\n",
      " 27050K .......... .......... .......... .......... .......... 68% 1.15M 0s\n",
      " 27100K .......... .......... .......... .......... .......... 68%  160M 0s\n",
      " 27150K .......... .......... .......... .......... .......... 68%  414M 0s\n",
      " 27200K .......... .......... .......... .......... .......... 68% 12.8M 0s\n",
      " 27250K .......... .......... .......... .......... .......... 68%  122M 0s\n",
      " 27300K .......... .......... .......... .......... .......... 68%  244M 0s\n",
      " 27350K .......... .......... .......... .......... .......... 69% 12.5M 0s\n",
      " 27400K .......... .......... .......... .......... .......... 69%  111M 0s\n",
      " 27450K .......... .......... .......... .......... .......... 69%  182M 0s\n",
      " 27500K .......... .......... .......... .......... .......... 69%  302M 0s\n",
      " 27550K .......... .......... .......... .......... .......... 69% 14.0M 0s\n",
      " 27600K .......... .......... .......... .......... .......... 69% 85.2M 0s\n",
      " 27650K .......... .......... .......... .......... .......... 69%  350M 0s\n",
      " 27700K .......... .......... .......... .......... .......... 69%  433M 0s\n",
      " 27750K .......... .......... .......... .......... .......... 70% 12.2M 0s\n",
      " 27800K .......... .......... .......... .......... .......... 70% 77.6M 0s\n",
      " 27850K .......... .......... .......... .......... .......... 70%  163M 0s\n",
      " 27900K .......... .......... .......... .......... .......... 70% 15.5M 0s\n",
      " 27950K .......... .......... .......... .......... .......... 70%  571M 0s\n",
      " 28000K .......... .......... .......... .......... .......... 70%  149M 0s\n",
      " 28050K .......... .......... .......... .......... .......... 70%  223M 0s\n",
      " 28100K .......... .......... .......... .......... .......... 70% 13.9M 0s\n",
      " 28150K .......... .......... .......... .......... .......... 71%  148M 0s\n",
      " 28200K .......... .......... .......... .......... .......... 71%  263M 0s\n",
      " 28250K .......... .......... .......... .......... .......... 71%  279M 0s\n",
      " 28300K .......... .......... .......... .......... .......... 71% 12.9M 0s\n",
      " 28350K .......... .......... .......... .......... .......... 71%  251M 0s\n",
      " 28400K .......... .......... .......... .......... .......... 71%  433M 0s\n",
      " 28450K .......... .......... .......... .......... .......... 71% 14.0M 0s\n",
      " 28500K .......... .......... .......... .......... .......... 71%  174M 0s\n",
      " 28550K .......... .......... .......... .......... .......... 72% 87.4M 0s\n",
      " 28600K .......... .......... .......... .......... .......... 72%  360M 0s\n",
      " 28650K .......... .......... .......... .......... .......... 72% 13.2M 0s\n",
      " 28700K .......... .......... .......... .......... .......... 72%  196M 0s\n",
      " 28750K .......... .......... .......... .......... .......... 72%  650M 0s\n",
      " 28800K .......... .......... .......... .......... .......... 72% 9.42M 0s\n",
      " 28850K .......... .......... .......... .......... .......... 72%  192M 0s\n",
      " 28900K .......... .......... .......... .......... .......... 72%  162M 0s\n",
      " 28950K .......... .......... .......... .......... .......... 73%  134M 0s\n",
      " 29000K .......... .......... .......... .......... .......... 73% 17.1M 0s\n",
      " 29050K .......... .......... .......... .......... .......... 73%  219M 0s\n",
      " 29100K .......... .......... .......... .......... .......... 73%  119M 0s\n",
      " 29150K .......... .......... .......... .......... .......... 73%  303M 0s\n",
      " 29200K .......... .......... .......... .......... .......... 73% 13.7M 0s\n",
      " 29250K .......... .......... .......... .......... .......... 73%  208M 0s\n",
      " 29300K .......... .......... .......... .......... .......... 73%  165M 0s\n",
      " 29350K .......... .......... .......... .......... .......... 74%  114M 0s\n",
      " 29400K .......... .......... .......... .......... .......... 74% 14.2M 0s\n",
      " 29450K .......... .......... .......... .......... .......... 74%  306M 0s\n",
      " 29500K .......... .......... .......... .......... .......... 74%  660M 0s\n",
      " 29550K .......... .......... .......... .......... .......... 74% 12.3M 0s\n",
      " 29600K .......... .......... .......... .......... .......... 74%  178M 0s\n",
      " 29650K .......... .......... .......... .......... .......... 74%  317M 0s\n",
      " 29700K .......... .......... .......... .......... .......... 74%  688M 0s\n",
      " 29750K .......... .......... .......... .......... .......... 75% 12.8M 0s\n",
      " 29800K .......... .......... .......... .......... .......... 75%  239M 0s\n",
      " 29850K .......... .......... .......... .......... .......... 75%  400M 0s\n",
      " 29900K .......... .......... .......... .......... .......... 75%  681M 0s\n",
      " 29950K .......... .......... .......... .......... .......... 75% 11.8M 0s\n",
      " 30000K .......... .......... .......... .......... .......... 75%  167M 0s\n",
      " 30050K .......... .......... .......... .......... .......... 75%  393M 0s\n",
      " 30100K .......... .......... .......... .......... .......... 75% 13.6M 0s\n",
      " 30150K .......... .......... .......... .......... .......... 76%  141M 0s\n",
      " 30200K .......... .......... .......... .......... .......... 76%  268M 0s\n",
      " 30250K .......... .......... .......... .......... .......... 76%  198M 0s\n",
      " 30300K .......... .......... .......... .......... .......... 76% 14.4M 0s\n",
      " 30350K .......... .......... .......... .......... .......... 76%  237M 0s\n",
      " 30400K .......... .......... .......... .......... .......... 76%  365M 0s\n",
      " 30450K .......... .......... .......... .......... .......... 76% 12.6M 0s\n",
      " 30500K .......... .......... .......... .......... .......... 76%  223M 0s\n",
      " 30550K .......... .......... .......... .......... .......... 77%  102M 0s\n",
      " 30600K .......... .......... .......... .......... .......... 77%  542M 0s\n",
      " 30650K .......... .......... .......... .......... .......... 77% 13.5M 0s\n",
      " 30700K .......... .......... .......... .......... .......... 77%  203M 0s\n",
      " 30750K .......... .......... .......... .......... .......... 77%  400M 0s\n",
      " 30800K .......... .......... .......... .......... .......... 77%  188M 0s\n",
      " 30850K .......... .......... .......... .......... .......... 77% 13.7M 0s\n",
      " 30900K .......... .......... .......... .......... .......... 77% 9.03M 0s\n",
      " 30950K .......... .......... .......... .......... .......... 78%  117M 0s\n",
      " 31000K .......... .......... .......... .......... .......... 78% 11.3M 0s\n",
      " 31050K .......... .......... .......... .......... .......... 78%  296M 0s\n",
      " 31100K .......... .......... .......... .......... .......... 78% 83.2M 0s\n",
      " 31150K .......... .......... .......... .......... .......... 78%  299M 0s\n",
      " 31200K .......... .......... .......... .......... .......... 78% 14.3M 0s\n",
      " 31250K .......... .......... .......... .......... .......... 78%  150M 0s\n",
      " 31300K .......... .......... .......... .......... .......... 78%  613M 0s\n",
      " 31350K .......... .......... .......... .......... .......... 79%  150M 0s\n",
      " 31400K .......... .......... .......... .......... .......... 79% 15.6M 0s\n",
      " 31450K .......... .......... .......... .......... .......... 79%  200M 0s\n",
      " 31500K .......... .......... .......... .......... .......... 79%  669M 0s\n",
      " 31550K .......... .......... .......... .......... .......... 79% 15.4M 0s\n",
      " 31600K .......... .......... .......... .......... .......... 79%  166M 0s\n",
      " 31650K .......... .......... .......... .......... .......... 79%  407M 0s\n",
      " 31700K .......... .......... .......... .......... .......... 79%  281M 0s\n",
      " 31750K .......... .......... .......... .......... .......... 80% 10.5M 0s\n",
      " 31800K .......... .......... .......... .......... .......... 80%  185M 0s\n",
      " 31850K .......... .......... .......... .......... .......... 80%  347M 0s\n",
      " 31900K .......... .......... .......... .......... .......... 80%  335M 0s\n",
      " 31950K .......... .......... .......... .......... .......... 80% 14.5M 0s\n",
      " 32000K .......... .......... .......... .......... .......... 80%  104M 0s\n",
      " 32050K .......... .......... .......... .......... .......... 80%  521M 0s\n",
      " 32100K .......... .......... .......... .......... .......... 80% 12.1M 0s\n",
      " 32150K .......... .......... .......... .......... .......... 81%  103M 0s\n",
      " 32200K .......... .......... .......... .......... .......... 81%  557M 0s\n",
      " 32250K .......... .......... .......... .......... .......... 81%  334M 0s\n",
      " 32300K .......... .......... .......... .......... .......... 81% 11.9M 0s\n",
      " 32350K .......... .......... .......... .......... .......... 81%  104M 0s\n",
      " 32400K .......... .......... .......... .......... .......... 81%  513M 0s\n",
      " 32450K .......... .......... .......... .......... .......... 81% 12.3M 0s\n",
      " 32500K .......... .......... .......... .......... .......... 81%  186M 0s\n",
      " 32550K .......... .......... .......... .......... .......... 82%  106M 0s\n",
      " 32600K .......... .......... .......... .......... .......... 82%  185M 0s\n",
      " 32650K .......... .......... .......... .......... .......... 82% 13.3M 0s\n",
      " 32700K .......... .......... .......... .......... .......... 82%  261M 0s\n",
      " 32750K .......... .......... .......... .......... .......... 82%  241M 0s\n",
      " 32800K .......... .......... .......... .......... .......... 82%  215M 0s\n",
      " 32850K .......... .......... .......... .......... .......... 82% 12.8M 0s\n",
      " 32900K .......... .......... .......... .......... .......... 82%  334M 0s\n",
      " 32950K .......... .......... .......... .......... .......... 83%  206M 0s\n",
      " 33000K .......... .......... .......... .......... .......... 83% 11.7M 0s\n",
      " 33050K .......... .......... .......... .......... .......... 83%  236M 0s\n",
      " 33100K .......... .......... .......... .......... .......... 83%  302M 0s\n",
      " 33150K .......... .......... .......... .......... .......... 83% 84.9M 0s\n",
      " 33200K .......... .......... .......... .......... .......... 83% 12.9M 0s\n",
      " 33250K .......... .......... .......... .......... .......... 83%  194M 0s\n",
      " 33300K .......... .......... .......... .......... .......... 83%  243M 0s\n",
      " 33350K .......... .......... .......... .......... .......... 84%  146M 0s\n",
      " 33400K .......... .......... .......... .......... .......... 84% 13.5M 0s\n",
      " 33450K .......... .......... .......... .......... .......... 84%  391M 0s\n",
      " 33500K .......... .......... .......... .......... .......... 84%  504M 0s\n",
      " 33550K .......... .......... .......... .......... .......... 84%  729M 0s\n",
      " 33600K .......... .......... .......... .......... .......... 84% 9.26M 0s\n",
      " 33650K .......... .......... .......... .......... .......... 84%  169M 0s\n",
      " 33700K .......... .......... .......... .......... .......... 85%  365M 0s\n",
      " 33750K .......... .......... .......... .......... .......... 85% 14.4M 0s\n",
      " 33800K .......... .......... .......... .......... .......... 85%  263M 0s\n",
      " 33850K .......... .......... .......... .......... .......... 85%  260M 0s\n",
      " 33900K .......... .......... .......... .......... .......... 85%  261M 0s\n",
      " 33950K .......... .......... .......... .......... .......... 85% 13.4M 0s\n",
      " 34000K .......... .......... .......... .......... .......... 85%  171M 0s\n",
      " 34050K .......... .......... .......... .......... .......... 85%  427M 0s\n",
      " 34100K .......... .......... .......... .......... .......... 86% 13.5M 0s\n",
      " 34150K .......... .......... .......... .......... .......... 86% 92.7M 0s\n",
      " 34200K .......... .......... .......... .......... .......... 86%  181M 0s\n",
      " 34250K .......... .......... .......... .......... .......... 86%  419M 0s\n",
      " 34300K .......... .......... .......... .......... .......... 86% 15.1M 0s\n",
      " 34350K .......... .......... .......... .......... .......... 86%  151M 0s\n",
      " 34400K .......... .......... .......... .......... .......... 86%  140M 0s\n",
      " 34450K .......... .......... .......... .......... .......... 86%  102M 0s\n",
      " 34500K .......... .......... .......... .......... .......... 87% 9.84M 0s\n",
      " 34550K .......... .......... .......... .......... .......... 87%  202M 0s\n",
      " 34600K .......... .......... .......... .......... .......... 87%  304M 0s\n",
      " 34650K .......... .......... .......... .......... .......... 87% 16.7M 0s\n",
      " 34700K .......... .......... .......... .......... .......... 87%  145M 0s\n",
      " 34750K .......... .......... .......... .......... .......... 87%  411M 0s\n",
      " 34800K .......... .......... .......... .......... .......... 87%  363M 0s\n",
      " 34850K .......... .......... .......... .......... .......... 87% 13.7M 0s\n",
      " 34900K .......... .......... .......... .......... .......... 88%  106M 0s\n",
      " 34950K .......... .......... .......... .......... .......... 88%  141M 0s\n",
      " 35000K .......... .......... .......... .......... .......... 88%  628M 0s\n",
      " 35050K .......... .......... .......... .......... .......... 88% 12.7M 0s\n",
      " 35100K .......... .......... .......... .......... .......... 88% 8.04M 0s\n",
      " 35150K .......... .......... .......... .......... .......... 88%  630M 0s\n",
      " 35200K .......... .......... .......... .......... .......... 88% 12.5M 0s\n",
      " 35250K .......... .......... .......... .......... .......... 88%  260M 0s\n",
      " 35300K .......... .......... .......... .......... .......... 89%  121M 0s\n",
      " 35350K .......... .......... .......... .......... .......... 89%  179M 0s\n",
      " 35400K .......... .......... .......... .......... .......... 89% 13.8M 0s\n",
      " 35450K .......... .......... .......... .......... .......... 89% 93.8M 0s\n",
      " 35500K .......... .......... .......... .......... .......... 89%  461M 0s\n",
      " 35550K .......... .......... .......... .......... .......... 89%  293M 0s\n",
      " 35600K .......... .......... .......... .......... .......... 89% 13.6M 0s\n",
      " 35650K .......... .......... .......... .......... .......... 89%  313M 0s\n",
      " 35700K .......... .......... .......... .......... .......... 90%  115M 0s\n",
      " 35750K .......... .......... .......... .......... .......... 90% 11.8M 0s\n",
      " 35800K .......... .......... .......... .......... .......... 90%  172M 0s\n",
      " 35850K .......... .......... .......... .......... .......... 90%  689M 0s\n",
      " 35900K .......... .......... .......... .......... .......... 90%  127M 0s\n",
      " 35950K .......... .......... .......... .......... .......... 90% 11.6M 0s\n",
      " 36000K .......... .......... .......... .......... .......... 90%  274M 0s\n",
      " 36050K .......... .......... .......... .......... .......... 90%  187M 0s\n",
      " 36100K .......... .......... .......... .......... .......... 91% 13.0M 0s\n",
      " 36150K .......... .......... .......... .......... .......... 91%  217M 0s\n",
      " 36200K .......... .......... .......... .......... .......... 91%  180M 0s\n",
      " 36250K .......... .......... .......... .......... .......... 91%  388M 0s\n",
      " 36300K .......... .......... .......... .......... .......... 91% 11.1M 0s\n",
      " 36350K .......... .......... .......... .......... .......... 91%  219M 0s\n",
      " 36400K .......... .......... .......... .......... .......... 91%  256M 0s\n",
      " 36450K .......... .......... .......... .......... .......... 91%  225M 0s\n",
      " 36500K .......... .......... .......... .......... .......... 92% 12.0M 0s\n",
      " 36550K .......... .......... .......... .......... .......... 92%  227M 0s\n",
      " 36600K .......... .......... .......... .......... .......... 92%  336M 0s\n",
      " 36650K .......... .......... .......... .......... .......... 92% 13.4M 0s\n",
      " 36700K .......... .......... .......... .......... .......... 92%  175M 0s\n",
      " 36750K .......... .......... .......... .......... .......... 92%  389M 0s\n",
      " 36800K .......... .......... .......... .......... .......... 92%  329M 0s\n",
      " 36850K .......... .......... .......... .......... .......... 92% 14.6M 0s\n",
      " 36900K .......... .......... .......... .......... .......... 93%  111M 0s\n",
      " 36950K .......... .......... .......... .......... .......... 93%  262M 0s\n",
      " 37000K .......... .......... .......... .......... .......... 93% 77.6M 0s\n",
      " 37050K .......... .......... .......... .......... .......... 93% 12.9M 0s\n",
      " 37100K .......... .......... .......... .......... .......... 93%  188M 0s\n",
      " 37150K .......... .......... .......... .......... .......... 93%  348M 0s\n",
      " 37200K .......... .......... .......... .......... .......... 93% 11.3M 0s\n",
      " 37250K .......... .......... .......... .......... .......... 93%  110M 0s\n",
      " 37300K .......... .......... .......... .......... .......... 94%  187M 0s\n",
      " 37350K .......... .......... .......... .......... .......... 94%  389M 0s\n",
      " 37400K .......... .......... .......... .......... .......... 94% 15.5M 0s\n",
      " 37450K .......... .......... .......... .......... .......... 94%  271M 0s\n",
      " 37500K .......... .......... .......... .......... .......... 94%  128M 0s\n",
      " 37550K .......... .......... .......... .......... .......... 94%  610M 0s\n",
      " 37600K .......... .......... .......... .......... .......... 94% 14.8M 0s\n",
      " 37650K .......... .......... .......... .......... .......... 94%  193M 0s\n",
      " 37700K .......... .......... .......... .......... .......... 95%  148M 0s\n",
      " 37750K .......... .......... .......... .......... .......... 95% 14.6M 0s\n",
      " 37800K .......... .......... .......... .......... .......... 95%  221M 0s\n",
      " 37850K .......... .......... .......... .......... .......... 95%  242M 0s\n",
      " 37900K .......... .......... .......... .......... .......... 95%  480M 0s\n",
      " 37950K .......... .......... .......... .......... .......... 95% 14.1M 0s\n",
      " 38000K .......... .......... .......... .......... .......... 95% 81.4M 0s\n",
      " 38050K .......... .......... .......... .......... .......... 95%  183M 0s\n",
      " 38100K .......... .......... .......... .......... .......... 96% 16.0M 0s\n",
      " 38150K .......... .......... .......... .......... .......... 96%  366M 0s\n",
      " 38200K .......... .......... .......... .......... .......... 96%  207M 0s\n",
      " 38250K .......... .......... .......... .......... .......... 96%  388M 0s\n",
      " 38300K .......... .......... .......... .......... .......... 96% 14.3M 0s\n",
      " 38350K .......... .......... .......... .......... .......... 96%  374M 0s\n",
      " 38400K .......... .......... .......... .......... .......... 96%  192M 0s\n",
      " 38450K .......... .......... .......... .......... .......... 96%  318M 0s\n",
      " 38500K .......... .......... .......... .......... .......... 97% 11.3M 0s\n",
      " 38550K .......... .......... .......... .......... .......... 97%  165M 0s\n",
      " 38600K .......... .......... .......... .......... .......... 97%  518M 0s\n",
      " 38650K .......... .......... .......... .......... .......... 97%  195M 0s\n",
      " 38700K .......... .......... .......... .......... .......... 97% 12.7M 0s\n",
      " 38750K .......... .......... .......... .......... .......... 97%  191M 0s\n",
      " 38800K .......... .......... .......... .......... .......... 97% 13.1M 0s\n",
      " 38850K .......... .......... .......... .......... .......... 97%  342M 0s\n",
      " 38900K .......... .......... .......... .......... .......... 98%  114M 0s\n",
      " 38950K .......... .......... .......... .......... .......... 98%  372M 0s\n",
      " 39000K .......... .......... .......... .......... .......... 98% 14.7M 0s\n",
      " 39050K .......... .......... .......... .......... .......... 98%  354M 0s\n",
      " 39100K .......... .......... .......... .......... .......... 98%  240M 0s\n",
      " 39150K .......... .......... .......... .......... .......... 98%  216M 0s\n",
      " 39200K .......... .......... .......... .......... .......... 98% 12.1M 0s\n",
      " 39250K .......... .......... .......... .......... .......... 98%  211M 0s\n",
      " 39300K .......... .......... .......... .......... .......... 99%  200M 0s\n",
      " 39350K .......... .......... .......... .......... .......... 99% 9.64M 0s\n",
      " 39400K .......... .......... .......... .......... .......... 99%  199M 0s\n",
      " 39450K .......... .......... .......... .......... .......... 99%  380M 0s\n",
      " 39500K .......... .......... .......... .......... .......... 99% 12.1M 0s\n",
      " 39550K .......... .......... .......... .......... .......... 99%  209M 0s\n",
      " 39600K .......... .......... .......... .......... .......... 99%  228M 0s\n",
      " 39650K .......... .......... .......... .......... .......... 99%  519M 0s\n",
      " 39700K ....                                                  100% 85.1G=1.2s\n",
      "\n",
      "Last-modified header missing -- time-stamps turned off.\n",
      "2021-05-17 23:23:03 (32.6 MB/s) - 'ar_padt-ud-train.conllu' saved [40657370/40657370]\n",
      "\n"
     ]
    },
    {
     "name": "stderr",
     "output_type": "stream",
     "text": [
      "--2021-05-17 23:23:03--  https://raw.githubusercontent.com/UniversalDependencies/UD_Arabic-PADT/dev/ar_padt-ud-test.conllu\n",
      "Resolving raw.githubusercontent.com (raw.githubusercontent.com)... 185.199.111.133, 185.199.108.133, 185.199.110.133, ...\n",
      "Connecting to raw.githubusercontent.com (raw.githubusercontent.com)|185.199.111.133|:443... connected.\n",
      "HTTP request sent, awaiting response... 200 OK\n",
      "Length: 5158319 (4.9M) [text/plain]\n",
      "Saving to: 'ar_padt-ud-test.conllu'\n",
      "\n",
      "     0K .......... .......... .......... .......... ..........  0% 11.5M 0s\n",
      "    50K .......... .......... .......... .......... ..........  1% 36.6M 0s\n",
      "   100K .......... .......... .......... .......... ..........  2% 8.94M 0s\n",
      "   150K .......... .......... .......... .......... ..........  3% 20.7M 0s\n",
      "   200K .......... .......... .......... .......... ..........  4% 12.0M 0s\n",
      "   250K .......... .......... .......... .......... ..........  5% 48.9M 0s\n",
      "   300K .......... .......... .......... .......... ..........  6% 24.9M 0s\n",
      "   350K .......... .......... .......... .......... ..........  7% 28.8M 0s\n",
      "   400K .......... .......... .......... .......... ..........  8% 37.7M 0s\n",
      "   450K .......... .......... .......... .......... ..........  9% 16.5M 0s\n",
      "   500K .......... .......... .......... .......... .......... 10% 14.5M 0s\n",
      "   550K .......... .......... .......... .......... .......... 11% 31.4M 0s\n",
      "   600K .......... .......... .......... .......... .......... 12%  190M 0s\n",
      "   650K .......... .......... .......... .......... .......... 13% 21.6M 0s\n",
      "   700K .......... .......... .......... .......... .......... 14% 14.5M 0s\n",
      "   750K .......... .......... .......... .......... .......... 15% 28.4M 0s\n",
      "   800K .......... .......... .......... .......... .......... 16% 32.0M 0s\n",
      "   850K .......... .......... .......... .......... .......... 17% 56.5M 0s\n",
      "   900K .......... .......... .......... .......... .......... 18% 23.6M 0s\n",
      "   950K .......... .......... .......... .......... .......... 19% 12.2M 0s\n",
      "  1000K .......... .......... .......... .......... .......... 20% 39.7M 0s\n",
      "  1050K .......... .......... .......... .......... .......... 21% 21.4M 0s\n",
      "  1100K .......... .......... .......... .......... .......... 22% 27.4M 0s\n",
      "  1150K .......... .......... .......... .......... .......... 23% 24.9M 0s\n",
      "  1200K .......... .......... .......... .......... .......... 24%  205M 0s\n",
      "  1250K .......... .......... .......... .......... .......... 25% 14.6M 0s\n",
      "  1300K .......... .......... .......... .......... .......... 26% 32.3M 0s\n",
      "  1350K .......... .......... .......... .......... .......... 27%  271M 0s\n",
      "  1400K .......... .......... .......... .......... .......... 28% 21.3M 0s\n",
      "  1450K .......... .......... .......... .......... .......... 29% 35.5M 0s\n",
      "  1500K .......... .......... .......... .......... .......... 30% 14.4M 0s\n",
      "  1550K .......... .......... .......... .......... .......... 31% 33.1M 0s\n",
      "  1600K .......... .......... .......... .......... .......... 32% 9.40M 0s\n",
      "  1650K .......... .......... .......... .......... .......... 33%  214M 0s\n",
      "  1700K .......... .......... .......... .......... .......... 34%  181M 0s\n",
      "  1750K .......... .......... .......... .......... .......... 35% 23.9M 0s\n",
      "  1800K .......... .......... .......... .......... .......... 36% 59.4M 0s\n",
      "  1850K .......... .......... .......... .......... .......... 37% 17.2M 0s\n",
      "  1900K .......... .......... .......... .......... .......... 38% 16.7M 0s\n",
      "  1950K .......... .......... .......... .......... .......... 39% 34.5M 0s\n",
      "  2000K .......... .......... .......... .......... .......... 40% 22.3M 0s\n",
      "  2050K .......... .......... .......... .......... .......... 41%  107M 0s\n",
      "  2100K .......... .......... .......... .......... .......... 42% 32.1M 0s\n",
      "  2150K .......... .......... .......... .......... .......... 43% 17.8M 0s\n",
      "  2200K .......... .......... .......... .......... .......... 44%  147M 0s\n",
      "  2250K .......... .......... .......... .......... .......... 45% 16.9M 0s\n",
      "  2300K .......... .......... .......... .......... .......... 46%  119M 0s\n",
      "  2350K .......... .......... .......... .......... .......... 47% 10.5M 0s\n",
      "  2400K .......... .......... .......... .......... .......... 48% 20.9M 0s\n",
      "  2450K .......... .......... .......... .......... .......... 49% 28.3M 0s\n",
      "  2500K .......... .......... .......... .......... .......... 50% 70.7M 0s\n",
      "  2550K .......... .......... .......... .......... .......... 51% 27.4M 0s\n",
      "  2600K .......... .......... .......... .......... .......... 52% 32.3M 0s\n",
      "  2650K .......... .......... .......... .......... .......... 53% 33.3M 0s\n",
      "  2700K .......... .......... .......... .......... .......... 54% 26.2M 0s\n",
      "  2750K .......... .......... .......... .......... .......... 55% 18.1M 0s\n",
      "  2800K .......... .......... .......... .......... .......... 56%  115M 0s\n",
      "  2850K .......... .......... .......... .......... .......... 57% 8.45M 0s\n",
      "  2900K .......... .......... .......... .......... .......... 58%  146M 0s\n",
      "  2950K .......... .......... .......... .......... .......... 59%  192M 0s\n",
      "  3000K .......... .......... .......... .......... .......... 60% 14.9M 0s\n",
      "  3050K .......... .......... .......... .......... .......... 61% 82.3M 0s\n",
      "  3100K .......... .......... .......... .......... .......... 62% 20.4M 0s\n",
      "  3150K .......... .......... .......... .......... .......... 63% 15.7M 0s\n",
      "  3200K .......... .......... .......... .......... .......... 64% 29.0M 0s\n",
      "  3250K .......... .......... .......... .......... .......... 65% 38.7M 0s\n",
      "  3300K .......... .......... .......... .......... .......... 66% 19.2M 0s\n",
      "  3350K .......... .......... .......... .......... .......... 67%  158M 0s\n",
      "  3400K .......... .......... .......... .......... .......... 68%  203M 0s\n",
      "  3450K .......... .......... .......... .......... .......... 69% 24.7M 0s\n",
      "  3500K .......... .......... .......... .......... .......... 70% 19.5M 0s\n",
      "  3550K .......... .......... .......... .......... .......... 71% 47.7M 0s\n",
      "  3600K .......... .......... .......... .......... .......... 72% 20.8M 0s\n",
      "  3650K .......... .......... .......... .......... .......... 73% 30.4M 0s\n",
      "  3700K .......... .......... .......... .......... .......... 74% 24.8M 0s\n",
      "  3750K .......... .......... .......... .......... .......... 75% 9.42M 0s\n",
      "  3800K .......... .......... .......... .......... .......... 76%  106M 0s\n",
      "  3850K .......... .......... .......... .......... .......... 77% 30.4M 0s\n",
      "  3900K .......... .......... .......... .......... .......... 78%  113M 0s\n",
      "  3950K .......... .......... .......... .......... .......... 79% 26.6M 0s\n",
      "  4000K .......... .......... .......... .......... .......... 80% 18.1M 0s\n",
      "  4050K .......... .......... .......... .......... .......... 81% 24.0M 0s\n",
      "  4100K .......... .......... .......... .......... .......... 82%  151M 0s\n",
      "  4150K .......... .......... .......... .......... .......... 83% 26.0M 0s\n",
      "  4200K .......... .......... .......... .......... .......... 84%  162M 0s\n",
      "  4250K .......... .......... .......... .......... .......... 85% 16.3M 0s\n",
      "  4300K .......... .......... .......... .......... .......... 86%  153M 0s\n",
      "  4350K .......... .......... .......... .......... .......... 87% 19.8M 0s\n",
      "  4400K .......... .......... .......... .......... .......... 88% 25.9M 0s\n",
      "  4450K .......... .......... .......... .......... .......... 89% 27.6M 0s\n",
      "  4500K .......... .......... .......... .......... .......... 90% 13.4M 0s\n",
      "  4550K .......... .......... .......... .......... .......... 91%  129M 0s\n",
      "  4600K .......... .......... .......... .......... .......... 92%  158M 0s\n",
      "  4650K .......... .......... .......... .......... .......... 93% 19.7M 0s\n",
      "  4700K .......... .......... .......... .......... .......... 94%  177M 0s\n",
      "  4750K .......... .......... .......... .......... .......... 95% 8.44M 0s\n",
      "  4800K .......... .......... .......... .......... .......... 96%  125M 0s\n",
      "  4850K .......... .......... .......... .......... .......... 97% 13.0M 0s\n",
      "  4900K .......... .......... .......... .......... .......... 98% 93.4M 0s\n",
      "  4950K .......... .......... .......... .......... .......... 99%  185M 0s\n",
      "  5000K .......... .......... .......... .......              100%  366M=0.2s\n",
      "\n",
      "Last-modified header missing -- time-stamps turned off.\n",
      "2021-05-17 23:23:04 (25.7 MB/s) - 'ar_padt-ud-test.conllu' saved [5158319/5158319]\n",
      "\n"
     ]
    }
   ],
   "source": [
    "!wget -N https://raw.githubusercontent.com/UniversalDependencies/UD_Arabic-PADT/dev/ar_padt-ud-train.conllu\n",
    "!wget -N https://raw.githubusercontent.com/UniversalDependencies/UD_Arabic-PADT/dev/ar_padt-ud-test.conllu"
   ]
  },
  {
   "cell_type": "code",
   "execution_count": 4,
   "metadata": {
    "colab": {
     "base_uri": "https://localhost:8080/"
    },
    "id": "l67a4Qnr5ac7",
    "outputId": "2c388dcd-0d91-4f6b-81b7-ad42e9545828"
   },
   "outputs": [],
   "source": [
    "#Create the specific dataset class for parsing the conllu data\n",
    "class CorpusDataset(Dataset):\n",
    "\n",
    "    def __init__(self,source):\n",
    "        conll =pyconll.load_from_file(source) # load the whole data with pyconll\n",
    "        conll=[sentence for sentence in conll if len(sentence)>2] #remove the short sentences\n",
    "        self.x=[[word.form for word in sentence] for sentence in conll] #get the list of tokens\n",
    "        self.y=[[word.upos for word in sentence] for sentence in conll] #get the list of tags\n",
    "        self.n_samples=len(conll)\n",
    "    \n",
    "    def __getitem__(self,index):\n",
    "        return self.x[index],self.y[index]\n",
    "    \n",
    "    def __len__(self):\n",
    "        return self.n_samples\n",
    "    \n",
    "    \n",
    "    "
   ]
  },
  {
   "cell_type": "code",
   "execution_count": 5,
   "metadata": {
    "colab": {
     "base_uri": "https://localhost:8080/"
    },
    "id": "l67a4Qnr5ac7",
    "outputId": "2c388dcd-0d91-4f6b-81b7-ad42e9545828"
   },
   "outputs": [
    {
     "name": "stdout",
     "output_type": "stream",
     "text": [
      "5979\n",
      "670\n",
      "['واوضح', 'و', 'أوضح', 'هؤلاء', 'الشهود', 'لوكالة', 'ل', 'وكالة', 'فرانس', 'برس', 'ان', 'دورية', 'من', 'الجنود', 'الاسرائيليين', 'المزودين', 'بمنظار', 'ب', 'منظار', 'حديث', 'للغاية', 'ل', 'الغاية', '،', 'دخلت', 'مسافة', 'عدة', 'امتار', 'داخل', 'الاراضي', 'اللبنانية', '،', 'ولكنها', 'و', 'لٰكن', 'ها', 'عادت', 'الى', 'الاراضي', 'الاسرائيلية', 'فور', 'وصول', 'دورية', 'تابعة', 'لقوة', 'ل', 'قوة', 'الطوارىء', 'الدولية', 'الى', 'المكان', '.']\n",
      "[None, 'CCONJ', 'VERB', 'DET', 'NOUN', None, 'ADP', 'NOUN', 'X', 'X', 'SCONJ', 'NOUN', 'ADP', 'NOUN', 'ADJ', 'ADJ', None, 'ADP', 'NOUN', 'ADJ', None, 'ADP', 'NOUN', 'PUNCT', 'VERB', 'NOUN', 'NOUN', 'NOUN', 'ADP', 'NOUN', 'ADJ', 'PUNCT', None, 'CCONJ', 'CCONJ', 'PRON', 'VERB', 'ADP', 'NOUN', 'ADJ', 'ADP', 'NOUN', 'NOUN', 'ADJ', None, 'ADP', 'NOUN', 'NOUN', 'ADJ', 'ADP', 'NOUN', 'PUNCT']\n",
      "100\n"
     ]
    }
   ],
   "source": [
    "#Default collate function requires the sizes of sentences in one batch should be the same, \n",
    "#but each batch may include sentences with different sizes,so I created a new collate function.\n",
    "\n",
    "def my_collate(batch):\n",
    "    data = [item[0] for item in batch]\n",
    "    target = [item[1] for item in batch]\n",
    "    return [data, target]\n",
    "\n",
    "\n",
    "ar_dataset_train=CorpusDataset(\"./ar_padt-ud-train.conllu\")\n",
    "ar_dataset_test=CorpusDataset(\"./ar_padt-ud-test.conllu\")\n",
    "#ar_dataset_train, ar_dataset_test= random_split(ar_dataset,[int(len(ar_dataset)*0.9),int(len(ar_dataset)*0.1)])\n",
    "\n",
    "#load the dataset into the dataloader\n",
    "ar_dataloader_train=DataLoader(dataset=ar_dataset_train,batch_size=100,shuffle=True,num_workers=0,collate_fn=my_collate)#num_workers speed up the processing\n",
    "ar_dataloader_test=DataLoader(dataset=ar_dataset_test,batch_size=100,shuffle=True,num_workers=0,collate_fn=my_collate)\n",
    "\n",
    "print(len(ar_dataset_train))\n",
    "print(len(ar_dataset_test))\n",
    "\n",
    "examples=iter(ar_dataloader_train)#add a iterator to dataloader\n",
    "sents,labels=examples.next()\n",
    "batch_size=len(sents)\n",
    "\n",
    "assert len(sents) == len(labels)\n",
    "\n",
    "print(sents[0])\n",
    "print(labels[0])\n",
    "print(batch_size)"
   ]
  },
  {
   "cell_type": "markdown",
   "metadata": {
    "id": "TlL3-sS57GeE"
   },
   "source": [
    "Most sizes of sentences are shorter than 100,few sentences more than it."
   ]
  },
  {
   "cell_type": "code",
   "execution_count": 6,
   "metadata": {
    "colab": {
     "base_uri": "https://localhost:8080/",
     "height": 279
    },
    "id": "Z25i9_UxtUeR",
    "outputId": "f86bb088-e603-46a9-8610-cbb37a2cdb5e"
   },
   "outputs": [
    {
     "data": {
      "image/png": "[encoded data removed]",
      "text/plain": [
       "<Figure size 576x288 with 1 Axes>"
      ]
     },
     "metadata": {
      "needs_background": "light"
     },
     "output_type": "display_data"
    }
   ],
   "source": [
    "l1 = np.asarray([len(sent) for sents,_ in ar_dataloader_train for sent in sents], dtype=np.int32)\n",
    "l2 = np.asarray([len(sent) for sents,_ in ar_dataloader_test for sent in sents], dtype=np.int32)\n",
    "l3 = np.append(l1,l2) # get all lengths of sentences in the corpus\n",
    "plt.figure(figsize=(8, 4))\n",
    "x = np.unique(l3)\n",
    "plt.bar(x, [np.sum(l3==e) for e in x], width=1)\n",
    "plt.xlabel(\"Sentence length\")\n",
    "plt.ylabel(\"# sentences\") \n",
    "plt.show()"
   ]
  },
  {
   "cell_type": "markdown",
   "metadata": {},
   "source": [
    "## Creating the vocabulary for tokens and tags"
   ]
  },
  {
   "cell_type": "code",
   "execution_count": 7,
   "metadata": {
    "colab": {
     "base_uri": "https://localhost:8080/"
    },
    "id": "9fjVkyDOP9MU",
    "outputId": "8bfb9e71-ef5c-42b2-c6b6-d44d91c89ac4"
   },
   "outputs": [
    {
     "name": "stdout",
     "output_type": "stream",
     "text": [
      "33471\n",
      "['<UNK>', 'الكرديات', 'للمال', 'الكونغرس', 'والي', 'اذون', 'صريح', 'لمطار', '2.225', 'امريكية', 'لإنتاج', 'نلتقي', 'زميلاه', 'وجورج', 'البقالة']\n",
      "['CCONJ', 'ADP', 'AUX', 'VERB', 'SCONJ', 'X', None, 'ADV', 'PART', 'PROPN', 'NUM', 'PUNCT', 'ADJ', 'PRON', 'INTJ', 'DET', 'SYM', 'NOUN', '<PAD>']\n"
     ]
    }
   ],
   "source": [
    "tokens = {token for sents,_ in ar_dataloader_train for sent in sents for token in sent}\n",
    "idx2token = list(tokens)\n",
    "idx2token.insert(0, '<UNK>')\n",
    "idx2token.append('<PAD>')\n",
    "token2idx = {token:idx for idx, token in enumerate(idx2token)}\n",
    "\n",
    "tags = {tag for _,labels in ar_dataloader_train for tags in labels for tag in tags}\n",
    "idx2tag = list(tags)\n",
    "idx2tag.append('<PAD>')\n",
    "tag2idx = {tag:idx for idx, tag in enumerate(idx2tag)}\n",
    "\n",
    "print(len(idx2token))\n",
    "print(idx2token[:15])\n",
    "print(idx2tag)"
   ]
  },
  {
   "cell_type": "markdown",
   "metadata": {},
   "source": [
    "## Data padding and encoding"
   ]
  },
  {
   "cell_type": "code",
   "execution_count": 8,
   "metadata": {
    "colab": {
     "base_uri": "https://localhost:8080/"
    },
    "id": "PdgiIDVP9Brw",
    "outputId": "3b2889c6-10ce-4520-def1-efd74cd2b1dd"
   },
   "outputs": [],
   "source": [
    "def pad_and_encode(sentences, labels):\n",
    "  assert len(sentences)==len(labels)\n",
    "  assert np.all([len(sentence)==len(tags) for sentence, tags in zip(sentences, labels)])\n",
    "  max_sentence_length = np.max([len(sentence) for sentence in sentences]) # Find out how much to pad\n",
    "  padded_sentences = torch.zeros(len(sentences), max_sentence_length,     # Create data structures with <PAD> as default\n",
    "                                 dtype=torch.long)\n",
    "  padded_sentences[:] = token2idx['<PAD>']\n",
    "  padded_labels = torch.zeros(len(sentences), max_sentence_length, \n",
    "                              dtype=torch.long)\n",
    "  padded_labels[:] = tag2idx['<PAD>']\n",
    "  for i, (sentence, tags) in enumerate(zip(sentences, labels)):\n",
    "    for j, token in enumerate(sentence):\n",
    "      if token in token2idx.keys():\n",
    "        padded_sentences[i, j] = token2idx[token]\n",
    "      else:\n",
    "        padded_sentences[i, j] = token2idx['<UNK>']\n",
    "    for j, tag in enumerate(tags):\n",
    "      padded_labels[i, j] = tag2idx[tag]\n",
    "  return padded_sentences, padded_labels"
   ]
  },
  {
   "cell_type": "code",
   "execution_count": 9,
   "metadata": {
    "colab": {
     "base_uri": "https://localhost:8080/"
    },
    "id": "PdgiIDVP9Brw",
    "outputId": "3b2889c6-10ce-4520-def1-efd74cd2b1dd"
   },
   "outputs": [],
   "source": [
    "#paddding and encoding the dataloader\n",
    "ar_dataloader_train=[pad_and_encode(sents, labels) for sents,labels in ar_dataloader_train]\n",
    "ar_dataloader_test=[pad_and_encode(sents, labels) for sents,labels in ar_dataloader_test]"
   ]
  },
  {
   "cell_type": "code",
   "execution_count": 10,
   "metadata": {
    "colab": {
     "base_uri": "https://localhost:8080/"
    },
    "id": "RbZWgBRAGWQa",
    "outputId": "06130360-e086-4651-c3c9-8b4624ce7b3a"
   },
   "outputs": [
    {
     "name": "stdout",
     "output_type": "stream",
     "text": [
      "(tensor([[ 3725, 10633,  6723,  ..., 33470, 33470, 33470],\n",
      "        [11124, 27705, 26028,  ..., 33470, 33470, 33470],\n",
      "        [  845,  9920, 18817,  ..., 33470, 33470, 33470],\n",
      "        ...,\n",
      "        [27499, 10633,  5947,  ..., 33470, 33470, 33470],\n",
      "        [30298,   116,  7663,  ..., 33470, 33470, 33470],\n",
      "        [13122, 10633, 16161,  ..., 33470, 33470, 33470]]), tensor([[ 6,  0,  3,  ..., 18, 18, 18],\n",
      "        [ 2,  1, 17,  ..., 18, 18, 18],\n",
      "        [17, 12,  6,  ..., 18, 18, 18],\n",
      "        ...,\n",
      "        [ 6,  0,  3,  ..., 18, 18, 18],\n",
      "        [ 6,  1, 17,  ..., 18, 18, 18],\n",
      "        [ 6,  0, 15,  ..., 18, 18, 18]]))\n",
      "(tensor([[13193, 29031,  2786,  ..., 33470, 33470, 33470],\n",
      "        [19196, 13988, 27369,  ..., 33470, 33470, 33470],\n",
      "        [ 2687, 10633, 15770,  ..., 33470, 33470, 33470],\n",
      "        ...,\n",
      "        [    0, 14755, 13735,  ..., 33470, 33470, 33470],\n",
      "        [    0, 10633,     0,  ..., 33470, 33470, 33470],\n",
      "        [30447, 10633, 29017,  ..., 33470, 33470, 33470]]), tensor([[ 3, 11, 17,  ..., 18, 18, 18],\n",
      "        [ 0,  3, 17,  ..., 18, 18, 18],\n",
      "        [ 6,  0,  3,  ..., 18, 18, 18],\n",
      "        ...,\n",
      "        [ 6,  2,  3,  ..., 18, 18, 18],\n",
      "        [ 6,  0,  3,  ..., 18, 18, 18],\n",
      "        [ 6,  0,  3,  ..., 18, 18, 18]]))\n"
     ]
    }
   ],
   "source": [
    "print(ar_dataloader_train[0])\n",
    "print(ar_dataloader_test[0])"
   ]
  },
  {
   "cell_type": "markdown",
   "metadata": {
    "id": "ZmgbWbsJk8DW"
   },
   "source": [
    "## LSTM Model"
   ]
  },
  {
   "cell_type": "code",
   "execution_count": 11,
   "metadata": {
    "colab": {
     "base_uri": "https://localhost:8080/"
    },
    "id": "SwU6cWT2AqT6",
    "outputId": "ee37719f-3edf-423f-c928-4c4d820441a6"
   },
   "outputs": [
    {
     "name": "stdout",
     "output_type": "stream",
     "text": [
      "LSTMTagger(\n",
      "  (_word_embedding): Embedding(33471, 32, padding_idx=33470)\n",
      "  (_lstm): LSTM(32, 64, batch_first=True)\n",
      "  (_fc): Linear(in_features=64, out_features=18, bias=True)\n",
      ")\n"
     ]
    }
   ],
   "source": [
    "class LSTMTagger(nn.Module):\n",
    "  def __init__(self, word_embedding_dim, lstm_hidden_dim, vocabulary_size, tagset_size):\n",
    "   \n",
    "    super(LSTMTagger, self).__init__()                                          \n",
    "    self.lstm_hidden_dim_ = lstm_hidden_dim                                     \n",
    "    self.vocabulary_size_ = vocabulary_size\n",
    "    self.tagset_size_ = tagset_size\n",
    "\n",
    "    self._word_embedding = nn.Embedding(num_embeddings=vocabulary_size,        \n",
    "                                         embedding_dim=word_embedding_dim, \n",
    "                                         padding_idx=token2idx['<PAD>'])\n",
    "    self._lstm = nn.LSTM(input_size=word_embedding_dim,                         \n",
    "                         hidden_size=lstm_hidden_dim,                           \n",
    "                         batch_first=True)\n",
    "    self._fc = nn.Linear(lstm_hidden_dim, tagset_size)                          \n",
    "    #self._softmax = nn.LogSoftmax(dim=1)                                        \n",
    "    \n",
    "    self.training_loss_ = list()                                                \n",
    "    self.training_accuracy_ = list()\n",
    "\n",
    "    if torch.cuda.is_available():                                               \n",
    "      self.cuda()\n",
    "\n",
    "  def forward(self, padded_sentences):\n",
    "    \"\"\"The forward pass through the network\"\"\"\n",
    "    batch_size, max_sentence_length = padded_sentences.size()\n",
    "\n",
    "    embedded_sentences = self._word_embedding(padded_sentences)                 \n",
    "\n",
    "    sentence_lengths = (padded_sentences!=token2idx['<PAD>']).sum(dim=1)        \n",
    "    sentence_lengths = sentence_lengths.long().cpu()                            \n",
    "    X = nn.utils.rnn.pack_padded_sequence(embedded_sentences, sentence_lengths, \n",
    "                                          batch_first=True, enforce_sorted=False)\n",
    "    lstm_out, _ = self._lstm(X)                                                 \n",
    "    X, _ = nn.utils.rnn.pad_packed_sequence(lstm_out, batch_first=True)         \n",
    "\n",
    "    X = X.contiguous().view(-1, X.shape[2])                                     \n",
    "    tag_scores = self._fc(X)                                                     \n",
    "    #tag_scores = self._softmax(tag_space)    no need to implement softmax function if CrossEntropyloss function is used                                   \n",
    "    return tag_scores.view(batch_size, max_sentence_length, self.tagset_size_)\n",
    "\n",
    "\n",
    "model_1= LSTMTagger(word_embedding_dim=32,                                       \n",
    "                   lstm_hidden_dim=64,                                          \n",
    "                   vocabulary_size=len(token2idx),                              \n",
    "                   tagset_size=len(tag2idx)-1)                                  \n",
    "print(model_1)"
   ]
  },
  {
   "cell_type": "markdown",
   "metadata": {
    "id": "pEZlbcallbff"
   },
   "source": [
    "## LSTM Network training"
   ]
  },
  {
   "cell_type": "code",
   "execution_count": 15,
   "metadata": {
    "colab": {
     "base_uri": "https://localhost:8080/"
    },
    "id": "IVBW4NNNOwY5",
    "outputId": "56dd2ab2-41fa-43b9-f8e8-c8e64bc16468"
   },
   "outputs": [
    {
     "name": "stderr",
     "output_type": "stream",
     "text": [
      "Epoch 0: 60batch [00:02, 23.79batch/s, accuracy=74.2, loss=0.824]                                                      \n",
      "Epoch 1: 60batch [00:02, 23.85batch/s, accuracy=87.7, loss=0.417]                                                      \n",
      "Epoch 2: 60batch [00:02, 23.86batch/s, accuracy=92.8, loss=0.26]                                                       \n",
      "Epoch 3: 60batch [00:02, 23.54batch/s, accuracy=95.1, loss=0.168]                                                      \n",
      "Epoch 4: 60batch [00:02, 22.21batch/s, accuracy=96.8, loss=0.116]                                                      \n",
      "Epoch 5: 60batch [00:02, 22.10batch/s, accuracy=97.4, loss=0.0858]                                                     \n",
      "Epoch 6: 60batch [00:02, 22.11batch/s, accuracy=98.1, loss=0.0623]                                                     \n",
      "Epoch 7: 60batch [00:02, 22.05batch/s, accuracy=98.5, loss=0.0486]                                                     \n",
      "Epoch 8: 60batch [00:02, 22.08batch/s, accuracy=98.3, loss=0.0455]                                                     \n",
      "Epoch 9: 60batch [00:02, 22.16batch/s, accuracy=98.6, loss=0.0381]                                                     \n"
     ]
    }
   ],
   "source": [
    "loss_function = nn.CrossEntropyLoss(ignore_index=tag2idx['<PAD>'])              #use CrossEntropy function\n",
    "optimizer = torch.optim.AdamW(model_1.parameters(), lr=0.01)                     #use AdamW optimizer         \n",
    "device=torch.device(\"cuda\" if torch.cuda.is_available() else \"cpu\")            #create a GPU device\n",
    "\n",
    "for epoch in range(10):                                                        # Train the dataset\n",
    "  with tqdm(ar_dataloader_train, \n",
    "            total=len(ar_dataloader_train)//batch_size+1, unit=\"batch\", desc=\"Epoch %i\" % epoch) as batches:\n",
    "    for inputs, targets in batches:                                             \n",
    "      inputs=inputs.to(device) #pushing data to GPU\n",
    "      targets=targets.to(device) #oushing data to GPU\n",
    "      model_1.zero_grad()                                                       # Gradients will accumulate,so need to be reset to 0\n",
    "      scores = model_1(inputs)                                                  # get the scores\n",
    "      loss = loss_function(scores.view(-1, model_1.tagset_size_),               # Get loss\n",
    "                           targets.view(-1))               \n",
    "      loss.backward()                                                           # Backpropagate to calculate gradients\n",
    "      optimizer.step()                                                          # update the weight\n",
    "      predictions = scores.argmax(dim=2, keepdim=True).squeeze()                \n",
    "      mask = targets!=tag2idx['<PAD>']                                          # Create a mask for ignoring <PAD> in the targets\n",
    "      correct = (predictions[mask] == targets[mask]).sum().item()               # Sum all correct predictions\n",
    "      accuracy = correct / mask.sum().item()*100\n",
    "      model_1.training_accuracy_.append(accuracy)                                 \n",
    "      model_1.training_loss_.append(loss.item())                                 \n",
    "      batches.set_postfix(loss=loss.item(), accuracy=accuracy)                  "
   ]
  },
  {
   "cell_type": "markdown",
   "metadata": {
    "id": "fSf4AVZislgg"
   },
   "source": [
    "We can plot the stored loss over epochs."
   ]
  },
  {
   "cell_type": "code",
   "execution_count": 18,
   "metadata": {
    "colab": {
     "base_uri": "https://localhost:8080/",
     "height": 297
    },
    "id": "m6rd8T0_q24D",
    "outputId": "2199a30f-897b-4cd3-d966-d566f4937027",
    "scrolled": true
   },
   "outputs": [
    {
     "data": {
      "image/png": "[encoded data removed]",
      "text/plain": [
       "<Figure size 432x288 with 2 Axes>"
      ]
     },
     "metadata": {
      "needs_background": "light"
     },
     "output_type": "display_data"
    }
   ],
   "source": [
    "fig = plt.figure(figsize=(6, 4))\n",
    "ax = plt.subplot()\n",
    "ax.set_title(\"Plot for the (hopefully) decreasing loss over epochs\")\n",
    "ax.plot(model_1.training_loss_, 'b-')\n",
    "ax.set_ylabel(\"Training Loss\", color='b')\n",
    "ax.set_xlabel(\"Epoch\")\n",
    "# ax.set_yscale('log')\n",
    "ax.tick_params(axis='y', labelcolor='b')\n",
    "ax = ax.twinx()\n",
    "ax.plot(model_1.training_accuracy_, 'r-')\n",
    "ax.set_ylabel(\"Accuracy [%]\", color='r')\n",
    "ax.tick_params(axis='y', labelcolor='r')\n",
    "a = list(ax.axis())\n",
    "a[2] = 0\n",
    "a[3] = 100\n",
    "ax.axis(a)\n",
    "t = np.arange(0, len(model_1.training_accuracy_), len(ar_dataloader_train)//batch_size+1)\n",
    "ax.set_xticks(ticks=t)\n",
    "ax.set_xticklabels(labels=np.arange(len(t)))\n",
    "fig.tight_layout()\n",
    "plt.show()"
   ]
  },
  {
   "cell_type": "markdown",
   "metadata": {
    "id": "PUDy6CJKcMSh"
   },
   "source": [
    "## LSTM Test data accuracy"
   ]
  },
  {
   "cell_type": "code",
   "execution_count": 19,
   "metadata": {
    "colab": {
     "base_uri": "https://localhost:8080/"
    },
    "id": "48fkSBgEBnFd",
    "outputId": "a6fc8ab5-bfd1-422f-c92b-a87c61ade8a0"
   },
   "outputs": [
    {
     "name": "stdout",
     "output_type": "stream",
     "text": [
      "Test accuracy 90.3%\n"
     ]
    }
   ],
   "source": [
    "with torch.no_grad():                                  # For this part, we do not need calculate gradients, so put it under with to save ROM\n",
    "  n_correct = 0\n",
    "  n_total = 0\n",
    "  for inputs, targets in ar_dataloader_test:            # Loop the test dataloader\n",
    "    inputs=inputs.to(device)\n",
    "    targets=targets.to(device)\n",
    "    scores = model_1(inputs)                                                      # get the scores from the trained model\n",
    "    predictions = scores.argmax(dim=2, keepdim=True).squeeze()                  # get the most probale predictions\n",
    "    mask = targets!=tag2idx['<PAD>']                                            # Create a mask for ignoring <PAD> in the targets\n",
    "    n_correct += (predictions[mask] == targets[mask]).sum().item()              # Add all correct predictions\n",
    "    n_total += mask.sum().item()\n",
    "print(\"Test accuracy %.1f%%\" % (100*n_correct/n_total))"
   ]
  },
  {
   "cell_type": "markdown",
   "metadata": {},
   "source": [
    "# LSTM with different embedding dimensions"
   ]
  },
  {
   "cell_type": "code",
   "execution_count": 12,
   "metadata": {},
   "outputs": [
    {
     "name": "stdout",
     "output_type": "stream",
     "text": [
      "LSTMTagger(\n",
      "  (_word_embedding): Embedding(33471, 32, padding_idx=33470)\n",
      "  (_lstm): LSTM(32, 64, batch_first=True)\n",
      "  (_fc): Linear(in_features=64, out_features=18, bias=True)\n",
      ")\n"
     ]
    }
   ],
   "source": [
    "model_2= LSTMTagger(word_embedding_dim=40,                                       \n",
    "                   lstm_hidden_dim=80,                                          \n",
    "                   vocabulary_size=len(token2idx),                              \n",
    "                   tagset_size=len(tag2idx)-1)                                  \n",
    "print(model_1)"
   ]
  },
  {
   "cell_type": "code",
   "execution_count": 13,
   "metadata": {},
   "outputs": [
    {
     "name": "stderr",
     "output_type": "stream",
     "text": [
      "Epoch 0: 60batch [00:03, 16.58batch/s, accuracy=76.2, loss=0.743]                                                      \n",
      "Epoch 1: 60batch [00:03, 19.92batch/s, accuracy=89.5, loss=0.35]                                                       \n",
      "Epoch 2: 60batch [00:03, 17.35batch/s, accuracy=94.7, loss=0.191]                                                      \n",
      "Epoch 3: 60batch [00:03, 17.73batch/s, accuracy=96.8, loss=0.116]                                                      \n",
      "Epoch 4: 60batch [00:03, 17.89batch/s, accuracy=97.9, loss=0.0762]                                                     \n",
      "Epoch 5: 60batch [00:03, 18.05batch/s, accuracy=98.6, loss=0.0556]                                                     \n",
      "Epoch 6: 60batch [00:03, 18.17batch/s, accuracy=98.8, loss=0.0442]                                                     \n",
      "Epoch 7: 60batch [00:03, 18.70batch/s, accuracy=99.2, loss=0.0296]                                                     \n",
      "Epoch 8: 60batch [00:03, 18.66batch/s, accuracy=99.3, loss=0.0254]                                                     \n",
      "Epoch 9: 60batch [00:03, 18.80batch/s, accuracy=99.5, loss=0.022]                                                      \n"
     ]
    }
   ],
   "source": [
    "loss_function = nn.CrossEntropyLoss(ignore_index=tag2idx['<PAD>'])              #use CrossEntropy function\n",
    "optimizer = torch.optim.AdamW(model_2.parameters(), lr=0.01)                     #use AdamW optimizer         \n",
    "device=torch.device(\"cuda\" if torch.cuda.is_available() else \"cpu\")            #create a GPU device\n",
    "\n",
    "for epoch in range(10):                                                        # Train the dataset\n",
    "  with tqdm(ar_dataloader_train, \n",
    "            total=len(ar_dataloader_train)//batch_size+1, unit=\"batch\", desc=\"Epoch %i\" % epoch) as batches:\n",
    "    for inputs, targets in batches:                                             \n",
    "      inputs=inputs.to(device) #pushing data to GPU\n",
    "      targets=targets.to(device) #oushing data to GPU\n",
    "      model_2.zero_grad()                                                       # Gradients will accumulate,so need to be reset to 0\n",
    "      scores = model_2(inputs)                                                  # get the scores\n",
    "      loss = loss_function(scores.view(-1, model_2.tagset_size_),               # Get loss\n",
    "                           targets.view(-1))               \n",
    "      loss.backward()                                                           # Backpropagate to calculate gradients\n",
    "      optimizer.step()                                                          # update the weight\n",
    "      predictions = scores.argmax(dim=2, keepdim=True).squeeze()                \n",
    "      mask = targets!=tag2idx['<PAD>']                                          # Create a mask for ignoring <PAD> in the targets\n",
    "      correct = (predictions[mask] == targets[mask]).sum().item()               # Add all correct predictions\n",
    "      accuracy = correct / mask.sum().item()*100\n",
    "      model_2.training_accuracy_.append(accuracy)                                 \n",
    "      model_2.training_loss_.append(loss.item())                                 \n",
    "      batches.set_postfix(loss=loss.item(), accuracy=accuracy)      "
   ]
  },
  {
   "cell_type": "code",
   "execution_count": 14,
   "metadata": {},
   "outputs": [
    {
     "name": "stdout",
     "output_type": "stream",
     "text": [
      "Test accuracy 91.4%\n"
     ]
    }
   ],
   "source": [
    "with torch.no_grad():                                  # For this part, we do not need calculate gradients, so put it under with to save ROM\n",
    "  n_correct = 0\n",
    "  n_total = 0\n",
    "  for inputs, targets in ar_dataloader_test:            # Loop the test dataloader\n",
    "    inputs=inputs.to(device)\n",
    "    targets=targets.to(device)\n",
    "    scores = model_2(inputs)                                                      # get the scores from the trained model\n",
    "    predictions = scores.argmax(dim=2, keepdim=True).squeeze()                  # get the most probale predictions\n",
    "    mask = targets!=tag2idx['<PAD>']                                            # Create a mask for ignoring <PAD> in the targets\n",
    "    n_correct += (predictions[mask] == targets[mask]).sum().item()              # Add all correct predictions\n",
    "    n_total += mask.sum().item()\n",
    "print(\"Test accuracy %.1f%%\" % (100*n_correct/n_total))"
   ]
  },
  {
   "cell_type": "markdown",
   "metadata": {},
   "source": [
    "## Extension 2 GRU Model"
   ]
  },
  {
   "cell_type": "code",
   "execution_count": 21,
   "metadata": {},
   "outputs": [
    {
     "name": "stdout",
     "output_type": "stream",
     "text": [
      "GRUTagger(\n",
      "  (_word_embedding): Embedding(33471, 32, padding_idx=33470)\n",
      "  (_gru): GRU(32, 64, batch_first=True)\n",
      "  (_fc): Linear(in_features=64, out_features=18, bias=True)\n",
      ")\n"
     ]
    }
   ],
   "source": [
    "class GRUTagger(nn.Module):\n",
    "  def __init__(self, word_embedding_dim, gru_hidden_dim, vocabulary_size, tagset_size):\n",
    "    super(GRUTagger, self).__init__()                                          \n",
    "    self.gru_hidden_dim_ = gru_hidden_dim                                     \n",
    "    self.vocabulary_size_ = vocabulary_size\n",
    "    self.tagset_size_ = tagset_size\n",
    "\n",
    "    self._word_embedding = nn.Embedding(num_embeddings=vocabulary_size,         \n",
    "                                         embedding_dim=word_embedding_dim, \n",
    "                                         padding_idx=token2idx['<PAD>'])\n",
    "    self._gru = nn.GRU(input_size=word_embedding_dim,                       #chose pytorch built-in GRU module function                     \n",
    "                         hidden_size=gru_hidden_dim,                           \n",
    "                         batch_first=True)\n",
    "    self._fc = nn.Linear(gru_hidden_dim, tagset_size)                          \n",
    "    #self._softmax = nn.LogSoftmax(dim=1)                                        \n",
    "    \n",
    "    self.training_loss_ = list()                                                \n",
    "    self.training_accuracy_ = list()\n",
    "\n",
    "    if torch.cuda.is_available():                                              \n",
    "      self.cuda()\n",
    "\n",
    "  def forward(self, padded_sentences):\n",
    "    \"\"\"The forward pass through the network\"\"\"\n",
    "    batch_size, max_sentence_length = padded_sentences.size()\n",
    "\n",
    "    embedded_sentences = self._word_embedding(padded_sentences)                    \n",
    "\n",
    "    sentence_lengths = (padded_sentences!=token2idx['<PAD>']).sum(dim=1)        \n",
    "    sentence_lengths = sentence_lengths.long().cpu()                            \n",
    "    X = nn.utils.rnn.pack_padded_sequence(embedded_sentences, sentence_lengths, \n",
    "                                          batch_first=True, enforce_sorted=False)\n",
    "    gru_out, _ = self._gru(X)                                                 \n",
    "    X, _ = nn.utils.rnn.pad_packed_sequence(gru_out, batch_first=True)         \n",
    "\n",
    "    X = X.contiguous().view(-1, X.shape[2])                                     \n",
    "    tag_score = self._fc(X)       # I decided to explore CrossEntropy loss, there is no need to calculate soft_max,because CrossEntropy includes it automatically                                                                                 \n",
    "    return tag_score.view(batch_size, max_sentence_length, self.tagset_size_)\n",
    "\n",
    "\n",
    "model_2 = GRUTagger(word_embedding_dim=32,                                      \n",
    "                   gru_hidden_dim=64,                                         \n",
    "                   vocabulary_size=len(token2idx),                              \n",
    "                   tagset_size=len(tag2idx)-1)                                 \n",
    "print(model_2)"
   ]
  },
  {
   "cell_type": "markdown",
   "metadata": {},
   "source": [
    "## GRU Network training"
   ]
  },
  {
   "cell_type": "code",
   "execution_count": 23,
   "metadata": {},
   "outputs": [
    {
     "name": "stderr",
     "output_type": "stream",
     "text": [
      "Epoch 0: 60batch [00:02, 24.37batch/s, accuracy=76.1, loss=0.768]                                                      \n",
      "Epoch 1: 60batch [00:02, 24.51batch/s, accuracy=88.3, loss=0.398]                                                      \n",
      "Epoch 2: 60batch [00:02, 24.55batch/s, accuracy=93.2, loss=0.23]                                                       \n",
      "Epoch 3: 60batch [00:02, 23.99batch/s, accuracy=96, loss=0.136]                                                        \n",
      "Epoch 4: 60batch [00:02, 22.65batch/s, accuracy=97.4, loss=0.085]                                                      \n",
      "Epoch 5: 60batch [00:02, 22.51batch/s, accuracy=98.1, loss=0.0625]                                                     \n",
      "Epoch 6: 60batch [00:02, 22.57batch/s, accuracy=98.8, loss=0.045]                                                      \n",
      "Epoch 7: 60batch [00:02, 22.63batch/s, accuracy=98.9, loss=0.0377]                                                     \n",
      "Epoch 8: 60batch [00:02, 22.67batch/s, accuracy=99, loss=0.0296]                                                       \n",
      "Epoch 9: 60batch [00:02, 22.59batch/s, accuracy=99.2, loss=0.0246]                                                     \n"
     ]
    }
   ],
   "source": [
    "loss_function = nn.CrossEntropyLoss(ignore_index=tag2idx['<PAD>'])              \n",
    "optimizer = torch.optim.AdamW(model_2.parameters(), lr=0.01)                               \n",
    "device=torch.device(\"cuda\" if torch.cuda.is_available() else \"cpu\") \n",
    "\n",
    "for epoch in range(10):                                                          \n",
    "  with tqdm(ar_dataloader_train, \n",
    "            total=len(ar_dataloader_train)//batch_size+1, unit=\"batch\", desc=\"Epoch %i\" % epoch) as batches:\n",
    "    for inputs, targets in batches:                                             \n",
    "      inputs=inputs.to(device) #pushing data to GPU\n",
    "      targets=targets.to(device) #oushing data to GPU\n",
    "      model_2.zero_grad()                                                         \n",
    "      scores = model_2(inputs)                                                    \n",
    "      loss = loss_function(scores.view(-1, model_2.tagset_size_),                 \n",
    "                           targets.view(-1))               \n",
    "      loss.backward()                                                           \n",
    "      optimizer.step()                                                          \n",
    "      predictions = scores.argmax(dim=2, keepdim=True).squeeze()                \n",
    "      mask = targets!=tag2idx['<PAD>']                                          \n",
    "      correct = (predictions[mask] == targets[mask]).sum().item()               \n",
    "      accuracy = correct / mask.sum().item()*100\n",
    "      model_2.training_accuracy_.append(accuracy)                                 \n",
    "      model_2.training_loss_.append(loss.item())                                  \n",
    "      batches.set_postfix(loss=loss.item(), accuracy=accuracy)                  "
   ]
  },
  {
   "cell_type": "code",
   "execution_count": 24,
   "metadata": {},
   "outputs": [
    {
     "data": {
      "image/png": "[encoded data removed]",
      "text/plain": [
       "<Figure size 432x288 with 2 Axes>"
      ]
     },
     "metadata": {
      "needs_background": "light"
     },
     "output_type": "display_data"
    }
   ],
   "source": [
    "fig = plt.figure(figsize=(6, 4))\n",
    "ax = plt.subplot()\n",
    "ax.set_title(\"Plot for the (hopefully) decreasing loss over epochs\")\n",
    "ax.plot(model_2.training_loss_, 'b-')\n",
    "ax.set_ylabel(\"Training Loss\", color='b')\n",
    "ax.set_xlabel(\"Epoch\")\n",
    "# ax.set_yscale('log')\n",
    "ax.tick_params(axis='y', labelcolor='b')\n",
    "ax = ax.twinx()\n",
    "ax.plot(model_2.training_accuracy_, 'r-')\n",
    "ax.set_ylabel(\"Accuracy [%]\", color='r')\n",
    "ax.tick_params(axis='y', labelcolor='r')\n",
    "a = list(ax.axis())\n",
    "a[2] = 0\n",
    "a[3] = 100\n",
    "ax.axis(a)\n",
    "t = np.arange(0, len(model_2.training_accuracy_), len(ar_dataloader_train)//batch_size+1)\n",
    "ax.set_xticks(ticks=t)\n",
    "ax.set_xticklabels(labels=np.arange(len(t)))\n",
    "fig.tight_layout()\n",
    "plt.show()"
   ]
  },
  {
   "cell_type": "markdown",
   "metadata": {},
   "source": [
    "## GRU Test data accuracy"
   ]
  },
  {
   "cell_type": "code",
   "execution_count": 25,
   "metadata": {},
   "outputs": [
    {
     "name": "stdout",
     "output_type": "stream",
     "text": [
      "Test accuracy 91.0%\n"
     ]
    }
   ],
   "source": [
    "with torch.no_grad():                                                           \n",
    "  n_correct = 0\n",
    "  n_total = 0\n",
    "  for inputs, targets in ar_dataloader_test: # Loop once over the test data\n",
    "    inputs=inputs.to(device)\n",
    "    targets=targets.to(device)\n",
    "    scores = model_2(inputs)                                                      \n",
    "    predictions = scores.argmax(dim=2, keepdim=True).squeeze()                  \n",
    "    mask = targets!=tag2idx['<PAD>']                                            \n",
    "    n_correct += (predictions[mask] == targets[mask]).sum().item()              \n",
    "    n_total += mask.sum().item()\n",
    "print(\"Test accuracy %.1f%%\" % (100*n_correct/n_total))"
   ]
  },
  {
   "cell_type": "markdown",
   "metadata": {},
   "source": [
    "## Extension 3 Bi directional LSTM Model"
   ]
  },
  {
   "cell_type": "code",
   "execution_count": 26,
   "metadata": {},
   "outputs": [
    {
     "name": "stdout",
     "output_type": "stream",
     "text": [
      "BiLSTMTagger(\n",
      "  (_word_embedding): Embedding(33471, 32, padding_idx=33470)\n",
      "  (_bilstm): LSTM(32, 64, batch_first=True, bidirectional=True)\n",
      "  (_fc): Linear(in_features=128, out_features=18, bias=True)\n",
      ")\n"
     ]
    }
   ],
   "source": [
    "class BiLSTMTagger(nn.Module):\n",
    "  def __init__(self, word_embedding_dim, bilstm_hidden_dim, vocabulary_size, tagset_size):\n",
    "    \n",
    "    super(BiLSTMTagger, self).__init__()                                         \n",
    "    self.bilstm_hidden_dim_ = bilstm_hidden_dim                                     \n",
    "    self.vocabulary_size_ = vocabulary_size\n",
    "    self.tagset_size_ = tagset_size\n",
    "\n",
    "    self._word_embedding = nn.Embedding(num_embeddings=vocabulary_size,         \n",
    "                                         embedding_dim=word_embedding_dim, \n",
    "                                         padding_idx=token2idx['<PAD>'])\n",
    "    self._bilstm = nn.LSTM(input_size=word_embedding_dim,                        \n",
    "                         hidden_size=bilstm_hidden_dim,                           \n",
    "                         batch_first=True,bidirectional=True)  # set the bidirectional=True to realize Bi directional RNN model\n",
    "    self._fc = nn.Linear(bilstm_hidden_dim*2, tagset_size)      # bidirectional needs twice hidden size                 \n",
    "    #self._softmax = nn.LogSoftmax(dim=1)                                       \n",
    "    \n",
    "    self.training_loss_ = list()                                               \n",
    "    self.training_accuracy_ = list()\n",
    "\n",
    "    if torch.cuda.is_available():                                              \n",
    "      self.cuda()\n",
    "\n",
    "  def forward(self, padded_sentences):\n",
    "    \"\"\"The forward pass through the network\"\"\"\n",
    "    batch_size, max_sentence_length = padded_sentences.size()\n",
    "\n",
    "    embedded_sentences = self._word_embedding(padded_sentences)                 \n",
    "\n",
    "    sentence_lengths = (padded_sentences!=token2idx['<PAD>']).sum(dim=1)       \n",
    "    sentence_lengths = sentence_lengths.long().cpu()                            \n",
    "    X = nn.utils.rnn.pack_padded_sequence(embedded_sentences, sentence_lengths, \n",
    "                                          batch_first=True, enforce_sorted=False)\n",
    "    bilstm_out, _ = self._bilstm(X)                                                 \n",
    "    X, _ = nn.utils.rnn.pad_packed_sequence(bilstm_out, batch_first=True)         \n",
    "\n",
    "    X = X.contiguous().view(-1, X.shape[2])                                     \n",
    "    tag_scores = self._fc(X)                                                     \n",
    "    #tag_scores = self._softmax(tag_space)                                       \n",
    "    return tag_scores.view(batch_size, max_sentence_length, self.tagset_size_)\n",
    "\n",
    "\n",
    "model_3 = BiLSTMTagger(word_embedding_dim=32,                                       \n",
    "                   bilstm_hidden_dim=64,                                         \n",
    "                   vocabulary_size=len(token2idx),                             \n",
    "                   tagset_size=len(tag2idx)-1)                                  \n",
    "print(model_3)"
   ]
  },
  {
   "cell_type": "markdown",
   "metadata": {},
   "source": [
    "## Bi directional LSTM Network training"
   ]
  },
  {
   "cell_type": "code",
   "execution_count": 27,
   "metadata": {},
   "outputs": [
    {
     "name": "stderr",
     "output_type": "stream",
     "text": [
      "Epoch 0: 60batch [00:04, 13.65batch/s, accuracy=83.9, loss=0.519]                                                      \n",
      "Epoch 1: 60batch [00:04, 14.39batch/s, accuracy=92.5, loss=0.235]                                                      \n",
      "Epoch 2: 60batch [00:04, 13.88batch/s, accuracy=95.9, loss=0.127]                                                      \n",
      "Epoch 3: 60batch [00:04, 13.81batch/s, accuracy=97.9, loss=0.07]                                                       \n",
      "Epoch 4: 60batch [00:04, 13.80batch/s, accuracy=98.7, loss=0.0457]                                                     \n",
      "Epoch 5: 60batch [00:04, 13.71batch/s, accuracy=99, loss=0.032]                                                        \n",
      "Epoch 6: 60batch [00:04, 13.59batch/s, accuracy=99.5, loss=0.0198]                                                     \n",
      "Epoch 7: 60batch [00:04, 13.35batch/s, accuracy=99.7, loss=0.0129]                                                     \n",
      "Epoch 8: 60batch [00:04, 13.37batch/s, accuracy=99.8, loss=0.0103]                                                     \n",
      "Epoch 9: 60batch [00:04, 13.49batch/s, accuracy=99.7, loss=0.0116]                                                     \n"
     ]
    }
   ],
   "source": [
    "loss_function = nn.CrossEntropyLoss(ignore_index=tag2idx['<PAD>'])              \n",
    "optimizer = torch.optim.AdamW(model_3.parameters(), lr=0.01)                           \n",
    "device=torch.device(\"cuda\" if torch.cuda.is_available() else \"cpu\")            \n",
    "                                                               \n",
    "for epoch in range(10):                                                        \n",
    "  with tqdm(ar_dataloader_train, \n",
    "            total=len(ar_dataloader_train)//batch_size+1, unit=\"batch\", desc=\"Epoch %i\" % epoch) as batches:\n",
    "    for inputs, targets in batches:                                             \n",
    "      inputs=inputs.to(device) #pushing data to GPU\n",
    "      targets=targets.to(device) #oushing data to GPU\n",
    "      model_3.zero_grad()                                                         \n",
    "      scores = model_3(inputs)                                                   \n",
    "      loss = loss_function(scores.view(-1, model_3.tagset_size_),                 \n",
    "                           targets.view(-1))               \n",
    "      loss.backward()                                                           \n",
    "      optimizer.step()                                                         \n",
    "      predictions = scores.argmax(dim=2, keepdim=True).squeeze()               \n",
    "      mask = targets!=tag2idx['<PAD>']                                          \n",
    "      correct = (predictions[mask] == targets[mask]).sum().item()               \n",
    "      accuracy = correct / mask.sum().item()*100\n",
    "      model_3.training_accuracy_.append(accuracy)                                 \n",
    "      model_3.training_loss_.append(loss.item())                                  \n",
    "      batches.set_postfix(loss=loss.item(), accuracy=accuracy)                  "
   ]
  },
  {
   "cell_type": "code",
   "execution_count": 29,
   "metadata": {},
   "outputs": [
    {
     "data": {
      "image/png": "[encoded data removed]",
      "text/plain": [
       "<Figure size 432x288 with 2 Axes>"
      ]
     },
     "metadata": {
      "needs_background": "light"
     },
     "output_type": "display_data"
    }
   ],
   "source": [
    "fig = plt.figure(figsize=(6, 4))\n",
    "ax = plt.subplot()\n",
    "ax.set_title(\"Plot for the (hopefully) decreasing loss over epochs\")\n",
    "ax.plot(model_3.training_loss_, 'b-')\n",
    "ax.set_ylabel(\"Training Loss\", color='b')\n",
    "ax.set_xlabel(\"Epoch\")\n",
    "# ax.set_yscale('log')\n",
    "ax.tick_params(axis='y', labelcolor='b')\n",
    "ax = ax.twinx()\n",
    "ax.plot(model_3.training_accuracy_, 'r-')\n",
    "ax.set_ylabel(\"Accuracy [%]\", color='r')\n",
    "ax.tick_params(axis='y', labelcolor='r')\n",
    "a = list(ax.axis())\n",
    "a[2] = 0\n",
    "a[3] = 100\n",
    "ax.axis(a)\n",
    "t = np.arange(0, len(model_3.training_accuracy_), len(ar_dataloader_train)//batch_size+1)\n",
    "ax.set_xticks(ticks=t)\n",
    "ax.set_xticklabels(labels=np.arange(len(t)))\n",
    "fig.tight_layout()\n",
    "plt.show()"
   ]
  },
  {
   "cell_type": "markdown",
   "metadata": {},
   "source": [
    "## Bi directional LSTM Test data accuracy"
   ]
  },
  {
   "cell_type": "code",
   "execution_count": 30,
   "metadata": {},
   "outputs": [
    {
     "name": "stdout",
     "output_type": "stream",
     "text": [
      "Test accuracy 93.3%\n"
     ]
    }
   ],
   "source": [
    "with torch.no_grad():                                                           \n",
    "  n_correct = 0\n",
    "  n_total = 0\n",
    "  for inputs, targets in ar_dataloader_test: # Loop once over the test data\n",
    "    inputs=inputs.to(device)\n",
    "    targets=targets.to(device)\n",
    "    scores = model_3(inputs)                                                      \n",
    "    predictions = scores.argmax(dim=2, keepdim=True).squeeze()                  \n",
    "    mask = targets!=tag2idx['<PAD>']                                            \n",
    "    n_correct += (predictions[mask] == targets[mask]).sum().item()              \n",
    "    n_total += mask.sum().item()\n",
    "print(\"Test accuracy %.1f%%\" % (100*n_correct/n_total))"
   ]
  },
  {
   "cell_type": "markdown",
   "metadata": {},
   "source": [
    "## Extension 4 LSTM Dropout regularization"
   ]
  },
  {
   "cell_type": "code",
   "execution_count": 81,
   "metadata": {},
   "outputs": [
    {
     "name": "stdout",
     "output_type": "stream",
     "text": [
      "DLSTMTagger(\n",
      "  (_word_embedding): Embedding(33471, 32, padding_idx=33470)\n",
      "  (_lstm): LSTM(32, 64, batch_first=True)\n",
      "  (_fc): Sequential(\n",
      "    (0): Linear(in_features=64, out_features=18, bias=True)\n",
      "    (1): Dropout(p=0.2, inplace=False)\n",
      "  )\n",
      ")\n"
     ]
    }
   ],
   "source": [
    "class DLSTMTagger(nn.Module):\n",
    "  def __init__(self, word_embedding_dim, lstm_hidden_dim, vocabulary_size, tagset_size):\n",
    "   \n",
    "    super(DLSTMTagger, self).__init__()                                          \n",
    "    self.lstm_hidden_dim_ = lstm_hidden_dim                                     \n",
    "    self.vocabulary_size_ = vocabulary_size\n",
    "    self.tagset_size_ = tagset_size\n",
    "\n",
    "    self._word_embedding = nn.Embedding(num_embeddings=vocabulary_size,        \n",
    "                                         embedding_dim=word_embedding_dim, \n",
    "                                         padding_idx=token2idx['<PAD>'])\n",
    "    self._lstm = nn.LSTM(input_size=word_embedding_dim,                         \n",
    "                         hidden_size=lstm_hidden_dim,                           \n",
    "                         batch_first=True)\n",
    "    self._fc = nn.Sequential(nn.Linear(lstm_hidden_dim, tagset_size),nn.Dropout(0.2))  # add the drop at the fully connected layer                      \n",
    "    #self._softmax = nn.LogSoftmax(dim=1)                                        \n",
    "    \n",
    "    self.training_loss_ = list()                                                \n",
    "    self.training_accuracy_ = list()\n",
    "\n",
    "    if torch.cuda.is_available():                                               \n",
    "      self.cuda()\n",
    "\n",
    "  def forward(self, padded_sentences):\n",
    "    \"\"\"The forward pass through the network\"\"\"\n",
    "    batch_size, max_sentence_length = padded_sentences.size()\n",
    "\n",
    "    embedded_sentences = self._word_embedding(padded_sentences)                 \n",
    "\n",
    "    sentence_lengths = (padded_sentences!=token2idx['<PAD>']).sum(dim=1)        \n",
    "    sentence_lengths = sentence_lengths.long().cpu()                            \n",
    "    X = nn.utils.rnn.pack_padded_sequence(embedded_sentences, sentence_lengths, \n",
    "                                          batch_first=True, enforce_sorted=False)\n",
    "    lstm_out, _ = self._lstm(X)                                                 \n",
    "    X, _ = nn.utils.rnn.pad_packed_sequence(lstm_out, batch_first=True)         \n",
    "\n",
    "    X = X.contiguous().view(-1, X.shape[2])                                     \n",
    "    tag_scores = self._fc(X)                                                     \n",
    "    #tag_scores = self._softmax(tag_space)    no need to implement softmax function if CrossEntropyloss function is used                                   \n",
    "    return tag_scores.view(batch_size, max_sentence_length, self.tagset_size_)\n",
    "\n",
    "\n",
    "model_Dp4= DLSTMTagger(word_embedding_dim=32,                                       \n",
    "                   lstm_hidden_dim=64,                                          \n",
    "                   vocabulary_size=len(token2idx),                              \n",
    "                   tagset_size=len(tag2idx)-1)                                  \n",
    "print(model_Dp4)"
   ]
  },
  {
   "cell_type": "markdown",
   "metadata": {},
   "source": [
    "## LSTM Dropout Network training"
   ]
  },
  {
   "cell_type": "code",
   "execution_count": 82,
   "metadata": {},
   "outputs": [
    {
     "name": "stderr",
     "output_type": "stream",
     "text": [
      "Epoch 0: 60batch [00:02, 23.54batch/s, accuracy=63.3, loss=1.13]                                                       \n",
      "Epoch 1: 60batch [00:02, 23.64batch/s, accuracy=74.2, loss=0.774]                                                      \n",
      "Epoch 2: 60batch [00:02, 23.33batch/s, accuracy=80, loss=0.599]                                                        \n",
      "Epoch 3: 60batch [00:02, 21.95batch/s, accuracy=82.8, loss=0.497]                                                      \n",
      "Epoch 4: 60batch [00:02, 21.81batch/s, accuracy=84.2, loss=0.452]                                                      \n",
      "Epoch 5: 60batch [00:02, 21.70batch/s, accuracy=84.5, loss=0.409]                                                      \n",
      "Epoch 6: 60batch [00:02, 21.84batch/s, accuracy=85.2, loss=0.387]                                                      \n",
      "Epoch 7: 60batch [00:02, 21.99batch/s, accuracy=85, loss=0.371]                                                        \n",
      "Epoch 8: 60batch [00:02, 21.91batch/s, accuracy=85.9, loss=0.357]                                                      \n",
      "Epoch 9: 60batch [00:02, 21.79batch/s, accuracy=86.1, loss=0.341]                                                      \n"
     ]
    }
   ],
   "source": [
    "model_train=model_Dp4.train()# when train the data, we need to turn on the dropout\n",
    "loss_function = nn.CrossEntropyLoss(ignore_index=tag2idx['<PAD>'])             \n",
    "optimizer = torch.optim.AdamW(model_train.parameters(), lr=0.01)                      \n",
    "device=torch.device(\"cuda\" if torch.cuda.is_available() else \"cpu\")            \n",
    "                                                               \n",
    "for epoch in range(10):                                                          \n",
    "  with tqdm(ar_dataloader_train, \n",
    "            total=len(ar_dataloader_train)//batch_size+1, unit=\"batch\", desc=\"Epoch %i\" % epoch) as batches:\n",
    "    for inputs, targets in batches:                                             \n",
    "      inputs=inputs.to(device) #pushing data to GPU\n",
    "      targets=targets.to(device) #oushing data to GPU\n",
    "      model_train.zero_grad()                                                         \n",
    "      scores = model_train(inputs)                                                    \n",
    "      loss = loss_function(scores.view(-1, model_train.tagset_size_),                 \n",
    "                           targets.view(-1))               \n",
    "      loss.backward()                                                           \n",
    "      optimizer.step()                                                          \n",
    "      predictions = scores.argmax(dim=2, keepdim=True).squeeze()                \n",
    "      mask = targets!=tag2idx['<PAD>']                                          \n",
    "      correct = (predictions[mask] == targets[mask]).sum().item()               \n",
    "      accuracy = correct / mask.sum().item()*100\n",
    "      model_train.training_accuracy_.append(accuracy)                                 \n",
    "      model_train.training_loss_.append(loss.item())                                  \n",
    "      batches.set_postfix(loss=loss.item(), accuracy=accuracy)         "
   ]
  },
  {
   "cell_type": "code",
   "execution_count": 91,
   "metadata": {},
   "outputs": [
    {
     "data": {
      "image/png": "[encoded data removed]",
      "text/plain": [
       "<Figure size 432x288 with 2 Axes>"
      ]
     },
     "metadata": {
      "needs_background": "light"
     },
     "output_type": "display_data"
    }
   ],
   "source": [
    "fig = plt.figure(figsize=(6, 4))\n",
    "ax = plt.subplot()\n",
    "ax.set_title(\"Plot for the (hopefully) decreasing loss over epochs\")\n",
    "ax.plot(model_Dp4.training_loss_, 'b-')\n",
    "ax.set_ylabel(\"Training Loss\", color='b')\n",
    "ax.set_xlabel(\"Epoch\")\n",
    "# ax.set_yscale('log')\n",
    "ax.tick_params(axis='y', labelcolor='b')\n",
    "ax = ax.twinx()\n",
    "ax.plot(model_Dp4.training_accuracy_, 'r-')\n",
    "ax.set_ylabel(\"Accuracy [%]\", color='r')\n",
    "ax.tick_params(axis='y', labelcolor='r')\n",
    "a = list(ax.axis())\n",
    "a[2] = 0\n",
    "a[3] = 100\n",
    "ax.axis(a)\n",
    "t = np.arange(0, len(model_Dp4.training_accuracy_), len(ar_dataloader_train)//batch_size+1)\n",
    "ax.set_xticks(ticks=t)\n",
    "ax.set_xticklabels(labels=np.arange(len(t)))\n",
    "fig.tight_layout()\n",
    "plt.show()"
   ]
  },
  {
   "cell_type": "markdown",
   "metadata": {},
   "source": [
    "Based on the plot, we can see that the accuracy on the train data drops down, it seems a little odd, we need test data accuracy to confirm if the overfitting issue is tackled"
   ]
  },
  {
   "cell_type": "markdown",
   "metadata": {},
   "source": [
    "## LSTM Dropout Test data accuracy"
   ]
  },
  {
   "cell_type": "code",
   "execution_count": 83,
   "metadata": {},
   "outputs": [
    {
     "name": "stdout",
     "output_type": "stream",
     "text": [
      "Test accuracy 91.8%\n"
     ]
    }
   ],
   "source": [
    "with torch.no_grad():                                                           \n",
    "  n_correct = 0\n",
    "  n_total = 0\n",
    "  for inputs, targets in ar_dataloader_test: # Loop once over the test data\n",
    "    inputs=inputs.to(device)\n",
    "    targets=targets.to(device)\n",
    "    model_test=model_Dp4.eval()  #when testing data,we need to turn off the dropout\n",
    "    scores = model_test(inputs)                                                      \n",
    "    predictions = scores.argmax(dim=2, keepdim=True).squeeze()                 \n",
    "    mask = targets!=tag2idx['<PAD>']                                            \n",
    "    n_correct += (predictions[mask] == targets[mask]).sum().item()              \n",
    "    n_total += mask.sum().item()\n",
    "print(\"Test accuracy %.1f%%\" % (100*n_correct/n_total))"
   ]
  },
  {
   "cell_type": "markdown",
   "metadata": {},
   "source": [
    "After adding the dropout regularization,even though the accuracy on the train data set declined by alomost 10%, the accuracy on the test data improved by 1.5% on the contrary,which fully verified that dropout can solve the overfitting issue."
   ]
  },
  {
   "cell_type": "markdown",
   "metadata": {},
   "source": [
    "## LSTM Weight decay regularization\n",
    "for this part, I just use the initial model to compare performance of the model between with and without weight decay"
   ]
  },
  {
   "cell_type": "code",
   "execution_count": 88,
   "metadata": {},
   "outputs": [
    {
     "name": "stdout",
     "output_type": "stream",
     "text": [
      "LSTMTagger(\n",
      "  (_word_embedding): Embedding(33471, 32, padding_idx=33470)\n",
      "  (_lstm): LSTM(32, 64, batch_first=True)\n",
      "  (_fc): Linear(in_features=64, out_features=18, bias=True)\n",
      ")\n"
     ]
    }
   ],
   "source": [
    "model_d= LSTMTagger(word_embedding_dim=32,                                       \n",
    "                   lstm_hidden_dim=64,                                          \n",
    "                   vocabulary_size=len(token2idx),                              \n",
    "                   tagset_size=len(tag2idx)-1)                                  \n",
    "print(model_d)"
   ]
  },
  {
   "cell_type": "code",
   "execution_count": 89,
   "metadata": {},
   "outputs": [
    {
     "name": "stderr",
     "output_type": "stream",
     "text": [
      "Epoch 0: 60batch [00:02, 21.89batch/s, accuracy=67, loss=0.974]                                                        \n",
      "Epoch 1: 60batch [00:02, 23.65batch/s, accuracy=80.4, loss=0.618]                                                      \n",
      "Epoch 2: 60batch [00:02, 23.64batch/s, accuracy=87.7, loss=0.411]                                                      \n",
      "Epoch 3: 60batch [00:02, 23.33batch/s, accuracy=92, loss=0.266]                                                        \n",
      "Epoch 4: 60batch [00:02, 21.96batch/s, accuracy=95.6, loss=0.167]                                                      \n",
      "Epoch 5: 60batch [00:03, 19.22batch/s, accuracy=96.4, loss=0.143]                                                      \n",
      "Epoch 6: 60batch [00:03, 19.53batch/s, accuracy=95.9, loss=0.132]                                                      \n",
      "Epoch 7: 60batch [00:02, 20.92batch/s, accuracy=97.1, loss=0.11]                                                       \n",
      "Epoch 8: 60batch [00:02, 20.84batch/s, accuracy=97.1, loss=0.103]                                                      \n",
      "Epoch 9: 60batch [00:02, 20.76batch/s, accuracy=97.4, loss=0.091]                                                      \n"
     ]
    }
   ],
   "source": [
    "loss_function = nn.CrossEntropyLoss(ignore_index=tag2idx['<PAD>'])              \n",
    "optimizer_w = torch.optim.AdamW(model_d.parameters(), lr=0.01,weight_decay=1e-4)  #add weight decay parameter for optimizer     \n",
    "device=torch.device(\"cuda\" if torch.cuda.is_available() else \"cpu\") \n",
    "\n",
    "for epoch in range(10):                                                          \n",
    "  with tqdm(ar_dataloader_train, \n",
    "            total=len(ar_dataloader_train)//batch_size+1, unit=\"batch\", desc=\"Epoch %i\" % epoch) as batches:\n",
    "    for inputs, targets in batches:                                             \n",
    "      inputs=inputs.to(device) #pushing data to GPU\n",
    "      targets=targets.to(device) #oushing data to GPU\n",
    "      model_d.zero_grad()                                                         \n",
    "      scores = model_d(inputs)                                                    \n",
    "      loss = loss_function(scores.view(-1, model_d.tagset_size_),                 \n",
    "                           targets.view(-1))               \n",
    "      loss.backward()                                                          \n",
    "      optimizer_w.step()                                                          \n",
    "      predictions = scores.argmax(dim=2, keepdim=True).squeeze()               \n",
    "      mask = targets!=tag2idx['<PAD>']                                          \n",
    "      correct = (predictions[mask] == targets[mask]).sum().item()               \n",
    "      accuracy = correct / mask.sum().item()*100\n",
    "      model_d.training_accuracy_.append(accuracy)                                 \n",
    "      model_d.training_loss_.append(loss.item())                                 \n",
    "      batches.set_postfix(loss=loss.item(), accuracy=accuracy)                 "
   ]
  },
  {
   "cell_type": "code",
   "execution_count": 92,
   "metadata": {},
   "outputs": [
    {
     "data": {
      "image/png": "[encoded data removed]",
      "text/plain": [
       "<Figure size 432x288 with 2 Axes>"
      ]
     },
     "metadata": {
      "needs_background": "light"
     },
     "output_type": "display_data"
    }
   ],
   "source": [
    "fig = plt.figure(figsize=(6, 4))\n",
    "ax = plt.subplot()\n",
    "ax.set_title(\"Plot for the (hopefully) decreasing loss over epochs\")\n",
    "ax.plot(model_d.training_loss_, 'b-')\n",
    "ax.set_ylabel(\"Training Loss\", color='b')\n",
    "ax.set_xlabel(\"Epoch\")\n",
    "# ax.set_yscale('log')\n",
    "ax.tick_params(axis='y', labelcolor='b')\n",
    "ax = ax.twinx()\n",
    "ax.plot(model_d.training_accuracy_, 'r-')\n",
    "ax.set_ylabel(\"Accuracy [%]\", color='r')\n",
    "ax.tick_params(axis='y', labelcolor='r')\n",
    "a = list(ax.axis())\n",
    "a[2] = 0\n",
    "a[3] = 100\n",
    "ax.axis(a)\n",
    "t = np.arange(0, len(model_d.training_accuracy_), len(ar_dataloader_train)//batch_size+1)\n",
    "ax.set_xticks(ticks=t)\n",
    "ax.set_xticklabels(labels=np.arange(len(t)))\n",
    "fig.tight_layout()\n",
    "plt.show()"
   ]
  },
  {
   "cell_type": "markdown",
   "metadata": {},
   "source": [
    "Based on the plot, the accuracy on the train data did not change dramatically, we still need to investigate the test data accuracy"
   ]
  },
  {
   "cell_type": "code",
   "execution_count": 90,
   "metadata": {},
   "outputs": [
    {
     "name": "stdout",
     "output_type": "stream",
     "text": [
      "Test accuracy 92.1%\n"
     ]
    }
   ],
   "source": [
    "with torch.no_grad():                                                           \n",
    "  n_correct = 0\n",
    "  n_total = 0\n",
    "  for inputs, targets in ar_dataloader_test: # Loop once over the test data\n",
    "    inputs=inputs.to(device)\n",
    "    targets=targets.to(device)\n",
    "    scores = model_d(inputs)                                                      \n",
    "    predictions = scores.argmax(dim=2, keepdim=True).squeeze()                 \n",
    "    mask = targets!=tag2idx['<PAD>']                                            \n",
    "    n_correct += (predictions[mask] == targets[mask]).sum().item()             \n",
    "    n_total += mask.sum().item()\n",
    "print(\"Test accuracy %.1f%%\" % (100*n_correct/n_total))"
   ]
  },
  {
   "cell_type": "markdown",
   "metadata": {},
   "source": [
    "After adding the weight decay regularization,even though the accuracy on the train data set declined by 1%, the accuracy on the test data improved by 1.8% on the contrary, which as well fully verified that weight_decay can solve the overfitting issue."
   ]
  },
  {
   "cell_type": "markdown",
   "metadata": {},
   "source": [
    "## Extension 5 LSTM Data augmentation\n",
    "for this part, I just use the initial model to compare performance of the model between with and without data augmentation"
   ]
  },
  {
   "cell_type": "code",
   "execution_count": 92,
   "metadata": {},
   "outputs": [],
   "source": [
    "from BackTranslation import BackTranslation\n",
    "# I choose Back translation data augmentation method\n",
    "trans = BackTranslation(url=[\n",
    "      'translate.google.com',\n",
    "      'translate.google.co.kr',\n",
    "    ], proxies={'http': '127.0.0.1:1234', 'http://host.name': '127.0.0.1:4012'})"
   ]
  },
  {
   "cell_type": "code",
   "execution_count": 93,
   "metadata": {},
   "outputs": [],
   "source": [
    "ar_dataloader_train_aug=DataLoader(dataset=ar_dataset_train,batch_size=100,shuffle=True,num_workers=0,collate_fn=my_collate)#num_workers speed up the processing\n",
    "ar_dataloader_test_aug=DataLoader(dataset=ar_dataset_test,batch_size=100,shuffle=True,num_workers=0,collate_fn=my_collate)"
   ]
  },
  {
   "cell_type": "code",
   "execution_count": 94,
   "metadata": {},
   "outputs": [],
   "source": [
    "import random\n",
    "ar_dataloader_train_aug_new=ar_dataloader_train_aug\n",
    "for i1,(sents,labels) in enumerate(ar_dataloader_train_aug_new):\n",
    "    if i1<3: #just apply data augmentation methods on the first 3 batches to see if it works\n",
    "        for i2,sent in enumerate(sents):\n",
    "            sents[i2]=trans.translate(\" \".join(sent),src=\"ar\",tmp = 'zh-cn').result_text.split() #translate Arabic to Chinese and translate it back\n",
    "            \n",
    "\n"
   ]
  },
  {
   "cell_type": "code",
   "execution_count": 95,
   "metadata": {},
   "outputs": [],
   "source": [
    "#Get the back translation dataset\n",
    "ar_dataloader_train_aug_new=[pad_and_encode(sents, labels) for i,(sents,labels) in enumerate(ar_dataloader_train_aug_new) if i<3]"
   ]
  },
  {
   "cell_type": "code",
   "execution_count": 96,
   "metadata": {},
   "outputs": [],
   "source": [
    "ar_dataloader_train_aug=[pad_and_encode(sents, labels) for sents,labels in ar_dataloader_train_aug]\n",
    "ar_dataloader_train_aug=ar_dataloader_train_aug_new[:3]+ar_dataloader_train_aug #get the augmented training data\n",
    "ar_dataloader_test_aug=[pad_and_encode(sents, labels) for sents,labels in ar_dataloader_test_aug]"
   ]
  },
  {
   "cell_type": "code",
   "execution_count": 97,
   "metadata": {},
   "outputs": [
    {
     "name": "stdout",
     "output_type": "stream",
     "text": [
      "(tensor([[15622, 21348,  9025,  ..., 33470, 33470, 33470],\n",
      "        [32323, 21348, 31783,  ..., 33470, 33470, 33470],\n",
      "        [ 8793, 14995, 14919,  ..., 33470, 33470, 33470],\n",
      "        ...,\n",
      "        [30806, 33200,  5873,  ..., 33470, 33470, 33470],\n",
      "        [15326, 25508,   747,  ..., 33470, 33470, 33470],\n",
      "        [ 2729, 26874,  4990,  ..., 33470, 33470, 33470]]), tensor([[ 8, 13,  1,  ..., 18, 18, 18],\n",
      "        [ 8, 13,  1,  ..., 18, 18, 18],\n",
      "        [ 2,  1,  0,  ..., 18, 18, 18],\n",
      "        ...,\n",
      "        [ 2,  2,  2,  ..., 18, 18, 18],\n",
      "        [10,  8,  0,  ..., 18, 18, 18],\n",
      "        [ 1,  8,  0,  ..., 18, 18, 18]]))\n"
     ]
    }
   ],
   "source": [
    "print(ar_dataloader_train_aug[-1])"
   ]
  },
  {
   "cell_type": "code",
   "execution_count": 14,
   "metadata": {},
   "outputs": [
    {
     "name": "stdout",
     "output_type": "stream",
     "text": [
      "LSTMTagger(\n",
      "  (_word_embedding): Embedding(33471, 32, padding_idx=33470)\n",
      "  (_lstm): LSTM(32, 64, batch_first=True)\n",
      "  (_fc): Linear(in_features=64, out_features=18, bias=True)\n",
      ")\n"
     ]
    }
   ],
   "source": [
    "model_DA= LSTMTagger(word_embedding_dim=32,                                       \n",
    "                   lstm_hidden_dim=64,                                          \n",
    "                   vocabulary_size=len(token2idx),                              \n",
    "                   tagset_size=len(tag2idx)-1)                                  \n",
    "print(model_DA)"
   ]
  },
  {
   "cell_type": "code",
   "execution_count": 99,
   "metadata": {},
   "outputs": [
    {
     "name": "stderr",
     "output_type": "stream",
     "text": [
      "Epoch 0: 63batch [00:02, 24.20batch/s, accuracy=74.2, loss=0.807]                                                      \n",
      "Epoch 1: 63batch [00:02, 24.30batch/s, accuracy=87.2, loss=0.418]                                                      \n",
      "Epoch 2: 63batch [00:02, 24.29batch/s, accuracy=92.4, loss=0.248]                                                      \n",
      "Epoch 3: 63batch [00:02, 24.23batch/s, accuracy=95.7, loss=0.156]                                                      \n",
      "Epoch 4: 63batch [00:02, 24.18batch/s, accuracy=96.9, loss=0.107]                                                      \n",
      "Epoch 5: 63batch [00:02, 24.31batch/s, accuracy=97.8, loss=0.0775]                                                     \n",
      "Epoch 6: 63batch [00:02, 24.20batch/s, accuracy=98.3, loss=0.0568]                                                     \n",
      "Epoch 7: 63batch [00:02, 24.18batch/s, accuracy=98.8, loss=0.0426]                                                     \n",
      "Epoch 8: 63batch [00:02, 23.93batch/s, accuracy=99, loss=0.0349]                                                       \n",
      "Epoch 9: 63batch [00:03, 19.76batch/s, accuracy=99.3, loss=0.0316]                                                     \n"
     ]
    }
   ],
   "source": [
    "loss_function = nn.CrossEntropyLoss(ignore_index=tag2idx['<PAD>'])              \n",
    "optimizer = torch.optim.AdamW(model_DA.parameters(), lr=0.01)                              \n",
    "device=torch.device(\"cuda\" if torch.cuda.is_available() else \"cpu\")            \n",
    "\n",
    "for epoch in range(10):                                                       \n",
    "  with tqdm(ar_dataloader_train_aug, \n",
    "            total=len(ar_dataloader_train_aug)//batch_size+1, unit=\"batch\", desc=\"Epoch %i\" % epoch) as batches:\n",
    "    for inputs, targets in batches:                                             \n",
    "      inputs=inputs.to(device) #pushing data to GPU\n",
    "      targets=targets.to(device) #oushing data to GPU\n",
    "      model_DA.zero_grad()                                                       \n",
    "      scores = model_DA(inputs)                                                  \n",
    "      loss = loss_function(scores.view(-1, model_DA.tagset_size_),               \n",
    "                           targets.view(-1))               \n",
    "      loss.backward()                                                           \n",
    "      optimizer.step()                                                          \n",
    "      predictions = scores.argmax(dim=2, keepdim=True).squeeze()                \n",
    "      mask = targets!=tag2idx['<PAD>']                                          \n",
    "      correct = (predictions[mask] == targets[mask]).sum().item()              \n",
    "      accuracy = correct / mask.sum().item()*100\n",
    "      model_DA.training_accuracy_.append(accuracy)                                 \n",
    "      model_DA.training_loss_.append(loss.item())                                 \n",
    "      batches.set_postfix(loss=loss.item(), accuracy=accuracy)  "
   ]
  },
  {
   "cell_type": "code",
   "execution_count": 100,
   "metadata": {},
   "outputs": [
    {
     "name": "stdout",
     "output_type": "stream",
     "text": [
      "Test accuracy 91.2%\n"
     ]
    }
   ],
   "source": [
    "with torch.no_grad():                                  \n",
    "  n_correct = 0\n",
    "  n_total = 0\n",
    "  for inputs, targets in ar_dataloader_test_aug:           \n",
    "    inputs=inputs.to(device)\n",
    "    targets=targets.to(device)\n",
    "    scores = model_DA(inputs)                                                      \n",
    "    predictions = scores.argmax(dim=2, keepdim=True).squeeze()                 \n",
    "    mask = targets!=tag2idx['<PAD>']                                            \n",
    "    n_correct += (predictions[mask] == targets[mask]).sum().item()              \n",
    "    n_total += mask.sum().item()\n",
    "print(\"Test accuracy %.1f%%\" % (100*n_correct/n_total))"
   ]
  },
  {
   "cell_type": "markdown",
   "metadata": {},
   "source": [
    "Based on the result above, my test data accuracy improved by 0.9%, which proves that back translation data augmentation increased my model generability."
   ]
  },
  {
   "cell_type": "markdown",
   "metadata": {},
   "source": [
    "## Refactor the given model as a class \n",
    "In my refactored model class, I include pad_and_encode,fit(training the model and backword is included),score(get the test dataset accuracy),forward methods(it's similar to the predict method in the sklearn Classifier)"
   ]
  },
  {
   "cell_type": "code",
   "execution_count": 239,
   "metadata": {},
   "outputs": [],
   "source": [
    "class LSTMTaggerRe(nn.Module):\n",
    "  def __init__(self, word_embedding_dim, lstm_hidden_dim, vocabulary_size, tagset_size,device):\n",
    "   \n",
    "    super(LSTMTaggerRe, self).__init__()                                          \n",
    "    self.lstm_hidden_dim_ = lstm_hidden_dim                                     \n",
    "    self.vocabulary_size_ = vocabulary_size\n",
    "    self.tagset_size_ = tagset_size\n",
    "    self.device=device\n",
    "\n",
    "\n",
    "    self._word_embedding = nn.Embedding(num_embeddings=vocabulary_size,        \n",
    "                                         embedding_dim=word_embedding_dim, \n",
    "                                         padding_idx=token2idx['<PAD>'])\n",
    "    self._lstm = nn.LSTM(input_size=word_embedding_dim,                         \n",
    "                         hidden_size=lstm_hidden_dim,                           \n",
    "                         batch_first=True)\n",
    "    self._fc = nn.Linear(lstm_hidden_dim, tagset_size)                          \n",
    "    #self._softmax = nn.LogSoftmax(dim=1)                                        \n",
    "    \n",
    "    self.training_loss_ = list()                                                \n",
    "    self.training_accuracy_ = list()\n",
    "\n",
    "    if torch.cuda.is_available():                                               \n",
    "      self.cuda()\n",
    "\n",
    "    \n",
    "\n",
    "  def pad_and_encode(self,sentences, labels):\n",
    "    assert len(sentences)==len(labels)\n",
    "    assert np.all([len(sentence)==len(tags) for sentence, tags in zip(sentences, labels)])\n",
    "    max_sentence_length = np.max([len(sentence) for sentence in sentences]) \n",
    "    padded_sentences = torch.zeros(len(sentences), max_sentence_length,     \n",
    "                                 dtype=torch.long)\n",
    "    padded_sentences[:] = token2idx['<PAD>']\n",
    "    padded_labels = torch.zeros(len(sentences), max_sentence_length, \n",
    "                              dtype=torch.long)\n",
    "    padded_labels[:] = tag2idx['<PAD>']\n",
    "    for i, (sentence, tags) in enumerate(zip(sentences, labels)):\n",
    "      for j, token in enumerate(sentence):\n",
    "        if token in token2idx.keys():\n",
    "          padded_sentences[i, j] = token2idx[token]\n",
    "        else:\n",
    "          padded_sentences[i, j] = token2idx['<UNK>']\n",
    "      for j, tag in enumerate(tags):\n",
    "        padded_labels[i, j] = tag2idx[tag]\n",
    "    return padded_sentences, padded_labels\n",
    "\n",
    "\n",
    "\n",
    "  def forward(self, padded_sentences):\n",
    "    batch_size, max_sentence_length = padded_sentences.size()\n",
    "\n",
    "    embedded_sentences = self._word_embedding(padded_sentences)                 \n",
    "\n",
    "    sentence_lengths = (padded_sentences!=token2idx['<PAD>']).sum(dim=1)        \n",
    "    sentence_lengths = sentence_lengths.long().cpu()                            \n",
    "    X = nn.utils.rnn.pack_padded_sequence(embedded_sentences, sentence_lengths, \n",
    "                                          batch_first=True, enforce_sorted=False)\n",
    "    lstm_out, _ = self._lstm(X)                                                 \n",
    "    X, _ = nn.utils.rnn.pad_packed_sequence(lstm_out, batch_first=True)         \n",
    "\n",
    "    X = X.contiguous().view(-1, X.shape[2])                                     \n",
    "    tag_scores = self._fc(X)                                                     \n",
    "    #tag_scores = self._softmax(tag_space)                                    \n",
    "    return tag_scores.view(batch_size, max_sentence_length, self.tagset_size_)\n",
    "\n",
    "  \n",
    "  def score(self,data_loader):\n",
    "\n",
    "    data_loader=[self.pad_and_encode(sents, labels) for sents,labels in data_loader]\n",
    "    \n",
    "    with torch.no_grad():                                  \n",
    "        n_correct = 0\n",
    "        n_total = 0\n",
    "        for inputs, targets in data_loader:\n",
    "            inputs,targets=inputs.to(self.device),targets.to(self.device)\n",
    "            scores = self.forward(inputs)                                                      \n",
    "            predictions = scores.argmax(dim=2, keepdim=True).squeeze()                 \n",
    "            mask = targets!=tag2idx['<PAD>']                                            \n",
    "            n_correct += (predictions[mask] == targets[mask]).sum().item()              \n",
    "            n_total += mask.sum().item()\n",
    "        return 100*(n_correct/n_total)\n",
    "  \n",
    "        \n",
    "    \n",
    "  def fit(self,data_loader,learning_rate,epochs):\n",
    "    \n",
    "    data_loader=[self.pad_and_encode(sents, labels) for sents,labels in data_loader]\n",
    "\n",
    "    loss_function = nn.CrossEntropyLoss(ignore_index=tag2idx['<PAD>'])              \n",
    "    optimizer = torch.optim.AdamW(self.parameters(), lr=learning_rate)                                      \n",
    "\n",
    "    for epoch in range(epochs):                                                        \n",
    "        with tqdm(data_loader, \n",
    "            total=len(data_loader)//batch_size+1, unit=\"batch\", desc=\"Epoch %i\" % epoch) as batches:\n",
    "            for inputs, targets in batches: \n",
    "                inputs,targets=inputs.to(self.device),targets.to(self.device)\n",
    "                self.zero_grad()                                                        \n",
    "                scores = self.forward(inputs)                                                  \n",
    "                loss = loss_function(scores.view(-1, self.tagset_size_),              \n",
    "                           targets.view(-1))               \n",
    "                loss.backward()                                                           \n",
    "                optimizer.step()                                                         \n",
    "                predictions = scores.argmax(dim=2, keepdim=True).squeeze()                \n",
    "                mask = targets!=tag2idx['<PAD>']                                          \n",
    "                correct = (predictions[mask] == targets[mask]).sum().item()               \n",
    "                accuracy = correct / mask.sum().item()*100\n",
    "                self.training_accuracy_.append(accuracy)                                 \n",
    "                self.training_loss_.append(loss.item())                                 \n",
    "                batches.set_postfix(loss=loss.item(), accuracy=accuracy)                  \n",
    "    "
   ]
  },
  {
   "cell_type": "code",
   "execution_count": 19,
   "metadata": {},
   "outputs": [
    {
     "name": "stdout",
     "output_type": "stream",
     "text": [
      "LSTMTaggerRe(\n",
      "  (_word_embedding): Embedding(33471, 32, padding_idx=33470)\n",
      "  (_lstm): LSTM(32, 64, batch_first=True)\n",
      "  (_fc): Linear(in_features=64, out_features=18, bias=True)\n",
      ")\n"
     ]
    }
   ],
   "source": [
    "model_refa= LSTMTaggerRe(word_embedding_dim=32,                                       \n",
    "                   lstm_hidden_dim=64,                                          \n",
    "                   vocabulary_size=len(token2idx),                              \n",
    "                   tagset_size=len(tag2idx)-1,device=torch.device(\"cuda\" if torch.cuda.is_available() else \"cpu\"))                                  \n",
    "print(model_refa)"
   ]
  },
  {
   "cell_type": "code",
   "execution_count": 21,
   "metadata": {},
   "outputs": [
    {
     "name": "stderr",
     "output_type": "stream",
     "text": [
      "Epoch 0: 60batch [00:03, 16.89batch/s, accuracy=75.5, loss=0.76]                                                       \n",
      "Epoch 1: 60batch [00:03, 18.48batch/s, accuracy=90.2, loss=0.341]                                                      \n",
      "Epoch 2: 60batch [00:03, 17.62batch/s, accuracy=94.6, loss=0.19]                                                       \n",
      "Epoch 3: 60batch [00:03, 18.54batch/s, accuracy=96.7, loss=0.114]                                                      \n",
      "Epoch 4: 60batch [00:03, 18.41batch/s, accuracy=97.8, loss=0.0751]                                                     \n",
      "Epoch 5: 60batch [00:03, 18.54batch/s, accuracy=98.4, loss=0.0519]                                                     \n",
      "Epoch 6: 60batch [00:03, 18.48batch/s, accuracy=98.9, loss=0.0399]                                                     \n",
      "Epoch 7: 60batch [00:03, 17.52batch/s, accuracy=98.8, loss=0.0355]                                                     \n",
      "Epoch 8: 60batch [00:03, 18.30batch/s, accuracy=99.3, loss=0.0271]                                                     \n",
      "Epoch 9: 60batch [00:03, 18.46batch/s, accuracy=99.1, loss=0.0244]                                                     \n"
     ]
    }
   ],
   "source": [
    "model_refa.fit(ar_dataloader_train,0.01,10)"
   ]
  },
  {
   "cell_type": "code",
   "execution_count": 22,
   "metadata": {},
   "outputs": [
    {
     "data": {
      "text/plain": [
       "89.77329347284504"
      ]
     },
     "execution_count": 22,
     "metadata": {},
     "output_type": "execute_result"
    }
   ],
   "source": [
    "model_refa.score(ar_dataloader_test)"
   ]
  },
  {
   "cell_type": "markdown",
   "metadata": {},
   "source": [
    "As above showed, the refactored model worked!"
   ]
  },
  {
   "cell_type": "markdown",
   "metadata": {},
   "source": [
    "## Extension 6 Add more language sources"
   ]
  },
  {
   "cell_type": "markdown",
   "metadata": {},
   "source": [
    "## Load the Chinese corpus"
   ]
  },
  {
   "cell_type": "code",
   "execution_count": 4,
   "metadata": {},
   "outputs": [
    {
     "name": "stderr",
     "output_type": "stream",
     "text": [
      "--2021-05-17 23:25:04--  https://raw.githubusercontent.com/UniversalDependencies/UD_Chinese-GSD/master/zh_gsd-ud-train.conllu\n",
      "Resolving raw.githubusercontent.com (raw.githubusercontent.com)... 185.199.111.133, 185.199.108.133, 185.199.110.133, ...\n",
      "Connecting to raw.githubusercontent.com (raw.githubusercontent.com)|185.199.111.133|:443... connected.\n",
      "HTTP request sent, awaiting response... 200 OK\n",
      "Length: 5438584 (5.2M) [text/plain]\n",
      "Saving to: 'zh_gsd-ud-train.conllu'\n",
      "\n",
      "     0K .......... .......... .......... .......... ..........  0% 8.36M 1s\n",
      "    50K .......... .......... .......... .......... ..........  1% 29.7M 0s\n",
      "   100K .......... .......... .......... .......... ..........  2% 13.5M 0s\n",
      "   150K .......... .......... .......... .......... ..........  3% 27.4M 0s\n",
      "   200K .......... .......... .......... .......... ..........  4% 36.2M 0s\n",
      "   250K .......... .......... .......... .......... ..........  5% 9.10M 0s\n",
      "   300K .......... .......... .......... .......... ..........  6% 14.4M 0s\n",
      "   350K .......... .......... .......... .......... ..........  7% 77.2M 0s\n",
      "   400K .......... .......... .......... .......... ..........  8% 90.7M 0s\n",
      "   450K .......... .......... .......... .......... ..........  9% 40.9M 0s\n",
      "   500K .......... .......... .......... .......... .......... 10% 11.8M 0s\n",
      "   550K .......... .......... .......... .......... .......... 11% 89.9M 0s\n",
      "   600K .......... .......... .......... .......... .......... 12% 27.2M 0s\n",
      "   650K .......... .......... .......... .......... .......... 13% 92.8M 0s\n",
      "   700K .......... .......... .......... .......... .......... 14% 10.6M 0s\n",
      "   750K .......... .......... .......... .......... .......... 15%  193M 0s\n",
      "   800K .......... .......... .......... .......... .......... 16%  234M 0s\n",
      "   850K .......... .......... .......... .......... .......... 16% 15.9M 0s\n",
      "   900K .......... .......... .......... .......... .......... 17%  159M 0s\n",
      "   950K .......... .......... .......... .......... .......... 18%  134M 0s\n",
      "  1000K .......... .......... .......... .......... .......... 19%  152M 0s\n",
      "  1050K .......... .......... .......... .......... .......... 20% 5.89M 0s\n",
      "  1100K .......... .......... .......... .......... .......... 21%  163M 0s\n",
      "  1150K .......... .......... .......... .......... .......... 22%  120M 0s\n",
      "  1200K .......... .......... .......... .......... .......... 23%  238M 0s\n",
      "  1250K .......... .......... .......... .......... .......... 24% 12.3M 0s\n",
      "  1300K .......... .......... .......... .......... .......... 25%  182M 0s\n",
      "  1350K .......... .......... .......... .......... .......... 26%  168M 0s\n",
      "  1400K .......... .......... .......... .......... .......... 27% 14.0M 0s\n",
      "  1450K .......... .......... .......... .......... .......... 28%  146M 0s\n",
      "  1500K .......... .......... .......... .......... .......... 29%  158M 0s\n",
      "  1550K .......... .......... .......... .......... .......... 30%  173M 0s\n",
      "  1600K .......... .......... .......... .......... .......... 31% 10.6M 0s\n",
      "  1650K .......... .......... .......... .......... .......... 32%  169M 0s\n",
      "  1700K .......... .......... .......... .......... .......... 32%  155M 0s\n",
      "  1750K .......... .......... .......... .......... .......... 33% 15.8M 0s\n",
      "  1800K .......... .......... .......... .......... .......... 34%  230M 0s\n",
      "  1850K .......... .......... .......... .......... .......... 35%  164M 0s\n",
      "  1900K .......... .......... .......... .......... .......... 36%  160M 0s\n",
      "  1950K .......... .......... .......... .......... .......... 37% 12.6M 0s\n",
      "  2000K .......... .......... .......... .......... .......... 38%  160M 0s\n",
      "  2050K .......... .......... .......... .......... .......... 39%  158M 0s\n",
      "  2100K .......... .......... .......... .......... .......... 40% 9.80M 0s\n",
      "  2150K .......... .......... .......... .......... .......... 41%  185M 0s\n",
      "  2200K .......... .......... .......... .......... .......... 42%  217M 0s\n",
      "  2250K .......... .......... .......... .......... .......... 43% 14.1M 0s\n",
      "  2300K .......... .......... .......... .......... .......... 44% 90.6M 0s\n",
      "  2350K .......... .......... .......... .......... .......... 45%  192M 0s\n",
      "  2400K .......... .......... .......... .......... .......... 46%  505M 0s\n",
      "  2450K .......... .......... .......... .......... .......... 47% 9.34M 0s\n",
      "  2500K .......... .......... .......... .......... .......... 48%  236M 0s\n",
      "  2550K .......... .......... .......... .......... .......... 48%  194M 0s\n",
      "  2600K .......... .......... .......... .......... .......... 49% 10.1M 0s\n",
      "  2650K .......... .......... .......... .......... .......... 50%  149M 0s\n",
      "  2700K .......... .......... .......... .......... .......... 51%  161M 0s\n",
      "  2750K .......... .......... .......... .......... .......... 52%  298M 0s\n",
      "  2800K .......... .......... .......... .......... .......... 53% 12.9M 0s\n",
      "  2850K .......... .......... .......... .......... .......... 54%  129M 0s\n",
      "  2900K .......... .......... .......... .......... .......... 55%  148M 0s\n",
      "  2950K .......... .......... .......... .......... .......... 56%  214M 0s\n",
      "  3000K .......... .......... .......... .......... .......... 57% 14.9M 0s\n",
      "  3050K .......... .......... .......... .......... .......... 58%  139M 0s\n",
      "  3100K .......... .......... .......... .......... .......... 59%  222M 0s\n",
      "  3150K .......... .......... .......... .......... .......... 60% 13.4M 0s\n",
      "  3200K .......... .......... .......... .......... .......... 61%  259M 0s\n",
      "  3250K .......... .......... .......... .......... .......... 62%  187M 0s\n",
      "  3300K .......... .......... .......... .......... .......... 63%  129M 0s\n",
      "  3350K .......... .......... .......... .......... .......... 64% 15.0M 0s\n",
      "  3400K .......... .......... .......... .......... .......... 64%  194M 0s\n",
      "  3450K .......... .......... .......... .......... .......... 65%  200M 0s\n",
      "  3500K .......... .......... .......... .......... .......... 66%  156M 0s\n",
      "  3550K .......... .......... .......... .......... .......... 67% 10.7M 0s\n",
      "  3600K .......... .......... .......... .......... .......... 68%  179M 0s\n",
      "  3650K .......... .......... .......... .......... .......... 69%  193M 0s\n",
      "  3700K .......... .......... .......... .......... .......... 70% 14.3M 0s\n",
      "  3750K .......... .......... .......... .......... .......... 71%  139M 0s\n",
      "  3800K .......... .......... .......... .......... .......... 72%  192M 0s\n",
      "  3850K .......... .......... .......... .......... .......... 73%  206M 0s\n",
      "  3900K .......... .......... .......... .......... .......... 74% 11.3M 0s\n",
      "  3950K .......... .......... .......... .......... .......... 75%  150M 0s\n",
      "  4000K .......... .......... .......... .......... .......... 76%  345M 0s\n",
      "  4050K .......... .......... .......... .......... .......... 77% 12.9M 0s\n",
      "  4100K .......... .......... .......... .......... .......... 78%  183M 0s\n",
      "  4150K .......... .......... .......... .......... .......... 79%  252M 0s\n",
      "  4200K .......... .......... .......... .......... .......... 80%  185M 0s\n",
      "  4250K .......... .......... .......... .......... .......... 80% 11.5M 0s\n",
      "  4300K .......... .......... .......... .......... .......... 81%  178M 0s\n",
      "  4350K .......... .......... .......... .......... .......... 82%  174M 0s\n",
      "  4400K .......... .......... .......... .......... .......... 83%  172M 0s\n",
      "  4450K .......... .......... .......... .......... .......... 84% 10.3M 0s\n",
      "  4500K .......... .......... .......... .......... .......... 85%  194M 0s\n",
      "  4550K .......... .......... .......... .......... .......... 86%  167M 0s\n",
      "  4600K .......... .......... .......... .......... .......... 87% 12.0M 0s\n",
      "  4650K .......... .......... .......... .......... .......... 88%  144M 0s\n",
      "  4700K .......... .......... .......... .......... .......... 89%  168M 0s\n",
      "  4750K .......... .......... .......... .......... .......... 90%  213M 0s\n",
      "  4800K .......... .......... .......... .......... .......... 91% 9.65M 0s\n",
      "  4850K .......... .......... .......... .......... .......... 92% 65.0M 0s\n",
      "  4900K .......... .......... .......... .......... .......... 93%  212M 0s\n",
      "  4950K .......... .......... .......... .......... .......... 94%  221M 0s\n",
      "  5000K .......... .......... .......... .......... .......... 95% 18.0M 0s\n",
      "  5050K .......... .......... .......... .......... .......... 96% 8.14M 0s\n",
      "  5100K .......... .......... .......... .......... .......... 96%  168M 0s\n",
      "  5150K .......... .......... .......... .......... .......... 97% 27.6M 0s\n",
      "  5200K .......... .......... .......... .......... .......... 98%  158M 0s\n",
      "  5250K .......... .......... .......... .......... .......... 99%  150M 0s\n",
      "  5300K .......... .                                          100%  842M=0.2s\n",
      "\n",
      "Last-modified header missing -- time-stamps turned off.\n",
      "2021-05-17 23:25:04 (31.8 MB/s) - 'zh_gsd-ud-train.conllu' saved [5438584/5438584]\n",
      "\n"
     ]
    },
    {
     "name": "stderr",
     "output_type": "stream",
     "text": [
      "--2021-05-17 23:25:04--  https://raw.githubusercontent.com/UniversalDependencies/UD_Chinese-GSD/master/zh_gsd-ud-test.conllu\n",
      "Resolving raw.githubusercontent.com (raw.githubusercontent.com)... 185.199.111.133, 185.199.108.133, 185.199.110.133, ...\n",
      "Connecting to raw.githubusercontent.com (raw.githubusercontent.com)|185.199.111.133|:443... connected.\n",
      "HTTP request sent, awaiting response... 200 OK\n",
      "Length: 663318 (648K) [text/plain]\n",
      "Saving to: 'zh_gsd-ud-test.conllu'\n",
      "\n",
      "     0K .......... .......... .......... .......... ..........  7% 7.24M 0s\n",
      "    50K .......... .......... .......... .......... .......... 15% 34.9M 0s\n",
      "   100K .......... .......... .......... .......... .......... 23% 18.1M 0s\n",
      "   150K .......... .......... .......... .......... .......... 30% 41.1M 0s\n",
      "   200K .......... .......... .......... .......... .......... 38% 12.5M 0s\n",
      "   250K .......... .......... .......... .......... .......... 46% 27.5M 0s\n",
      "   300K .......... .......... .......... .......... .......... 54% 21.4M 0s\n",
      "   350K .......... .......... .......... .......... .......... 61% 15.2M 0s\n",
      "   400K .......... .......... .......... .......... .......... 69% 15.5M 0s\n",
      "   450K .......... .......... .......... .......... .......... 77% 81.2M 0s\n",
      "   500K .......... .......... .......... .......... .......... 84% 12.5M 0s\n",
      "   550K .......... .......... .......... .......... .......... 92% 18.1M 0s\n",
      "   600K .......... .......... .......... .......... .......   100% 55.1M=0.03s\n",
      "\n",
      "Last-modified header missing -- time-stamps turned off.\n",
      "2021-05-17 23:25:05 (18.4 MB/s) - 'zh_gsd-ud-test.conllu' saved [663318/663318]\n",
      "\n"
     ]
    }
   ],
   "source": [
    "!wget -N https://raw.githubusercontent.com/UniversalDependencies/UD_Chinese-GSD/master/zh_gsd-ud-train.conllu\n",
    "!wget -N https://raw.githubusercontent.com/UniversalDependencies/UD_Chinese-GSD/master/zh_gsd-ud-test.conllu"
   ]
  },
  {
   "cell_type": "markdown",
   "metadata": {},
   "source": [
    "After exploring the arabic dataset, I found it's a little redundant to use the way above to implenment padding and encoding,in this case, I made some modification to simplify my code"
   ]
  },
  {
   "cell_type": "code",
   "execution_count": 6,
   "metadata": {},
   "outputs": [],
   "source": [
    "zh_dataset_train=CorpusDataset(\"./zh_gsd-ud-train.conllu\")\n",
    "zh_dataset_test=CorpusDataset(\"./zh_gsd-ud-test.conllu\")"
   ]
  },
  {
   "cell_type": "code",
   "execution_count": 7,
   "metadata": {},
   "outputs": [
    {
     "name": "stdout",
     "output_type": "stream",
     "text": [
      "3997\n",
      "500\n",
      "(['看似', '簡單', '，', '只', '是', '二', '選', '一', '做', '決擇', '，', '但', '其實', '他們', '代表', '的', '是', '你', '周遭', '的', '親朋', '好友', '，', '試', '著', '給', '你', '不同', '的', '意見', '，', '但', '追根究底', '，', '最後', '決定', '的', '還是', '自己', '。'], ['AUX', 'ADJ', 'PUNCT', 'ADV', 'VERB', 'NUM', 'VERB', 'NUM', 'VERB', 'NOUN', 'PUNCT', 'ADV', 'ADV', 'PRON', 'VERB', 'PART', 'AUX', 'PRON', 'NOUN', 'PART', 'NOUN', 'NOUN', 'PUNCT', 'VERB', 'AUX', 'VERB', 'PRON', 'ADJ', 'PART', 'NOUN', 'PUNCT', 'ADV', 'VERB', 'PUNCT', 'NOUN', 'VERB', 'PART', 'AUX', 'PRON', 'PUNCT'])\n",
      "(['然而', '，', '這樣', '的', '處理', '也', '衍生', '了', '一些', '問題', '。'], ['ADV', 'PUNCT', 'PRON', 'PART', 'NOUN', 'ADV', 'VERB', 'AUX', 'ADJ', 'NOUN', 'PUNCT'])\n"
     ]
    }
   ],
   "source": [
    "print(len(zh_dataset_train))\n",
    "print(len(zh_dataset_test))\n",
    "print(zh_dataset_train[0])\n",
    "print(zh_dataset_test[0])"
   ]
  },
  {
   "cell_type": "code",
   "execution_count": 8,
   "metadata": {},
   "outputs": [
    {
     "name": "stdout",
     "output_type": "stream",
     "text": [
      "17614\n",
      "['<UNK>', '煙霧', '猴群', '佩蘭多', '湘西', '生產', '小田急', '炸毀', '盛妝', '西門子', '1920', '實體', '摩托', '襄陽', '轟炸']\n",
      "['PROPN', 'CCONJ', 'NOUN', 'ADP', 'NUM', 'ADV', 'PRON', 'X', 'VERB', 'PART', 'DET', 'SYM', 'PUNCT', 'AUX', 'ADJ', '<PAD>']\n"
     ]
    }
   ],
   "source": [
    "# I will create vocab before load the train_dataset and test_dataset\n",
    "tokens = {token for sent,_ in zh_dataset_train for token in sent}\n",
    "idx2token = list(tokens)\n",
    "idx2token.insert(0, '<UNK>')\n",
    "idx2token.append('<PAD>')\n",
    "token2idx = {token:idx for idx, token in enumerate(idx2token)}\n",
    "\n",
    "tags = {tag for _,label in zh_dataset_train for tag in label}\n",
    "idx2tag = list(tags)\n",
    "idx2tag.append('<PAD>')\n",
    "tag2idx = {tag:idx for idx, tag in enumerate(idx2tag)}\n",
    "\n",
    "print(len(idx2token))\n",
    "print(idx2token[:15])\n",
    "print(idx2tag)\n",
    "    "
   ]
  },
  {
   "cell_type": "code",
   "execution_count": 11,
   "metadata": {},
   "outputs": [],
   "source": [
    "# then collate_fun for the train and test dataloader will be the pad_and_encode function with minor changes\n",
    "\n",
    "def pad_and_encode(batch):# the variable must be batch if I treat it as collate function inside the dataloader\n",
    "  sentences=[sentences for sentences,_ in batch]\n",
    "  labels=[labels for _,labels in batch]\n",
    "  assert len(sentences)==len(labels)\n",
    "  assert np.all([len(sentence)==len(tags) for sentence, tags in zip(sentences, labels)])\n",
    "  max_sentence_length = np.max([len(sentence) for sentence in sentences]) # Find out how much to pad\n",
    "  padded_sentences = torch.zeros(len(sentences), max_sentence_length,     # Create data structures with <PAD> as default\n",
    "                                 dtype=torch.long)\n",
    "  padded_sentences[:] = token2idx['<PAD>']\n",
    "  padded_labels = torch.zeros(len(sentences), max_sentence_length, \n",
    "                              dtype=torch.long)\n",
    "  padded_labels[:] = tag2idx['<PAD>']\n",
    "  for i, (sentence, tags) in enumerate(zip(sentences, labels)):\n",
    "    for j, token in enumerate(sentence):\n",
    "      if token in token2idx.keys():\n",
    "        padded_sentences[i, j] = token2idx[token]\n",
    "      else:\n",
    "        padded_sentences[i, j] = token2idx['<UNK>']\n",
    "    for j, tag in enumerate(tags):\n",
    "      padded_labels[i, j] = tag2idx[tag] \n",
    "  return padded_sentences, padded_labels"
   ]
  },
  {
   "cell_type": "code",
   "execution_count": 14,
   "metadata": {},
   "outputs": [],
   "source": [
    "zh_dataloader_train=DataLoader(dataset=zh_dataset_train,batch_size=100,shuffle=True,num_workers=0,collate_fn=pad_and_encode)\n",
    "zh_dataloader_test=DataLoader(dataset=zh_dataset_test,batch_size=100,shuffle=True,num_workers=0,collate_fn=pad_and_encode)"
   ]
  },
  {
   "cell_type": "code",
   "execution_count": 88,
   "metadata": {},
   "outputs": [
    {
     "name": "stdout",
     "output_type": "stream",
     "text": [
      "tensor([ 1510, 12911, 13217,   209, 14353,  2424, 17007,  9376,  2152,  1790,\n",
      "         2561, 13613,  9402,  2499,  4910,  5854, 17613, 17613, 17613, 17613,\n",
      "        17613, 17613, 17613, 17613, 17613, 17613, 17613, 17613, 17613, 17613,\n",
      "        17613, 17613, 17613, 17613, 17613, 17613, 17613, 17613, 17613, 17613,\n",
      "        17613, 17613, 17613, 17613, 17613, 17613, 17613, 17613, 17613, 17613])\n",
      "tensor([ 5, 13,  2, 11,  7,  0, 10,  3, 14, 13,  5, 13, 13, 13,  3,  3, 15, 15,\n",
      "        15, 15, 15, 15, 15, 15, 15, 15, 15, 15, 15, 15, 15, 15, 15, 15, 15, 15,\n",
      "        15, 15, 15, 15, 15, 15, 15, 15, 15, 15, 15, 15, 15, 15])\n",
      "tensor([    0,  2275,  5096,  8488, 10774, 13419,  2189,  8423,  5854, 17613,\n",
      "        17613, 17613, 17613, 17613, 17613, 17613, 17613, 17613, 17613, 17613,\n",
      "        17613, 17613, 17613, 17613, 17613, 17613, 17613, 17613, 17613, 17613,\n",
      "        17613, 17613, 17613, 17613, 17613, 17613, 17613, 17613, 17613, 17613,\n",
      "        17613, 17613, 17613, 17613, 17613, 17613, 17613, 17613, 17613, 17613,\n",
      "        17613, 17613, 17613, 17613, 17613, 17613, 17613, 17613, 17613, 17613,\n",
      "        17613, 17613, 17613, 17613, 17613, 17613, 17613, 17613])\n",
      "tensor([ 7, 11,  2, 13,  1, 13,  7,  4,  3, 15, 15, 15, 15, 15, 15, 15, 15, 15,\n",
      "        15, 15, 15, 15, 15, 15, 15, 15, 15, 15, 15, 15, 15, 15, 15, 15, 15, 15,\n",
      "        15, 15, 15, 15, 15, 15, 15, 15, 15, 15, 15, 15, 15, 15, 15, 15, 15, 15,\n",
      "        15, 15, 15, 15, 15, 15, 15, 15, 15, 15, 15, 15, 15, 15])\n"
     ]
    }
   ],
   "source": [
    "examples=iter(zh_dataloader_train)\n",
    "examples2=iter(zh_dataloader_test)\n",
    "sents,labels=examples.next()\n",
    "sents2,labels2=examples2.next()\n",
    "assert len(sents)==len(labels)\n",
    "assert len(sents2)==len(labels2)\n",
    "batch_size=len(sents)\n",
    "print(sents[0])\n",
    "print(labels[0])\n",
    "print(sents2[0])\n",
    "print(labels2[0])"
   ]
  },
  {
   "cell_type": "code",
   "execution_count": 89,
   "metadata": {},
   "outputs": [
    {
     "data": {
      "image/png": "[encoded data removed]",
      "text/plain": [
       "<Figure size 576x288 with 1 Axes>"
      ]
     },
     "metadata": {
      "needs_background": "light"
     },
     "output_type": "display_data"
    }
   ],
   "source": [
    "l1 = np.asarray([len(sent) for sents,_ in zh_dataloader_train for sent in sents], dtype=np.int32)\n",
    "l2 = np.asarray([len(sent) for sents,_ in zh_dataloader_test for sent in sents], dtype=np.int32)\n",
    "l3 = np.append(l1,l2)\n",
    "plt.figure(figsize=(8, 4))\n",
    "x = np.unique(l3)\n",
    "plt.bar(x, [np.sum(l3==e) for e in x], width=1)\n",
    "plt.xlabel(\"Sentence length\")\n",
    "plt.ylabel(\"# sentences\") \n",
    "plt.show()"
   ]
  },
  {
   "cell_type": "markdown",
   "metadata": {},
   "source": [
    "Based on the plot above, we can conclude that the sents length for Chinese dataset varies from about 40 to 120"
   ]
  },
  {
   "cell_type": "code",
   "execution_count": 4,
   "metadata": {},
   "outputs": [],
   "source": [
    "#Because I include the pad_and_encode fun in the dataloader, the class won't need this function\n",
    "class LSTMTagger_new(nn.Module):\n",
    "  def __init__(self, word_embedding_dim, lstm_hidden_dim, vocabulary_size, tagset_size,device):\n",
    "   \n",
    "    super(LSTMTagger_new, self).__init__()                                          \n",
    "    self.lstm_hidden_dim_ = lstm_hidden_dim                                     \n",
    "    self.vocabulary_size_ = vocabulary_size\n",
    "    self.tagset_size_ = tagset_size\n",
    "    self.device=device\n",
    "\n",
    "\n",
    "    self._word_embedding = nn.Embedding(num_embeddings=vocabulary_size,        \n",
    "                                         embedding_dim=word_embedding_dim, \n",
    "                                         padding_idx=token2idx['<PAD>'])\n",
    "    self._lstm = nn.LSTM(input_size=word_embedding_dim,                         \n",
    "                         hidden_size=lstm_hidden_dim,                           \n",
    "                         batch_first=True)\n",
    "    self._fc = nn.Linear(lstm_hidden_dim, tagset_size)                          \n",
    "    #self._softmax = nn.LogSoftmax(dim=1)                                        \n",
    "    \n",
    "    self.training_loss_ = list()                                                \n",
    "    self.training_accuracy_ = list()\n",
    "\n",
    "    if torch.cuda.is_available():                                               \n",
    "      self.cuda()\n",
    "\n",
    "\n",
    "\n",
    "  def forward(self, padded_sentences):\n",
    "    batch_size, max_sentence_length = padded_sentences.size()\n",
    "\n",
    "    embedded_sentences = self._word_embedding(padded_sentences)                 \n",
    "\n",
    "    sentence_lengths = (padded_sentences!=token2idx['<PAD>']).sum(dim=1)        \n",
    "    sentence_lengths = sentence_lengths.long().cpu()                            \n",
    "    X = nn.utils.rnn.pack_padded_sequence(embedded_sentences, sentence_lengths, \n",
    "                                          batch_first=True, enforce_sorted=False)\n",
    "    lstm_out, _ = self._lstm(X)                                                 \n",
    "    X, _ = nn.utils.rnn.pad_packed_sequence(lstm_out, batch_first=True)         \n",
    "\n",
    "    X = X.contiguous().view(-1, X.shape[2])                                     \n",
    "    tag_scores = self._fc(X)                                                     \n",
    "    #tag_scores = self._softmax(tag_space)                                    \n",
    "    return tag_scores.view(batch_size, max_sentence_length, self.tagset_size_)\n",
    "\n",
    "  \n",
    "  def score(self,data_loader):\n",
    "    \n",
    "    with torch.no_grad():                                  \n",
    "        n_correct = 0\n",
    "        n_total = 0\n",
    "        for inputs, targets in data_loader:\n",
    "            inputs,targets=inputs.to(self.device),targets.to(self.device)\n",
    "            scores = self.forward(inputs)                                                      \n",
    "            predictions = scores.argmax(dim=2, keepdim=True).squeeze()                 \n",
    "            mask = targets!=tag2idx['<PAD>']                                            \n",
    "            n_correct += (predictions[mask] == targets[mask]).sum().item()              \n",
    "            n_total += mask.sum().item()\n",
    "        return 100*(n_correct/n_total)\n",
    "  \n",
    "        \n",
    "    \n",
    "  def fit(self,data_loader,learning_rate,epochs):\n",
    "\n",
    "    loss_function = nn.CrossEntropyLoss(ignore_index=tag2idx['<PAD>'])              \n",
    "    optimizer = torch.optim.AdamW(self.parameters(), lr=learning_rate)                                      \n",
    "\n",
    "    for epoch in range(epochs):                                                        \n",
    "        with tqdm(data_loader, \n",
    "            total=len(data_loader)//batch_size+1, unit=\"batch\", desc=\"Epoch %i\" % epoch) as batches:\n",
    "            for inputs, targets in batches: \n",
    "                inputs,targets=inputs.to(self.device),targets.to(self.device)\n",
    "                self.zero_grad()                                                        \n",
    "                scores = self.forward(inputs)                                                  \n",
    "                loss = loss_function(scores.view(-1, self.tagset_size_),              \n",
    "                           targets.view(-1))               \n",
    "                loss.backward()                                                           \n",
    "                optimizer.step()                                                         \n",
    "                predictions = scores.argmax(dim=2, keepdim=True).squeeze()                \n",
    "                mask = targets!=tag2idx['<PAD>']                                          \n",
    "                correct = (predictions[mask] == targets[mask]).sum().item()               \n",
    "                accuracy = correct / mask.sum().item()*100\n",
    "                self.training_accuracy_.append(accuracy)                                 \n",
    "                self.training_loss_.append(loss.item())                                 \n",
    "                batches.set_postfix(loss=loss.item(), accuracy=accuracy)  "
   ]
  },
  {
   "cell_type": "code",
   "execution_count": 91,
   "metadata": {},
   "outputs": [
    {
     "name": "stdout",
     "output_type": "stream",
     "text": [
      "LSTMTagger_new(\n",
      "  (_word_embedding): Embedding(17614, 32, padding_idx=17613)\n",
      "  (_lstm): LSTM(32, 64, batch_first=True)\n",
      "  (_fc): Linear(in_features=64, out_features=15, bias=True)\n",
      ")\n"
     ]
    }
   ],
   "source": [
    "model_zh=LSTMTagger_new(word_embedding_dim=32,                                       \n",
    "                   lstm_hidden_dim=64,                                          \n",
    "                   vocabulary_size=len(token2idx),                              \n",
    "                   tagset_size=len(tag2idx)-1,device=torch.device(\"cuda\" if torch.cuda.is_available() else \"cpu\"))  \n",
    "\n",
    "print(model_zh)"
   ]
  },
  {
   "cell_type": "code",
   "execution_count": 92,
   "metadata": {},
   "outputs": [
    {
     "name": "stderr",
     "output_type": "stream",
     "text": [
      "Epoch 0: 40batch [00:01, 22.47batch/s, accuracy=57.4, loss=1.28]                                                       \n",
      "Epoch 1: 40batch [00:02, 17.59batch/s, accuracy=76.4, loss=0.77]                                                       \n",
      "Epoch 2: 40batch [00:02, 16.56batch/s, accuracy=82.6, loss=0.566]                                                      \n",
      "Epoch 3: 40batch [00:02, 15.41batch/s, accuracy=87.2, loss=0.4]                                                        \n",
      "Epoch 4: 40batch [00:02, 15.80batch/s, accuracy=91.4, loss=0.28]                                                       \n",
      "Epoch 5: 40batch [00:02, 16.08batch/s, accuracy=93.4, loss=0.211]                                                      \n",
      "Epoch 6: 40batch [00:02, 16.35batch/s, accuracy=94.4, loss=0.161]                                                      \n",
      "Epoch 7: 40batch [00:02, 16.20batch/s, accuracy=96.3, loss=0.129]                                                      \n",
      "Epoch 8: 40batch [00:02, 16.21batch/s, accuracy=97.5, loss=0.0853]                                                     \n",
      "Epoch 9: 40batch [00:02, 16.03batch/s, accuracy=98.3, loss=0.0663]                                                     \n"
     ]
    }
   ],
   "source": [
    "model_zh.fit(zh_dataloader_train,0.01,10)"
   ]
  },
  {
   "cell_type": "code",
   "execution_count": 93,
   "metadata": {},
   "outputs": [
    {
     "data": {
      "text/plain": [
       "83.999333999334"
      ]
     },
     "execution_count": 93,
     "metadata": {},
     "output_type": "execute_result"
    }
   ],
   "source": [
    "model_zh.score(zh_dataloader_test)"
   ]
  },
  {
   "cell_type": "code",
   "execution_count": 94,
   "metadata": {},
   "outputs": [
    {
     "name": "stdout",
     "output_type": "stream",
     "text": [
      "LSTMTagger_new(\n",
      "  (_word_embedding): Embedding(17614, 40, padding_idx=17613)\n",
      "  (_lstm): LSTM(40, 80, batch_first=True)\n",
      "  (_fc): Linear(in_features=80, out_features=15, bias=True)\n",
      ")\n"
     ]
    }
   ],
   "source": [
    "model_zh2=LSTMTagger_new(word_embedding_dim=40,                                       \n",
    "                   lstm_hidden_dim=80,                                          \n",
    "                   vocabulary_size=len(token2idx),                              \n",
    "                   tagset_size=len(tag2idx)-1,device=torch.device(\"cuda\" if torch.cuda.is_available() else \"cpu\"))  \n",
    "\n",
    "print(model_zh2)"
   ]
  },
  {
   "cell_type": "code",
   "execution_count": 95,
   "metadata": {},
   "outputs": [
    {
     "name": "stderr",
     "output_type": "stream",
     "text": [
      "Epoch 0: 40batch [00:01, 21.25batch/s, accuracy=65.7, loss=1.09]                                                       \n",
      "Epoch 1: 40batch [00:01, 21.38batch/s, accuracy=77.6, loss=0.699]                                                      \n",
      "Epoch 2: 40batch [00:01, 20.83batch/s, accuracy=85.7, loss=0.465]                                                      \n",
      "Epoch 3: 40batch [00:02, 16.88batch/s, accuracy=89.6, loss=0.333]                                                      \n",
      "Epoch 4: 40batch [00:02, 15.43batch/s, accuracy=93.2, loss=0.224]                                                      \n",
      "Epoch 5: 40batch [00:02, 15.73batch/s, accuracy=95.3, loss=0.145]                                                      \n",
      "Epoch 6: 40batch [00:02, 15.78batch/s, accuracy=96.4, loss=0.109]                                                      \n",
      "Epoch 7: 40batch [00:02, 14.64batch/s, accuracy=97.4, loss=0.0923]                                                     \n",
      "Epoch 8: 40batch [00:02, 14.21batch/s, accuracy=98.4, loss=0.0585]                                                     \n",
      "Epoch 9: 40batch [00:02, 14.60batch/s, accuracy=98.9, loss=0.0457]                                                     \n"
     ]
    }
   ],
   "source": [
    "model_zh2.fit(zh_dataloader_train,0.01,10)"
   ]
  },
  {
   "cell_type": "code",
   "execution_count": 96,
   "metadata": {},
   "outputs": [
    {
     "data": {
      "text/plain": [
       "84.43223443223444"
      ]
     },
     "execution_count": 96,
     "metadata": {},
     "output_type": "execute_result"
    }
   ],
   "source": [
    "model_zh2.score(zh_dataloader_test)"
   ]
  },
  {
   "cell_type": "markdown",
   "metadata": {},
   "source": [
    "## Load the English corpus"
   ]
  },
  {
   "cell_type": "code",
   "execution_count": 115,
   "metadata": {},
   "outputs": [
    {
     "name": "stderr",
     "output_type": "stream",
     "text": [
      "--2021-05-18 01:26:03--  https://raw.githubusercontent.com/UniversalDependencies/UD_English-GUM/dev/en_gum-ud-train.conllu\n",
      "Resolving raw.githubusercontent.com (raw.githubusercontent.com)... 185.199.108.133, 185.199.111.133, 185.199.110.133, ...\n",
      "Connecting to raw.githubusercontent.com (raw.githubusercontent.com)|185.199.108.133|:443... connected.\n",
      "HTTP request sent, awaiting response... 200 OK\n",
      "Length: 8125779 (7.7M) [text/plain]\n",
      "Saving to: 'en_gum-ud-train.conllu'\n",
      "\n",
      "     0K .......... .......... .......... .......... ..........  0% 10.3M 1s\n",
      "    50K .......... .......... .......... .......... ..........  1% 60.2M 0s\n",
      "   100K .......... .......... .......... .......... ..........  1% 8.48M 1s\n",
      "   150K .......... .......... .......... .......... ..........  2%  106M 0s\n",
      "   200K .......... .......... .......... .......... ..........  3% 40.5M 0s\n",
      "   250K .......... .......... .......... .......... ..........  3% 12.4M 0s\n",
      "   300K .......... .......... .......... .......... ..........  4% 24.6M 0s\n",
      "   350K .......... .......... .......... .......... ..........  5% 31.1M 0s\n",
      "   400K .......... .......... .......... .......... ..........  5% 21.7M 0s\n",
      "   450K .......... .......... .......... .......... ..........  6% 19.7M 0s\n",
      "   500K .......... .......... .......... .......... ..........  6% 26.0M 0s\n",
      "   550K .......... .......... .......... .......... ..........  7% 14.9M 0s\n",
      "   600K .......... .......... .......... .......... ..........  8%  345M 0s\n",
      "   650K .......... .......... .......... .......... ..........  8% 23.4M 0s\n",
      "   700K .......... .......... .......... .......... ..........  9% 15.1M 0s\n",
      "   750K .......... .......... .......... .......... .......... 10% 43.4M 0s\n",
      "   800K .......... .......... .......... .......... .......... 10% 23.6M 0s\n",
      "   850K .......... .......... .......... .......... .......... 11% 10.9M 0s\n",
      "   900K .......... .......... .......... .......... .......... 11%  535M 0s\n",
      "   950K .......... .......... .......... .......... .......... 12% 20.7M 0s\n",
      "  1000K .......... .......... .......... .......... .......... 13% 31.0M 0s\n",
      "  1050K .......... .......... .......... .......... .......... 13% 17.0M 0s\n",
      "  1100K .......... .......... .......... .......... .......... 14%  398M 0s\n",
      "  1150K .......... .......... .......... .......... .......... 15% 19.1M 0s\n",
      "  1200K .......... .......... .......... .......... .......... 15% 28.7M 0s\n",
      "  1250K .......... .......... .......... .......... .......... 16% 16.6M 0s\n",
      "  1300K .......... .......... .......... .......... .......... 17% 29.1M 0s\n",
      "  1350K .......... .......... .......... .......... .......... 17%  400M 0s\n",
      "  1400K .......... .......... .......... .......... .......... 18% 23.3M 0s\n",
      "  1450K .......... .......... .......... .......... .......... 18% 23.8M 0s\n",
      "  1500K .......... .......... .......... .......... .......... 19% 16.4M 0s\n",
      "  1550K .......... .......... .......... .......... .......... 20% 31.2M 0s\n",
      "  1600K .......... .......... .......... .......... .......... 20%  347M 0s\n",
      "  1650K .......... .......... .......... .......... .......... 21% 22.5M 0s\n",
      "  1700K .......... .......... .......... .......... .......... 22% 21.4M 0s\n",
      "  1750K .......... .......... .......... .......... .......... 22% 19.0M 0s\n",
      "  1800K .......... .......... .......... .......... .......... 23% 24.5M 0s\n",
      "  1850K .......... .......... .......... .......... .......... 23%  424M 0s\n",
      "  1900K .......... .......... .......... .......... .......... 24% 29.8M 0s\n",
      "  1950K .......... .......... .......... .......... .......... 25% 15.9M 0s\n",
      "  2000K .......... .......... .......... .......... .......... 25%  527M 0s\n",
      "  2050K .......... .......... .......... .......... .......... 26% 15.7M 0s\n",
      "  2100K .......... .......... .......... .......... .......... 27%  353M 0s\n",
      "  2150K .......... .......... .......... .......... .......... 27% 36.2M 0s\n",
      "  2200K .......... .......... .......... .......... .......... 28% 19.8M 0s\n",
      "  2250K .......... .......... .......... .......... .......... 28% 35.1M 0s\n",
      "  2300K .......... .......... .......... .......... .......... 29% 24.3M 0s\n",
      "  2350K .......... .......... .......... .......... .......... 30%  347M 0s\n",
      "  2400K .......... .......... .......... .......... .......... 30% 50.9M 0s\n",
      "  2450K .......... .......... .......... .......... .......... 31% 19.4M 0s\n",
      "  2500K .......... .......... .......... .......... .......... 32% 19.7M 0s\n",
      "  2550K .......... .......... .......... .......... .......... 32% 14.3M 0s\n",
      "  2600K .......... .......... .......... .......... .......... 33% 24.2M 0s\n",
      "  2650K .......... .......... .......... .......... .......... 34%  243M 0s\n",
      "  2700K .......... .......... .......... .......... .......... 34% 45.4M 0s\n",
      "  2750K .......... .......... .......... .......... .......... 35% 15.4M 0s\n",
      "  2800K .......... .......... .......... .......... .......... 35% 38.9M 0s\n",
      "  2850K .......... .......... .......... .......... .......... 36% 24.6M 0s\n",
      "  2900K .......... .......... .......... .......... .......... 37% 24.7M 0s\n",
      "  2950K .......... .......... .......... .......... .......... 37% 28.3M 0s\n",
      "  3000K .......... .......... .......... .......... .......... 38% 16.3M 0s\n",
      "  3050K .......... .......... .......... .......... .......... 39%  176M 0s\n",
      "  3100K .......... .......... .......... .......... .......... 39%  157M 0s\n",
      "  3150K .......... .......... .......... .......... .......... 40% 20.7M 0s\n",
      "  3200K .......... .......... .......... .......... .......... 40% 29.2M 0s\n",
      "  3250K .......... .......... .......... .......... .......... 41% 49.5M 0s\n",
      "  3300K .......... .......... .......... .......... .......... 42% 22.4M 0s\n",
      "  3350K .......... .......... .......... .......... .......... 42% 31.6M 0s\n",
      "  3400K .......... .......... .......... .......... .......... 43% 35.5M 0s\n",
      "  3450K .......... .......... .......... .......... .......... 44%  239M 0s\n",
      "  3500K .......... .......... .......... .......... .......... 44% 23.8M 0s\n",
      "  3550K .......... .......... .......... .......... .......... 45% 46.5M 0s\n",
      "  3600K .......... .......... .......... .......... .......... 45% 11.7M 0s\n",
      "  3650K .......... .......... .......... .......... .......... 46% 28.4M 0s\n",
      "  3700K .......... .......... .......... .......... .......... 47% 15.9M 0s\n",
      "  3750K .......... .......... .......... .......... .......... 47%  574M 0s\n",
      "  3800K .......... .......... .......... .......... .......... 48% 26.6M 0s\n",
      "  3850K .......... .......... .......... .......... .......... 49%  189M 0s\n",
      "  3900K .......... .......... .......... .......... .......... 49% 14.6M 0s\n",
      "  3950K .......... .......... .......... .......... .......... 50% 9.41M 0s\n",
      "  4000K .......... .......... .......... .......... .......... 51%  358M 0s\n",
      "  4050K .......... .......... .......... .......... .......... 51% 10.5M 0s\n",
      "  4100K .......... .......... .......... .......... .......... 52%  363M 0s\n",
      "  4150K .......... .......... .......... .......... .......... 52%  338M 0s\n",
      "  4200K .......... .......... .......... .......... .......... 53%  320M 0s\n",
      "  4250K .......... .......... .......... .......... .......... 54% 35.0M 0s\n",
      "  4300K .......... .......... .......... .......... .......... 54%  540M 0s\n",
      "  4350K .......... .......... .......... .......... .......... 55% 28.3M 0s\n",
      "  4400K .......... .......... .......... .......... .......... 56% 11.7M 0s\n",
      "  4450K .......... .......... .......... .......... .......... 56%  347M 0s\n",
      "  4500K .......... .......... .......... .......... .......... 57% 34.0M 0s\n",
      "  4550K .......... .......... .......... .......... .......... 57% 18.3M 0s\n",
      "  4600K .......... .......... .......... .......... .......... 58%  341M 0s\n",
      "  4650K .......... .......... .......... .......... .......... 59% 22.4M 0s\n",
      "  4700K .......... .......... .......... .......... .......... 59%  327M 0s\n",
      "  4750K .......... .......... .......... .......... .......... 60% 23.7M 0s\n",
      "  4800K .......... .......... .......... .......... .......... 61%  400M 0s\n",
      "  4850K .......... .......... .......... .......... .......... 61% 23.1M 0s\n",
      "  4900K .......... .......... .......... .......... .......... 62% 16.0M 0s\n",
      "  4950K .......... .......... .......... .......... .......... 63%  391M 0s\n",
      "  5000K .......... .......... .......... .......... .......... 63% 29.4M 0s\n",
      "  5050K .......... .......... .......... .......... .......... 64%  355M 0s\n",
      "  5100K .......... .......... .......... .......... .......... 64% 16.4M 0s\n",
      "  5150K .......... .......... .......... .......... .......... 65%  376M 0s\n",
      "  5200K .......... .......... .......... .......... .......... 66% 25.7M 0s\n",
      "  5250K .......... .......... .......... .......... .......... 66% 12.0M 0s\n",
      "  5300K .......... .......... .......... .......... .......... 67%  222M 0s\n",
      "  5350K .......... .......... .......... .......... .......... 68%  399M 0s\n",
      "  5400K .......... .......... .......... .......... .......... 68% 23.7M 0s\n",
      "  5450K .......... .......... .......... .......... .......... 69%  337M 0s\n",
      "  5500K .......... .......... .......... .......... .......... 69%  304M 0s\n",
      "  5550K .......... .......... .......... .......... .......... 70% 14.8M 0s\n",
      "  5600K .......... .......... .......... .......... .......... 71%  319M 0s\n",
      "  5650K .......... .......... .......... .......... .......... 71% 49.3M 0s\n",
      "  5700K .......... .......... .......... .......... .......... 72% 23.7M 0s\n",
      "  5750K .......... .......... .......... .......... .......... 73% 18.2M 0s\n",
      "  5800K .......... .......... .......... .......... .......... 73%  494M 0s\n",
      "  5850K .......... .......... .......... .......... .......... 74% 8.23M 0s\n",
      "  5900K .......... .......... .......... .......... .......... 74%  299M 0s\n",
      "  5950K .......... .......... .......... .......... .......... 75% 58.0M 0s\n",
      "  6000K .......... .......... .......... .......... .......... 76% 45.6M 0s\n",
      "  6050K .......... .......... .......... .......... .......... 76% 13.2M 0s\n",
      "  6100K .......... .......... .......... .......... .......... 77% 30.5M 0s\n",
      "  6150K .......... .......... .......... .......... .......... 78% 27.3M 0s\n",
      "  6200K .......... .......... .......... .......... .......... 78% 34.4M 0s\n",
      "  6250K .......... .......... .......... .......... .......... 79% 16.8M 0s\n",
      "  6300K .......... .......... .......... .......... .......... 80%  549M 0s\n",
      "  6350K .......... .......... .......... .......... .......... 80%  378M 0s\n",
      "  6400K .......... .......... .......... .......... .......... 81% 25.6M 0s\n",
      "  6450K .......... .......... .......... .......... .......... 81% 15.5M 0s\n",
      "  6500K .......... .......... .......... .......... .......... 82%  356M 0s\n",
      "  6550K .......... .......... .......... .......... .......... 83% 18.0M 0s\n",
      "  6600K .......... .......... .......... .......... .......... 83%  380M 0s\n",
      "  6650K .......... .......... .......... .......... .......... 84%  204M 0s\n",
      "  6700K .......... .......... .......... .......... .......... 85% 11.4M 0s\n",
      "  6750K .......... .......... .......... .......... .......... 85%  350M 0s\n",
      "  6800K .......... .......... .......... .......... .......... 86%  407M 0s\n",
      "  6850K .......... .......... .......... .......... .......... 86% 12.1M 0s\n",
      "  6900K .......... .......... .......... .......... .......... 87%  209M 0s\n",
      "  6950K .......... .......... .......... .......... .......... 88%  262M 0s\n",
      "  7000K .......... .......... .......... .......... .......... 88%  359M 0s\n",
      "  7050K .......... .......... .......... .......... .......... 89% 24.1M 0s\n",
      "  7100K .......... .......... .......... .......... .......... 90%  404M 0s\n",
      "  7150K .......... .......... .......... .......... .......... 90% 10.2M 0s\n",
      "  7200K .......... .......... .......... .......... .......... 91%  243M 0s\n",
      "  7250K .......... .......... .......... .......... .......... 91%  383M 0s\n",
      "  7300K .......... .......... .......... .......... .......... 92% 21.0M 0s\n",
      "  7350K .......... .......... .......... .......... .......... 93%  357M 0s\n",
      "  7400K .......... .......... .......... .......... .......... 93%  451M 0s\n",
      "  7450K .......... .......... .......... .......... .......... 94% 13.8M 0s\n",
      "  7500K .......... .......... .......... .......... .......... 95%  217M 0s\n",
      "  7550K .......... .......... .......... .......... .......... 95%  564M 0s\n",
      "  7600K .......... .......... .......... .......... .......... 96% 57.5M 0s\n",
      "  7650K .......... .......... .......... .......... .......... 97% 13.8M 0s\n",
      "  7700K .......... .......... .......... .......... .......... 97%  413M 0s\n",
      "  7750K .......... .......... .......... .......... .......... 98% 16.9M 0s\n",
      "  7800K .......... .......... .......... .......... .......... 98%  252M 0s\n",
      "  7850K .......... .......... .......... .......... .......... 99%  360M 0s\n",
      "  7900K .......... .......... .......... .....                100%  116M=0.3s\n",
      "\n",
      "Last-modified header missing -- time-stamps turned off.\n",
      "2021-05-18 01:26:04 (29.7 MB/s) - 'en_gum-ud-train.conllu' saved [8125779/8125779]\n",
      "\n"
     ]
    },
    {
     "name": "stderr",
     "output_type": "stream",
     "text": [
      "--2021-05-18 01:26:04--  https://raw.githubusercontent.com/UniversalDependencies/UD_English-GUM/dev/en_gum-ud-test.conllu\n",
      "Resolving raw.githubusercontent.com (raw.githubusercontent.com)... 185.199.108.133, 185.199.111.133, 185.199.110.133, ...\n",
      "Connecting to raw.githubusercontent.com (raw.githubusercontent.com)|185.199.108.133|:443... connected.\n",
      "HTTP request sent, awaiting response... 200 OK\n",
      "Length: 1279092 (1.2M) [text/plain]\n",
      "Saving to: 'en_gum-ud-test.conllu'\n",
      "\n",
      "     0K .......... .......... .......... .......... ..........  4% 10.0M 0s\n",
      "    50K .......... .......... .......... .......... ..........  8% 26.8M 0s\n",
      "   100K .......... .......... .......... .......... .......... 12% 12.8M 0s\n",
      "   150K .......... .......... .......... .......... .......... 16% 10.9M 0s\n",
      "   200K .......... .......... .......... .......... .......... 20% 14.6M 0s\n",
      "   250K .......... .......... .......... .......... .......... 24% 14.4M 0s\n",
      "   300K .......... .......... .......... .......... .......... 28% 14.9M 0s\n",
      "   350K .......... .......... .......... .......... .......... 32% 13.1M 0s\n",
      "   400K .......... .......... .......... .......... .......... 36% 10.1M 0s\n",
      "   450K .......... .......... .......... .......... .......... 40% 23.1M 0s\n",
      "   500K .......... .......... .......... .......... .......... 44% 13.1M 0s\n",
      "   550K .......... .......... .......... .......... .......... 48% 20.1M 0s\n",
      "   600K .......... .......... .......... .......... .......... 52% 13.6M 0s\n",
      "   650K .......... .......... .......... .......... .......... 56% 23.2M 0s\n",
      "   700K .......... .......... .......... .......... .......... 60% 18.1M 0s\n",
      "   750K .......... .......... .......... .......... .......... 64% 12.8M 0s\n",
      "   800K .......... .......... .......... .......... .......... 68% 23.1M 0s\n",
      "   850K .......... .......... .......... .......... .......... 72% 17.3M 0s\n",
      "   900K .......... .......... .......... .......... .......... 76% 17.1M 0s\n",
      "   950K .......... .......... .......... .......... .......... 80% 12.5M 0s\n",
      "  1000K .......... .......... .......... .......... .......... 84% 24.6M 0s\n",
      "  1050K .......... .......... .......... .......... .......... 88% 25.0M 0s\n",
      "  1100K .......... .......... .......... .......... .......... 92% 15.7M 0s\n",
      "  1150K .......... .......... .......... .......... .......... 96% 19.5M 0s\n",
      "  1200K .......... .......... .......... .......... ......... 100% 33.0M=0.08s\n",
      "\n",
      "Last-modified header missing -- time-stamps turned off.\n",
      "2021-05-18 01:26:05 (15.9 MB/s) - 'en_gum-ud-test.conllu' saved [1279092/1279092]\n",
      "\n"
     ]
    }
   ],
   "source": [
    "!wget -N https://raw.githubusercontent.com/UniversalDependencies/UD_English-GUM/dev/en_gum-ud-train.conllu\n",
    "!wget -N https://raw.githubusercontent.com/UniversalDependencies/UD_English-GUM/dev/en_gum-ud-test.conllu"
   ]
  },
  {
   "cell_type": "code",
   "execution_count": 9,
   "metadata": {},
   "outputs": [],
   "source": [
    "en_dataset_train=CorpusDataset(\"./en_gum-ud-train.conllu\")\n",
    "en_dataset_test=CorpusDataset(\"en_gum-ud-test.conllu\")"
   ]
  },
  {
   "cell_type": "code",
   "execution_count": 10,
   "metadata": {},
   "outputs": [
    {
     "name": "stdout",
     "output_type": "stream",
     "text": [
      "5307\n",
      "836\n",
      "(['Aesthetic', 'Appreciation', 'and', 'Spanish', 'Art', ':'], ['ADJ', 'NOUN', 'CCONJ', 'ADJ', 'NOUN', 'PUNCT'])\n",
      "(['The', 'prevalence', 'of', 'discrimination', 'across', 'racial', 'groups', 'in', 'contemporary', 'America', ':'], ['DET', 'NOUN', 'ADP', 'NOUN', 'ADP', 'ADJ', 'NOUN', 'ADP', 'ADJ', 'PROPN', 'PUNCT'])\n"
     ]
    }
   ],
   "source": [
    "print(len(en_dataset_train))\n",
    "print(len(en_dataset_test))\n",
    "print(en_dataset_train[0])\n",
    "print(en_dataset_test[0])"
   ]
  },
  {
   "cell_type": "code",
   "execution_count": 13,
   "metadata": {},
   "outputs": [
    {
     "name": "stdout",
     "output_type": "stream",
     "text": [
      "14185\n",
      "['<UNK>', 'kind', 'tool', 'bringing', 'drug', 'License', '1920', 'swelling', 'efficient', 'crocheting', 'Universidad', 'discussions', 'sufficient', 'machines', 'Neo']\n",
      "['PROPN', 'SCONJ', 'CCONJ', 'NOUN', 'ADP', None, 'INTJ', 'PRON', 'ADV', 'NUM', 'X', 'VERB', 'DET', 'PART', 'SYM', 'PUNCT', 'AUX', 'ADJ', '<PAD>']\n"
     ]
    }
   ],
   "source": [
    "tokens = {token for sent,_ in en_dataset_train for token in sent}\n",
    "idx2token = list(tokens)\n",
    "idx2token.insert(0, '<UNK>')\n",
    "idx2token.append('<PAD>')\n",
    "token2idx = {token:idx for idx, token in enumerate(idx2token)}\n",
    "\n",
    "tags = {tag for _,label in en_dataset_train for tag in label}\n",
    "idx2tag = list(tags)\n",
    "idx2tag.append('<PAD>')\n",
    "tag2idx = {tag:idx for idx, tag in enumerate(idx2tag)}\n",
    "\n",
    "print(len(idx2token))\n",
    "print(idx2token[:15])\n",
    "print(idx2tag)"
   ]
  },
  {
   "cell_type": "code",
   "execution_count": 118,
   "metadata": {},
   "outputs": [],
   "source": [
    "en_dataloader_train=DataLoader(dataset=en_dataset_train,batch_size=100,shuffle=True,num_workers=0,collate_fn=pad_and_encode)\n",
    "en_dataloader_test=DataLoader(dataset=en_dataset_test,batch_size=100,shuffle=True,num_workers=0,collate_fn=pad_and_encode)"
   ]
  },
  {
   "cell_type": "code",
   "execution_count": 119,
   "metadata": {},
   "outputs": [
    {
     "name": "stdout",
     "output_type": "stream",
     "text": [
      "tensor([ 5592,  1070,  8308, 13779,  9402,  8361, 12066, 10745, 12403,  5453,\n",
      "        13633,  1070,  1325,  5659,  5488,  6294,  9449,  5488,  4013, 10476,\n",
      "        13430, 12403,  3671,  2310, 14184, 14184, 14184, 14184, 14184, 14184,\n",
      "        14184, 14184, 14184, 14184, 14184, 14184, 14184, 14184, 14184, 14184,\n",
      "        14184, 14184, 14184, 14184, 14184, 14184, 14184, 14184, 14184, 14184,\n",
      "        14184, 14184, 14184, 14184, 14184, 14184, 14184, 14184, 14184, 14184,\n",
      "        14184, 14184])\n",
      "tensor([ 8,  3,  9, 16, 15, 16,  5, 16,  1, 16, 16,  3,  0,  1,  9, 16,  1,  9,\n",
      "        17,  8,  8,  1,  8,  3, 18, 18, 18, 18, 18, 18, 18, 18, 18, 18, 18, 18,\n",
      "        18, 18, 18, 18, 18, 18, 18, 18, 18, 18, 18, 18, 18, 18, 18, 18, 18, 18,\n",
      "        18, 18, 18, 18, 18, 18, 18, 18])\n",
      "tensor([10851, 12403,  4647,  9984,  2923,  9271,     0,  6466,  2559, 10437,\n",
      "         6339,  1070, 12403,  5106,  2923,     0,  4647,  8742, 12954,  9351,\n",
      "         9768, 12091,  1898,     0,     0,     0,  2310, 14184, 14184, 14184,\n",
      "        14184, 14184, 14184, 14184, 14184, 14184, 14184, 14184, 14184, 14184,\n",
      "        14184, 14184, 14184, 14184, 14184, 14184, 14184, 14184, 14184, 14184,\n",
      "        14184, 14184, 14184, 14184])\n",
      "tensor([10,  1,  4, 16,  4,  0,  5,  8,  3, 17,  3,  3,  1,  4,  4,  0,  4, 16,\n",
      "         1,  5, 16,  0,  9,  5, 16, 16,  3, 18, 18, 18, 18, 18, 18, 18, 18, 18,\n",
      "        18, 18, 18, 18, 18, 18, 18, 18, 18, 18, 18, 18, 18, 18, 18, 18, 18, 18])\n"
     ]
    }
   ],
   "source": [
    "examples=iter(en_dataloader_train)\n",
    "examples2=iter(en_dataloader_test)\n",
    "sents,labels=examples.next()\n",
    "sents2,labels2=examples2.next()\n",
    "assert len(sents)==len(labels)\n",
    "assert len(sents2)==len(labels2)\n",
    "batch_size=len(sents)\n",
    "print(sents[0])\n",
    "print(labels[0])\n",
    "print(sents2[0])\n",
    "print(labels2[0])"
   ]
  },
  {
   "cell_type": "code",
   "execution_count": 120,
   "metadata": {},
   "outputs": [
    {
     "data": {
      "image/png": "[encoded data removed]",
      "text/plain": [
       "<Figure size 576x288 with 1 Axes>"
      ]
     },
     "metadata": {
      "needs_background": "light"
     },
     "output_type": "display_data"
    }
   ],
   "source": [
    "l1 = np.asarray([len(sent) for sents,_ in en_dataloader_train for sent in sents], dtype=np.int32)\n",
    "l2 = np.asarray([len(sent) for sents,_ in en_dataloader_test for sent in sents], dtype=np.int32)\n",
    "l3 = np.append(l1,l2)\n",
    "plt.figure(figsize=(8, 4))\n",
    "x = np.unique(l3)\n",
    "plt.bar(x, [np.sum(l3==e) for e in x], width=1)\n",
    "plt.xlabel(\"Sentence length\")\n",
    "plt.ylabel(\"# sentences\") \n",
    "plt.show()"
   ]
  },
  {
   "cell_type": "markdown",
   "metadata": {},
   "source": [
    "Based on the plot above, we can conclude that lenght of sentences mainly lingers from 50 to 70"
   ]
  },
  {
   "cell_type": "code",
   "execution_count": 132,
   "metadata": {},
   "outputs": [
    {
     "name": "stdout",
     "output_type": "stream",
     "text": [
      "LSTMTagger_new(\n",
      "  (_word_embedding): Embedding(14185, 32, padding_idx=14184)\n",
      "  (_lstm): LSTM(32, 64, batch_first=True)\n",
      "  (_fc): Linear(in_features=64, out_features=18, bias=True)\n",
      ")\n"
     ]
    }
   ],
   "source": [
    "model_en=LSTMTagger_new(word_embedding_dim=32,                                       \n",
    "                   lstm_hidden_dim=64,                                          \n",
    "                   vocabulary_size=len(token2idx),                              \n",
    "                   tagset_size=len(tag2idx)-1,device=torch.device(\"cuda\" if torch.cuda.is_available() else \"cpu\"))  \n",
    "\n",
    "print(model_en)"
   ]
  },
  {
   "cell_type": "code",
   "execution_count": 133,
   "metadata": {},
   "outputs": [
    {
     "name": "stderr",
     "output_type": "stream",
     "text": [
      "Epoch 0: 54batch [00:02, 26.24batch/s, accuracy=69, loss=0.992]                                                        \n",
      "Epoch 1: 54batch [00:02, 26.51batch/s, accuracy=77.3, loss=0.658]                                                      \n",
      "Epoch 2: 54batch [00:02, 26.60batch/s, accuracy=82.6, loss=0.466]                                                      \n",
      "Epoch 3: 54batch [00:02, 26.60batch/s, accuracy=95.1, loss=0.166]                                                      \n",
      "Epoch 4: 54batch [00:02, 26.40batch/s, accuracy=91.5, loss=0.358]                                                      \n",
      "Epoch 5: 54batch [00:02, 26.36batch/s, accuracy=95.9, loss=0.186]                                                      \n",
      "Epoch 6: 54batch [00:02, 26.52batch/s, accuracy=96.7, loss=0.108]                                                      \n",
      "Epoch 7: 54batch [00:02, 26.21batch/s, accuracy=95.7, loss=0.14]                                                       \n",
      "Epoch 8: 54batch [00:02, 23.72batch/s, accuracy=97.9, loss=0.0583]                                                     \n",
      "Epoch 9: 54batch [00:02, 23.12batch/s, accuracy=97.8, loss=0.112]                                                      \n"
     ]
    }
   ],
   "source": [
    "model_en.fit(en_dataloader_train,0.01,10)"
   ]
  },
  {
   "cell_type": "code",
   "execution_count": 134,
   "metadata": {},
   "outputs": [
    {
     "data": {
      "text/plain": [
       "83.08873614465291"
      ]
     },
     "execution_count": 134,
     "metadata": {},
     "output_type": "execute_result"
    }
   ],
   "source": [
    "model_en.score(en_dataloader_test)"
   ]
  },
  {
   "cell_type": "code",
   "execution_count": 141,
   "metadata": {},
   "outputs": [
    {
     "name": "stdout",
     "output_type": "stream",
     "text": [
      "LSTMTagger_new(\n",
      "  (_word_embedding): Embedding(14185, 40, padding_idx=14184)\n",
      "  (_lstm): LSTM(40, 80, batch_first=True)\n",
      "  (_fc): Linear(in_features=80, out_features=18, bias=True)\n",
      ")\n"
     ]
    }
   ],
   "source": [
    "model_en2=LSTMTagger_new(word_embedding_dim=40,                                       \n",
    "                   lstm_hidden_dim=80,                                          \n",
    "                   vocabulary_size=len(token2idx),                              \n",
    "                   tagset_size=len(tag2idx)-1,device=torch.device(\"cuda\" if torch.cuda.is_available() else \"cpu\"))  \n",
    "\n",
    "print(model_en2)"
   ]
  },
  {
   "cell_type": "code",
   "execution_count": 136,
   "metadata": {},
   "outputs": [
    {
     "name": "stderr",
     "output_type": "stream",
     "text": [
      "Epoch 0: 54batch [00:02, 22.77batch/s, accuracy=67.3, loss=0.872]                                                      \n",
      "Epoch 1: 54batch [00:02, 25.05batch/s, accuracy=89.8, loss=0.326]                                                      \n",
      "Epoch 2: 54batch [00:02, 25.22batch/s, accuracy=88.1, loss=0.328]                                                      \n",
      "Epoch 3: 54batch [00:02, 19.95batch/s, accuracy=92, loss=0.238]                                                        \n",
      "Epoch 4: 54batch [00:02, 18.18batch/s, accuracy=95.8, loss=0.149]                                                      \n",
      "Epoch 5: 54batch [00:02, 18.37batch/s, accuracy=96.5, loss=0.0865]                                                     \n",
      "Epoch 6: 54batch [00:03, 17.72batch/s, accuracy=96.3, loss=0.0903]                                                     \n",
      "Epoch 7: 54batch [00:03, 17.79batch/s, accuracy=96.7, loss=0.108]                                                      \n",
      "Epoch 8: 54batch [00:02, 18.26batch/s, accuracy=97, loss=0.0808]                                                       \n",
      "Epoch 9: 54batch [00:02, 18.05batch/s, accuracy=98.2, loss=0.044]                                                      \n"
     ]
    }
   ],
   "source": [
    "model_en2.fit(en_dataloader_train,0.01,10)"
   ]
  },
  {
   "cell_type": "code",
   "execution_count": 137,
   "metadata": {},
   "outputs": [
    {
     "data": {
      "text/plain": [
       "84.40151092946931"
      ]
     },
     "execution_count": 137,
     "metadata": {},
     "output_type": "execute_result"
    }
   ],
   "source": [
    "model_en2.score(en_dataloader_test)"
   ]
  },
  {
   "cell_type": "markdown",
   "metadata": {},
   "source": [
    "## Load the  Greek Corpus"
   ]
  },
  {
   "cell_type": "code",
   "execution_count": 16,
   "metadata": {},
   "outputs": [
    {
     "name": "stderr",
     "output_type": "stream",
     "text": [
      "--2021-05-18 19:24:23--  https://raw.githubusercontent.com/UniversalDependencies/UD_Greek-GDT/dev/el_gdt-ud-train.conllu\n",
      "Resolving raw.githubusercontent.com (raw.githubusercontent.com)... 185.199.110.133, 185.199.108.133, 185.199.109.133, ...\n",
      "Connecting to raw.githubusercontent.com (raw.githubusercontent.com)|185.199.110.133|:443... connected.\n",
      "HTTP request sent, awaiting response... 200 OK\n",
      "Length: 3857960 (3.7M) [text/plain]\n",
      "Saving to: 'el_gdt-ud-train.conllu'\n",
      "\n",
      "     0K .......... .......... .......... .......... ..........  1% 9.69M 0s\n",
      "    50K .......... .......... .......... .......... ..........  2% 28.3M 0s\n",
      "   100K .......... .......... .......... .......... ..........  3% 10.2M 0s\n",
      "   150K .......... .......... .......... .......... ..........  5% 11.4M 0s\n",
      "   200K .......... .......... .......... .......... ..........  6% 13.5M 0s\n",
      "   250K .......... .......... .......... .......... ..........  7% 14.3M 0s\n",
      "   300K .......... .......... .......... .......... ..........  9% 9.53M 0s\n",
      "   350K .......... .......... .......... .......... .......... 10% 12.5M 0s\n",
      "   400K .......... .......... .......... .......... .......... 11% 14.7M 0s\n",
      "   450K .......... .......... .......... .......... .......... 13% 10.7M 0s\n",
      "   500K .......... .......... .......... .......... .......... 14% 42.1M 0s\n",
      "   550K .......... .......... .......... .......... .......... 15% 9.02M 0s\n",
      "   600K .......... .......... .......... .......... .......... 17% 22.1M 0s\n",
      "   650K .......... .......... .......... .......... .......... 18% 14.1M 0s\n",
      "   700K .......... .......... .......... .......... .......... 19% 14.4M 0s\n",
      "   750K .......... .......... .......... .......... .......... 21% 15.3M 0s\n",
      "   800K .......... .......... .......... .......... .......... 22% 14.7M 0s\n",
      "   850K .......... .......... .......... .......... .......... 23% 21.3M 0s\n",
      "   900K .......... .......... .......... .......... .......... 25% 14.8M 0s\n",
      "   950K .......... .......... .......... .......... .......... 26% 13.2M 0s\n",
      "  1000K .......... .......... .......... .......... .......... 27% 12.6M 0s\n",
      "  1050K .......... .......... .......... .......... .......... 29% 32.3M 0s\n",
      "  1100K .......... .......... .......... .......... .......... 30% 13.5M 0s\n",
      "  1150K .......... .......... .......... .......... .......... 31% 16.4M 0s\n",
      "  1200K .......... .......... .......... .......... .......... 33% 24.8M 0s\n",
      "  1250K .......... .......... .......... .......... .......... 34% 15.2M 0s\n",
      "  1300K .......... .......... .......... .......... .......... 35% 15.0M 0s\n",
      "  1350K .......... .......... .......... .......... .......... 37% 17.6M 0s\n",
      "  1400K .......... .......... .......... .......... .......... 38% 21.6M 0s\n",
      "  1450K .......... .......... .......... .......... .......... 39% 11.4M 0s\n",
      "  1500K .......... .......... .......... .......... .......... 41% 42.0M 0s\n",
      "  1550K .......... .......... .......... .......... .......... 42% 33.9M 0s\n",
      "  1600K .......... .......... .......... .......... .......... 43% 10.7M 0s\n",
      "  1650K .......... .......... .......... .......... .......... 45% 15.8M 0s\n",
      "  1700K .......... .......... .......... .......... .......... 46% 42.1M 0s\n",
      "  1750K .......... .......... .......... .......... .......... 47% 21.3M 0s\n",
      "  1800K .......... .......... .......... .......... .......... 49% 9.57M 0s\n",
      "  1850K .......... .......... .......... .......... .......... 50% 29.2M 0s\n",
      "  1900K .......... .......... .......... .......... .......... 51% 34.0M 0s\n",
      "  1950K .......... .......... .......... .......... .......... 53% 17.7M 0s\n",
      "  2000K .......... .......... .......... .......... .......... 54% 17.3M 0s\n",
      "  2050K .......... .......... .......... .......... .......... 55% 25.3M 0s\n",
      "  2100K .......... .......... .......... .......... .......... 57% 19.5M 0s\n",
      "  2150K .......... .......... .......... .......... .......... 58% 37.7M 0s\n",
      "  2200K .......... .......... .......... .......... .......... 59% 21.1M 0s\n",
      "  2250K .......... .......... .......... .......... .......... 61% 12.1M 0s\n",
      "  2300K .......... .......... .......... .......... .......... 62% 13.9M 0s\n",
      "  2350K .......... .......... .......... .......... .......... 63% 36.1M 0s\n",
      "  2400K .......... .......... .......... .......... .......... 65%  162M 0s\n",
      "  2450K .......... .......... .......... .......... .......... 66% 10.1M 0s\n",
      "  2500K .......... .......... .......... .......... .......... 67% 29.6M 0s\n",
      "  2550K .......... .......... .......... .......... .......... 69% 10.4M 0s\n",
      "  2600K .......... .......... .......... .......... .......... 70%  143M 0s\n",
      "  2650K .......... .......... .......... .......... .......... 71%  135M 0s\n",
      "  2700K .......... .......... .......... .......... .......... 72% 10.6M 0s\n",
      "  2750K .......... .......... .......... .......... .......... 74% 11.0M 0s\n",
      "  2800K .......... .......... .......... .......... .......... 75% 61.0M 0s\n",
      "  2850K .......... .......... .......... .......... .......... 76% 17.9M 0s\n",
      "  2900K .......... .......... .......... .......... .......... 78% 66.9M 0s\n",
      "  2950K .......... .......... .......... .......... .......... 79% 17.5M 0s\n",
      "  3000K .......... .......... .......... .......... .......... 80% 45.5M 0s\n",
      "  3050K .......... .......... .......... .......... .......... 82% 15.4M 0s\n",
      "  3100K .......... .......... .......... .......... .......... 83% 50.7M 0s\n",
      "  3150K .......... .......... .......... .......... .......... 84% 21.9M 0s\n",
      "  3200K .......... .......... .......... .......... .......... 86% 12.2M 0s\n",
      "  3250K .......... .......... .......... .......... .......... 87%  214M 0s\n",
      "  3300K .......... .......... .......... .......... .......... 88% 11.4M 0s\n",
      "  3350K .......... .......... .......... .......... .......... 90%  214M 0s\n",
      "  3400K .......... .......... .......... .......... .......... 91% 19.3M 0s\n",
      "  3450K .......... .......... .......... .......... .......... 92% 30.1M 0s\n",
      "  3500K .......... .......... .......... .......... .......... 94% 1.28M 0s\n",
      "  3550K .......... .......... .......... .......... .......... 95% 67.5M 0s\n",
      "  3600K .......... .......... .......... .......... .......... 96% 77.5M 0s\n",
      "  3650K .......... .......... .......... .......... .......... 98% 13.3M 0s\n",
      "  3700K .......... .......... .......... .......... .......... 99% 7.06M 0s\n",
      "  3750K .......... .......                                    100% 7.81M=0.2s\n",
      "\n",
      "Last-modified header missing -- time-stamps turned off.\n",
      "2021-05-18 19:24:23 (14.9 MB/s) - 'el_gdt-ud-train.conllu' saved [3857960/3857960]\n",
      "\n",
      "--2021-05-18 19:24:23--  https://raw.githubusercontent.com/UniversalDependencies/UD_Greek-GDT/dev/el_gdt-ud-test.conllu\n",
      "Resolving raw.githubusercontent.com (raw.githubusercontent.com)... 185.199.110.133, 185.199.108.133, 185.199.109.133, ...\n",
      "Connecting to raw.githubusercontent.com (raw.githubusercontent.com)|185.199.110.133|:443... connected.\n",
      "HTTP request sent, awaiting response... 200 OK\n",
      "Length: 974446 (952K) [text/plain]\n",
      "Saving to: 'el_gdt-ud-test.conllu'\n",
      "\n",
      "     0K .......... .......... .......... .......... ..........  5% 7.58M 0s\n",
      "    50K .......... .......... .......... .......... .......... 10% 22.0M 0s\n",
      "   100K .......... .......... .......... .......... .......... 15% 21.6M 0s\n",
      "   150K .......... .......... .......... .......... .......... 21% 17.8M 0s\n",
      "   200K .......... .......... .......... .......... .......... 26% 13.7M 0s\n",
      "   250K .......... .......... .......... .......... .......... 31% 14.9M 0s\n",
      "   300K .......... .......... .......... .......... .......... 36% 34.2M 0s\n",
      "   350K .......... .......... .......... .......... .......... 42% 14.4M 0s\n",
      "   400K .......... .......... .......... .......... .......... 47% 29.0M 0s\n",
      "   450K .......... .......... .......... .......... .......... 52% 15.3M 0s\n",
      "   500K .......... .......... .......... .......... .......... 57% 19.1M 0s\n",
      "   550K .......... .......... .......... .......... .......... 63% 29.2M 0s\n",
      "   600K .......... .......... .......... .......... .......... 68% 13.0M 0s\n",
      "   650K .......... .......... .......... .......... .......... 73% 22.5M 0s\n",
      "   700K .......... .......... .......... .......... .......... 78% 18.8M 0s\n",
      "   750K .......... .......... .......... .......... .......... 84% 32.8M 0s\n",
      "   800K .......... .......... .......... .......... .......... 89% 29.2M 0s\n",
      "   850K .......... .......... .......... .......... .......... 94% 21.2M 0s\n",
      "   900K .......... .......... .......... .......... .......... 99% 24.0M 0s\n",
      "   950K .                                                     100% 30.7G=0.05s\n",
      "\n",
      "Last-modified header missing -- time-stamps turned off.\n",
      "2021-05-18 19:24:24 (18.4 MB/s) - 'el_gdt-ud-test.conllu' saved [974446/974446]\n",
      "\n"
     ]
    }
   ],
   "source": [
    "!wget -N https://raw.githubusercontent.com/UniversalDependencies/UD_Greek-GDT/dev/el_gdt-ud-train.conllu\n",
    "!wget -N https://raw.githubusercontent.com/UniversalDependencies/UD_Greek-GDT/dev/el_gdt-ud-test.conllu"
   ]
  },
  {
   "cell_type": "code",
   "execution_count": 204,
   "metadata": {},
   "outputs": [],
   "source": [
    "el_dataset_train=CorpusDataset(\"./el_gdt-ud-train.conllu\")\n",
    "el_dataset_test=CorpusDataset(\"./el_gdt-ud-test.conllu\")"
   ]
  },
  {
   "cell_type": "code",
   "execution_count": 205,
   "metadata": {},
   "outputs": [
    {
     "name": "stdout",
     "output_type": "stream",
     "text": [
      "1631\n",
      "441\n",
      "(['Η', 'Μάντσεστερ', 'Γιουνάιτεντ', 'ηττήθηκε', 'από', 'την', 'Ατλέτικο', 'Μπιλμπάο', 'με', 'σκορ', '2:3'], ['DET', 'X', 'X', 'VERB', 'ADP', 'DET', 'X', 'X', 'ADP', 'X', 'NUM'])\n",
      "(['Κύριε', 'Πρόεδρε', ',', 'το', 'ζήτημα', 'του', 'ευρωπαϊκού', 'εντάλματος', 'σύλληψης', 'είναι', 'πραγματικά', 'πολύ', 'περίεργο', ',', 'όχι', 'μόνο', 'διότι', 'παραμένουν', 'ασαφή', 'σημαντικά', 'θέματα', ',', 'αλλά', 'και', 'διότι', 'το', 'Κοινοβούλιο', 'δεν', 'τολμά', 'να', 'επιβάλει', 'τις', 'θέσεις', 'επί', 'των', 'οποίων', 'συμφωνεί', '.'], ['NOUN', 'NOUN', 'PUNCT', 'DET', 'NOUN', 'DET', 'ADJ', 'NOUN', 'NOUN', 'AUX', 'ADV', 'ADV', 'ADJ', 'PUNCT', 'ADV', 'ADV', 'SCONJ', 'VERB', 'ADJ', 'ADJ', 'NOUN', 'PUNCT', 'CCONJ', 'CCONJ', 'SCONJ', 'DET', 'NOUN', 'PART', 'VERB', 'AUX', 'VERB', 'DET', 'NOUN', 'ADP', 'DET', 'PRON', 'VERB', 'PUNCT'])\n"
     ]
    }
   ],
   "source": [
    "print(len(el_dataset_train))\n",
    "print(len(el_dataset_test))\n",
    "print(el_dataset_train[0])\n",
    "print(el_dataset_test[0])"
   ]
  },
  {
   "cell_type": "code",
   "execution_count": 206,
   "metadata": {},
   "outputs": [
    {
     "name": "stdout",
     "output_type": "stream",
     "text": [
      "9031\n",
      "['<UNK>', 'ακρογωνιαίο', 'κοινής', 'δεκαετούς', 'οτιδήποτε', '1920', 'αναπτυχθεί', 'αγοράζονται', 'παρέλευση', 'οδικών', 'κατέδειξε', 'Δεκαεννέα', 'συγκεκριμένους', 'Κατά', 'προετοιμάζουν']\n",
      "['PROPN', 'SCONJ', 'CCONJ', 'ADP', 'NOUN', None, 'X', 'NUM', 'ADV', 'PRON', 'VERB', 'DET', 'PART', 'SYM', 'PUNCT', 'AUX', 'ADJ', '<PAD>']\n"
     ]
    }
   ],
   "source": [
    "tokens = {token for sent,_ in el_dataset_train for token in sent}\n",
    "idx2token = list(tokens)\n",
    "idx2token.insert(0, '<UNK>')\n",
    "idx2token.append('<PAD>')\n",
    "token2idx = {token:idx for idx, token in enumerate(idx2token)}\n",
    "\n",
    "tags = {tag for _,label in el_dataset_train for tag in label}\n",
    "idx2tag = list(tags)\n",
    "idx2tag.append('<PAD>')\n",
    "tag2idx = {tag:idx for idx, tag in enumerate(idx2tag)}\n",
    "\n",
    "print(len(idx2token))\n",
    "print(idx2token[:15])\n",
    "print(idx2tag)"
   ]
  },
  {
   "cell_type": "code",
   "execution_count": 207,
   "metadata": {},
   "outputs": [],
   "source": [
    "el_dataloader_train=DataLoader(dataset=el_dataset_train,batch_size=100,shuffle=True,num_workers=0,collate_fn=pad_and_encode)\n",
    "el_dataloader_test=DataLoader(dataset=el_dataset_test,batch_size=100,shuffle=True,num_workers=0,collate_fn=pad_and_encode)"
   ]
  },
  {
   "cell_type": "code",
   "execution_count": 208,
   "metadata": {},
   "outputs": [
    {
     "name": "stdout",
     "output_type": "stream",
     "text": [
      "tensor([4346, 6038, 2705,  497, 8693, 4739, 2210, 8596, 8719, 5391, 6542, 1091,\n",
      "        2118,  906, 7934, 8353, 3161, 1574, 6210, 4739,  458, 5664, 6212, 4168,\n",
      "        9030, 9030, 9030, 9030, 9030, 9030, 9030, 9030, 9030, 9030, 9030, 9030,\n",
      "        9030, 9030, 9030, 9030, 9030, 9030, 9030, 9030, 9030, 9030, 9030, 9030,\n",
      "        9030, 9030, 9030, 9030, 9030, 9030, 9030, 9030, 9030, 9030, 9030, 9030,\n",
      "        9030, 9030, 9030, 9030, 9030, 9030, 9030, 9030, 9030, 9030, 9030, 9030,\n",
      "        9030, 9030, 9030, 9030, 9030, 9030, 9030, 9030, 9030, 9030, 9030, 9030,\n",
      "        9030, 9030, 9030, 9030, 9030, 9030, 9030, 9030, 9030, 9030, 9030, 9030,\n",
      "        9030, 9030, 9030, 9030, 9030])\n",
      "tensor([11,  4, 10,  5,  3, 11,  0, 11,  4, 16,  4,  4, 14, 11,  9, 10,  8,  4,\n",
      "         3, 11,  4, 11,  0, 14, 17, 17, 17, 17, 17, 17, 17, 17, 17, 17, 17, 17,\n",
      "        17, 17, 17, 17, 17, 17, 17, 17, 17, 17, 17, 17, 17, 17, 17, 17, 17, 17,\n",
      "        17, 17, 17, 17, 17, 17, 17, 17, 17, 17, 17, 17, 17, 17, 17, 17, 17, 17,\n",
      "        17, 17, 17, 17, 17, 17, 17, 17, 17, 17, 17, 17, 17, 17, 17, 17, 17, 17,\n",
      "        17, 17, 17, 17, 17, 17, 17, 17, 17, 17, 17])\n",
      "tensor([4346, 4968, 2118,  455,    0, 3589,  455, 5859,    0,    0, 4955,    0,\n",
      "         497, 8693, 4739,    0, 7847, 6210, 3369,  602, 7929,    0, 4168, 9030,\n",
      "        9030, 9030, 9030, 9030, 9030, 9030, 9030, 9030, 9030, 9030, 9030, 9030,\n",
      "        9030, 9030, 9030, 9030, 9030, 9030, 9030, 9030, 9030, 9030, 9030, 9030,\n",
      "        9030, 9030, 9030, 9030, 9030, 9030, 9030, 9030, 9030, 9030, 9030, 9030,\n",
      "        9030, 9030, 9030, 9030, 9030, 9030, 9030, 9030, 9030, 9030, 9030, 9030,\n",
      "        9030, 9030, 9030, 9030, 9030, 9030, 9030, 9030, 9030, 9030, 9030, 9030,\n",
      "        9030, 9030, 9030, 9030])\n",
      "tensor([11,  0, 14, 11,  0,  2, 11, 16,  0, 10, 15, 10,  5,  3, 11,  4,  8,  3,\n",
      "        11,  4,  3,  0, 14, 17, 17, 17, 17, 17, 17, 17, 17, 17, 17, 17, 17, 17,\n",
      "        17, 17, 17, 17, 17, 17, 17, 17, 17, 17, 17, 17, 17, 17, 17, 17, 17, 17,\n",
      "        17, 17, 17, 17, 17, 17, 17, 17, 17, 17, 17, 17, 17, 17, 17, 17, 17, 17,\n",
      "        17, 17, 17, 17, 17, 17, 17, 17, 17, 17, 17, 17, 17, 17, 17, 17])\n"
     ]
    }
   ],
   "source": [
    "examples=iter(el_dataloader_train)\n",
    "examples2=iter(el_dataloader_test)\n",
    "sents,labels=examples.next()\n",
    "sents2,labels2=examples2.next()\n",
    "assert len(sents)==len(labels)\n",
    "assert len(sents2)==len(labels2)\n",
    "batch_size=len(sents)\n",
    "print(sents[0])\n",
    "print(labels[0])\n",
    "print(sents2[0])\n",
    "print(labels2[0])"
   ]
  },
  {
   "cell_type": "code",
   "execution_count": 209,
   "metadata": {},
   "outputs": [
    {
     "data": {
      "image/png": "[encoded data removed]",
      "text/plain": [
       "<Figure size 576x288 with 1 Axes>"
      ]
     },
     "metadata": {
      "needs_background": "light"
     },
     "output_type": "display_data"
    }
   ],
   "source": [
    "l1 = np.asarray([len(sent) for sents,_ in el_dataloader_train for sent in sents], dtype=np.int32)\n",
    "l2 = np.asarray([len(sent) for sents,_ in el_dataloader_test for sent in sents], dtype=np.int32)\n",
    "l3 = np.append(l1,l2)\n",
    "plt.figure(figsize=(8, 4))\n",
    "x = np.unique(l3)\n",
    "plt.bar(x, [np.sum(l3==e) for e in x], width=1)\n",
    "plt.xlabel(\"Sentence length\")\n",
    "plt.ylabel(\"# sentences\") \n",
    "plt.show()"
   ]
  },
  {
   "cell_type": "code",
   "execution_count": 210,
   "metadata": {},
   "outputs": [
    {
     "name": "stdout",
     "output_type": "stream",
     "text": [
      "LSTMTagger_new(\n",
      "  (_word_embedding): Embedding(9031, 32, padding_idx=9030)\n",
      "  (_lstm): LSTM(32, 64, batch_first=True)\n",
      "  (_fc): Linear(in_features=64, out_features=17, bias=True)\n",
      ")\n"
     ]
    }
   ],
   "source": [
    "model_el=LSTMTagger_new(word_embedding_dim=32,                                       \n",
    "                   lstm_hidden_dim=64,                                          \n",
    "                   vocabulary_size=len(token2idx),                              \n",
    "                   tagset_size=len(tag2idx)-1,device=torch.device(\"cuda\" if torch.cuda.is_available() else \"cpu\"))  \n",
    "\n",
    "print(model_el)"
   ]
  },
  {
   "cell_type": "code",
   "execution_count": 211,
   "metadata": {},
   "outputs": [
    {
     "name": "stderr",
     "output_type": "stream",
     "text": [
      "Epoch 0: 17batch [00:00, 20.84batch/s, accuracy=52.9, loss=1.67]                                                       \n",
      "Epoch 1: 17batch [00:00, 21.23batch/s, accuracy=67.2, loss=1.09]                                                       \n",
      "Epoch 2: 17batch [00:00, 20.08batch/s, accuracy=79.1, loss=0.7]                                                        \n",
      "Epoch 3: 17batch [00:01, 15.88batch/s, accuracy=82.8, loss=0.574]                                                      \n",
      "Epoch 4: 17batch [00:01, 14.94batch/s, accuracy=89.2, loss=0.399]                                                      \n",
      "Epoch 5: 17batch [00:01, 15.23batch/s, accuracy=92.1, loss=0.283]                                                      \n",
      "Epoch 6: 17batch [00:01, 15.13batch/s, accuracy=93.6, loss=0.229]                                                      \n",
      "Epoch 7: 17batch [00:01, 14.93batch/s, accuracy=97, loss=0.123]                                                        \n",
      "Epoch 8: 17batch [00:01, 14.96batch/s, accuracy=96.2, loss=0.122]                                                      \n",
      "Epoch 9: 17batch [00:01, 15.26batch/s, accuracy=98.8, loss=0.052]                                                      \n"
     ]
    }
   ],
   "source": [
    "model_el.fit(el_dataloader_train,0.01,10)"
   ]
  },
  {
   "cell_type": "code",
   "execution_count": 212,
   "metadata": {},
   "outputs": [
    {
     "data": {
      "text/plain": [
       "88.06202973022573"
      ]
     },
     "execution_count": 212,
     "metadata": {},
     "output_type": "execute_result"
    }
   ],
   "source": [
    "model_el.score(el_dataloader_test)"
   ]
  },
  {
   "cell_type": "code",
   "execution_count": 213,
   "metadata": {},
   "outputs": [
    {
     "name": "stdout",
     "output_type": "stream",
     "text": [
      "LSTMTagger_new(\n",
      "  (_word_embedding): Embedding(9031, 40, padding_idx=9030)\n",
      "  (_lstm): LSTM(40, 80, batch_first=True)\n",
      "  (_fc): Linear(in_features=80, out_features=17, bias=True)\n",
      ")\n"
     ]
    }
   ],
   "source": [
    "model_el2=LSTMTagger_new(word_embedding_dim=40,                                       \n",
    "                   lstm_hidden_dim=80,                                          \n",
    "                   vocabulary_size=len(token2idx),                              \n",
    "                   tagset_size=len(tag2idx)-1,device=torch.device(\"cuda\" if torch.cuda.is_available() else \"cpu\"))  \n",
    "\n",
    "print(model_el2)"
   ]
  },
  {
   "cell_type": "code",
   "execution_count": 214,
   "metadata": {},
   "outputs": [
    {
     "name": "stderr",
     "output_type": "stream",
     "text": [
      "Epoch 0: 17batch [00:00, 19.94batch/s, accuracy=57.3, loss=1.47]                                                       \n",
      "Epoch 1: 17batch [00:00, 20.01batch/s, accuracy=72.2, loss=0.907]                                                      \n",
      "Epoch 2: 17batch [00:00, 20.16batch/s, accuracy=80.4, loss=0.596]                                                      \n",
      "Epoch 3: 17batch [00:00, 18.83batch/s, accuracy=87.3, loss=0.428]                                                      \n",
      "Epoch 4: 17batch [00:01, 15.20batch/s, accuracy=89.3, loss=0.374]                                                      \n",
      "Epoch 5: 17batch [00:01, 14.57batch/s, accuracy=94.4, loss=0.198]                                                      \n",
      "Epoch 6: 17batch [00:01, 14.32batch/s, accuracy=96.5, loss=0.126]                                                      \n",
      "Epoch 7: 17batch [00:01, 14.36batch/s, accuracy=97.4, loss=0.0906]                                                     \n",
      "Epoch 8: 17batch [00:01, 14.16batch/s, accuracy=98.8, loss=0.046]                                                      \n",
      "Epoch 9: 17batch [00:01, 14.36batch/s, accuracy=98.9, loss=0.0519]                                                     \n"
     ]
    }
   ],
   "source": [
    "model_el2.fit(el_dataloader_train,0.01,10)"
   ]
  },
  {
   "cell_type": "code",
   "execution_count": 215,
   "metadata": {},
   "outputs": [
    {
     "data": {
      "text/plain": [
       "88.82363736465406"
      ]
     },
     "execution_count": 215,
     "metadata": {},
     "output_type": "execute_result"
    }
   ],
   "source": [
    "model_el2.score(el_dataloader_test)"
   ]
  },
  {
   "cell_type": "markdown",
   "metadata": {},
   "source": [
    "## Load the Spanish Corpus"
   ]
  },
  {
   "cell_type": "code",
   "execution_count": 35,
   "metadata": {},
   "outputs": [
    {
     "name": "stderr",
     "output_type": "stream",
     "text": [
      "--2021-05-18 20:19:44--  https://raw.githubusercontent.com/UniversalDependencies/UD_Spanish-AnCora/dev/es_ancora-ud-train.conllu\n",
      "Resolving raw.githubusercontent.com (raw.githubusercontent.com)... 185.199.111.133, 185.199.108.133, 185.199.109.133, ...\n",
      "Connecting to raw.githubusercontent.com (raw.githubusercontent.com)|185.199.111.133|:443... connected.\n",
      "HTTP request sent, awaiting response... 200 OK\n",
      "Length: 29279116 (28M) [text/plain]\n",
      "Saving to: 'es_ancora-ud-train.conllu'\n",
      "\n",
      "     0K .......... .......... .......... .......... ..........  0% 8.72M 3s\n",
      "    50K .......... .......... .......... .......... ..........  0% 28.6M 2s\n",
      "   100K .......... .......... .......... .......... ..........  0% 16.0M 2s\n",
      "   150K .......... .......... .......... .......... ..........  0% 15.9M 2s\n",
      "   200K .......... .......... .......... .......... ..........  0% 15.1M 2s\n",
      "   250K .......... .......... .......... .......... ..........  1% 15.3M 2s\n",
      "   300K .......... .......... .......... .......... ..........  1% 26.2M 2s\n",
      "   350K .......... .......... .......... .......... ..........  1% 22.4M 2s\n",
      "   400K .......... .......... .......... .......... ..........  1% 19.5M 2s\n",
      "   450K .......... .......... .......... .......... ..........  1% 15.1M 2s\n",
      "   500K .......... .......... .......... .......... ..........  1% 28.6M 2s\n",
      "   550K .......... .......... .......... .......... ..........  2% 45.2M 2s\n",
      "   600K .......... .......... .......... .......... ..........  2% 6.98M 2s\n",
      "   650K .......... .......... .......... .......... ..........  2% 39.1M 2s\n",
      "   700K .......... .......... .......... .......... ..........  2% 27.7M 2s\n",
      "   750K .......... .......... .......... .......... ..........  2% 14.2M 2s\n",
      "   800K .......... .......... .......... .......... ..........  2% 20.4M 2s\n",
      "   850K .......... .......... .......... .......... ..........  3% 18.6M 2s\n",
      "   900K .......... .......... .......... .......... ..........  3% 24.6M 2s\n",
      "   950K .......... .......... .......... .......... ..........  3% 33.1M 2s\n",
      "  1000K .......... .......... .......... .......... ..........  3% 19.2M 1s\n",
      "  1050K .......... .......... .......... .......... ..........  3% 12.5M 2s\n",
      "  1100K .......... .......... .......... .......... ..........  4%  317M 1s\n",
      "  1150K .......... .......... .......... .......... ..........  4% 20.4M 1s\n",
      "  1200K .......... .......... .......... .......... ..........  4% 52.4M 1s\n",
      "  1250K .......... .......... .......... .......... ..........  4% 13.9M 1s\n",
      "  1300K .......... .......... .......... .......... ..........  4% 18.9M 1s\n",
      "  1350K .......... .......... .......... .......... ..........  4% 44.4M 1s\n",
      "  1400K .......... .......... .......... .......... ..........  5% 14.6M 1s\n",
      "  1450K .......... .......... .......... .......... ..........  5% 21.6M 1s\n",
      "  1500K .......... .......... .......... .......... ..........  5% 27.7M 1s\n",
      "  1550K .......... .......... .......... .......... ..........  5% 16.9M 1s\n",
      "  1600K .......... .......... .......... .......... ..........  5% 31.5M 1s\n",
      "  1650K .......... .......... .......... .......... ..........  5% 32.5M 1s\n",
      "  1700K .......... .......... .......... .......... ..........  6% 11.4M 1s\n",
      "  1750K .......... .......... .......... .......... ..........  6% 27.4M 1s\n",
      "  1800K .......... .......... .......... .......... ..........  6% 16.7M 1s\n",
      "  1850K .......... .......... .......... .......... ..........  6%  434M 1s\n",
      "  1900K .......... .......... .......... .......... ..........  6% 19.2M 1s\n",
      "  1950K .......... .......... .......... .......... ..........  6% 62.7M 1s\n",
      "  2000K .......... .......... .......... .......... ..........  7% 19.8M 1s\n",
      "  2050K .......... .......... .......... .......... ..........  7% 32.1M 1s\n",
      "  2100K .......... .......... .......... .......... ..........  7% 17.0M 1s\n",
      "  2150K .......... .......... .......... .......... ..........  7% 46.8M 1s\n",
      "  2200K .......... .......... .......... .......... ..........  7% 28.3M 1s\n",
      "  2250K .......... .......... .......... .......... ..........  8% 22.7M 1s\n",
      "  2300K .......... .......... .......... .......... ..........  8% 34.9M 1s\n",
      "  2350K .......... .......... .......... .......... ..........  8% 16.1M 1s\n",
      "  2400K .......... .......... .......... .......... ..........  8% 24.3M 1s\n",
      "  2450K .......... .......... .......... .......... ..........  8%  512M 1s\n",
      "  2500K .......... .......... .......... .......... ..........  8% 25.3M 1s\n",
      "  2550K .......... .......... .......... .......... ..........  9% 33.0M 1s\n",
      "  2600K .......... .......... .......... .......... ..........  9% 17.7M 1s\n",
      "  2650K .......... .......... .......... .......... ..........  9% 14.0M 1s\n",
      "  2700K .......... .......... .......... .......... ..........  9% 28.1M 1s\n",
      "  2750K .......... .......... .......... .......... ..........  9% 13.4M 1s\n",
      "  2800K .......... .......... .......... .......... ..........  9%  322M 1s\n",
      "  2850K .......... .......... .......... .......... .......... 10% 38.9M 1s\n",
      "  2900K .......... .......... .......... .......... .......... 10% 38.6M 1s\n",
      "  2950K .......... .......... .......... .......... .......... 10% 24.1M 1s\n",
      "  3000K .......... .......... .......... .......... .......... 10% 11.6M 1s\n",
      "  3050K .......... .......... .......... .......... .......... 10% 23.2M 1s\n",
      "  3100K .......... .......... .......... .......... .......... 11%  433M 1s\n",
      "  3150K .......... .......... .......... .......... .......... 11% 34.4M 1s\n",
      "  3200K .......... .......... .......... .......... .......... 11% 22.4M 1s\n",
      "  3250K .......... .......... .......... .......... .......... 11% 31.3M 1s\n",
      "  3300K .......... .......... .......... .......... .......... 11%  312M 1s\n",
      "  3350K .......... .......... .......... .......... .......... 11% 12.8M 1s\n",
      "  3400K .......... .......... .......... .......... .......... 12% 92.8M 1s\n",
      "  3450K .......... .......... .......... .......... .......... 12% 21.7M 1s\n",
      "  3500K .......... .......... .......... .......... .......... 12% 32.4M 1s\n",
      "  3550K .......... .......... .......... .......... .......... 12%  274M 1s\n",
      "  3600K .......... .......... .......... .......... .......... 12% 23.9M 1s\n",
      "  3650K .......... .......... .......... .......... .......... 12% 29.8M 1s\n",
      "  3700K .......... .......... .......... .......... .......... 13% 13.3M 1s\n",
      "  3750K .......... .......... .......... .......... .......... 13%  543M 1s\n",
      "  3800K .......... .......... .......... .......... .......... 13% 30.2M 1s\n",
      "  3850K .......... .......... .......... .......... .......... 13% 14.4M 1s\n",
      "  3900K .......... .......... .......... .......... .......... 13%  316M 1s\n",
      "  3950K .......... .......... .......... .......... .......... 13%  261M 1s\n",
      "  4000K .......... .......... .......... .......... .......... 14% 14.6M 1s\n",
      "  4050K .......... .......... .......... .......... .......... 14% 18.1M 1s\n",
      "  4100K .......... .......... .......... .......... .......... 14%  530M 1s\n",
      "  4150K .......... .......... .......... .......... .......... 14% 21.2M 1s\n",
      "  4200K .......... .......... .......... .......... .......... 14%  471M 1s\n",
      "  4250K .......... .......... .......... .......... .......... 15% 13.3M 1s\n",
      "  4300K .......... .......... .......... .......... .......... 15%  397M 1s\n",
      "  4350K .......... .......... .......... .......... .......... 15% 23.0M 1s\n",
      "  4400K .......... .......... .......... .......... .......... 15% 20.6M 1s\n",
      "  4450K .......... .......... .......... .......... .......... 15%  370M 1s\n",
      "  4500K .......... .......... .......... .......... .......... 15% 31.7M 1s\n",
      "  4550K .......... .......... .......... .......... .......... 16% 19.4M 1s\n",
      "  4600K .......... .......... .......... .......... .......... 16%  187M 1s\n",
      "  4650K .......... .......... .......... .......... .......... 16% 20.2M 1s\n",
      "  4700K .......... .......... .......... .......... .......... 16%  585M 1s\n",
      "  4750K .......... .......... .......... .......... .......... 16% 22.0M 1s\n",
      "  4800K .......... .......... .......... .......... .......... 16%  389M 1s\n",
      "  4850K .......... .......... .......... .......... .......... 17% 26.1M 1s\n",
      "  4900K .......... .......... .......... .......... .......... 17% 20.8M 1s\n",
      "  4950K .......... .......... .......... .......... .......... 17% 16.1M 1s\n",
      "  5000K .......... .......... .......... .......... .......... 17%  447M 1s\n",
      "  5050K .......... .......... .......... .......... .......... 17% 27.4M 1s\n",
      "  5100K .......... .......... .......... .......... .......... 18%  149M 1s\n",
      "  5150K .......... .......... .......... .......... .......... 18% 17.3M 1s\n",
      "  5200K .......... .......... .......... .......... .......... 18%  435M 1s\n",
      "  5250K .......... .......... .......... .......... .......... 18% 34.6M 1s\n",
      "  5300K .......... .......... .......... .......... .......... 18% 28.2M 1s\n",
      "  5350K .......... .......... .......... .......... .......... 18%  242M 1s\n",
      "  5400K .......... .......... .......... .......... .......... 19% 20.6M 1s\n",
      "  5450K .......... .......... .......... .......... .......... 19% 19.4M 1s\n",
      "  5500K .......... .......... .......... .......... .......... 19%  543M 1s\n",
      "  5550K .......... .......... .......... .......... .......... 19% 11.5M 1s\n",
      "  5600K .......... .......... .......... .......... .......... 19%  279M 1s\n",
      "  5650K .......... .......... .......... .......... .......... 19%  321M 1s\n",
      "  5700K .......... .......... .......... .......... .......... 20% 82.9M 1s\n",
      "  5750K .......... .......... .......... .......... .......... 20% 31.1M 1s\n",
      "  5800K .......... .......... .......... .......... .......... 20% 15.6M 1s\n",
      "  5850K .......... .......... .......... .......... .......... 20%  387M 1s\n",
      "  5900K .......... .......... .......... .......... .......... 20% 51.6M 1s\n",
      "  5950K .......... .......... .......... .......... .......... 20% 36.3M 1s\n",
      "  6000K .......... .......... .......... .......... .......... 21% 13.8M 1s\n",
      "  6050K .......... .......... .......... .......... .......... 21%  567M 1s\n",
      "  6100K .......... .......... .......... .......... .......... 21% 22.2M 1s\n",
      "  6150K .......... .......... .......... .......... .......... 21%  572M 1s\n",
      "  6200K .......... .......... .......... .......... .......... 21% 15.7M 1s\n",
      "  6250K .......... .......... .......... .......... .......... 22%  176M 1s\n",
      "  6300K .......... .......... .......... .......... .......... 22% 36.8M 1s\n",
      "  6350K .......... .......... .......... .......... .......... 22%  511M 1s\n",
      "  6400K .......... .......... .......... .......... .......... 22% 20.9M 1s\n",
      "  6450K .......... .......... .......... .......... .......... 22% 16.5M 1s\n",
      "  6500K .......... .......... .......... .......... .......... 22% 24.0M 1s\n",
      "  6550K .......... .......... .......... .......... .......... 23% 24.8M 1s\n",
      "  6600K .......... .......... .......... .......... .......... 23% 14.2M 1s\n",
      "  6650K .......... .......... .......... .......... .......... 23%  322M 1s\n",
      "  6700K .......... .......... .......... .......... .......... 23%  220M 1s\n",
      "  6750K .......... .......... .......... .......... .......... 23% 20.1M 1s\n",
      "  6800K .......... .......... .......... .......... .......... 23%  471M 1s\n",
      "  6850K .......... .......... .......... .......... .......... 24%  321M 1s\n",
      "  6900K .......... .......... .......... .......... .......... 24% 10.6M 1s\n",
      "  6950K .......... .......... .......... .......... .......... 24%  284M 1s\n",
      "  7000K .......... .......... .......... .......... .......... 24%  303M 1s\n",
      "  7050K .......... .......... .......... .......... .......... 24% 59.7M 1s\n",
      "  7100K .......... .......... .......... .......... .......... 25% 9.92M 1s\n",
      "  7150K .......... .......... .......... .......... .......... 25%  203M 1s\n",
      "  7200K .......... .......... .......... .......... .......... 25%  354M 1s\n",
      "  7250K .......... .......... .......... .......... .......... 25% 15.3M 1s\n",
      "  7300K .......... .......... .......... .......... .......... 25%  185M 1s\n",
      "  7350K .......... .......... .......... .......... .......... 25%  540M 1s\n",
      "  7400K .......... .......... .......... .......... .......... 26% 12.7M 1s\n",
      "  7450K .......... .......... .......... .......... .......... 26%  284M 1s\n",
      "  7500K .......... .......... .......... .......... .......... 26%  586M 1s\n",
      "  7550K .......... .......... .......... .......... .......... 26%  149M 1s\n",
      "  7600K .......... .......... .......... .......... .......... 26% 28.6M 1s\n",
      "  7650K .......... .......... .......... .......... .......... 26% 30.4M 1s\n",
      "  7700K .......... .......... .......... .......... .......... 27% 18.9M 1s\n",
      "  7750K .......... .......... .......... .......... .......... 27%  558M 1s\n",
      "  7800K .......... .......... .......... .......... .......... 27% 32.2M 1s\n",
      "  7850K .......... .......... .......... .......... .......... 27% 18.9M 1s\n",
      "  7900K .......... .......... .......... .......... .......... 27%  437M 1s\n",
      "  7950K .......... .......... .......... .......... .......... 27% 8.17M 1s\n",
      "  8000K .......... .......... .......... .......... .......... 28%  329M 1s\n",
      "  8050K .......... .......... .......... .......... .......... 28% 12.3M 1s\n",
      "  8100K .......... .......... .......... .......... .......... 28%  310M 1s\n",
      "  8150K .......... .......... .......... .......... .......... 28%  255M 1s\n",
      "  8200K .......... .......... .......... .......... .......... 28%  446M 1s\n",
      "  8250K .......... .......... .......... .......... .......... 29% 11.3M 1s\n",
      "  8300K .......... .......... .......... .......... .......... 29%  230M 1s\n",
      "  8350K .......... .......... .......... .......... .......... 29%  192M 1s\n",
      "  8400K .......... .......... .......... .......... .......... 29%  394M 1s\n",
      "  8450K .......... .......... .......... .......... .......... 29% 55.6M 1s\n",
      "  8500K .......... .......... .......... .......... .......... 29% 21.7M 1s\n",
      "  8550K .......... .......... .......... .......... .......... 30%  293M 1s\n",
      "  8600K .......... .......... .......... .......... .......... 30% 17.1M 1s\n",
      "  8650K .......... .......... .......... .......... .......... 30%  159M 1s\n",
      "  8700K .......... .......... .......... .......... .......... 30% 25.8M 1s\n",
      "  8750K .......... .......... .......... .......... .......... 30%  552M 1s\n",
      "  8800K .......... .......... .......... .......... .......... 30% 12.7M 1s\n",
      "  8850K .......... .......... .......... .......... .......... 31%  245M 1s\n",
      "  8900K .......... .......... .......... .......... .......... 31%  461M 1s\n",
      "  8950K .......... .......... .......... .......... .......... 31% 28.4M 1s\n",
      "  9000K .......... .......... .......... .......... .......... 31% 18.4M 1s\n",
      "  9050K .......... .......... .......... .......... .......... 31%  289M 1s\n",
      "  9100K .......... .......... .......... .......... .......... 32%  584M 1s\n",
      "  9150K .......... .......... .......... .......... .......... 32% 11.7M 1s\n",
      "  9200K .......... .......... .......... .......... .......... 32%  183M 1s\n",
      "  9250K .......... .......... .......... .......... .......... 32%  554M 1s\n",
      "  9300K .......... .......... .......... .......... .......... 32% 27.8M 1s\n",
      "  9350K .......... .......... .......... .......... .......... 32%  535M 1s\n",
      "  9400K .......... .......... .......... .......... .......... 33% 12.7M 1s\n",
      "  9450K .......... .......... .......... .......... .......... 33%  361M 1s\n",
      "  9500K .......... .......... .......... .......... .......... 33% 13.1M 1s\n",
      "  9550K .......... .......... .......... .......... .......... 33%  428M 1s\n",
      "  9600K .......... .......... .......... .......... .......... 33%  251M 1s\n",
      "  9650K .......... .......... .......... .......... .......... 33%  421M 1s\n",
      "  9700K .......... .......... .......... .......... .......... 34% 11.4M 1s\n",
      "  9750K .......... .......... .......... .......... .......... 34%  336M 1s\n",
      "  9800K .......... .......... .......... .......... .......... 34%  471M 1s\n",
      "  9850K .......... .......... .......... .......... .......... 34% 21.8M 1s\n",
      "  9900K .......... .......... .......... .......... .......... 34%  388M 1s\n",
      "  9950K .......... .......... .......... .......... .......... 34% 16.4M 1s\n",
      " 10000K .......... .......... .......... .......... .......... 35% 21.3M 1s\n",
      " 10050K .......... .......... .......... .......... .......... 35%  570M 1s\n",
      " 10100K .......... .......... .......... .......... .......... 35% 30.6M 1s\n",
      " 10150K .......... .......... .......... .......... .......... 35% 13.4M 1s\n",
      " 10200K .......... .......... .......... .......... .......... 35%  211M 1s\n",
      " 10250K .......... .......... .......... .......... .......... 36% 1.18M 1s\n",
      " 10300K .......... .......... .......... .......... .......... 36%  285M 1s\n",
      " 10350K .......... .......... .......... .......... .......... 36%  198M 1s\n",
      " 10400K .......... .......... .......... .......... .......... 36%  489M 1s\n",
      " 10450K .......... .......... .......... .......... .......... 36% 9.49M 1s\n",
      " 10500K .......... .......... .......... .......... .......... 36%  489M 1s\n",
      " 10550K .......... .......... .......... .......... .......... 37%  230M 1s\n",
      " 10600K .......... .......... .......... .......... .......... 37% 10.8M 1s\n",
      " 10650K .......... .......... .......... .......... .......... 37%  547M 1s\n",
      " 10700K .......... .......... .......... .......... .......... 37% 4.16M 1s\n",
      " 10750K .......... .......... .......... .......... .......... 37% 36.1M 1s\n",
      " 10800K .......... .......... .......... .......... .......... 37%  295M 1s\n",
      " 10850K .......... .......... .......... .......... .......... 38%  261M 1s\n",
      " 10900K .......... .......... .......... .......... .......... 38%  441M 1s\n",
      " 10950K .......... .......... .......... .......... .......... 38%  507M 1s\n",
      " 11000K .......... .......... .......... .......... .......... 38%  198M 1s\n",
      " 11050K .......... .......... .......... .......... .......... 38%  392M 1s\n",
      " 11100K .......... .......... .......... .......... .......... 38% 30.1M 1s\n",
      " 11150K .......... .......... .......... .......... .......... 39%  172M 1s\n",
      " 11200K .......... .......... .......... .......... .......... 39% 11.6M 1s\n",
      " 11250K .......... .......... .......... .......... .......... 39% 35.0M 1s\n",
      " 11300K .......... .......... .......... .......... .......... 39% 15.2M 1s\n",
      " 11350K .......... .......... .......... .......... .......... 39%  404M 1s\n",
      " 11400K .......... .......... .......... .......... .......... 40% 27.4M 1s\n",
      " 11450K .......... .......... .......... .......... .......... 40% 18.8M 1s\n",
      " 11500K .......... .......... .......... .......... .......... 40%  253M 1s\n",
      " 11550K .......... .......... .......... .......... .......... 40% 18.8M 1s\n",
      " 11600K .......... .......... .......... .......... .......... 40%  341M 1s\n",
      " 11650K .......... .......... .......... .......... .......... 40% 14.2M 1s\n",
      " 11700K .......... .......... .......... .......... .......... 41%  253M 1s\n",
      " 11750K .......... .......... .......... .......... .......... 41% 27.5M 1s\n",
      " 11800K .......... .......... .......... .......... .......... 41%  300M 1s\n",
      " 11850K .......... .......... .......... .......... .......... 41% 18.8M 1s\n",
      " 11900K .......... .......... .......... .......... .......... 41%  405M 1s\n",
      " 11950K .......... .......... .......... .......... .......... 41% 13.4M 1s\n",
      " 12000K .......... .......... .......... .......... .......... 42%  165M 1s\n",
      " 12050K .......... .......... .......... .......... .......... 42%  592M 1s\n",
      " 12100K .......... .......... .......... .......... .......... 42% 18.8M 1s\n",
      " 12150K .......... .......... .......... .......... .......... 42%  550M 1s\n",
      " 12200K .......... .......... .......... .......... .......... 42% 10.4M 1s\n",
      " 12250K .......... .......... .......... .......... .......... 43%  195M 1s\n",
      " 12300K .......... .......... .......... .......... .......... 43%  547M 1s\n",
      " 12350K .......... .......... .......... .......... .......... 43%  570M 1s\n",
      " 12400K .......... .......... .......... .......... .......... 43% 16.0M 1s\n",
      " 12450K .......... .......... .......... .......... .......... 43%  316M 1s\n",
      " 12500K .......... .......... .......... .......... .......... 43% 22.0M 1s\n",
      " 12550K .......... .......... .......... .......... .......... 44%  172M 1s\n",
      " 12600K .......... .......... .......... .......... .......... 44% 18.1M 1s\n",
      " 12650K .......... .......... .......... .......... .......... 44%  512M 1s\n",
      " 12700K .......... .......... .......... .......... .......... 44% 16.7M 1s\n",
      " 12750K .......... .......... .......... .......... .......... 44%  510M 1s\n",
      " 12800K .......... .......... .......... .......... .......... 44%  341M 1s\n",
      " 12850K .......... .......... .......... .......... .......... 45% 28.6M 1s\n",
      " 12900K .......... .......... .......... .......... .......... 45% 35.2M 1s\n",
      " 12950K .......... .......... .......... .......... .......... 45%  441M 1s\n",
      " 13000K .......... .......... .......... .......... .......... 45% 7.44M 1s\n",
      " 13050K .......... .......... .......... .......... .......... 45% 27.8M 1s\n",
      " 13100K .......... .......... .......... .......... .......... 45% 22.5M 1s\n",
      " 13150K .......... .......... .......... .......... .......... 46% 16.1M 1s\n",
      " 13200K .......... .......... .......... .......... .......... 46%  385M 1s\n",
      " 13250K .......... .......... .......... .......... .......... 46% 17.7M 1s\n",
      " 13300K .......... .......... .......... .......... .......... 46%  230M 1s\n",
      " 13350K .......... .......... .......... .......... .......... 46%  330M 1s\n",
      " 13400K .......... .......... .......... .......... .......... 47% 11.3M 1s\n",
      " 13450K .......... .......... .......... .......... .......... 47%  513M 1s\n",
      " 13500K .......... .......... .......... .......... .......... 47% 10.3M 1s\n",
      " 13550K .......... .......... .......... .......... .......... 47%  270M 1s\n",
      " 13600K .......... .......... .......... .......... .......... 47% 11.0M 1s\n",
      " 13650K .......... .......... .......... .......... .......... 47%  165M 1s\n",
      " 13700K .......... .......... .......... .......... .......... 48%  326M 1s\n",
      " 13750K .......... .......... .......... .......... .......... 48% 12.4M 1s\n",
      " 13800K .......... .......... .......... .......... .......... 48%  228M 1s\n",
      " 13850K .......... .......... .......... .......... .......... 48%  288M 1s\n",
      " 13900K .......... .......... .......... .......... .......... 48%  472M 1s\n",
      " 13950K .......... .......... .......... .......... .......... 48% 21.0M 1s\n",
      " 14000K .......... .......... .......... .......... .......... 49% 26.2M 1s\n",
      " 14050K .......... .......... .......... .......... .......... 49%  317M 1s\n",
      " 14100K .......... .......... .......... .......... .......... 49% 20.3M 1s\n",
      " 14150K .......... .......... .......... .......... .......... 49% 34.9M 1s\n",
      " 14200K .......... .......... .......... .......... .......... 49% 25.4M 1s\n",
      " 14250K .......... .......... .......... .......... .......... 50% 22.9M 1s\n",
      " 14300K .......... .......... .......... .......... .......... 50% 18.2M 1s\n",
      " 14350K .......... .......... .......... .......... .......... 50%  518M 1s\n",
      " 14400K .......... .......... .......... .......... .......... 50% 21.9M 1s\n",
      " 14450K .......... .......... .......... .......... .......... 50%  333M 1s\n",
      " 14500K .......... .......... .......... .......... .......... 50%  310M 1s\n",
      " 14550K .......... .......... .......... .......... .......... 51% 16.1M 1s\n",
      " 14600K .......... .......... .......... .......... .......... 51%  156M 0s\n",
      " 14650K .......... .......... .......... .......... .......... 51% 8.94M 0s\n",
      " 14700K .......... .......... .......... .......... .......... 51%  541M 0s\n",
      " 14750K .......... .......... .......... .......... .......... 51% 10.5M 0s\n",
      " 14800K .......... .......... .......... .......... .......... 51%  325M 0s\n",
      " 14850K .......... .......... .......... .......... .......... 52%  272M 0s\n",
      " 14900K .......... .......... .......... .......... .......... 52%  384M 0s\n",
      " 14950K .......... .......... .......... .......... .......... 52% 26.3M 0s\n",
      " 15000K .......... .......... .......... .......... .......... 52%  324M 0s\n",
      " 15050K .......... .......... .......... .......... .......... 52% 10.2M 0s\n",
      " 15100K .......... .......... .......... .......... .......... 52%  313M 0s\n",
      " 15150K .......... .......... .......... .......... .......... 53%  217M 0s\n",
      " 15200K .......... .......... .......... .......... .......... 53% 25.8M 0s\n",
      " 15250K .......... .......... .......... .......... .......... 53% 29.6M 0s\n",
      " 15300K .......... .......... .......... .......... .......... 53%  507M 0s\n",
      " 15350K .......... .......... .......... .......... .......... 53% 17.8M 0s\n",
      " 15400K .......... .......... .......... .......... .......... 54% 14.3M 0s\n",
      " 15450K .......... .......... .......... .......... .......... 54%  407M 0s\n",
      " 15500K .......... .......... .......... .......... .......... 54%  557M 0s\n",
      " 15550K .......... .......... .......... .......... .......... 54% 18.5M 0s\n",
      " 15600K .......... .......... .......... .......... .......... 54%  250M 0s\n",
      " 15650K .......... .......... .......... .......... .......... 54% 17.7M 0s\n",
      " 15700K .......... .......... .......... .......... .......... 55%  219M 0s\n",
      " 15750K .......... .......... .......... .......... .......... 55%  574M 0s\n",
      " 15800K .......... .......... .......... .......... .......... 55% 18.7M 0s\n",
      " 15850K .......... .......... .......... .......... .......... 55% 17.6M 0s\n",
      " 15900K .......... .......... .......... .......... .......... 55%  327M 0s\n",
      " 15950K .......... .......... .......... .......... .......... 55% 20.9M 0s\n",
      " 16000K .......... .......... .......... .......... .......... 56%  200M 0s\n",
      " 16050K .......... .......... .......... .......... .......... 56%  312M 0s\n",
      " 16100K .......... .......... .......... .......... .......... 56% 16.8M 0s\n",
      " 16150K .......... .......... .......... .......... .......... 56%  305M 0s\n",
      " 16200K .......... .......... .......... .......... .......... 56%  132M 0s\n",
      " 16250K .......... .......... .......... .......... .......... 57% 15.1M 0s\n",
      " 16300K .......... .......... .......... .......... .......... 57%  240M 0s\n",
      " 16350K .......... .......... .......... .......... .......... 57% 26.1M 0s\n",
      " 16400K .......... .......... .......... .......... .......... 57% 23.8M 0s\n",
      " 16450K .......... .......... .......... .......... .......... 57%  509M 0s\n",
      " 16500K .......... .......... .......... .......... .......... 57% 16.6M 0s\n",
      " 16550K .......... .......... .......... .......... .......... 58%  333M 0s\n",
      " 16600K .......... .......... .......... .......... .......... 58% 19.1M 0s\n",
      " 16650K .......... .......... .......... .......... .......... 58%  406M 0s\n",
      " 16700K .......... .......... .......... .......... .......... 58% 15.1M 0s\n",
      " 16750K .......... .......... .......... .......... .......... 58%  289M 0s\n",
      " 16800K .......... .......... .......... .......... .......... 58%  229M 0s\n",
      " 16850K .......... .......... .......... .......... .......... 59% 30.7M 0s\n",
      " 16900K .......... .......... .......... .......... .......... 59%  509M 0s\n",
      " 16950K .......... .......... .......... .......... .......... 59% 14.3M 0s\n",
      " 17000K .......... .......... .......... .......... .......... 59% 9.01M 0s\n",
      " 17050K .......... .......... .......... .......... .......... 59%  304M 0s\n",
      " 17100K .......... .......... .......... .......... .......... 59%  586M 0s\n",
      " 17150K .......... .......... .......... .......... .......... 60% 12.9M 0s\n",
      " 17200K .......... .......... .......... .......... .......... 60%  250M 0s\n",
      " 17250K .......... .......... .......... .......... .......... 60%  315M 0s\n",
      " 17300K .......... .......... .......... .......... .......... 60%  579M 0s\n",
      " 17350K .......... .......... .......... .......... .......... 60% 10.4M 0s\n",
      " 17400K .......... .......... .......... .......... .......... 61% 18.2M 0s\n",
      " 17450K .......... .......... .......... .......... .......... 61% 28.3M 0s\n",
      " 17500K .......... .......... .......... .......... .......... 61%  259M 0s\n",
      " 17550K .......... .......... .......... .......... .......... 61% 17.3M 0s\n",
      " 17600K .......... .......... .......... .......... .......... 61%  364M 0s\n",
      " 17650K .......... .......... .......... .......... .......... 61% 24.6M 0s\n",
      " 17700K .......... .......... .......... .......... .......... 62%  267M 0s\n",
      " 17750K .......... .......... .......... .......... .......... 62% 11.3M 0s\n",
      " 17800K .......... .......... .......... .......... .......... 62%  309M 0s\n",
      " 17850K .......... .......... .......... .......... .......... 62%  156M 0s\n",
      " 17900K .......... .......... .......... .......... .......... 62% 40.7M 0s\n",
      " 17950K .......... .......... .......... .......... .......... 62%  512M 0s\n",
      " 18000K .......... .......... .......... .......... .......... 63% 11.2M 0s\n",
      " 18050K .......... .......... .......... .......... .......... 63%  351M 0s\n",
      " 18100K .......... .......... .......... .......... .......... 63%  392M 0s\n",
      " 18150K .......... .......... .......... .......... .......... 63%  123M 0s\n",
      " 18200K .......... .......... .......... .......... .......... 63% 24.0M 0s\n",
      " 18250K .......... .......... .......... .......... .......... 64% 15.9M 0s\n",
      " 18300K .......... .......... .......... .......... .......... 64%  385M 0s\n",
      " 18350K .......... .......... .......... .......... .......... 64% 18.3M 0s\n",
      " 18400K .......... .......... .......... .......... .......... 64%  233M 0s\n",
      " 18450K .......... .......... .......... .......... .......... 64%  417M 0s\n",
      " 18500K .......... .......... .......... .......... .......... 64% 10.8M 0s\n",
      " 18550K .......... .......... .......... .......... .......... 65%  257M 0s\n",
      " 18600K .......... .......... .......... .......... .......... 65%  411M 0s\n",
      " 18650K .......... .......... .......... .......... .......... 65% 13.9M 0s\n",
      " 18700K .......... .......... .......... .......... .......... 65%  560M 0s\n",
      " 18750K .......... .......... .......... .......... .......... 65% 15.6M 0s\n",
      " 18800K .......... .......... .......... .......... .......... 65%  176M 0s\n",
      " 18850K .......... .......... .......... .......... .......... 66%  232M 0s\n",
      " 18900K .......... .......... .......... .......... .......... 66% 11.4M 0s\n",
      " 18950K .......... .......... .......... .......... .......... 66%  589M 0s\n",
      " 19000K .......... .......... .......... .......... .......... 66%  285M 0s\n",
      " 19050K .......... .......... .......... .......... .......... 66%  399M 0s\n",
      " 19100K .......... .......... .......... .......... .......... 66% 42.9M 0s\n",
      " 19150K .......... .......... .......... .......... .......... 67% 13.9M 0s\n",
      " 19200K .......... .......... .......... .......... .......... 67%  284M 0s\n",
      " 19250K .......... .......... .......... .......... .......... 67%  604M 0s\n",
      " 19300K .......... .......... .......... .......... .......... 67% 29.4M 0s\n",
      " 19350K .......... .......... .......... .......... .......... 67% 15.6M 0s\n",
      " 19400K .......... .......... .......... .......... .......... 68%  295M 0s\n",
      " 19450K .......... .......... .......... .......... .......... 68% 19.2M 0s\n",
      " 19500K .......... .......... .......... .......... .......... 68%  556M 0s\n",
      " 19550K .......... .......... .......... .......... .......... 68%  581M 0s\n",
      " 19600K .......... .......... .......... .......... .......... 68% 16.9M 0s\n",
      " 19650K .......... .......... .......... .......... .......... 68%  432M 0s\n",
      " 19700K .......... .......... .......... .......... .......... 69%  242M 0s\n",
      " 19750K .......... .......... .......... .......... .......... 69% 18.4M 0s\n",
      " 19800K .......... .......... .......... .......... .......... 69% 20.7M 0s\n",
      " 19850K .......... .......... .......... .......... .......... 69% 22.1M 0s\n",
      " 19900K .......... .......... .......... .......... .......... 69% 23.3M 0s\n",
      " 19950K .......... .......... .......... .......... .......... 69%  284M 0s\n",
      " 20000K .......... .......... .......... .......... .......... 70% 18.3M 0s\n",
      " 20050K .......... .......... .......... .......... .......... 70%  388M 0s\n",
      " 20100K .......... .......... .......... .......... .......... 70% 16.6M 0s\n",
      " 20150K .......... .......... .......... .......... .......... 70%  535M 0s\n",
      " 20200K .......... .......... .......... .......... .......... 70% 10.8M 0s\n",
      " 20250K .......... .......... .......... .......... .......... 70%  344M 0s\n",
      " 20300K .......... .......... .......... .......... .......... 71% 11.5M 0s\n",
      " 20350K .......... .......... .......... .......... .......... 71%  133M 0s\n",
      " 20400K .......... .......... .......... .......... .......... 71%  272M 0s\n",
      " 20450K .......... .......... .......... .......... .......... 71% 18.2M 0s\n",
      " 20500K .......... .......... .......... .......... .......... 71%  353M 0s\n",
      " 20550K .......... .......... .......... .......... .......... 72%  286M 0s\n",
      " 20600K .......... .......... .......... .......... .......... 72% 47.6M 0s\n",
      " 20650K .......... .......... .......... .......... .......... 72% 17.2M 0s\n",
      " 20700K .......... .......... .......... .......... .......... 72%  207M 0s\n",
      " 20750K .......... .......... .......... .......... .......... 72% 11.8M 0s\n",
      " 20800K .......... .......... .......... .......... .......... 72% 19.9M 0s\n",
      " 20850K .......... .......... .......... .......... .......... 73% 53.3M 0s\n",
      " 20900K .......... .......... .......... .......... .......... 73%  325M 0s\n",
      " 20950K .......... .......... .......... .......... .......... 73% 5.99M 0s\n",
      " 21000K .......... .......... .......... .......... .......... 73% 98.3M 0s\n",
      " 21050K .......... .......... .......... .......... .......... 73%  549M 0s\n",
      " 21100K .......... .......... .......... .......... .......... 73% 13.6M 0s\n",
      " 21150K .......... .......... .......... .......... .......... 74%  170M 0s\n",
      " 21200K .......... .......... .......... .......... .......... 74%  239M 0s\n",
      " 21250K .......... .......... .......... .......... .......... 74%  376M 0s\n",
      " 21300K .......... .......... .......... .......... .......... 74% 28.5M 0s\n",
      " 21350K .......... .......... .......... .......... .......... 74%  319M 0s\n",
      " 21400K .......... .......... .......... .......... .......... 75% 13.2M 0s\n",
      " 21450K .......... .......... .......... .......... .......... 75% 16.1M 0s\n",
      " 21500K .......... .......... .......... .......... .......... 75%  228M 0s\n",
      " 21550K .......... .......... .......... .......... .......... 75% 39.8M 0s\n",
      " 21600K .......... .......... .......... .......... .......... 75% 16.2M 0s\n",
      " 21650K .......... .......... .......... .......... .......... 75%  236M 0s\n",
      " 21700K .......... .......... .......... .......... .......... 76% 25.3M 0s\n",
      " 21750K .......... .......... .......... .......... .......... 76%  361M 0s\n",
      " 21800K .......... .......... .......... .......... .......... 76% 14.0M 0s\n",
      " 21850K .......... .......... .......... .......... .......... 76%  300M 0s\n",
      " 21900K .......... .......... .......... .......... .......... 76% 18.3M 0s\n",
      " 21950K .......... .......... .......... .......... .......... 76%  152M 0s\n",
      " 22000K .......... .......... .......... .......... .......... 77%  202M 0s\n",
      " 22050K .......... .......... .......... .......... .......... 77% 9.88M 0s\n",
      " 22100K .......... .......... .......... .......... .......... 77%  272M 0s\n",
      " 22150K .......... .......... .......... .......... .......... 77%  588M 0s\n",
      " 22200K .......... .......... .......... .......... .......... 77% 20.9M 0s\n",
      " 22250K .......... .......... .......... .......... .......... 77%  158M 0s\n",
      " 22300K .......... .......... .......... .......... .......... 78%  170M 0s\n",
      " 22350K .......... .......... .......... .......... .......... 78% 17.9M 0s\n",
      " 22400K .......... .......... .......... .......... .......... 78%  319M 0s\n",
      " 22450K .......... .......... .......... .......... .......... 78% 46.2M 0s\n",
      " 22500K .......... .......... .......... .......... .......... 78% 38.5M 0s\n",
      " 22550K .......... .......... .......... .......... .......... 79% 29.6M 0s\n",
      " 22600K .......... .......... .......... .......... .......... 79% 12.9M 0s\n",
      " 22650K .......... .......... .......... .......... .......... 79%  555M 0s\n",
      " 22700K .......... .......... .......... .......... .......... 79% 36.1M 0s\n",
      " 22750K .......... .......... .......... .......... .......... 79%  269M 0s\n",
      " 22800K .......... .......... .......... .......... .......... 79% 14.1M 0s\n",
      " 22850K .......... .......... .......... .......... .......... 80%  220M 0s\n",
      " 22900K .......... .......... .......... .......... .......... 80% 18.5M 0s\n",
      " 22950K .......... .......... .......... .......... .......... 80%  367M 0s\n",
      " 23000K .......... .......... .......... .......... .......... 80%  307M 0s\n",
      " 23050K .......... .......... .......... .......... .......... 80% 22.9M 0s\n",
      " 23100K .......... .......... .......... .......... .......... 80% 10.2M 0s\n",
      " 23150K .......... .......... .......... .......... .......... 81% 9.26M 0s\n",
      " 23200K .......... .......... .......... .......... .......... 81%  174M 0s\n",
      " 23250K .......... .......... .......... .......... .......... 81% 10.5M 0s\n",
      " 23300K .......... .......... .......... .......... .......... 81%  282M 0s\n",
      " 23350K .......... .......... .......... .......... .......... 81%  507M 0s\n",
      " 23400K .......... .......... .......... .......... .......... 82% 12.9M 0s\n",
      " 23450K .......... .......... .......... .......... .......... 82%  254M 0s\n",
      " 23500K .......... .......... .......... .......... .......... 82%  543M 0s\n",
      " 23550K .......... .......... .......... .......... .......... 82%  186M 0s\n",
      " 23600K .......... .......... .......... .......... .......... 82% 16.4M 0s\n",
      " 23650K .......... .......... .......... .......... .......... 82%  557M 0s\n",
      " 23700K .......... .......... .......... .......... .......... 83% 25.8M 0s\n",
      " 23750K .......... .......... .......... .......... .......... 83% 15.4M 0s\n",
      " 23800K .......... .......... .......... .......... .......... 83% 14.1M 0s\n",
      " 23850K .......... .......... .......... .......... .......... 83%  358M 0s\n",
      " 23900K .......... .......... .......... .......... .......... 83% 15.6M 0s\n",
      " 23950K .......... .......... .......... .......... .......... 83%  345M 0s\n",
      " 24000K .......... .......... .......... .......... .......... 84% 27.8M 0s\n",
      " 24050K .......... .......... .......... .......... .......... 84%  420M 0s\n",
      " 24100K .......... .......... .......... .......... .......... 84% 16.9M 0s\n",
      " 24150K .......... .......... .......... .......... .......... 84%  370M 0s\n",
      " 24200K .......... .......... .......... .......... .......... 84% 17.3M 0s\n",
      " 24250K .......... .......... .......... .......... .......... 84%  133M 0s\n",
      " 24300K .......... .......... .......... .......... .......... 85% 18.6M 0s\n",
      " 24350K .......... .......... .......... .......... .......... 85% 9.49M 0s\n",
      " 24400K .......... .......... .......... .......... .......... 85%  287M 0s\n",
      " 24450K .......... .......... .......... .......... .......... 85%  401M 0s\n",
      " 24500K .......... .......... .......... .......... .......... 85% 12.4M 0s\n",
      " 24550K .......... .......... .......... .......... .......... 86%  119M 0s\n",
      " 24600K .......... .......... .......... .......... .......... 86%  361M 0s\n",
      " 24650K .......... .......... .......... .......... .......... 86% 12.1M 0s\n",
      " 24700K .......... .......... .......... .......... .......... 86%  389M 0s\n",
      " 24750K .......... .......... .......... .......... .......... 86%  332M 0s\n",
      " 24800K .......... .......... .......... .......... .......... 86% 24.4M 0s\n",
      " 24850K .......... .......... .......... .......... .......... 87% 15.4M 0s\n",
      " 24900K .......... .......... .......... .......... .......... 87%  278M 0s\n",
      " 24950K .......... .......... .......... .......... .......... 87%  593M 0s\n",
      " 25000K .......... .......... .......... .......... .......... 87% 13.6M 0s\n",
      " 25050K .......... .......... .......... .......... .......... 87%  272M 0s\n",
      " 25100K .......... .......... .......... .......... .......... 87% 28.6M 0s\n",
      " 25150K .......... .......... .......... .......... .......... 88%  153M 0s\n",
      " 25200K .......... .......... .......... .......... .......... 88% 9.79M 0s\n",
      " 25250K .......... .......... .......... .......... .......... 88%  380M 0s\n",
      " 25300K .......... .......... .......... .......... .......... 88%  412M 0s\n",
      " 25350K .......... .......... .......... .......... .......... 88% 20.7M 0s\n",
      " 25400K .......... .......... .......... .......... .......... 89%  194M 0s\n",
      " 25450K .......... .......... .......... .......... .......... 89%  311M 0s\n",
      " 25500K .......... .......... .......... .......... .......... 89% 12.6M 0s\n",
      " 25550K .......... .......... .......... .......... .......... 89%  204M 0s\n",
      " 25600K .......... .......... .......... .......... .......... 89%  234M 0s\n",
      " 25650K .......... .......... .......... .......... .......... 89% 23.8M 0s\n",
      " 25700K .......... .......... .......... .......... .......... 90% 14.7M 0s\n",
      " 25750K .......... .......... .......... .......... .......... 90%  358M 0s\n",
      " 25800K .......... .......... .......... .......... .......... 90% 18.3M 0s\n",
      " 25850K .......... .......... .......... .......... .......... 90% 48.6M 0s\n",
      " 25900K .......... .......... .......... .......... .......... 90% 13.6M 0s\n",
      " 25950K .......... .......... .......... .......... .......... 90%  496M 0s\n",
      " 26000K .......... .......... .......... .......... .......... 91%  193M 0s\n",
      " 26050K .......... .......... .......... .......... .......... 91%  578M 0s\n",
      " 26100K .......... .......... .......... .......... .......... 91%  114M 0s\n",
      " 26150K .......... .......... .......... .......... .......... 91% 13.7M 0s\n",
      " 26200K .......... .......... .......... .......... .......... 91%  240M 0s\n",
      " 26250K .......... .......... .......... .......... .......... 91% 12.9M 0s\n",
      " 26300K .......... .......... .......... .......... .......... 92%  267M 0s\n",
      " 26350K .......... .......... .......... .......... .......... 92%  282M 0s\n",
      " 26400K .......... .......... .......... .......... .......... 92% 12.3M 0s\n",
      " 26450K .......... .......... .......... .......... .......... 92%  274M 0s\n",
      " 26500K .......... .......... .......... .......... .......... 92%  186M 0s\n",
      " 26550K .......... .......... .......... .......... .......... 93% 13.3M 0s\n",
      " 26600K .......... .......... .......... .......... .......... 93%  240M 0s\n",
      " 26650K .......... .......... .......... .......... .......... 93%  338M 0s\n",
      " 26700K .......... .......... .......... .......... .......... 93% 37.0M 0s\n",
      " 26750K .......... .......... .......... .......... .......... 93% 13.3M 0s\n",
      " 26800K .......... .......... .......... .......... .......... 93%  132M 0s\n",
      " 26850K .......... .......... .......... .......... .......... 94% 12.6M 0s\n",
      " 26900K .......... .......... .......... .......... .......... 94%  468M 0s\n",
      " 26950K .......... .......... .......... .......... .......... 94%  317M 0s\n",
      " 27000K .......... .......... .......... .......... .......... 94% 13.8M 0s\n",
      " 27050K .......... .......... .......... .......... .......... 94%  279M 0s\n",
      " 27100K .......... .......... .......... .......... .......... 94%  235M 0s\n",
      " 27150K .......... .......... .......... .......... .......... 95%  141M 0s\n",
      " 27200K .......... .......... .......... .......... .......... 95% 8.18M 0s\n",
      " 27250K .......... .......... .......... .......... .......... 95%  526M 0s\n",
      " 27300K .......... .......... .......... .......... .......... 95% 9.14M 0s\n",
      " 27350K .......... .......... .......... .......... .......... 95%  218M 0s\n",
      " 27400K .......... .......... .......... .......... .......... 96%  379M 0s\n",
      " 27450K .......... .......... .......... .......... .......... 96%  118M 0s\n",
      " 27500K .......... .......... .......... .......... .......... 96% 11.2M 0s\n",
      " 27550K .......... .......... .......... .......... .......... 96%  381M 0s\n",
      " 27600K .......... .......... .......... .......... .......... 96%  245M 0s\n",
      " 27650K .......... .......... .......... .......... .......... 96% 15.5M 0s\n",
      " 27700K .......... .......... .......... .......... .......... 97%  268M 0s\n",
      " 27750K .......... .......... .......... .......... .......... 97%  309M 0s\n",
      " 27800K .......... .......... .......... .......... .......... 97% 12.5M 0s\n",
      " 27850K .......... .......... .......... .......... .......... 97%  417M 0s\n",
      " 27900K .......... .......... .......... .......... .......... 97%  393M 0s\n",
      " 27950K .......... .......... .......... .......... .......... 97% 54.9M 0s\n",
      " 28000K .......... .......... .......... .......... .......... 98% 20.3M 0s\n",
      " 28050K .......... .......... .......... .......... .......... 98% 19.0M 0s\n",
      " 28100K .......... .......... .......... .......... .......... 98%  570M 0s\n",
      " 28150K .......... .......... .......... .......... .......... 98% 13.3M 0s\n",
      " 28200K .......... .......... .......... .......... .......... 98%  449M 0s\n",
      " 28250K .......... .......... .......... .......... .......... 98% 17.5M 0s\n",
      " 28300K .......... .......... .......... .......... .......... 99%  360M 0s\n",
      " 28350K .......... .......... .......... .......... .......... 99%  380M 0s\n",
      " 28400K .......... .......... .......... .......... .......... 99% 10.5M 0s\n",
      " 28450K .......... .......... .......... .......... .......... 99%  168M 0s\n",
      " 28500K .......... .......... .......... .......... .......... 99%  499M 0s\n",
      " 28550K .......... .......... .......... .......... ..        100%  462M=0.9s\n",
      "\n",
      "Last-modified header missing -- time-stamps turned off.\n",
      "2021-05-18 20:19:46 (29.7 MB/s) - 'es_ancora-ud-train.conllu' saved [29279116/29279116]\n",
      "\n"
     ]
    },
    {
     "name": "stderr",
     "output_type": "stream",
     "text": [
      "--2021-05-18 20:19:46--  https://raw.githubusercontent.com/UniversalDependencies/UD_Spanish-AnCora/dev/es_ancora-ud-test.conllu\n",
      "Resolving raw.githubusercontent.com (raw.githubusercontent.com)... 185.199.111.133, 185.199.108.133, 185.199.109.133, ...\n",
      "Connecting to raw.githubusercontent.com (raw.githubusercontent.com)|185.199.111.133|:443... connected.\n",
      "HTTP request sent, awaiting response... 200 OK\n",
      "Length: 3461362 (3.3M) [text/plain]\n",
      "Saving to: 'es_ancora-ud-test.conllu'\n",
      "\n",
      "     0K .......... .......... .......... .......... ..........  1% 7.44M 0s\n",
      "    50K .......... .......... .......... .......... ..........  2% 15.1M 0s\n",
      "   100K .......... .......... .......... .......... ..........  4% 19.0M 0s\n",
      "   150K .......... .......... .......... .......... ..........  5% 37.9M 0s\n",
      "   200K .......... .......... .......... .......... ..........  7% 9.35M 0s\n",
      "   250K .......... .......... .......... .......... ..........  8% 22.0M 0s\n",
      "   300K .......... .......... .......... .......... .......... 10% 45.1M 0s\n",
      "   350K .......... .......... .......... .......... .......... 11% 18.7M 0s\n",
      "   400K .......... .......... .......... .......... .......... 13% 10.9M 0s\n",
      "   450K .......... .......... .......... .......... .......... 14% 34.4M 0s\n",
      "   500K .......... .......... .......... .......... .......... 16% 21.9M 0s\n",
      "   550K .......... .......... .......... .......... .......... 17% 15.1M 0s\n",
      "   600K .......... .......... .......... .......... .......... 19% 15.6M 0s\n",
      "   650K .......... .......... .......... .......... .......... 20% 31.2M 0s\n",
      "   700K .......... .......... .......... .......... .......... 22% 17.7M 0s\n",
      "   750K .......... .......... .......... .......... .......... 23% 24.2M 0s\n",
      "   800K .......... .......... .......... .......... .......... 25% 31.7M 0s\n",
      "   850K .......... .......... .......... .......... .......... 26% 22.5M 0s\n",
      "   900K .......... .......... .......... .......... .......... 28% 20.7M 0s\n",
      "   950K .......... .......... .......... .......... .......... 29% 16.3M 0s\n",
      "  1000K .......... .......... .......... .......... .......... 31% 28.6M 0s\n",
      "  1050K .......... .......... .......... .......... .......... 32% 20.1M 0s\n",
      "  1100K .......... .......... .......... .......... .......... 34% 30.0M 0s\n",
      "  1150K .......... .......... .......... .......... .......... 35% 19.2M 0s\n",
      "  1200K .......... .......... .......... .......... .......... 36% 13.6M 0s\n",
      "  1250K .......... .......... .......... .......... .......... 38%  149M 0s\n",
      "  1300K .......... .......... .......... .......... .......... 39% 18.6M 0s\n",
      "  1350K .......... .......... .......... .......... .......... 41% 24.3M 0s\n",
      "  1400K .......... .......... .......... .......... .......... 42% 16.1M 0s\n",
      "  1450K .......... .......... .......... .......... .......... 44%  296M 0s\n",
      "  1500K .......... .......... .......... .......... .......... 45% 23.4M 0s\n",
      "  1550K .......... .......... .......... .......... .......... 47% 21.4M 0s\n",
      "  1600K .......... .......... .......... .......... .......... 48% 19.7M 0s\n",
      "  1650K .......... .......... .......... .......... .......... 50% 45.0M 0s\n",
      "  1700K .......... .......... .......... .......... .......... 51% 14.8M 0s\n",
      "  1750K .......... .......... .......... .......... .......... 53%  187M 0s\n",
      "  1800K .......... .......... .......... .......... .......... 54% 15.9M 0s\n",
      "  1850K .......... .......... .......... .......... .......... 56% 29.0M 0s\n",
      "  1900K .......... .......... .......... .......... .......... 57% 29.3M 0s\n",
      "  1950K .......... .......... .......... .......... .......... 59% 21.7M 0s\n",
      "  2000K .......... .......... .......... .......... .......... 60% 29.7M 0s\n",
      "  2050K .......... .......... .......... .......... .......... 62% 13.5M 0s\n",
      "  2100K .......... .......... .......... .......... .......... 63%  249M 0s\n",
      "  2150K .......... .......... .......... .......... .......... 65% 29.7M 0s\n",
      "  2200K .......... .......... .......... .......... .......... 66% 21.5M 0s\n",
      "  2250K .......... .......... .......... .......... .......... 68% 48.7M 0s\n",
      "  2300K .......... .......... .......... .......... .......... 69% 27.2M 0s\n",
      "  2350K .......... .......... .......... .......... .......... 71% 18.6M 0s\n",
      "  2400K .......... .......... .......... .......... .......... 72% 15.5M 0s\n",
      "  2450K .......... .......... .......... .......... .......... 73% 16.8M 0s\n",
      "  2500K .......... .......... .......... .......... .......... 75%  217M 0s\n",
      "  2550K .......... .......... .......... .......... .......... 76% 9.55M 0s\n",
      "  2600K .......... .......... .......... .......... .......... 78%  168M 0s\n",
      "  2650K .......... .......... .......... .......... .......... 79% 13.4M 0s\n",
      "  2700K .......... .......... .......... .......... .......... 81%  106M 0s\n",
      "  2750K .......... .......... .......... .......... .......... 82% 43.0M 0s\n",
      "  2800K .......... .......... .......... .......... .......... 84% 16.3M 0s\n",
      "  2850K .......... .......... .......... .......... .......... 85% 16.6M 0s\n",
      "  2900K .......... .......... .......... .......... .......... 87%  284M 0s\n",
      "  2950K .......... .......... .......... .......... .......... 88% 16.4M 0s\n",
      "  3000K .......... .......... .......... .......... .......... 90%  134M 0s\n",
      "  3050K .......... .......... .......... .......... .......... 91% 37.2M 0s\n",
      "  3100K .......... .......... .......... .......... .......... 93% 23.3M 0s\n",
      "  3150K .......... .......... .......... .......... .......... 94%  405M 0s\n",
      "  3200K .......... .......... .......... .......... .......... 96% 12.0M 0s\n",
      "  3250K .......... .......... .......... .......... .......... 97% 21.5M 0s\n",
      "  3300K .......... .......... .......... .......... .......... 99% 36.8M 0s\n",
      "  3350K .......... .......... ..........                      100%  168M=0.1s\n",
      "\n",
      "Last-modified header missing -- time-stamps turned off.\n",
      "2021-05-18 20:19:47 (22.4 MB/s) - 'es_ancora-ud-test.conllu' saved [3461362/3461362]\n",
      "\n"
     ]
    }
   ],
   "source": [
    "!wget -N https://raw.githubusercontent.com/UniversalDependencies/UD_Spanish-AnCora/dev/es_ancora-ud-train.conllu\n",
    "!wget -N https://raw.githubusercontent.com/UniversalDependencies/UD_Spanish-AnCora/dev/es_ancora-ud-test.conllu"
   ]
  },
  {
   "cell_type": "code",
   "execution_count": 77,
   "metadata": {},
   "outputs": [],
   "source": [
    "es_dataset_train=CorpusDataset(\"./es_ancora-ud-train.conllu\")\n",
    "es_dataset_test=CorpusDataset(\"./es_ancora-ud-test.conllu\")"
   ]
  },
  {
   "cell_type": "code",
   "execution_count": 37,
   "metadata": {},
   "outputs": [
    {
     "name": "stdout",
     "output_type": "stream",
     "text": [
      "14266\n",
      "1718\n",
      "(['El', 'presidente', 'del', 'de', 'el', 'órgano', 'regulador', 'de', 'las', 'Telecomunicaciones', 'se', 'mostró', 'partidario', 'de', 'completar', 'esta', 'liberalización', 'de', 'las', 'telecomunicaciones', 'con', 'otras', 'medidas', 'que', 'incentiven', 'la', 'competencia', 'como', 'puede', 'ser', 'abrir', 'el', 'acceso', 'a', 'la', 'información', 'de', 'los', 'clientes', 'de', 'Telefónica', 'a', 'otros', 'operadores', '.'], ['DET', 'NOUN', None, 'ADP', 'DET', 'NOUN', 'ADJ', 'ADP', 'DET', 'PROPN', 'PRON', 'VERB', 'ADJ', 'ADP', 'VERB', 'DET', 'NOUN', 'ADP', 'DET', 'NOUN', 'ADP', 'DET', 'NOUN', 'PRON', 'VERB', 'DET', 'NOUN', 'SCONJ', 'NOUN', 'NOUN', 'VERB', 'DET', 'NOUN', 'ADP', 'DET', 'NOUN', 'ADP', 'DET', 'NOUN', 'ADP', 'PROPN', 'ADP', 'DET', 'NOUN', 'PUNCT'])\n",
      "(['Partidario', 'de', 'la', '\"', 'perestroika', '\"', 'de', 'Mijail', 'Gorbachov', 'en', 'la', 'Unión', 'Soviética', ',', 'en', '1989', 'entró', 'en', 'conflicto', 'con', 'Yívkov', ',', 'líder', 'durante', '35', 'años', 'del', 'de', 'el', 'Partido', 'Comunista', 'y', 'del', 'de', 'el', 'Estado', 'búlgaro', ',', 'y', 'le', 'acusó', 'en', 'una', 'carta', 'abierta', 'de', 'utilizar', 'métodos', 'poco', 'democráticos', 'de', 'gobierno', '.'], ['ADJ', 'ADP', 'DET', 'PUNCT', 'NOUN', 'PUNCT', 'ADP', 'PROPN', 'PROPN', 'ADP', 'DET', 'PROPN', 'PROPN', 'PUNCT', 'ADP', 'NOUN', 'VERB', 'ADP', 'NOUN', 'ADP', 'PROPN', 'PUNCT', 'NOUN', 'ADP', 'NUM', 'NOUN', None, 'ADP', 'DET', 'PROPN', 'PROPN', 'CCONJ', None, 'ADP', 'DET', 'PROPN', 'ADJ', 'PUNCT', 'CCONJ', 'PRON', 'VERB', 'ADP', 'DET', 'NOUN', 'ADJ', 'ADP', 'VERB', 'NOUN', 'ADV', 'ADJ', 'ADP', 'NOUN', 'PUNCT'])\n"
     ]
    }
   ],
   "source": [
    "print(len(es_dataset_train))\n",
    "print(len(es_dataset_test))\n",
    "print(es_dataset_train[0])\n",
    "print(es_dataset_test[0])"
   ]
  },
  {
   "cell_type": "code",
   "execution_count": 78,
   "metadata": {},
   "outputs": [
    {
     "name": "stdout",
     "output_type": "stream",
     "text": [
      "38438\n",
      "['<UNK>', 'usadas', 'sismológicos', 'Momentos', 'explota', 'enfermedades', 'Cien', 'exóticos', 'intervendrán', 'Collboni', 'Paihama', 'encabezarán', '1828', 'princesas', 'aserejé']\n",
      "['PROPN', 'SCONJ', 'CCONJ', 'NOUN', 'ADP', None, 'INTJ', 'PRON', 'ADV', 'NUM', 'X', 'DET', 'VERB', 'PART', 'SYM', 'PUNCT', 'AUX', 'ADJ', '<PAD>']\n"
     ]
    }
   ],
   "source": [
    "tokens = {token for sent,_ in es_dataset_train for token in sent}\n",
    "idx2token = list(tokens)\n",
    "idx2token.insert(0, '<UNK>')\n",
    "idx2token.append('<PAD>')\n",
    "token2idx = {token:idx for idx, token in enumerate(idx2token)}\n",
    "\n",
    "tags = {tag for _,label in es_dataset_train for tag in label}\n",
    "idx2tag = list(tags)\n",
    "idx2tag.append('<PAD>')\n",
    "tag2idx = {tag:idx for idx, tag in enumerate(idx2tag)}\n",
    "\n",
    "print(len(idx2token))\n",
    "print(idx2token[:15])\n",
    "print(idx2tag)"
   ]
  },
  {
   "cell_type": "code",
   "execution_count": 79,
   "metadata": {},
   "outputs": [],
   "source": [
    "es_dataloader_train=DataLoader(dataset=es_dataset_train,batch_size=100,shuffle=True,num_workers=0,collate_fn=pad_and_encode)\n",
    "es_dataloader_test=DataLoader(dataset=es_dataset_test,batch_size=100,shuffle=True,num_workers=0,collate_fn=pad_and_encode)"
   ]
  },
  {
   "cell_type": "code",
   "execution_count": 80,
   "metadata": {},
   "outputs": [
    {
     "name": "stdout",
     "output_type": "stream",
     "text": [
      "tensor([ 4275,  3414, 16614, 20728, 26182, 36312,  9571, 11626, 36312, 15229,\n",
      "        36535, 10755, 36312, 20983, 20728, 26182, 36312,  9571, 11626, 26182,\n",
      "        27548, 17528, 11626,  2487, 15980,  8349, 17528, 13811, 38437, 38437,\n",
      "        38437, 38437, 38437, 38437, 38437, 38437, 38437, 38437, 38437, 38437,\n",
      "        38437, 38437, 38437, 38437, 38437, 38437, 38437, 38437, 38437, 38437,\n",
      "        38437, 38437, 38437, 38437, 38437, 38437, 38437, 38437, 38437, 38437,\n",
      "        38437, 38437, 38437, 38437, 38437, 38437, 38437, 38437, 38437, 38437,\n",
      "        38437, 38437, 38437, 38437, 38437, 38437, 38437, 38437, 38437, 38437,\n",
      "        38437, 38437, 38437, 38437, 38437, 38437])\n",
      "tensor([ 4,  7,  3,  5,  4, 11,  3, 15, 11,  3, 12,  4, 11, 17,  5,  4, 11,  3,\n",
      "        15,  4,  9,  3, 15,  2, 11,  9,  3, 15, 18, 18, 18, 18, 18, 18, 18, 18,\n",
      "        18, 18, 18, 18, 18, 18, 18, 18, 18, 18, 18, 18, 18, 18, 18, 18, 18, 18,\n",
      "        18, 18, 18, 18, 18, 18, 18, 18, 18, 18, 18, 18, 18, 18, 18, 18, 18, 18,\n",
      "        18, 18, 18, 18, 18, 18, 18, 18, 18, 18, 18, 18, 18, 18])\n",
      "tensor([32760, 14961, 12859, 26182,  3486, 28888, 30462, 21032, 26182, 31219,\n",
      "        26182, 19790, 30462, 27034, 37598,  7366, 34644,  7366, 21359,  9369,\n",
      "        33160,  7711, 32759, 26182, 32143, 17317, 13811, 38437, 38437, 38437,\n",
      "        38437, 38437, 38437, 38437, 38437, 38437, 38437, 38437, 38437, 38437,\n",
      "        38437, 38437, 38437, 38437, 38437, 38437, 38437, 38437, 38437, 38437,\n",
      "        38437, 38437, 38437, 38437, 38437, 38437, 38437, 38437, 38437, 38437,\n",
      "        38437, 38437, 38437, 38437, 38437, 38437, 38437, 38437, 38437, 38437,\n",
      "        38437, 38437, 38437, 38437, 38437, 38437])\n",
      "tensor([11, 17, 17,  4,  0, 12,  4,  0,  4, 12,  4, 12,  4,  3, 11, 15, 17, 15,\n",
      "         3, 17,  4, 11,  3,  4,  3, 17, 15, 18, 18, 18, 18, 18, 18, 18, 18, 18,\n",
      "        18, 18, 18, 18, 18, 18, 18, 18, 18, 18, 18, 18, 18, 18, 18, 18, 18, 18,\n",
      "        18, 18, 18, 18, 18, 18, 18, 18, 18, 18, 18, 18, 18, 18, 18, 18, 18, 18,\n",
      "        18, 18, 18, 18])\n"
     ]
    }
   ],
   "source": [
    "examples=iter(es_dataloader_train)\n",
    "examples2=iter(es_dataloader_test)\n",
    "sents,labels=examples.next()\n",
    "sents2,labels2=examples2.next()\n",
    "assert len(sents)==len(labels)\n",
    "assert len(sents2)==len(labels2)\n",
    "batch_size=len(sents)\n",
    "print(sents[0])\n",
    "print(labels[0])\n",
    "print(sents2[0])\n",
    "print(labels2[0])"
   ]
  },
  {
   "cell_type": "code",
   "execution_count": 40,
   "metadata": {},
   "outputs": [
    {
     "data": {
      "image/png": "[encoded data removed]",
      "text/plain": [
       "<Figure size 576x288 with 1 Axes>"
      ]
     },
     "metadata": {
      "needs_background": "light"
     },
     "output_type": "display_data"
    }
   ],
   "source": [
    "l1 = np.asarray([len(sent) for sents,_ in es_dataloader_train for sent in sents], dtype=np.int32)\n",
    "l2 = np.asarray([len(sent) for sents,_ in es_dataloader_test for sent in sents], dtype=np.int32)\n",
    "l3 = np.append(l1,l2)\n",
    "plt.figure(figsize=(8, 4))\n",
    "x = np.unique(l3)\n",
    "plt.bar(x, [np.sum(l3==e) for e in x], width=1)\n",
    "plt.xlabel(\"Sentence length\")\n",
    "plt.ylabel(\"# sentences\") \n",
    "plt.show()"
   ]
  },
  {
   "cell_type": "code",
   "execution_count": 41,
   "metadata": {},
   "outputs": [
    {
     "name": "stdout",
     "output_type": "stream",
     "text": [
      "LSTMTagger_new(\n",
      "  (_word_embedding): Embedding(38438, 32, padding_idx=38437)\n",
      "  (_lstm): LSTM(32, 64, batch_first=True)\n",
      "  (_fc): Linear(in_features=64, out_features=18, bias=True)\n",
      ")\n"
     ]
    }
   ],
   "source": [
    "model_es=LSTMTagger_new(word_embedding_dim=32,                                       \n",
    "                   lstm_hidden_dim=64,                                          \n",
    "                   vocabulary_size=len(token2idx),                              \n",
    "                   tagset_size=len(tag2idx)-1,device=torch.device(\"cuda\" if torch.cuda.is_available() else \"cpu\"))  \n",
    "\n",
    "print(model_es)"
   ]
  },
  {
   "cell_type": "code",
   "execution_count": 42,
   "metadata": {},
   "outputs": [
    {
     "name": "stderr",
     "output_type": "stream",
     "text": [
      "Epoch 0: 143batch [00:08, 16.49batch/s, accuracy=90.2, loss=0.335]                                                     \n",
      "Epoch 1: 143batch [00:08, 17.01batch/s, accuracy=94.5, loss=0.18]                                                      \n",
      "Epoch 2: 143batch [00:08, 17.02batch/s, accuracy=95.8, loss=0.128]                                                     \n",
      "Epoch 3: 143batch [00:08, 16.69batch/s, accuracy=97.9, loss=0.0633]                                                    \n",
      "Epoch 4: 143batch [00:09, 15.72batch/s, accuracy=98.3, loss=0.0614]                                                    \n",
      "Epoch 5: 143batch [00:09, 15.81batch/s, accuracy=98.4, loss=0.0523]                                                    \n",
      "Epoch 6: 143batch [00:09, 14.72batch/s, accuracy=99, loss=0.0321]                                                      \n",
      "Epoch 7: 143batch [00:11, 12.51batch/s, accuracy=99.2, loss=0.0316]                                                    \n",
      "Epoch 8: 143batch [00:12, 11.20batch/s, accuracy=99.5, loss=0.0165]                                                    \n",
      "Epoch 9: 143batch [00:12, 11.75batch/s, accuracy=99.6, loss=0.0202]                                                    \n"
     ]
    }
   ],
   "source": [
    "model_es.fit(es_dataloader_train,0.01,10)"
   ]
  },
  {
   "cell_type": "code",
   "execution_count": 43,
   "metadata": {},
   "outputs": [
    {
     "data": {
      "text/plain": [
       "93.58644241129312"
      ]
     },
     "execution_count": 43,
     "metadata": {},
     "output_type": "execute_result"
    }
   ],
   "source": [
    "model_es.score(es_dataloader_test)"
   ]
  },
  {
   "cell_type": "code",
   "execution_count": 44,
   "metadata": {},
   "outputs": [
    {
     "name": "stdout",
     "output_type": "stream",
     "text": [
      "LSTMTagger_new(\n",
      "  (_word_embedding): Embedding(38438, 40, padding_idx=38437)\n",
      "  (_lstm): LSTM(40, 80, batch_first=True)\n",
      "  (_fc): Linear(in_features=80, out_features=18, bias=True)\n",
      ")\n"
     ]
    }
   ],
   "source": [
    "model_es2=LSTMTagger_new(word_embedding_dim=40,                                       \n",
    "                   lstm_hidden_dim=80,                                          \n",
    "                   vocabulary_size=len(token2idx),                              \n",
    "                   tagset_size=len(tag2idx)-1,device=torch.device(\"cuda\" if torch.cuda.is_available() else \"cpu\"))  \n",
    "\n",
    "print(model_es2)"
   ]
  },
  {
   "cell_type": "code",
   "execution_count": 46,
   "metadata": {},
   "outputs": [
    {
     "name": "stderr",
     "output_type": "stream",
     "text": [
      "Epoch 0: 143batch [00:09, 15.82batch/s, accuracy=91, loss=0.302]                                                       \n",
      "Epoch 1: 143batch [00:11, 12.50batch/s, accuracy=94.6, loss=0.176]                                                     \n",
      "Epoch 2: 143batch [00:11, 12.38batch/s, accuracy=96.9, loss=0.104]                                                     \n",
      "Epoch 3: 143batch [00:11, 12.42batch/s, accuracy=97.7, loss=0.0842]                                                    \n",
      "Epoch 4: 143batch [00:11, 12.33batch/s, accuracy=98.6, loss=0.0397]                                                    \n",
      "Epoch 5: 143batch [00:11, 12.30batch/s, accuracy=98.5, loss=0.0482]                                                    \n",
      "Epoch 6: 143batch [00:12, 11.89batch/s, accuracy=98.7, loss=0.0359]                                                    \n",
      "Epoch 7: 143batch [00:11, 11.93batch/s, accuracy=99, loss=0.0312]                                                      \n",
      "Epoch 8: 143batch [00:14, 10.01batch/s, accuracy=99.2, loss=0.0205]                                                    \n",
      "Epoch 9: 143batch [00:12, 11.26batch/s, accuracy=99.3, loss=0.0218]                                                    \n"
     ]
    }
   ],
   "source": [
    "model_es2.fit(es_dataloader_train,0.01,10)"
   ]
  },
  {
   "cell_type": "code",
   "execution_count": 47,
   "metadata": {},
   "outputs": [
    {
     "data": {
      "text/plain": [
       "94.45570591135703"
      ]
     },
     "execution_count": 47,
     "metadata": {},
     "output_type": "execute_result"
    }
   ],
   "source": [
    "model_es2.score(es_dataloader_test)"
   ]
  },
  {
   "cell_type": "markdown",
   "metadata": {},
   "source": [
    "## Load the Korean Corpus"
   ]
  },
  {
   "cell_type": "code",
   "execution_count": null,
   "metadata": {},
   "outputs": [],
   "source": [
    "!wget -N https://raw.githubusercontent.com/UniversalDependencies/UD_Korean-Kaist/master/ko_kaist-ud-train.conllu\n",
    "!wget -N https://raw.githubusercontent.com/UniversalDependencies/UD_Korean-Kaist/master/ko_kaist-ud-test.conllu"
   ]
  },
  {
   "cell_type": "code",
   "execution_count": 72,
   "metadata": {},
   "outputs": [],
   "source": [
    "ko_dataset_train=CorpusDataset(\"./ko_kaist-ud-train.conllu\")\n",
    "ko_dataset_test=CorpusDataset(\"./ko_kaist-ud-test.conllu\")"
   ]
  },
  {
   "cell_type": "code",
   "execution_count": 50,
   "metadata": {},
   "outputs": [
    {
     "name": "stdout",
     "output_type": "stream",
     "text": [
      "22965\n",
      "2285\n",
      "(['하기야', '짐승도', '잘', '가르치기만', '하면', '어느', '정도는', '순치될', '수', '있다', '.'], ['CCONJ', 'ADV', 'ADV', 'ADV', 'SCONJ', 'DET', 'NOUN', 'VERB', 'NOUN', 'ADJ', 'PUNCT'])\n",
      "(['이', '조약에', '의해', '영국은', '관세를', '거의', '내지', '않고', '자기', '나라', '상품을', '청에', '팔', '수', '있게', '되었다', '.'], ['DET', 'ADV', 'SCONJ', 'PROPN', 'NOUN', 'ADV', 'VERB', 'CCONJ', 'PRON', 'NOUN', 'NOUN', 'ADV', 'VERB', 'NOUN', 'ADJ', 'AUX', 'PUNCT'])\n"
     ]
    }
   ],
   "source": [
    "print(len(ko_dataset_train))\n",
    "print(len(ko_dataset_test))\n",
    "print(ko_dataset_train[0])\n",
    "print(ko_dataset_test[0])"
   ]
  },
  {
   "cell_type": "code",
   "execution_count": 74,
   "metadata": {},
   "outputs": [
    {
     "name": "stdout",
     "output_type": "stream",
     "text": [
      "85650\n",
      "['<UNK>', '늦잠의', '탄압은', '되시기', '마음으로부터', '의미구조에', '로마의', '믿었다', '작가만의', '날이면', '보습들은', '3장으로', '月城', '처지인데', '합격이']\n",
      "['PROPN', 'SCONJ', 'CCONJ', 'NOUN', 'INTJ', 'ADP', 'PRON', 'ADV', 'NUM', 'X', 'DET', 'VERB', 'PART', 'SYM', 'PUNCT', 'AUX', 'ADJ', '<PAD>']\n"
     ]
    }
   ],
   "source": [
    "tokens = {token for sent,_ in ko_dataset_train for token in sent}\n",
    "idx2token = list(tokens)\n",
    "idx2token.insert(0, '<UNK>')\n",
    "idx2token.append('<PAD>')\n",
    "token2idx = {token:idx for idx, token in enumerate(idx2token)}\n",
    "\n",
    "tags = {tag for _,label in ko_dataset_train for tag in label}\n",
    "idx2tag = list(tags)\n",
    "idx2tag.append('<PAD>')\n",
    "tag2idx = {tag:idx for idx, tag in enumerate(idx2tag)}\n",
    "\n",
    "print(len(idx2token))\n",
    "print(idx2token[:15])\n",
    "print(idx2tag)"
   ]
  },
  {
   "cell_type": "code",
   "execution_count": 75,
   "metadata": {},
   "outputs": [],
   "source": [
    "ko_dataloader_train=DataLoader(dataset=ko_dataset_train,batch_size=100,shuffle=True,num_workers=0,collate_fn=pad_and_encode)\n",
    "ko_dataloader_test=DataLoader(dataset=ko_dataset_test,batch_size=100,shuffle=True,num_workers=0,collate_fn=pad_and_encode)"
   ]
  },
  {
   "cell_type": "code",
   "execution_count": 76,
   "metadata": {},
   "outputs": [
    {
     "name": "stdout",
     "output_type": "stream",
     "text": [
      "tensor([16495, 79404, 51460, 55697, 41298, 19514, 41699, 31938, 24260, 41598,\n",
      "        62573, 56187, 34724, 53901, 84629, 58430, 85649, 85649, 85649, 85649,\n",
      "        85649, 85649, 85649, 85649, 85649, 85649])\n",
      "tensor([ 8,  3,  3,  3,  7,  3,  7,  3,  1,  3,  7, 11,  3,  7, 16, 14, 17, 17,\n",
      "        17, 17, 17, 17, 17, 17, 17, 17])\n",
      "tensor([24779, 72252, 22567, 55937, 35616,     0, 77040, 46862, 55937, 13662,\n",
      "        58430, 85649, 85649, 85649, 85649, 85649, 85649, 85649, 85649, 85649,\n",
      "        85649, 85649, 85649, 85649, 85649, 85649, 85649, 85649])\n",
      "tensor([ 8,  3,  3,  7,  1,  3, 16,  3,  7, 15, 14, 17, 17, 17, 17, 17, 17, 17,\n",
      "        17, 17, 17, 17, 17, 17, 17, 17, 17, 17])\n"
     ]
    }
   ],
   "source": [
    "examples=iter(ko_dataloader_train)\n",
    "examples2=iter(ko_dataloader_test)\n",
    "sents,labels=examples.next()\n",
    "sents2,labels2=examples2.next()\n",
    "assert len(sents)==len(labels)\n",
    "assert len(sents2)==len(labels2)\n",
    "batch_size=len(sents)\n",
    "print(sents[0])\n",
    "print(labels[0])\n",
    "print(sents2[0])\n",
    "print(labels2[0])"
   ]
  },
  {
   "cell_type": "code",
   "execution_count": 53,
   "metadata": {},
   "outputs": [
    {
     "data": {
      "image/png": "[encoded data removed]",
      "text/plain": [
       "<Figure size 576x288 with 1 Axes>"
      ]
     },
     "metadata": {
      "needs_background": "light"
     },
     "output_type": "display_data"
    }
   ],
   "source": [
    "l1 = np.asarray([len(sent) for sents,_ in ko_dataloader_train for sent in sents], dtype=np.int32)\n",
    "l2 = np.asarray([len(sent) for sents,_ in ko_dataloader_test for sent in sents], dtype=np.int32)\n",
    "l3 = np.append(l1,l2)\n",
    "plt.figure(figsize=(8, 4))\n",
    "x = np.unique(l3)\n",
    "plt.bar(x, [np.sum(l3==e) for e in x], width=1)\n",
    "plt.xlabel(\"Sentence length\")\n",
    "plt.ylabel(\"# sentences\") \n",
    "plt.show()"
   ]
  },
  {
   "cell_type": "code",
   "execution_count": 54,
   "metadata": {},
   "outputs": [
    {
     "name": "stdout",
     "output_type": "stream",
     "text": [
      "LSTMTagger_new(\n",
      "  (_word_embedding): Embedding(85650, 32, padding_idx=85649)\n",
      "  (_lstm): LSTM(32, 64, batch_first=True)\n",
      "  (_fc): Linear(in_features=64, out_features=17, bias=True)\n",
      ")\n"
     ]
    }
   ],
   "source": [
    "model_ko=LSTMTagger_new(word_embedding_dim=32,                                       \n",
    "                   lstm_hidden_dim=64,                                          \n",
    "                   vocabulary_size=len(token2idx),                              \n",
    "                   tagset_size=len(tag2idx)-1,device=torch.device(\"cuda\" if torch.cuda.is_available() else \"cpu\"))  \n",
    "\n",
    "print(model_ko)"
   ]
  },
  {
   "cell_type": "code",
   "execution_count": 56,
   "metadata": {},
   "outputs": [
    {
     "name": "stderr",
     "output_type": "stream",
     "text": [
      "Epoch 0: 230batch [00:07, 32.69batch/s, accuracy=72.1, loss=0.88]                                                      \n",
      "Epoch 1: 230batch [00:06, 34.39batch/s, accuracy=80.5, loss=0.618]                                                     \n",
      "Epoch 2: 230batch [00:06, 33.83batch/s, accuracy=89.5, loss=0.362]                                                     \n",
      "Epoch 3: 230batch [00:09, 23.93batch/s, accuracy=94.2, loss=0.168]                                                     \n",
      "Epoch 4: 230batch [00:09, 23.24batch/s, accuracy=96.7, loss=0.106]                                                     \n",
      "Epoch 5: 230batch [00:09, 23.68batch/s, accuracy=98.4, loss=0.0537]                                                    \n",
      "Epoch 6: 230batch [00:09, 23.60batch/s, accuracy=98.7, loss=0.045]                                                     \n",
      "Epoch 7: 230batch [00:09, 23.47batch/s, accuracy=98.2, loss=0.0516]                                                    \n",
      "Epoch 8: 230batch [00:09, 23.69batch/s, accuracy=99.2, loss=0.0225]                                                    \n",
      "Epoch 9: 230batch [00:09, 23.54batch/s, accuracy=99.2, loss=0.0223]                                                    \n"
     ]
    }
   ],
   "source": [
    "model_ko.fit(ko_dataloader_train,0.01,10)"
   ]
  },
  {
   "cell_type": "code",
   "execution_count": 59,
   "metadata": {},
   "outputs": [
    {
     "data": {
      "text/plain": [
       "70.67907763909457"
      ]
     },
     "execution_count": 59,
     "metadata": {},
     "output_type": "execute_result"
    }
   ],
   "source": [
    "model_ko.score(ko_dataloader_test)"
   ]
  },
  {
   "cell_type": "code",
   "execution_count": 64,
   "metadata": {},
   "outputs": [
    {
     "name": "stdout",
     "output_type": "stream",
     "text": [
      "LSTMTagger_new(\n",
      "  (_word_embedding): Embedding(85650, 40, padding_idx=85649)\n",
      "  (_lstm): LSTM(40, 80, batch_first=True)\n",
      "  (_fc): Linear(in_features=80, out_features=17, bias=True)\n",
      ")\n"
     ]
    }
   ],
   "source": [
    "model_ko2=LSTMTagger_new(word_embedding_dim=40,                                       \n",
    "                   lstm_hidden_dim=80,                                          \n",
    "                   vocabulary_size=len(token2idx),                              \n",
    "                   tagset_size=len(tag2idx)-1,device=torch.device(\"cuda\" if torch.cuda.is_available() else \"cpu\"))  \n",
    "\n",
    "print(model_ko2)"
   ]
  },
  {
   "cell_type": "code",
   "execution_count": 65,
   "metadata": {},
   "outputs": [
    {
     "name": "stderr",
     "output_type": "stream",
     "text": [
      "Epoch 0: 230batch [00:08, 28.18batch/s, accuracy=72.9, loss=0.845]                                                     \n",
      "Epoch 1: 230batch [00:10, 21.65batch/s, accuracy=84.5, loss=0.509]                                                     \n",
      "Epoch 2: 230batch [00:10, 22.11batch/s, accuracy=89.9, loss=0.33]                                                      \n",
      "Epoch 3: 230batch [00:10, 21.01batch/s, accuracy=95.1, loss=0.146]                                                     \n",
      "Epoch 4: 230batch [00:11, 20.56batch/s, accuracy=97.7, loss=0.0744]                                                    \n",
      "Epoch 5: 230batch [00:11, 20.04batch/s, accuracy=98.3, loss=0.0599]                                                    \n",
      "Epoch 6: 230batch [00:14, 15.66batch/s, accuracy=98.8, loss=0.0297]                                                    \n",
      "Epoch 7: 230batch [00:12, 19.11batch/s, accuracy=99.5, loss=0.0152]                                                    \n",
      "Epoch 8: 230batch [00:11, 20.27batch/s, accuracy=98.8, loss=0.0276]                                                    \n",
      "Epoch 9: 230batch [00:13, 17.46batch/s, accuracy=99.5, loss=0.00874]                                                   \n"
     ]
    }
   ],
   "source": [
    "model_ko2.fit(ko_dataloader_train,0.01,10)"
   ]
  },
  {
   "cell_type": "code",
   "execution_count": 66,
   "metadata": {},
   "outputs": [
    {
     "data": {
      "text/plain": [
       "76.91277060856075"
      ]
     },
     "execution_count": 66,
     "metadata": {},
     "output_type": "execute_result"
    }
   ],
   "source": [
    "model_ko2.score(ko_dataloader_test)"
   ]
  },
  {
   "cell_type": "markdown",
   "metadata": {},
   "source": [
    "# Load the Japanese Corpus"
   ]
  },
  {
   "cell_type": "code",
   "execution_count": 67,
   "metadata": {},
   "outputs": [
    {
     "name": "stderr",
     "output_type": "stream",
     "text": [
      "--2021-05-18 20:56:44--  https://raw.githubusercontent.com/UniversalDependencies/UD_Japanese-GSD/dev/ja_gsd-ud-train.conllu\n",
      "Resolving raw.githubusercontent.com (raw.githubusercontent.com)... 185.199.110.133, 185.199.108.133, 185.199.109.133, ...\n",
      "Connecting to raw.githubusercontent.com (raw.githubusercontent.com)|185.199.110.133|:443... connected.\n",
      "HTTP request sent, awaiting response... 200 OK\n",
      "Length: 27190277 (26M) [text/plain]\n",
      "Saving to: 'ja_gsd-ud-train.conllu'\n",
      "\n",
      "     0K .......... .......... .......... .......... ..........  0% 7.59M 3s\n",
      "    50K .......... .......... .......... .......... ..........  0% 58.8M 2s\n",
      "   100K .......... .......... .......... .......... ..........  0% 18.4M 2s\n",
      "   150K .......... .......... .......... .......... ..........  0% 13.2M 2s\n",
      "   200K .......... .......... .......... .......... ..........  0% 16.6M 2s\n",
      "   250K .......... .......... .......... .......... ..........  1% 20.3M 2s\n",
      "   300K .......... .......... .......... .......... ..........  1% 39.2M 2s\n",
      "   350K .......... .......... .......... .......... ..........  1% 20.1M 1s\n",
      "   400K .......... .......... .......... .......... ..........  1% 30.6M 1s\n",
      "   450K .......... .......... .......... .......... ..........  1% 34.5M 1s\n",
      "   500K .......... .......... .......... .......... ..........  2% 37.3M 1s\n",
      "   550K .......... .......... .......... .......... ..........  2% 9.75M 1s\n",
      "   600K .......... .......... .......... .......... ..........  2% 15.2M 1s\n",
      "   650K .......... .......... .......... .......... ..........  2%  332M 1s\n",
      "   700K .......... .......... .......... .......... ..........  2% 18.1M 1s\n",
      "   750K .......... .......... .......... .......... ..........  3%  246M 1s\n",
      "   800K .......... .......... .......... .......... ..........  3% 15.3M 1s\n",
      "   850K .......... .......... .......... .......... ..........  3% 21.5M 1s\n",
      "   900K .......... .......... .......... .......... ..........  3% 34.0M 1s\n",
      "   950K .......... .......... .......... .......... ..........  3% 25.7M 1s\n",
      "  1000K .......... .......... .......... .......... ..........  3% 28.2M 1s\n",
      "  1050K .......... .......... .......... .......... ..........  4% 32.7M 1s\n",
      "  1100K .......... .......... .......... .......... ..........  4% 14.3M 1s\n",
      "  1150K .......... .......... .......... .......... ..........  4%  250M 1s\n",
      "  1200K .......... .......... .......... .......... ..........  4% 21.2M 1s\n",
      "  1250K .......... .......... .......... .......... ..........  4% 43.8M 1s\n",
      "  1300K .......... .......... .......... .......... ..........  5% 21.2M 1s\n",
      "  1350K .......... .......... .......... .......... ..........  5%  481M 1s\n",
      "  1400K .......... .......... .......... .......... ..........  5% 31.6M 1s\n",
      "  1450K .......... .......... .......... .......... ..........  5% 22.3M 1s\n",
      "  1500K .......... .......... .......... .......... ..........  5% 57.0M 1s\n",
      "  1550K .......... .......... .......... .......... ..........  6% 14.0M 1s\n",
      "  1600K .......... .......... .......... .......... ..........  6%  272M 1s\n",
      "  1650K .......... .......... .......... .......... ..........  6% 36.1M 1s\n",
      "  1700K .......... .......... .......... .......... ..........  6% 24.3M 1s\n",
      "  1750K .......... .......... .......... .......... ..........  6% 36.4M 1s\n",
      "  1800K .......... .......... .......... .......... ..........  6% 15.8M 1s\n",
      "  1850K .......... .......... .......... .......... ..........  7% 29.6M 1s\n",
      "  1900K .......... .......... .......... .......... ..........  7% 23.2M 1s\n",
      "  1950K .......... .......... .......... .......... ..........  7% 29.9M 1s\n",
      "  2000K .......... .......... .......... .......... ..........  7% 16.2M 1s\n",
      "  2050K .......... .......... .......... .......... ..........  7%  202M 1s\n",
      "  2100K .......... .......... .......... .......... ..........  8% 69.6M 1s\n",
      "  2150K .......... .......... .......... .......... ..........  8% 14.8M 1s\n",
      "  2200K .......... .......... .......... .......... ..........  8% 16.7M 1s\n",
      "  2250K .......... .......... .......... .......... ..........  8%  459M 1s\n",
      "  2300K .......... .......... .......... .......... ..........  8% 36.5M 1s\n",
      "  2350K .......... .......... .......... .......... ..........  9% 14.7M 1s\n",
      "  2400K .......... .......... .......... .......... ..........  9%  500M 1s\n",
      "  2450K .......... .......... .......... .......... ..........  9% 30.9M 1s\n",
      "  2500K .......... .......... .......... .......... ..........  9% 15.2M 1s\n",
      "  2550K .......... .......... .......... .......... ..........  9% 25.9M 1s\n",
      "  2600K .......... .......... .......... .......... ..........  9%  392M 1s\n",
      "  2650K .......... .......... .......... .......... .......... 10% 11.8M 1s\n",
      "  2700K .......... .......... .......... .......... .......... 10%  397M 1s\n",
      "  2750K .......... .......... .......... .......... .......... 10%  324M 1s\n",
      "  2800K .......... .......... .......... .......... .......... 10% 39.8M 1s\n",
      "  2850K .......... .......... .......... .......... .......... 10% 39.8M 1s\n",
      "  2900K .......... .......... .......... .......... .......... 11% 31.6M 1s\n",
      "  2950K .......... .......... .......... .......... .......... 11% 7.73M 1s\n",
      "  3000K .......... .......... .......... .......... .......... 11% 73.1M 1s\n",
      "  3050K .......... .......... .......... .......... .......... 11% 16.6M 1s\n",
      "  3100K .......... .......... .......... .......... .......... 11% 20.1M 1s\n",
      "  3150K .......... .......... .......... .......... .......... 12%  223M 1s\n",
      "  3200K .......... .......... .......... .......... .......... 12% 27.6M 1s\n",
      "  3250K .......... .......... .......... .......... .......... 12%  515M 1s\n",
      "  3300K .......... .......... .......... .......... .......... 12% 9.48M 1s\n",
      "  3350K .......... .......... .......... .......... .......... 12%  424M 1s\n",
      "  3400K .......... .......... .......... .......... .......... 12% 19.9M 1s\n",
      "  3450K .......... .......... .......... .......... .......... 13%  251M 1s\n",
      "  3500K .......... .......... .......... .......... .......... 13% 24.5M 1s\n",
      "  3550K .......... .......... .......... .......... .......... 13%  376M 1s\n",
      "  3600K .......... .......... .......... .......... .......... 13% 21.5M 1s\n",
      "  3650K .......... .......... .......... .......... .......... 13% 48.8M 1s\n",
      "  3700K .......... .......... .......... .......... .......... 14% 20.7M 1s\n",
      "  3750K .......... .......... .......... .......... .......... 14% 36.3M 1s\n",
      "  3800K .......... .......... .......... .......... .......... 14% 16.9M 1s\n",
      "  3850K .......... .......... .......... .......... .......... 14%  422M 1s\n",
      "  3900K .......... .......... .......... .......... .......... 14% 40.1M 1s\n",
      "  3950K .......... .......... .......... .......... .......... 15%  313M 1s\n",
      "  4000K .......... .......... .......... .......... .......... 15% 16.7M 1s\n",
      "  4050K .......... .......... .......... .......... .......... 15%  258M 1s\n",
      "  4100K .......... .......... .......... .......... .......... 15% 24.7M 1s\n",
      "  4150K .......... .......... .......... .......... .......... 15% 18.2M 1s\n",
      "  4200K .......... .......... .......... .......... .......... 16%  362M 1s\n",
      "  4250K .......... .......... .......... .......... .......... 16% 16.2M 1s\n",
      "  4300K .......... .......... .......... .......... .......... 16%  482M 1s\n",
      "  4350K .......... .......... .......... .......... .......... 16% 21.9M 1s\n",
      "  4400K .......... .......... .......... .......... .......... 16%  382M 1s\n",
      "  4450K .......... .......... .......... .......... .......... 16% 16.0M 1s\n",
      "  4500K .......... .......... .......... .......... .......... 17%  303M 1s\n",
      "  4550K .......... .......... .......... .......... .......... 17%  384M 1s\n",
      "  4600K .......... .......... .......... .......... .......... 17% 25.7M 1s\n",
      "  4650K .......... .......... .......... .......... .......... 17% 33.1M 1s\n",
      "  4700K .......... .......... .......... .......... .......... 17% 58.9M 1s\n",
      "  4750K .......... .......... .......... .......... .......... 18% 21.4M 1s\n",
      "  4800K .......... .......... .......... .......... .......... 18% 16.3M 1s\n",
      "  4850K .......... .......... .......... .......... .......... 18%  343M 1s\n",
      "  4900K .......... .......... .......... .......... .......... 18% 9.94M 1s\n",
      "  4950K .......... .......... .......... .......... .......... 18%  298M 1s\n",
      "  5000K .......... .......... .......... .......... .......... 19%  300M 1s\n",
      "  5050K .......... .......... .......... .......... .......... 19%  437M 1s\n",
      "  5100K .......... .......... .......... .......... .......... 19% 13.2M 1s\n",
      "  5150K .......... .......... .......... .......... .......... 19%  208M 1s\n",
      "  5200K .......... .......... .......... .......... .......... 19%  501M 1s\n",
      "  5250K .......... .......... .......... .......... .......... 19% 65.9M 1s\n",
      "  5300K .......... .......... .......... .......... .......... 20% 7.11M 1s\n",
      "  5350K .......... .......... .......... .......... .......... 20% 16.6M 1s\n",
      "  5400K .......... .......... .......... .......... .......... 20%  405M 1s\n",
      "  5450K .......... .......... .......... .......... .......... 20% 25.1M 1s\n",
      "  5500K .......... .......... .......... .......... .......... 20%  489M 1s\n",
      "  5550K .......... .......... .......... .......... .......... 21% 12.0M 1s\n",
      "  5600K .......... .......... .......... .......... .......... 21%  534M 1s\n",
      "  5650K .......... .......... .......... .......... .......... 21% 16.5M 1s\n",
      "  5700K .......... .......... .......... .......... .......... 21%  426M 1s\n",
      "  5750K .......... .......... .......... .......... .......... 21%  548M 1s\n",
      "  5800K .......... .......... .......... .......... .......... 22% 9.64M 1s\n",
      "  5850K .......... .......... .......... .......... .......... 22%  330M 1s\n",
      "  5900K .......... .......... .......... .......... .......... 22%  459M 1s\n",
      "  5950K .......... .......... .......... .......... .......... 22% 19.6M 1s\n",
      "  6000K .......... .......... .......... .......... .......... 22%  545M 1s\n",
      "  6050K .......... .......... .......... .......... .......... 22%  475M 1s\n",
      "  6100K .......... .......... .......... .......... .......... 23% 11.4M 1s\n",
      "  6150K .......... .......... .......... .......... .......... 23%  240M 1s\n",
      "  6200K .......... .......... .......... .......... .......... 23%  342M 1s\n",
      "  6250K .......... .......... .......... .......... .......... 23% 47.7M 1s\n",
      "  6300K .......... .......... .......... .......... .......... 23% 27.5M 1s\n",
      "  6350K .......... .......... .......... .......... .......... 24% 14.3M 1s\n"
     ]
    },
    {
     "name": "stderr",
     "output_type": "stream",
     "text": [
      "  6400K .......... .......... .......... .......... .......... 24%  315M 1s\n",
      "  6450K .......... .......... .......... .......... .......... 24% 21.3M 1s\n",
      "  6500K .......... .......... .......... .......... .......... 24%  410M 1s\n",
      "  6550K .......... .......... .......... .......... .......... 24%  475M 1s\n",
      "  6600K .......... .......... .......... .......... .......... 25% 18.1M 1s\n",
      "  6650K .......... .......... .......... .......... .......... 25%  237M 1s\n",
      "  6700K .......... .......... .......... .......... .......... 25% 67.0M 1s\n",
      "  6750K .......... .......... .......... .......... .......... 25% 7.53M 1s\n",
      "  6800K .......... .......... .......... .......... .......... 25%  475M 1s\n",
      "  6850K .......... .......... .......... .......... .......... 25% 10.2M 1s\n",
      "  6900K .......... .......... .......... .......... .......... 26%  139M 1s\n",
      "  6950K .......... .......... .......... .......... .......... 26%  391M 1s\n",
      "  7000K .......... .......... .......... .......... .......... 26% 9.97M 1s\n",
      "  7050K .......... .......... .......... .......... .......... 26%  344M 1s\n",
      "  7100K .......... .......... .......... .......... .......... 26%  387M 1s\n",
      "  7150K .......... .......... .......... .......... .......... 27% 4.84M 1s\n",
      "  7200K .......... .......... .......... .......... .......... 27%  154M 1s\n",
      "  7250K .......... .......... .......... .......... .......... 27%  224M 1s\n",
      "  7300K .......... .......... .......... .......... .......... 27% 15.5M 1s\n",
      "  7350K .......... .......... .......... .......... .......... 27%  310M 1s\n",
      "  7400K .......... .......... .......... .......... .......... 28%  201M 1s\n",
      "  7450K .......... .......... .......... .......... .......... 28%  416M 1s\n",
      "  7500K .......... .......... .......... .......... .......... 28% 14.5M 1s\n",
      "  7550K .......... .......... .......... .......... .......... 28%  271M 1s\n",
      "  7600K .......... .......... .......... .......... .......... 28%  593M 1s\n",
      "  7650K .......... .......... .......... .......... .......... 28%  419M 1s\n",
      "  7700K .......... .......... .......... .......... .......... 29% 16.7M 1s\n",
      "  7750K .......... .......... .......... .......... .......... 29%  176M 1s\n",
      "  7800K .......... .......... .......... .......... .......... 29% 33.7M 1s\n",
      "  7850K .......... .......... .......... .......... .......... 29% 14.8M 1s\n",
      "  7900K .......... .......... .......... .......... .......... 29% 17.1M 1s\n",
      "  7950K .......... .......... .......... .......... .......... 30%  170M 1s\n",
      "  8000K .......... .......... .......... .......... .......... 30% 28.2M 1s\n",
      "  8050K .......... .......... .......... .......... .......... 30%  159M 1s\n",
      "  8100K .......... .......... .......... .......... .......... 30% 13.6M 1s\n",
      "  8150K .......... .......... .......... .......... .......... 30%  188M 1s\n",
      "  8200K .......... .......... .......... .......... .......... 31%  160M 1s\n",
      "  8250K .......... .......... .......... .......... .......... 31% 14.0M 1s\n",
      "  8300K .......... .......... .......... .......... .......... 31%  207M 1s\n",
      "  8350K .......... .......... .......... .......... .......... 31%  291M 1s\n",
      "  8400K .......... .......... .......... .......... .......... 31% 9.86M 1s\n",
      "  8450K .......... .......... .......... .......... .......... 32%  303M 1s\n",
      "  8500K .......... .......... .......... .......... .......... 32%  104M 1s\n",
      "  8550K .......... .......... .......... .......... .......... 32%  218M 1s\n",
      "  8600K .......... .......... .......... .......... .......... 32% 13.7M 1s\n",
      "  8650K .......... .......... .......... .......... .......... 32%  231M 1s\n",
      "  8700K .......... .......... .......... .......... .......... 32%  248M 1s\n",
      "  8750K .......... .......... .......... .......... .......... 33% 10.5M 1s\n",
      "  8800K .......... .......... .......... .......... .......... 33%  180M 1s\n",
      "  8850K .......... .......... .......... .......... .......... 33%  386M 1s\n",
      "  8900K .......... .......... .......... .......... .......... 33%  378M 1s\n",
      "  8950K .......... .......... .......... .......... .......... 33% 11.2M 1s\n",
      "  9000K .......... .......... .......... .......... .......... 34%  122M 1s\n",
      "  9050K .......... .......... .......... .......... .......... 34%  173M 1s\n",
      "  9100K .......... .......... .......... .......... .......... 34%  209M 1s\n",
      "  9150K .......... .......... .......... .......... .......... 34% 14.0M 1s\n",
      "  9200K .......... .......... .......... .......... .......... 34%  160M 1s\n",
      "  9250K .......... .......... .......... .......... .......... 35%  163M 1s\n",
      "  9300K .......... .......... .......... .......... .......... 35% 15.8M 1s\n",
      "  9350K .......... .......... .......... .......... .......... 35%  241M 1s\n",
      "  9400K .......... .......... .......... .......... .......... 35%  508M 1s\n",
      "  9450K .......... .......... .......... .......... .......... 35%  336M 1s\n",
      "  9500K .......... .......... .......... .......... .......... 35% 45.1M 1s\n",
      "  9550K .......... .......... .......... .......... .......... 36% 12.8M 1s\n",
      "  9600K .......... .......... .......... .......... .......... 36% 25.4M 1s\n",
      "  9650K .......... .......... .......... .......... .......... 36% 12.8M 1s\n",
      "  9700K .......... .......... .......... .......... .......... 36%  176M 1s\n",
      "  9750K .......... .......... .......... .......... .......... 36%  333M 1s\n",
      "  9800K .......... .......... .......... .......... .......... 37% 21.0M 1s\n",
      "  9850K .......... .......... .......... .......... .......... 37%  183M 1s\n",
      "  9900K .......... .......... .......... .......... .......... 37% 14.0M 1s\n",
      "  9950K .......... .......... .......... .......... .......... 37%  210M 1s\n",
      " 10000K .......... .......... .......... .......... .......... 37%  365M 1s\n",
      " 10050K .......... .......... .......... .......... .......... 38%  320M 1s\n",
      " 10100K .......... .......... .......... .......... .......... 38% 14.6M 1s\n",
      " 10150K .......... .......... .......... .......... .......... 38%  307M 1s\n",
      " 10200K .......... .......... .......... .......... .......... 38%  411M 1s\n",
      " 10250K .......... .......... .......... .......... .......... 38% 9.89M 1s\n",
      " 10300K .......... .......... .......... .......... .......... 38% 92.0M 1s\n",
      " 10350K .......... .......... .......... .......... .......... 39%  196M 1s\n",
      " 10400K .......... .......... .......... .......... .......... 39% 16.9M 1s\n",
      " 10450K .......... .......... .......... .......... .......... 39%  376M 1s\n",
      " 10500K .......... .......... .......... .......... .......... 39%  193M 1s\n",
      " 10550K .......... .......... .......... .......... .......... 39%  267M 1s\n",
      " 10600K .......... .......... .......... .......... .......... 40% 9.28M 1s\n",
      " 10650K .......... .......... .......... .......... .......... 40%  370M 1s\n",
      " 10700K .......... .......... .......... .......... .......... 40% 15.4M 1s\n",
      " 10750K .......... .......... .......... .......... .......... 40%  196M 1s\n",
      " 10800K .......... .......... .......... .......... .......... 40%  303M 1s\n",
      " 10850K .......... .......... .......... .......... .......... 41% 35.4M 1s\n",
      " 10900K .......... .......... .......... .......... .......... 41% 21.5M 1s\n",
      " 10950K .......... .......... .......... .......... .......... 41%  336M 1s\n",
      " 11000K .......... .......... .......... .......... .......... 41% 8.01M 1s\n",
      " 11050K .......... .......... .......... .......... .......... 41%  244M 1s\n",
      " 11100K .......... .......... .......... .......... .......... 41%  279M 0s\n",
      " 11150K .......... .......... .......... .......... .......... 42% 13.9M 1s\n",
      " 11200K .......... .......... .......... .......... .......... 42%  330M 0s\n",
      " 11250K .......... .......... .......... .......... .......... 42%  300M 0s\n",
      " 11300K .......... .......... .......... .......... .......... 42%  233M 0s\n",
      " 11350K .......... .......... .......... .......... .......... 42% 10.5M 0s\n",
      " 11400K .......... .......... .......... .......... .......... 43%  135M 0s\n",
      " 11450K .......... .......... .......... .......... .......... 43%  395M 0s\n",
      " 11500K .......... .......... .......... .......... .......... 43% 13.9M 0s\n",
      " 11550K .......... .......... .......... .......... .......... 43%  184M 0s\n",
      " 11600K .......... .......... .......... .......... .......... 43%  268M 0s\n",
      " 11650K .......... .......... .......... .......... .......... 44%  230M 0s\n",
      " 11700K .......... .......... .......... .......... .......... 44% 13.0M 0s\n",
      " 11750K .......... .......... .......... .......... .......... 44%  309M 0s\n",
      " 11800K .......... .......... .......... .......... .......... 44%  451M 0s\n",
      " 11850K .......... .......... .......... .......... .......... 44%  491M 0s\n",
      " 11900K .......... .......... .......... .......... .......... 45% 14.3M 0s\n",
      " 11950K .......... .......... .......... .......... .......... 45%  237M 0s\n",
      " 12000K .......... .......... .......... .......... .......... 45%  253M 0s\n",
      " 12050K .......... .......... .......... .......... .......... 45% 13.8M 0s\n",
      " 12100K .......... .......... .......... .......... .......... 45%  288M 0s\n",
      " 12150K .......... .......... .......... .......... .......... 45%  326M 0s\n",
      " 12200K .......... .......... .......... .......... .......... 46%  166M 0s\n",
      " 12250K .......... .......... .......... .......... .......... 46% 12.3M 0s\n",
      " 12300K .......... .......... .......... .......... .......... 46%  308M 0s\n",
      " 12350K .......... .......... .......... .......... .......... 46%  325M 0s\n",
      " 12400K .......... .......... .......... .......... .......... 46% 14.4M 0s\n",
      " 12450K .......... .......... .......... .......... .......... 47%  253M 0s\n",
      " 12500K .......... .......... .......... .......... .......... 47%  571M 0s\n",
      " 12550K .......... .......... .......... .......... .......... 47% 9.71M 0s\n",
      " 12600K .......... .......... .......... .......... .......... 47%  181M 0s\n",
      " 12650K .......... .......... .......... .......... .......... 47%  451M 0s\n",
      " 12700K .......... .......... .......... .......... .......... 48%  199M 0s\n",
      " 12750K .......... .......... .......... .......... .......... 48% 9.76M 0s\n",
      " 12800K .......... .......... .......... .......... .......... 48%  279M 0s\n",
      " 12850K .......... .......... .......... .......... .......... 48%  455M 0s\n",
      " 12900K .......... .......... .......... .......... .......... 48% 9.61M 0s\n",
      " 12950K .......... .......... .......... .......... .......... 48%  281M 0s\n",
      " 13000K .......... .......... .......... .......... .......... 49%  275M 0s\n",
      " 13050K .......... .......... .......... .......... .......... 49%  306M 0s\n",
      " 13100K .......... .......... .......... .......... .......... 49% 13.4M 0s\n",
      " 13150K .......... .......... .......... .......... .......... 49%  352M 0s\n",
      " 13200K .......... .......... .......... .......... .......... 49%  488M 0s\n",
      " 13250K .......... .......... .......... .......... .......... 50%  334M 0s\n",
      " 13300K .......... .......... .......... .......... .......... 50% 12.6M 0s\n",
      " 13350K .......... .......... .......... .......... .......... 50%  304M 0s\n",
      " 13400K .......... .......... .......... .......... .......... 50%  412M 0s\n",
      " 13450K .......... .......... .......... .......... .......... 50% 10.1M 0s\n",
      " 13500K .......... .......... .......... .......... .......... 51%  214M 0s\n",
      " 13550K .......... .......... .......... .......... .......... 51%  530M 0s\n",
      " 13600K .......... .......... .......... .......... .......... 51%  365M 0s\n",
      " 13650K .......... .......... .......... .......... .......... 51% 13.4M 0s\n",
      " 13700K .......... .......... .......... .......... .......... 51%  307M 0s\n",
      " 13750K .......... .......... .......... .......... .......... 51%  326M 0s\n",
      " 13800K .......... .......... .......... .......... .......... 52% 10.3M 0s\n",
      " 13850K .......... .......... .......... .......... .......... 52%  165M 0s\n",
      " 13900K .......... .......... .......... .......... .......... 52%  552M 0s\n",
      " 13950K .......... .......... .......... .......... .......... 52%  555M 0s\n",
      " 14000K .......... .......... .......... .......... .......... 52% 12.0M 0s\n",
      " 14050K .......... .......... .......... .......... .......... 53%  176M 0s\n",
      " 14100K .......... .......... .......... .......... .......... 53%  569M 0s\n",
      " 14150K .......... .......... .......... .......... .......... 53%  300M 0s\n",
      " 14200K .......... .......... .......... .......... .......... 53% 12.4M 0s\n",
      " 14250K .......... .......... .......... .......... .......... 53%  376M 0s\n",
      " 14300K .......... .......... .......... .......... .......... 54%  189M 0s\n",
      " 14350K .......... .......... .......... .......... .......... 54% 9.72M 0s\n",
      " 14400K .......... .......... .......... .......... .......... 54%  510M 0s\n",
      " 14450K .......... .......... .......... .......... .......... 54%  587M 0s\n",
      " 14500K .......... .......... .......... .......... .......... 54% 10.8M 0s\n",
      " 14550K .......... .......... .......... .......... .......... 54%  260M 0s\n",
      " 14600K .......... .......... .......... .......... .......... 55%  255M 0s\n",
      " 14650K .......... .......... .......... .......... .......... 55% 10.1M 0s\n",
      " 14700K .......... .......... .......... .......... .......... 55%  262M 0s\n",
      " 14750K .......... .......... .......... .......... .......... 55%  384M 0s\n",
      " 14800K .......... .......... .......... .......... .......... 55%  592M 0s\n",
      " 14850K .......... .......... .......... .......... .......... 56% 13.2M 0s\n",
      " 14900K .......... .......... .......... .......... .......... 56%  292M 0s\n",
      " 14950K .......... .......... .......... .......... .......... 56%  398M 0s\n",
      " 15000K .......... .......... .......... .......... .......... 56%  291M 0s\n",
      " 15050K .......... .......... .......... .......... .......... 56% 5.04M 0s\n",
      " 15100K .......... .......... .......... .......... .......... 57%  199M 0s\n",
      " 15150K .......... .......... .......... .......... .......... 57%  468M 0s\n",
      " 15200K .......... .......... .......... .......... .......... 57% 12.7M 0s\n",
      " 15250K .......... .......... .......... .......... .......... 57%  425M 0s\n",
      " 15300K .......... .......... .......... .......... .......... 57%  390M 0s\n",
      " 15350K .......... .......... .......... .......... .......... 57%  209M 0s\n",
      " 15400K .......... .......... .......... .......... .......... 58% 13.6M 0s\n",
      " 15450K .......... .......... .......... .......... .......... 58%  300M 0s\n",
      " 15500K .......... .......... .......... .......... .......... 58%  358M 0s\n",
      " 15550K .......... .......... .......... .......... .......... 58%  393M 0s\n",
      " 15600K .......... .......... .......... .......... .......... 58% 13.9M 0s\n",
      " 15650K .......... .......... .......... .......... .......... 59%  215M 0s\n",
      " 15700K .......... .......... .......... .......... .......... 59%  462M 0s\n",
      " 15750K .......... .......... .......... .......... .......... 59% 12.0M 0s\n",
      " 15800K .......... .......... .......... .......... .......... 59%  282M 0s\n",
      " 15850K .......... .......... .......... .......... .......... 59%  172M 0s\n",
      " 15900K .......... .......... .......... .......... .......... 60%  210M 0s\n",
      " 15950K .......... .......... .......... .......... .......... 60% 13.9M 0s\n",
      " 16000K .......... .......... .......... .......... .......... 60%  326M 0s\n",
      " 16050K .......... .......... .......... .......... .......... 60%  392M 0s\n",
      " 16100K .......... .......... .......... .......... .......... 60% 11.2M 0s\n",
      " 16150K .......... .......... .......... .......... .......... 61%  200M 0s\n",
      " 16200K .......... .......... .......... .......... .......... 61%  522M 0s\n",
      " 16250K .......... .......... .......... .......... .......... 61%  259M 0s\n",
      " 16300K .......... .......... .......... .......... .......... 61% 13.0M 0s\n",
      " 16350K .......... .......... .......... .......... .......... 61%  303M 0s\n",
      " 16400K .......... .......... .......... .......... .......... 61%  624M 0s\n",
      " 16450K .......... .......... .......... .......... .......... 62% 13.6M 0s\n",
      " 16500K .......... .......... .......... .......... .......... 62%  258M 0s\n",
      " 16550K .......... .......... .......... .......... .......... 62%  279M 0s\n",
      " 16600K .......... .......... .......... .......... .......... 62%  342M 0s\n",
      " 16650K .......... .......... .......... .......... .......... 62% 11.2M 0s\n",
      " 16700K .......... .......... .......... .......... .......... 63%  257M 0s\n",
      " 16750K .......... .......... .......... .......... .......... 63%  573M 0s\n",
      " 16800K .......... .......... .......... .......... .......... 63%  395M 0s\n",
      " 16850K .......... .......... .......... .......... .......... 63% 14.5M 0s\n",
      " 16900K .......... .......... .......... .......... .......... 63%  278M 0s\n",
      " 16950K .......... .......... .......... .......... .......... 64%  396M 0s\n",
      " 17000K .......... .......... .......... .......... .......... 64%  321M 0s\n",
      " 17050K .......... .......... .......... .......... .......... 64% 9.88M 0s\n",
      " 17100K .......... .......... .......... .......... .......... 64%  292M 0s\n",
      " 17150K .......... .......... .......... .......... .......... 64%  240M 0s\n",
      " 17200K .......... .......... .......... .......... .......... 64% 13.4M 0s\n",
      " 17250K .......... .......... .......... .......... .......... 65%  245M 0s\n",
      " 17300K .......... .......... .......... .......... .......... 65%  325M 0s\n",
      " 17350K .......... .......... .......... .......... .......... 65%  587M 0s\n",
      " 17400K .......... .......... .......... .......... .......... 65% 10.8M 0s\n",
      " 17450K .......... .......... .......... .......... .......... 65%  283M 0s\n",
      " 17500K .......... .......... .......... .......... .......... 66%  321M 0s\n",
      " 17550K .......... .......... .......... .......... .......... 66%  614M 0s\n",
      " 17600K .......... .......... .......... .......... .......... 66% 12.5M 0s\n",
      " 17650K .......... .......... .......... .......... .......... 66%  256M 0s\n",
      " 17700K .......... .......... .......... .......... .......... 66%  593M 0s\n",
      " 17750K .......... .......... .......... .......... .......... 67% 10.5M 0s\n",
      " 17800K .......... .......... .......... .......... .......... 67%  350M 0s\n",
      " 17850K .......... .......... .......... .......... .......... 67%  333M 0s\n",
      " 17900K .......... .......... .......... .......... .......... 67%  470M 0s\n",
      " 17950K .......... .......... .......... .......... .......... 67% 13.8M 0s\n",
      " 18000K .......... .......... .......... .......... .......... 67%  197M 0s\n",
      " 18050K .......... .......... .......... .......... .......... 68%  375M 0s\n",
      " 18100K .......... .......... .......... .......... .......... 68% 7.59M 0s\n",
      " 18150K .......... .......... .......... .......... .......... 68%  393M 0s\n",
      " 18200K .......... .......... .......... .......... .......... 68%  592M 0s\n",
      " 18250K .......... .......... .......... .......... .......... 68% 10.8M 0s\n",
      " 18300K .......... .......... .......... .......... .......... 69%  177M 0s\n",
      " 18350K .......... .......... .......... .......... .......... 69%  489M 0s\n",
      " 18400K .......... .......... .......... .......... .......... 69% 12.8M 0s\n",
      " 18450K .......... .......... .......... .......... .......... 69%  174M 0s\n",
      " 18500K .......... .......... .......... .......... .......... 69%  403M 0s\n",
      " 18550K .......... .......... .......... .......... .......... 70%  346M 0s\n",
      " 18600K .......... .......... .......... .......... .......... 70% 12.6M 0s\n",
      " 18650K .......... .......... .......... .......... .......... 70%  279M 0s\n",
      " 18700K .......... .......... .......... .......... .......... 70%  591M 0s\n",
      " 18750K .......... .......... .......... .......... .......... 70%  420M 0s\n",
      " 18800K .......... .......... .......... .......... .......... 70% 8.28M 0s\n",
      " 18850K .......... .......... .......... .......... .......... 71%  285M 0s\n",
      " 18900K .......... .......... .......... .......... .......... 71%  538M 0s\n",
      " 18950K .......... .......... .......... .......... .......... 71% 16.1M 0s\n",
      " 19000K .......... .......... .......... .......... .......... 71%  258M 0s\n",
      " 19050K .......... .......... .......... .......... .......... 71%  378M 0s\n",
      " 19100K .......... .......... .......... .......... .......... 72%  210M 0s\n",
      " 19150K .......... .......... .......... .......... .......... 72% 11.6M 0s\n",
      " 19200K .......... .......... .......... .......... .......... 72%  340M 0s\n",
      " 19250K .......... .......... .......... .......... .......... 72%  482M 0s\n",
      " 19300K .......... .......... .......... .......... .......... 72% 11.9M 0s\n",
      " 19350K .......... .......... .......... .......... .......... 73% 10.4M 0s\n",
      " 19400K .......... .......... .......... .......... .......... 73%  352M 0s\n",
      " 19450K .......... .......... .......... .......... .......... 73%  252M 0s\n",
      " 19500K .......... .......... .......... .......... .......... 73% 10.6M 0s\n",
      " 19550K .......... .......... .......... .......... .......... 73%  191M 0s\n",
      " 19600K .......... .......... .......... .......... .......... 74%  334M 0s\n",
      " 19650K .......... .......... .......... .......... .......... 74%  317M 0s\n",
      " 19700K .......... .......... .......... .......... .......... 74% 14.0M 0s\n",
      " 19750K .......... .......... .......... .......... .......... 74%  367M 0s\n",
      " 19800K .......... .......... .......... .......... .......... 74%  388M 0s\n",
      " 19850K .......... .......... .......... .......... .......... 74%  520M 0s\n",
      " 19900K .......... .......... .......... .......... .......... 75% 10.0M 0s\n",
      " 19950K .......... .......... .......... .......... .......... 75%  376M 0s\n",
      " 20000K .......... .......... .......... .......... .......... 75%  540M 0s\n",
      " 20050K .......... .......... .......... .......... .......... 75% 13.5M 0s\n",
      " 20100K .......... .......... .......... .......... .......... 75%  451M 0s\n",
      " 20150K .......... .......... .......... .......... .......... 76%  177M 0s\n",
      " 20200K .......... .......... .......... .......... .......... 76%  282M 0s\n",
      " 20250K .......... .......... .......... .......... .......... 76% 10.4M 0s\n",
      " 20300K .......... .......... .......... .......... .......... 76%  398M 0s\n",
      " 20350K .......... .......... .......... .......... .......... 76%  327M 0s\n",
      " 20400K .......... .......... .......... .......... .......... 77%  579M 0s\n",
      " 20450K .......... .......... .......... .......... .......... 77% 12.8M 0s\n",
      " 20500K .......... .......... .......... .......... .......... 77%  332M 0s\n",
      " 20550K .......... .......... .......... .......... .......... 77%  583M 0s\n",
      " 20600K .......... .......... .......... .......... .......... 77% 11.7M 0s\n",
      " 20650K .......... .......... .......... .......... .......... 77%  301M 0s\n",
      " 20700K .......... .......... .......... .......... .......... 78%  263M 0s\n",
      " 20750K .......... .......... .......... .......... .......... 78%  596M 0s\n",
      " 20800K .......... .......... .......... .......... .......... 78% 12.2M 0s\n",
      " 20850K .......... .......... .......... .......... .......... 78%  227M 0s\n",
      " 20900K .......... .......... .......... .......... .......... 78%  470M 0s\n",
      " 20950K .......... .......... .......... .......... .......... 79% 11.6M 0s\n",
      " 21000K .......... .......... .......... .......... .......... 79%  518M 0s\n",
      " 21050K .......... .......... .......... .......... .......... 79%  293M 0s\n",
      " 21100K .......... .......... .......... .......... .......... 79%  434M 0s\n",
      " 21150K .......... .......... .......... .......... .......... 79% 10.8M 0s\n",
      " 21200K .......... .......... .......... .......... .......... 80%  138M 0s\n",
      " 21250K .......... .......... .......... .......... .......... 80%  554M 0s\n",
      " 21300K .......... .......... .......... .......... .......... 80%  302M 0s\n",
      " 21350K .......... .......... .......... .......... .......... 80% 13.6M 0s\n",
      " 21400K .......... .......... .......... .......... .......... 80%  376M 0s\n",
      " 21450K .......... .......... .......... .......... .......... 80%  259M 0s\n",
      " 21500K .......... .......... .......... .......... .......... 81%  149M 0s\n",
      " 21550K .......... .......... .......... .......... .......... 81% 12.2M 0s\n",
      " 21600K .......... .......... .......... .......... .......... 81%  204M 0s\n",
      " 21650K .......... .......... .......... .......... .......... 81%  230M 0s\n",
      " 21700K .......... .......... .......... .......... .......... 81% 13.7M 0s\n",
      " 21750K .......... .......... .......... .......... .......... 82%  238M 0s\n",
      " 21800K .......... .......... .......... .......... .......... 82%  362M 0s\n",
      " 21850K .......... .......... .......... .......... .......... 82%  435M 0s\n",
      " 21900K .......... .......... .......... .......... .......... 82% 7.47M 0s\n",
      " 21950K .......... .......... .......... .......... .......... 82%  351M 0s\n",
      " 22000K .......... .......... .......... .......... .......... 83% 12.0M 0s\n",
      " 22050K .......... .......... .......... .......... .......... 83%  359M 0s\n",
      " 22100K .......... .......... .......... .......... .......... 83%  590M 0s\n",
      " 22150K .......... .......... .......... .......... .......... 83%  473M 0s\n",
      " 22200K .......... .......... .......... .......... .......... 83% 11.7M 0s\n",
      " 22250K .......... .......... .......... .......... .......... 83%  265M 0s\n",
      " 22300K .......... .......... .......... .......... .......... 84%  283M 0s\n",
      " 22350K .......... .......... .......... .......... .......... 84%  590M 0s\n",
      " 22400K .......... .......... .......... .......... .......... 84% 13.6M 0s\n",
      " 22450K .......... .......... .......... .......... .......... 84%  408M 0s\n",
      " 22500K .......... .......... .......... .......... .......... 84%  369M 0s\n",
      " 22550K .......... .......... .......... .......... .......... 85% 11.7M 0s\n",
      " 22600K .......... .......... .......... .......... .......... 85%  334M 0s\n",
      " 22650K .......... .......... .......... .......... .......... 85%  422M 0s\n",
      " 22700K .......... .......... .......... .......... .......... 85%  240M 0s\n",
      " 22750K .......... .......... .......... .......... .......... 85% 11.1M 0s\n",
      " 22800K .......... .......... .......... .......... .......... 86%  225M 0s\n",
      " 22850K .......... .......... .......... .......... .......... 86%  546M 0s\n",
      " 22900K .......... .......... .......... .......... .......... 86% 12.6M 0s\n",
      " 22950K .......... .......... .......... .......... .......... 86%  422M 0s\n",
      " 23000K .......... .......... .......... .......... .......... 86%  267M 0s\n",
      " 23050K .......... .......... .......... .......... .......... 86%  474M 0s\n",
      " 23100K .......... .......... .......... .......... .......... 87% 12.7M 0s\n",
      " 23150K .......... .......... .......... .......... .......... 87%  375M 0s\n",
      " 23200K .......... .......... .......... .......... .......... 87%  428M 0s\n",
      " 23250K .......... .......... .......... .......... .......... 87%  373M 0s\n",
      " 23300K .......... .......... .......... .......... .......... 87% 12.8M 0s\n",
      " 23350K .......... .......... .......... .......... .......... 88%  157M 0s\n",
      " 23400K .......... .......... .......... .......... .......... 88%  555M 0s\n",
      " 23450K .......... .......... .......... .......... .......... 88% 12.5M 0s\n",
      " 23500K .......... .......... .......... .......... .......... 88%  283M 0s\n",
      " 23550K .......... .......... .......... .......... .......... 88%  359M 0s\n",
      " 23600K .......... .......... .......... .......... .......... 89% 9.77M 0s\n",
      " 23650K .......... .......... .......... .......... .......... 89% 11.0M 0s\n",
      " 23700K .......... .......... .......... .......... .......... 89%  215M 0s\n",
      " 23750K .......... .......... .......... .......... .......... 89%  517M 0s\n",
      " 23800K .......... .......... .......... .......... .......... 89%  176M 0s\n",
      " 23850K .......... .......... .......... .......... .......... 90% 11.9M 0s\n",
      " 23900K .......... .......... .......... .......... .......... 90%  202M 0s\n",
      " 23950K .......... .......... .......... .......... .......... 90%  337M 0s\n",
      " 24000K .......... .......... .......... .......... .......... 90% 11.9M 0s\n",
      " 24050K .......... .......... .......... .......... .......... 90%  211M 0s\n",
      " 24100K .......... .......... .......... .......... .......... 90%  248M 0s\n",
      " 24150K .......... .......... .......... .......... .......... 91%  197M 0s\n",
      " 24200K .......... .......... .......... .......... .......... 91% 11.8M 0s\n",
      " 24250K .......... .......... .......... .......... .......... 91%  342M 0s\n",
      " 24300K .......... .......... .......... .......... .......... 91%  570M 0s\n",
      " 24350K .......... .......... .......... .......... .......... 91%  322M 0s\n",
      " 24400K .......... .......... .......... .......... .......... 92% 12.7M 0s\n",
      " 24450K .......... .......... .......... .......... .......... 92%  338M 0s\n",
      " 24500K .......... .......... .......... .......... .......... 92%  280M 0s\n",
      " 24550K .......... .......... .......... .......... .......... 92% 12.8M 0s\n",
      " 24600K .......... .......... .......... .......... .......... 92%  181M 0s\n",
      " 24650K .......... .......... .......... .......... .......... 93%  149M 0s\n",
      " 24700K .......... .......... .......... .......... .......... 93%  411M 0s\n",
      " 24750K .......... .......... .......... .......... .......... 93% 14.3M 0s\n",
      " 24800K .......... .......... .......... .......... .......... 93%  224M 0s\n",
      " 24850K .......... .......... .......... .......... .......... 93%  381M 0s\n",
      " 24900K .......... .......... .......... .......... .......... 93% 10.6M 0s\n",
      " 24950K .......... .......... .......... .......... .......... 94%  137M 0s\n",
      " 25000K .......... .......... .......... .......... .......... 94%  328M 0s\n",
      " 25050K .......... .......... .......... .......... .......... 94%  403M 0s\n",
      " 25100K .......... .......... .......... .......... .......... 94% 13.4M 0s\n",
      " 25150K .......... .......... .......... .......... .......... 94%  163M 0s\n",
      " 25200K .......... .......... .......... .......... .......... 95%  177M 0s\n",
      " 25250K .......... .......... .......... .......... .......... 95%  319M 0s\n",
      " 25300K .......... .......... .......... .......... .......... 95% 14.0M 0s\n",
      " 25350K .......... .......... .......... .......... .......... 95%  186M 0s\n",
      " 25400K .......... .......... .......... .......... .......... 95%  436M 0s\n",
      " 25450K .......... .......... .......... .......... .......... 96% 11.5M 0s\n",
      " 25500K .......... .......... .......... .......... .......... 96%  257M 0s\n",
      " 25550K .......... .......... .......... .......... .......... 96%  391M 0s\n",
      " 25600K .......... .......... .......... .......... .......... 96%  358M 0s\n",
      " 25650K .......... .......... .......... .......... .......... 96% 12.0M 0s\n",
      " 25700K .......... .......... .......... .......... .......... 96%  292M 0s\n",
      " 25750K .......... .......... .......... .......... .......... 97%  267M 0s\n",
      " 25800K .......... .......... .......... .......... .......... 97%  580M 0s\n",
      " 25850K .......... .......... .......... .......... .......... 97% 8.70M 0s\n",
      " 25900K .......... .......... .......... .......... .......... 97%  300M 0s\n",
      " 25950K .......... .......... .......... .......... .......... 97% 10.3M 0s\n",
      " 26000K .......... .......... .......... .......... .......... 98%  175M 0s\n",
      " 26050K .......... .......... .......... .......... .......... 98%  488M 0s\n",
      " 26100K .......... .......... .......... .......... .......... 98%  359M 0s\n",
      " 26150K .......... .......... .......... .......... .......... 98% 13.5M 0s\n",
      " 26200K .......... .......... .......... .......... .......... 98%  273M 0s\n",
      " 26250K .......... .......... .......... .......... .......... 99%  338M 0s\n",
      " 26300K .......... .......... .......... .......... .......... 99% 13.6M 0s\n",
      " 26350K .......... .......... .......... .......... .......... 99%  176M 0s\n",
      " 26400K .......... .......... .......... .......... .......... 99%  228M 0s\n",
      " 26450K .......... .......... .......... .......... .......... 99%  291M 0s\n",
      " 26500K .......... .......... .......... .......... .......... 99%  227M 0s\n",
      " 26550K ...                                                   100% 57.3G=0.8s\n",
      "\n",
      "Last-modified header missing -- time-stamps turned off.\n",
      "2021-05-18 20:56:46 (33.7 MB/s) - 'ja_gsd-ud-train.conllu' saved [27190277/27190277]\n",
      "\n"
     ]
    },
    {
     "name": "stderr",
     "output_type": "stream",
     "text": [
      "--2021-05-18 20:56:46--  https://raw.githubusercontent.com/UniversalDependencies/UD_Japanese-GSD/dev/ja_gsd-ud-test.conllu\n",
      "Resolving raw.githubusercontent.com (raw.githubusercontent.com)... 185.199.110.133, 185.199.108.133, 185.199.109.133, ...\n",
      "Connecting to raw.githubusercontent.com (raw.githubusercontent.com)|185.199.110.133|:443... connected.\n",
      "HTTP request sent, awaiting response... 200 OK\n",
      "Length: 2095913 (2.0M) [text/plain]\n",
      "Saving to: 'ja_gsd-ud-test.conllu'\n",
      "\n",
      "     0K .......... .......... .......... .......... ..........  2% 8.90M 0s\n",
      "    50K .......... .......... .......... .......... ..........  4% 21.1M 0s\n",
      "   100K .......... .......... .......... .......... ..........  7% 13.3M 0s\n",
      "   150K .......... .......... .......... .......... ..........  9% 15.7M 0s\n",
      "   200K .......... .......... .......... .......... .......... 12% 13.2M 0s\n",
      "   250K .......... .......... .......... .......... .......... 14% 33.6M 0s\n",
      "   300K .......... .......... .......... .......... .......... 17% 17.6M 0s\n",
      "   350K .......... .......... .......... .......... .......... 19% 25.2M 0s\n",
      "   400K .......... .......... .......... .......... .......... 21% 16.3M 0s\n",
      "   450K .......... .......... .......... .......... .......... 24% 17.6M 0s\n",
      "   500K .......... .......... .......... .......... .......... 26% 19.1M 0s\n",
      "   550K .......... .......... .......... .......... .......... 29% 67.9M 0s\n",
      "   600K .......... .......... .......... .......... .......... 31% 23.1M 0s\n",
      "   650K .......... .......... .......... .......... .......... 34% 13.8M 0s\n",
      "   700K .......... .......... .......... .......... .......... 36% 20.6M 0s\n",
      "   750K .......... .......... .......... .......... .......... 39% 20.0M 0s\n",
      "   800K .......... .......... .......... .......... .......... 41% 44.9M 0s\n",
      "   850K .......... .......... .......... .......... .......... 43% 16.1M 0s\n",
      "   900K .......... .......... .......... .......... .......... 46% 13.3M 0s\n",
      "   950K .......... .......... .......... .......... .......... 48%  180M 0s\n",
      "  1000K .......... .......... .......... .......... .......... 51% 21.4M 0s\n",
      "  1050K .......... .......... .......... .......... .......... 53% 21.6M 0s\n",
      "  1100K .......... .......... .......... .......... .......... 56% 27.8M 0s\n",
      "  1150K .......... .......... .......... .......... .......... 58% 14.1M 0s\n",
      "  1200K .......... .......... .......... .......... .......... 61% 16.0M 0s\n",
      "  1250K .......... .......... .......... .......... .......... 63%  222M 0s\n",
      "  1300K .......... .......... .......... .......... .......... 65% 30.2M 0s\n",
      "  1350K .......... .......... .......... .......... .......... 68% 23.4M 0s\n",
      "  1400K .......... .......... .......... .......... .......... 70% 20.3M 0s\n",
      "  1450K .......... .......... .......... .......... .......... 73% 20.6M 0s\n",
      "  1500K .......... .......... .......... .......... .......... 75% 44.5M 0s\n",
      "  1550K .......... .......... .......... .......... .......... 78% 14.7M 0s\n",
      "  1600K .......... .......... .......... .......... .......... 80%  310M 0s\n",
      "  1650K .......... .......... .......... .......... .......... 83% 14.8M 0s\n",
      "  1700K .......... .......... .......... .......... .......... 85% 21.9M 0s\n",
      "  1750K .......... .......... .......... .......... .......... 87% 15.8M 0s\n",
      "  1800K .......... .......... .......... .......... .......... 90%  251M 0s\n",
      "  1850K .......... .......... .......... .......... .......... 92% 33.4M 0s\n",
      "  1900K .......... .......... .......... .......... .......... 95% 36.0M 0s\n",
      "  1950K .......... .......... .......... .......... .......... 97% 24.8M 0s\n",
      "  2000K .......... .......... .......... .......... ......    100% 26.1M=0.09s\n",
      "\n",
      "Last-modified header missing -- time-stamps turned off.\n",
      "2021-05-18 20:56:47 (21.4 MB/s) - 'ja_gsd-ud-test.conllu' saved [2095913/2095913]\n",
      "\n"
     ]
    }
   ],
   "source": [
    "!wget -N https://raw.githubusercontent.com/UniversalDependencies/UD_Japanese-GSD/dev/ja_gsd-ud-train.conllu\n",
    "!wget -N https://raw.githubusercontent.com/UniversalDependencies/UD_Japanese-GSD/dev/ja_gsd-ud-test.conllu"
   ]
  },
  {
   "cell_type": "code",
   "execution_count": 169,
   "metadata": {},
   "outputs": [
    {
     "name": "stdout",
     "output_type": "stream",
     "text": [
      "7045\n",
      "542\n",
      "(['ホッケー', 'に', 'は', 'デンジャラス', 'プレー', 'の', '反則', 'が', 'ある', 'の', 'で', '、', '膝', 'より', '上', 'に', 'ボール', 'を', '浮かす', 'こと', 'は', '基本', '的', 'に', '反則', 'に', 'なる', 'が', '、', 'その', '例外', 'の', '一', 'つ', 'が', 'この', 'スクープ', 'で', 'ある', '。'], ['NOUN', 'ADP', 'ADP', 'NOUN', 'NOUN', 'ADP', 'NOUN', 'ADP', 'VERB', 'SCONJ', 'AUX', 'PUNCT', 'NOUN', 'ADP', 'NOUN', 'ADP', 'NOUN', 'ADP', 'VERB', 'NOUN', 'ADP', 'NOUN', 'PART', 'AUX', 'NOUN', 'ADP', 'VERB', 'SCONJ', 'PUNCT', 'DET', 'NOUN', 'ADP', 'NUM', 'NOUN', 'ADP', 'DET', 'NOUN', 'AUX', 'VERB', 'PUNCT'])\n",
      "(['これ', 'に', '不快', '感', 'を', '示す', '住民', 'は', 'い', 'まし', 'た', 'が', ',', '現在', ',', '表立っ', 'て', '反対', 'や', '抗議', 'の', '声', 'を', '挙げ', 'て', 'いる', '住民', 'は', 'い', 'ない', 'よう', 'です', '。'], ['PRON', 'ADP', 'NOUN', 'NOUN', 'ADP', 'VERB', 'NOUN', 'ADP', 'VERB', 'AUX', 'AUX', 'SCONJ', 'PUNCT', 'ADV', 'PUNCT', 'VERB', 'SCONJ', 'NOUN', 'ADP', 'NOUN', 'ADP', 'NOUN', 'ADP', 'VERB', 'SCONJ', 'VERB', 'NOUN', 'ADP', 'VERB', 'AUX', 'AUX', 'AUX', 'PUNCT'])\n"
     ]
    }
   ],
   "source": [
    "ja_dataset_train=CorpusDataset(\"./ja_gsd-ud-train.conllu\")\n",
    "ja_dataset_test=CorpusDataset(\"./ja_gsd-ud-test.conllu\")\n",
    "\n",
    "print(len(ja_dataset_train))\n",
    "print(len(ja_dataset_test))\n",
    "print(ja_dataset_train[0])\n",
    "print(ja_dataset_test[0])"
   ]
  },
  {
   "cell_type": "code",
   "execution_count": 170,
   "metadata": {},
   "outputs": [
    {
     "name": "stdout",
     "output_type": "stream",
     "text": [
      "20177\n",
      "['<UNK>', '1920', 'リュート', '飲めれ', '南軍', 'みち', '貨幣', 'まんが', 'サティアン', '常世', '抹消', 'スイッチング', '地球', '幅広い', '指す']\n",
      "['PROPN', 'SCONJ', 'CCONJ', 'NOUN', 'ADP', 'INTJ', 'NUM', 'ADV', 'PRON', 'VERB', 'PART', 'DET', 'SYM', 'PUNCT', 'AUX', 'ADJ', '<PAD>']\n"
     ]
    }
   ],
   "source": [
    "tokens = {token for sent,_ in ja_dataset_train for token in sent}\n",
    "idx2token = list(tokens)\n",
    "idx2token.insert(0, '<UNK>')\n",
    "idx2token.append('<PAD>')\n",
    "token2idx = {token:idx for idx, token in enumerate(idx2token)}\n",
    "\n",
    "tags = {tag for _,label in ja_dataset_train for tag in label}\n",
    "idx2tag = list(tags)\n",
    "idx2tag.append('<PAD>')\n",
    "tag2idx = {tag:idx for idx, tag in enumerate(idx2tag)}\n",
    "\n",
    "print(len(idx2token))\n",
    "print(idx2token[:15])\n",
    "print(idx2tag)\n",
    "\n",
    "ja_dataloader_train=DataLoader(dataset=ja_dataset_train,batch_size=100,shuffle=True,num_workers=0,collate_fn=pad_and_encode)\n",
    "ja_dataloader_test=DataLoader(dataset=ja_dataset_test,batch_size=100,shuffle=True,num_workers=0,collate_fn=pad_and_encode)"
   ]
  },
  {
   "cell_type": "code",
   "execution_count": 171,
   "metadata": {},
   "outputs": [
    {
     "name": "stdout",
     "output_type": "stream",
     "text": [
      "tensor([16927, 16707, 15286, 16963,   805, 20176, 20176, 20176, 20176, 20176,\n",
      "        20176, 20176, 20176, 20176, 20176, 20176, 20176, 20176, 20176, 20176,\n",
      "        20176, 20176, 20176, 20176, 20176, 20176, 20176, 20176, 20176, 20176,\n",
      "        20176, 20176, 20176, 20176, 20176, 20176, 20176, 20176, 20176, 20176,\n",
      "        20176, 20176, 20176, 20176, 20176, 20176, 20176, 20176, 20176, 20176,\n",
      "        20176, 20176, 20176, 20176, 20176, 20176, 20176, 20176, 20176, 20176,\n",
      "        20176, 20176, 20176, 20176])\n",
      "tensor([ 7,  9,  1, 14, 13, 16, 16, 16, 16, 16, 16, 16, 16, 16, 16, 16, 16, 16,\n",
      "        16, 16, 16, 16, 16, 16, 16, 16, 16, 16, 16, 16, 16, 16, 16, 16, 16, 16,\n",
      "        16, 16, 16, 16, 16, 16, 16, 16, 16, 16, 16, 16, 16, 16, 16, 16, 16, 16,\n",
      "        16, 16, 16, 16, 16, 16, 16, 16, 16, 16])\n",
      "tensor([ 3348, 14370, 12052, 10001, 13969, 14875, 13969,     0,     0, 15286,\n",
      "         2031, 12052,  5634, 13982, 14691,    99,  1342,  5634,  1854, 14024,\n",
      "        10216, 14844, 17197,  5634,     0,  1839, 16415, 20176, 20176, 20176,\n",
      "        20176, 20176, 20176, 20176, 20176, 20176, 20176, 20176, 20176, 20176,\n",
      "        20176, 20176, 20176, 20176, 20176, 20176, 20176, 20176, 20176, 20176,\n",
      "        20176, 20176, 20176, 20176, 20176, 20176, 20176, 20176, 20176, 20176,\n",
      "        20176, 20176, 20176, 20176, 20176, 20176, 20176, 20176, 20176, 20176,\n",
      "        20176, 20176, 20176, 20176, 20176, 20176, 20176, 20176, 20176, 20176,\n",
      "        20176, 20176, 20176, 20176, 20176, 20176, 20176, 20176, 20176, 20176,\n",
      "        20176, 20176, 20176, 20176, 20176, 20176, 20176, 20176, 20176, 20176,\n",
      "        20176, 20176, 20176, 20176, 20176, 20176, 20176, 20176, 20176, 20176,\n",
      "        20176, 20176, 20176, 20176, 20176, 20176, 20176, 20176, 20176, 20176,\n",
      "        20176, 20176, 20176, 20176, 20176, 20176, 20176])\n",
      "tensor([ 3,  3,  4,  3,  4,  8,  4, 15,  9,  1,  9,  1, 14, 13,  8,  4,  0,  4,\n",
      "         9, 14,  3,  4,  8,  4,  3, 14, 13, 16, 16, 16, 16, 16, 16, 16, 16, 16,\n",
      "        16, 16, 16, 16, 16, 16, 16, 16, 16, 16, 16, 16, 16, 16, 16, 16, 16, 16,\n",
      "        16, 16, 16, 16, 16, 16, 16, 16, 16, 16, 16, 16, 16, 16, 16, 16, 16, 16,\n",
      "        16, 16, 16, 16, 16, 16, 16, 16, 16, 16, 16, 16, 16, 16, 16, 16, 16, 16,\n",
      "        16, 16, 16, 16, 16, 16, 16, 16, 16, 16, 16, 16, 16, 16, 16, 16, 16, 16,\n",
      "        16, 16, 16, 16, 16, 16, 16, 16, 16, 16, 16, 16, 16, 16, 16, 16, 16, 16,\n",
      "        16])\n"
     ]
    }
   ],
   "source": [
    "examples=iter(ja_dataloader_train)\n",
    "examples2=iter(ja_dataloader_test)\n",
    "sents,labels=examples.next()\n",
    "sents2,labels2=examples2.next()\n",
    "assert len(sents)==len(labels)\n",
    "assert len(sents2)==len(labels2)\n",
    "batch_size=len(sents)\n",
    "print(sents[0])\n",
    "print(labels[0])\n",
    "print(sents2[0])\n",
    "print(labels2[0])"
   ]
  },
  {
   "cell_type": "code",
   "execution_count": 172,
   "metadata": {},
   "outputs": [
    {
     "data": {
      "image/png": "[encoded data removed]",
      "text/plain": [
       "<Figure size 576x288 with 1 Axes>"
      ]
     },
     "metadata": {
      "needs_background": "light"
     },
     "output_type": "display_data"
    }
   ],
   "source": [
    "l1 = np.asarray([len(sent) for sents,_ in ja_dataloader_train for sent in sents], dtype=np.int32)\n",
    "l2 = np.asarray([len(sent) for sents,_ in ja_dataloader_test for sent in sents], dtype=np.int32)\n",
    "l3 = np.append(l1,l2)\n",
    "plt.figure(figsize=(8, 4))\n",
    "x = np.unique(l3)\n",
    "plt.bar(x, [np.sum(l3==e) for e in x], width=1)\n",
    "plt.xlabel(\"Sentence length\")\n",
    "plt.ylabel(\"# sentences\") \n",
    "plt.show()"
   ]
  },
  {
   "cell_type": "code",
   "execution_count": 173,
   "metadata": {},
   "outputs": [
    {
     "name": "stdout",
     "output_type": "stream",
     "text": [
      "LSTMTagger_new(\n",
      "  (_word_embedding): Embedding(20177, 32, padding_idx=20176)\n",
      "  (_lstm): LSTM(32, 64, batch_first=True)\n",
      "  (_fc): Linear(in_features=64, out_features=16, bias=True)\n",
      ")\n"
     ]
    }
   ],
   "source": [
    "model_ja=LSTMTagger_new(word_embedding_dim=32,                                       \n",
    "                   lstm_hidden_dim=64,                                          \n",
    "                   vocabulary_size=len(token2idx),                              \n",
    "                   tagset_size=len(tag2idx)-1,device=torch.device(\"cuda\" if torch.cuda.is_available() else \"cpu\"))  \n",
    "\n",
    "print(model_ja)"
   ]
  },
  {
   "cell_type": "code",
   "execution_count": 174,
   "metadata": {},
   "outputs": [
    {
     "name": "stderr",
     "output_type": "stream",
     "text": [
      "Epoch 0: 71batch [00:03, 17.86batch/s, accuracy=84.8, loss=0.515]                                                      \n",
      "Epoch 1: 71batch [00:04, 16.08batch/s, accuracy=90.2, loss=0.33]                                                       \n",
      "Epoch 2: 71batch [00:04, 16.13batch/s, accuracy=93.8, loss=0.186]                                                      \n",
      "Epoch 3: 71batch [00:04, 16.20batch/s, accuracy=94.4, loss=0.16]                                                       \n",
      "Epoch 4: 71batch [00:04, 16.21batch/s, accuracy=96.9, loss=0.102]                                                      \n",
      "Epoch 5: 71batch [00:04, 16.18batch/s, accuracy=96.7, loss=0.105]                                                      \n",
      "Epoch 6: 71batch [00:04, 16.34batch/s, accuracy=98.5, loss=0.0603]                                                     \n",
      "Epoch 7: 71batch [00:04, 15.93batch/s, accuracy=99, loss=0.0303]                                                       \n",
      "Epoch 8: 71batch [00:04, 16.06batch/s, accuracy=99.4, loss=0.0268]                                                     \n",
      "Epoch 9: 71batch [00:04, 16.04batch/s, accuracy=99.3, loss=0.0241]                                                     \n"
     ]
    }
   ],
   "source": [
    "model_ja.fit(ja_dataloader_train,0.01,10)"
   ]
  },
  {
   "cell_type": "code",
   "execution_count": 175,
   "metadata": {},
   "outputs": [
    {
     "data": {
      "text/plain": [
       "92.67188459177409"
      ]
     },
     "execution_count": 175,
     "metadata": {},
     "output_type": "execute_result"
    }
   ],
   "source": [
    "model_ja.score(ja_dataloader_test)"
   ]
  },
  {
   "cell_type": "code",
   "execution_count": 176,
   "metadata": {},
   "outputs": [
    {
     "name": "stdout",
     "output_type": "stream",
     "text": [
      "LSTMTagger_new(\n",
      "  (_word_embedding): Embedding(20177, 40, padding_idx=20176)\n",
      "  (_lstm): LSTM(40, 80, batch_first=True)\n",
      "  (_fc): Linear(in_features=80, out_features=16, bias=True)\n",
      ")\n"
     ]
    }
   ],
   "source": [
    "model_ja2=LSTMTagger_new(word_embedding_dim=40,                                       \n",
    "                   lstm_hidden_dim=80,                                          \n",
    "                   vocabulary_size=len(token2idx),                              \n",
    "                   tagset_size=len(tag2idx)-1,device=torch.device(\"cuda\" if torch.cuda.is_available() else \"cpu\"))  \n",
    "\n",
    "print(model_ja2)"
   ]
  },
  {
   "cell_type": "code",
   "execution_count": 177,
   "metadata": {},
   "outputs": [
    {
     "name": "stderr",
     "output_type": "stream",
     "text": [
      "Epoch 0: 71batch [00:03, 20.40batch/s, accuracy=85.3, loss=0.46]                                                       \n",
      "Epoch 1: 71batch [00:04, 15.49batch/s, accuracy=90.8, loss=0.296]                                                      \n",
      "Epoch 2: 71batch [00:04, 15.30batch/s, accuracy=95, loss=0.159]                                                        \n",
      "Epoch 3: 71batch [00:04, 15.40batch/s, accuracy=95, loss=0.144]                                                        \n",
      "Epoch 4: 71batch [00:04, 15.43batch/s, accuracy=97.1, loss=0.0876]                                                     \n",
      "Epoch 5: 71batch [00:04, 15.53batch/s, accuracy=98.2, loss=0.054]                                                      \n",
      "Epoch 6: 71batch [00:04, 15.49batch/s, accuracy=98.7, loss=0.0414]                                                     \n",
      "Epoch 7: 71batch [00:04, 15.26batch/s, accuracy=98.6, loss=0.0318]                                                     \n",
      "Epoch 8: 71batch [00:04, 15.21batch/s, accuracy=99.4, loss=0.0264]                                                     \n",
      "Epoch 9: 71batch [00:04, 15.54batch/s, accuracy=99.4, loss=0.0204]                                                     \n"
     ]
    }
   ],
   "source": [
    "model_ja2.fit(ja_dataloader_train,0.01,10)"
   ]
  },
  {
   "cell_type": "code",
   "execution_count": 178,
   "metadata": {},
   "outputs": [
    {
     "data": {
      "text/plain": [
       "92.84069981583794"
      ]
     },
     "execution_count": 178,
     "metadata": {},
     "output_type": "execute_result"
    }
   ],
   "source": [
    "model_ja2.score(ja_dataloader_test)"
   ]
  },
  {
   "cell_type": "markdown",
   "metadata": {},
   "source": [
    "## Load the Swedish Corpus"
   ]
  },
  {
   "cell_type": "code",
   "execution_count": 96,
   "metadata": {},
   "outputs": [
    {
     "name": "stderr",
     "output_type": "stream",
     "text": [
      "--2021-05-18 21:29:30--  https://raw.githubusercontent.com/UniversalDependencies/UD_Swedish-Talbanken/dev/sv_talbanken-ud-train.conllu\n",
      "Resolving raw.githubusercontent.com (raw.githubusercontent.com)... 185.199.110.133, 185.199.108.133, 185.199.109.133, ...\n",
      "Connecting to raw.githubusercontent.com (raw.githubusercontent.com)|185.199.110.133|:443... connected.\n",
      "HTTP request sent, awaiting response... 200 OK\n",
      "Length: 5839640 (5.6M) [text/plain]\n",
      "Saving to: 'sv_talbanken-ud-train.conllu'\n",
      "\n",
      "     0K .......... .......... .......... .......... ..........  0% 8.39M 1s\n",
      "    50K .......... .......... .......... .......... ..........  1% 23.9M 0s\n",
      "   100K .......... .......... .......... .......... ..........  2% 22.8M 0s\n",
      "   150K .......... .......... .......... .......... ..........  3% 11.3M 0s\n",
      "   200K .......... .......... .......... .......... ..........  4% 33.5M 0s\n",
      "   250K .......... .......... .......... .......... ..........  5% 4.10M 0s\n",
      "   300K .......... .......... .......... .......... ..........  6% 13.4M 0s\n",
      "   350K .......... .......... .......... .......... ..........  7% 89.5M 0s\n",
      "   400K .......... .......... .......... .......... ..........  7% 2.43M 1s\n",
      "   450K .......... .......... .......... .......... ..........  8% 96.6M 1s\n",
      "   500K .......... .......... .......... .......... ..........  9% 93.8M 0s\n",
      "   550K .......... .......... .......... .......... .......... 10% 6.01M 1s\n",
      "   600K .......... .......... .......... .......... .......... 11% 11.8M 1s\n",
      "   650K .......... .......... .......... .......... .......... 12% 13.8M 0s\n",
      "   700K .......... .......... .......... .......... .......... 13% 16.3M 0s\n",
      "   750K .......... .......... .......... .......... .......... 14% 18.1M 0s\n",
      "   800K .......... .......... .......... .......... .......... 14% 27.0M 0s\n",
      "   850K .......... .......... .......... .......... .......... 15% 17.3M 0s\n",
      "   900K .......... .......... .......... .......... .......... 16% 21.4M 0s\n",
      "   950K .......... .......... .......... .......... .......... 17% 15.0M 0s\n",
      "  1000K .......... .......... .......... .......... .......... 18% 24.6M 0s\n",
      "  1050K .......... .......... .......... .......... .......... 19% 25.0M 0s\n",
      "  1100K .......... .......... .......... .......... .......... 20% 5.89M 0s\n",
      "  1150K .......... .......... .......... .......... .......... 21% 22.2M 0s\n",
      "  1200K .......... .......... .......... .......... .......... 21% 22.9M 0s\n",
      "  1250K .......... .......... .......... .......... .......... 22% 27.2M 0s\n",
      "  1300K .......... .......... .......... .......... .......... 23% 16.7M 0s\n",
      "  1350K .......... .......... .......... .......... .......... 24% 21.5M 0s\n",
      "  1400K .......... .......... .......... .......... .......... 25% 39.0M 0s\n",
      "  1450K .......... .......... .......... .......... .......... 26% 23.0M 0s\n",
      "  1500K .......... .......... .......... .......... .......... 27% 13.1M 0s\n",
      "  1550K .......... .......... .......... .......... .......... 28% 28.6M 0s\n",
      "  1600K .......... .......... .......... .......... .......... 28% 76.2M 0s\n",
      "  1650K .......... .......... .......... .......... .......... 29% 19.2M 0s\n",
      "  1700K .......... .......... .......... .......... .......... 30% 63.0M 0s\n",
      "  1750K .......... .......... .......... .......... .......... 31% 17.1M 0s\n",
      "  1800K .......... .......... .......... .......... .......... 32% 13.0M 0s\n",
      "  1850K .......... .......... .......... .......... .......... 33% 22.3M 0s\n",
      "  1900K .......... .......... .......... .......... .......... 34% 28.8M 0s\n",
      "  1950K .......... .......... .......... .......... .......... 35%  393M 0s\n",
      "  2000K .......... .......... .......... .......... .......... 35% 25.6M 0s\n",
      "  2050K .......... .......... .......... .......... .......... 36% 9.92M 0s\n",
      "  2100K .......... .......... .......... .......... .......... 37% 54.1M 0s\n",
      "  2150K .......... .......... .......... .......... .......... 38% 24.0M 0s\n",
      "  2200K .......... .......... .......... .......... .......... 39% 13.1M 0s\n",
      "  2250K .......... .......... .......... .......... .......... 40% 16.4M 0s\n",
      "  2300K .......... .......... .......... .......... .......... 41% 12.2M 0s\n",
      "  2350K .......... .......... .......... .......... .......... 42%  392M 0s\n",
      "  2400K .......... .......... .......... .......... .......... 42% 20.4M 0s\n",
      "  2450K .......... .......... .......... .......... .......... 43% 51.6M 0s\n",
      "  2500K .......... .......... .......... .......... .......... 44% 26.4M 0s\n",
      "  2550K .......... .......... .......... .......... .......... 45% 24.5M 0s\n",
      "  2600K .......... .......... .......... .......... .......... 46% 20.1M 0s\n",
      "  2650K .......... .......... .......... .......... .......... 47% 39.6M 0s\n",
      "  2700K .......... .......... .......... .......... .......... 48% 19.7M 0s\n",
      "  2750K .......... .......... .......... .......... .......... 49% 23.2M 0s\n",
      "  2800K .......... .......... .......... .......... .......... 49% 26.9M 0s\n",
      "  2850K .......... .......... .......... .......... .......... 50%  295M 0s\n",
      "  2900K .......... .......... .......... .......... .......... 51% 41.5M 0s\n",
      "  2950K .......... .......... .......... .......... .......... 52% 19.4M 0s\n",
      "  3000K .......... .......... .......... .......... .......... 53% 30.9M 0s\n",
      "  3050K .......... .......... .......... .......... .......... 54% 18.1M 0s\n",
      "  3100K .......... .......... .......... .......... .......... 55%  409M 0s\n",
      "  3150K .......... .......... .......... .......... .......... 56% 19.6M 0s\n",
      "  3200K .......... .......... .......... .......... .......... 56% 32.4M 0s\n",
      "  3250K .......... .......... .......... .......... .......... 57% 14.1M 0s\n",
      "  3300K .......... .......... .......... .......... .......... 58%  404M 0s\n",
      "  3350K .......... .......... .......... .......... .......... 59% 30.4M 0s\n",
      "  3400K .......... .......... .......... .......... .......... 60% 29.1M 0s\n",
      "  3450K .......... .......... .......... .......... .......... 61% 20.5M 0s\n",
      "  3500K .......... .......... .......... .......... .......... 62% 29.1M 0s\n",
      "  3550K .......... .......... .......... .......... .......... 63% 14.3M 0s\n",
      "  3600K .......... .......... .......... .......... .......... 64%  537M 0s\n",
      "  3650K .......... .......... .......... .......... .......... 64% 20.8M 0s\n",
      "  3700K .......... .......... .......... .......... .......... 65%  412M 0s\n",
      "  3750K .......... .......... .......... .......... .......... 66% 19.2M 0s\n",
      "  3800K .......... .......... .......... .......... .......... 67% 16.2M 0s\n",
      "  3850K .......... .......... .......... .......... .......... 68% 28.0M 0s\n",
      "  3900K .......... .......... .......... .......... .......... 69% 33.1M 0s\n",
      "  3950K .......... .......... .......... .......... .......... 70%  402M 0s\n",
      "  4000K .......... .......... .......... .......... .......... 71% 1.20M 0s\n",
      "  4050K .......... .......... .......... .......... .......... 71%  247M 0s\n",
      "  4100K .......... .......... .......... .......... .......... 72% 55.6M 0s\n",
      "  4150K .......... .......... .......... .......... .......... 73% 5.40M 0s\n",
      "  4200K .......... .......... .......... .......... .......... 74%  356M 0s\n",
      "  4250K .......... .......... .......... .......... .......... 75% 12.1M 0s\n",
      "  4300K .......... .......... .......... .......... .......... 76% 24.4M 0s\n",
      "  4350K .......... .......... .......... .......... .......... 77% 31.0M 0s\n",
      "  4400K .......... .......... .......... .......... .......... 78% 18.0M 0s\n",
      "  4450K .......... .......... .......... .......... .......... 78% 20.3M 0s\n",
      "  4500K .......... .......... .......... .......... .......... 79% 20.8M 0s\n",
      "  4550K .......... .......... .......... .......... .......... 80% 21.1M 0s\n",
      "  4600K .......... .......... .......... .......... .......... 81% 19.9M 0s\n",
      "  4650K .......... .......... .......... .......... .......... 82% 52.0M 0s\n",
      "  4700K .......... .......... .......... .......... .......... 83% 30.3M 0s\n",
      "  4750K .......... .......... .......... .......... .......... 84% 19.3M 0s\n",
      "  4800K .......... .......... .......... .......... .......... 85% 24.4M 0s\n",
      "  4850K .......... .......... .......... .......... .......... 85% 30.0M 0s\n",
      "  4900K .......... .......... .......... .......... .......... 86% 33.6M 0s\n",
      "  4950K .......... .......... .......... .......... .......... 87% 21.6M 0s\n",
      "  5000K .......... .......... .......... .......... .......... 88% 23.1M 0s\n",
      "  5050K .......... .......... .......... .......... .......... 89% 58.3M 0s\n",
      "  5100K .......... .......... .......... .......... .......... 90% 32.3M 0s\n",
      "  5150K .......... .......... .......... .......... .......... 91% 25.9M 0s\n",
      "  5200K .......... .......... .......... .......... .......... 92% 26.0M 0s\n",
      "  5250K .......... .......... .......... .......... .......... 92% 15.6M 0s\n",
      "  5300K .......... .......... .......... .......... .......... 93%  323M 0s\n",
      "  5350K .......... .......... .......... .......... .......... 94% 15.9M 0s\n",
      "  5400K .......... .......... .......... .......... .......... 95% 17.1M 0s\n",
      "  5450K .......... .......... .......... .......... .......... 96%  302M 0s\n",
      "  5500K .......... .......... .......... .......... .......... 97% 15.8M 0s\n",
      "  5550K .......... .......... .......... .......... .......... 98%  274M 0s\n",
      "  5600K .......... .......... .......... .......... .......... 99% 32.2M 0s\n",
      "  5650K .......... .......... .......... .......... .......... 99% 26.1M 0s\n",
      "  5700K ..                                                    100% 65.9M=0.3s\n",
      "\n",
      "Last-modified header missing -- time-stamps turned off.\n",
      "2021-05-18 21:29:31 (17.7 MB/s) - 'sv_talbanken-ud-train.conllu' saved [5839640/5839640]\n",
      "\n"
     ]
    },
    {
     "name": "stderr",
     "output_type": "stream",
     "text": [
      "--2021-05-18 21:29:31--  https://raw.githubusercontent.com/UniversalDependencies/UD_Swedish-Talbanken/dev/sv_talbanken-ud-test.conllu\n",
      "Resolving raw.githubusercontent.com (raw.githubusercontent.com)... 185.199.110.133, 185.199.108.133, 185.199.109.133, ...\n",
      "Connecting to raw.githubusercontent.com (raw.githubusercontent.com)|185.199.110.133|:443... connected.\n",
      "HTTP request sent, awaiting response... 200 OK\n",
      "Length: 1781482 (1.7M) [text/plain]\n",
      "Saving to: 'sv_talbanken-ud-test.conllu'\n",
      "\n",
      "     0K .......... .......... .......... .......... ..........  2% 10.3M 0s\n",
      "    50K .......... .......... .......... .......... ..........  5% 16.3M 0s\n",
      "   100K .......... .......... .......... .......... ..........  8% 20.5M 0s\n",
      "   150K .......... .......... .......... .......... .......... 11% 21.3M 0s\n",
      "   200K .......... .......... .......... .......... .......... 14% 11.9M 0s\n",
      "   250K .......... .......... .......... .......... .......... 17% 29.2M 0s\n",
      "   300K .......... .......... .......... .......... .......... 20% 13.9M 0s\n",
      "   350K .......... .......... .......... .......... .......... 22% 47.2M 0s\n",
      "   400K .......... .......... .......... .......... .......... 25% 17.6M 0s\n",
      "   450K .......... .......... .......... .......... .......... 28% 14.7M 0s\n",
      "   500K .......... .......... .......... .......... .......... 31% 25.4M 0s\n",
      "   550K .......... .......... .......... .......... .......... 34% 23.0M 0s\n",
      "   600K .......... .......... .......... .......... .......... 37% 12.9M 0s\n",
      "   650K .......... .......... .......... .......... .......... 40% 57.1M 0s\n",
      "   700K .......... .......... .......... .......... .......... 43% 17.6M 0s\n",
      "   750K .......... .......... .......... .......... .......... 45% 37.0M 0s\n",
      "   800K .......... .......... .......... .......... .......... 48% 15.5M 0s\n",
      "   850K .......... .......... .......... .......... .......... 51% 49.5M 0s\n",
      "   900K .......... .......... .......... .......... .......... 54% 15.4M 0s\n",
      "   950K .......... .......... .......... .......... .......... 57% 46.2M 0s\n",
      "  1000K .......... .......... .......... .......... .......... 60% 11.6M 0s\n",
      "  1050K .......... .......... .......... .......... .......... 63% 39.8M 0s\n",
      "  1100K .......... .......... .......... .......... .......... 66% 18.3M 0s\n",
      "  1150K .......... .......... .......... .......... .......... 68% 19.0M 0s\n",
      "  1200K .......... .......... .......... .......... .......... 71% 36.3M 0s\n",
      "  1250K .......... .......... .......... .......... .......... 74% 20.4M 0s\n",
      "  1300K .......... .......... .......... .......... .......... 77% 27.5M 0s\n",
      "  1350K .......... .......... .......... .......... .......... 80% 19.5M 0s\n",
      "  1400K .......... .......... .......... .......... .......... 83% 12.4M 0s\n",
      "  1450K .......... .......... .......... .......... .......... 86% 51.8M 0s\n",
      "  1500K .......... .......... .......... .......... .......... 89% 28.9M 0s\n",
      "  1550K .......... .......... .......... .......... .......... 91% 24.2M 0s\n",
      "  1600K .......... .......... .......... .......... .......... 94% 19.5M 0s\n",
      "  1650K .......... .......... .......... .......... .......... 97% 37.2M 0s\n",
      "  1700K .......... .......... .......... .........            100% 50.5M=0.08s\n",
      "\n",
      "Last-modified header missing -- time-stamps turned off.\n",
      "2021-05-18 21:29:31 (20.8 MB/s) - 'sv_talbanken-ud-test.conllu' saved [1781482/1781482]\n",
      "\n"
     ]
    }
   ],
   "source": [
    "!wget -N https://raw.githubusercontent.com/UniversalDependencies/UD_Swedish-Talbanken/dev/sv_talbanken-ud-train.conllu\n",
    "!wget -N https://raw.githubusercontent.com/UniversalDependencies/UD_Swedish-Talbanken/dev/sv_talbanken-ud-test.conllu"
   ]
  },
  {
   "cell_type": "code",
   "execution_count": 97,
   "metadata": {},
   "outputs": [
    {
     "name": "stdout",
     "output_type": "stream",
     "text": [
      "4166\n",
      "1184\n",
      "(['Individuell', 'beskattning', 'av', 'arbetsinkomster'], ['ADJ', 'NOUN', 'ADP', 'NOUN'])\n",
      "(['Den', 'allmänna', 'pensionen', 'är', 'av', 'två', 'slag', ':', 'folkpension', 'och', 'tilläggspension', '(', 'ATP', ')', '.'], ['DET', 'ADJ', 'NOUN', 'AUX', 'ADP', 'NUM', 'NOUN', 'PUNCT', 'NOUN', 'CCONJ', 'NOUN', 'PUNCT', 'PROPN', 'PUNCT', 'PUNCT'])\n"
     ]
    }
   ],
   "source": [
    "sv_dataset_train=CorpusDataset(\"./sv_talbanken-ud-train.conllu\")\n",
    "sv_dataset_test=CorpusDataset(\"./sv_talbanken-ud-test.conllu\")\n",
    "\n",
    "print(len(sv_dataset_train))\n",
    "print(len(sv_dataset_test))\n",
    "print(sv_dataset_train[0])\n",
    "print(sv_dataset_test[0])"
   ]
  },
  {
   "cell_type": "code",
   "execution_count": 98,
   "metadata": {},
   "outputs": [
    {
     "name": "stdout",
     "output_type": "stream",
     "text": [
      "12810\n",
      "['<UNK>', 'Expressutdelning', 'Totala', 'mängdläran', 'förändrad', 'avge', 'skalaren', 'sannerligen', 'pappa-roll', 'dubbla', 'graviditeter', 'Ministerrådssekretariatet', 'gentemot', 'största', 'rissorterna']\n",
      "['PROPN', 'SCONJ', 'CCONJ', 'NOUN', 'ADP', 'INTJ', 'PRON', 'ADV', 'NUM', 'VERB', 'PART', 'DET', 'SYM', 'PUNCT', 'AUX', 'ADJ', '<PAD>']\n"
     ]
    }
   ],
   "source": [
    "tokens = {token for sent,_ in sv_dataset_train for token in sent}\n",
    "idx2token = list(tokens)\n",
    "idx2token.insert(0, '<UNK>')\n",
    "idx2token.append('<PAD>')\n",
    "token2idx = {token:idx for idx, token in enumerate(idx2token)}\n",
    "\n",
    "tags = {tag for _,label in sv_dataset_train for tag in label}\n",
    "idx2tag = list(tags)\n",
    "idx2tag.append('<PAD>')\n",
    "tag2idx = {tag:idx for idx, tag in enumerate(idx2tag)}\n",
    "\n",
    "print(len(idx2token))\n",
    "print(idx2token[:15])\n",
    "print(idx2tag)\n",
    "\n",
    "sv_dataloader_train=DataLoader(dataset=sv_dataset_train,batch_size=100,shuffle=True,num_workers=0,collate_fn=pad_and_encode)\n",
    "sv_dataloader_test=DataLoader(dataset=sv_dataset_test,batch_size=100,shuffle=True,num_workers=0,collate_fn=pad_and_encode)"
   ]
  },
  {
   "cell_type": "code",
   "execution_count": 99,
   "metadata": {},
   "outputs": [
    {
     "name": "stdout",
     "output_type": "stream",
     "text": [
      "tensor([  482,  9311, 10993,   964,  2827, 11246,  2928,  2835,  9727,  2827,\n",
      "        11699, 11866, 12809, 12809, 12809, 12809, 12809, 12809, 12809, 12809,\n",
      "        12809, 12809, 12809, 12809, 12809, 12809, 12809, 12809, 12809, 12809,\n",
      "        12809, 12809, 12809, 12809, 12809, 12809, 12809, 12809, 12809, 12809,\n",
      "        12809, 12809, 12809, 12809, 12809, 12809, 12809, 12809, 12809, 12809,\n",
      "        12809, 12809, 12809, 12809])\n",
      "tensor([ 9,  7,  4,  0, 13,  3,  2,  3,  3, 13,  8,  0, 16, 16, 16, 16, 16, 16,\n",
      "        16, 16, 16, 16, 16, 16, 16, 16, 16, 16, 16, 16, 16, 16, 16, 16, 16, 16,\n",
      "        16, 16, 16, 16, 16, 16, 16, 16, 16, 16, 16, 16, 16, 16, 16, 16, 16, 16])\n",
      "tensor([  114,  5398,  8441,  9795,  8063,  9716,  1256,  2070,  8351, 11521,\n",
      "         9143,  5714, 12809, 12809, 12809, 12809, 12809, 12809, 12809, 12809,\n",
      "        12809, 12809, 12809, 12809, 12809, 12809, 12809, 12809, 12809, 12809,\n",
      "        12809, 12809, 12809, 12809, 12809, 12809, 12809, 12809, 12809, 12809,\n",
      "        12809, 12809, 12809, 12809, 12809, 12809, 12809, 12809])\n",
      "tensor([ 7,  4,  8,  3,  3,  9,  6,  6, 10,  9,  7, 13, 16, 16, 16, 16, 16, 16,\n",
      "        16, 16, 16, 16, 16, 16, 16, 16, 16, 16, 16, 16, 16, 16, 16, 16, 16, 16,\n",
      "        16, 16, 16, 16, 16, 16, 16, 16, 16, 16, 16, 16])\n"
     ]
    }
   ],
   "source": [
    "examples=iter(sv_dataloader_train)\n",
    "examples2=iter(sv_dataloader_test)\n",
    "sents,labels=examples.next()\n",
    "sents2,labels2=examples2.next()\n",
    "assert len(sents)==len(labels)\n",
    "assert len(sents2)==len(labels2)\n",
    "batch_size=len(sents)\n",
    "print(sents[0])\n",
    "print(labels[0])\n",
    "print(sents2[0])\n",
    "print(labels2[0])"
   ]
  },
  {
   "cell_type": "code",
   "execution_count": 100,
   "metadata": {},
   "outputs": [
    {
     "data": {
      "image/png": "[encoded data removed]",
      "text/plain": [
       "<Figure size 576x288 with 1 Axes>"
      ]
     },
     "metadata": {
      "needs_background": "light"
     },
     "output_type": "display_data"
    }
   ],
   "source": [
    "l1 = np.asarray([len(sent) for sents,_ in sv_dataloader_train for sent in sents], dtype=np.int32)\n",
    "l2 = np.asarray([len(sent) for sents,_ in sv_dataloader_test for sent in sents], dtype=np.int32)\n",
    "l3 = np.append(l1,l2)\n",
    "plt.figure(figsize=(8, 4))\n",
    "x = np.unique(l3)\n",
    "plt.bar(x, [np.sum(l3==e) for e in x], width=1)\n",
    "plt.xlabel(\"Sentence length\")\n",
    "plt.ylabel(\"# sentences\") \n",
    "plt.show()"
   ]
  },
  {
   "cell_type": "code",
   "execution_count": 101,
   "metadata": {},
   "outputs": [
    {
     "name": "stdout",
     "output_type": "stream",
     "text": [
      "LSTMTagger_new(\n",
      "  (_word_embedding): Embedding(12810, 32, padding_idx=12809)\n",
      "  (_lstm): LSTM(32, 64, batch_first=True)\n",
      "  (_fc): Linear(in_features=64, out_features=16, bias=True)\n",
      ")\n"
     ]
    }
   ],
   "source": [
    "model_sv=LSTMTagger_new(word_embedding_dim=32,                                       \n",
    "                   lstm_hidden_dim=64,                                          \n",
    "                   vocabulary_size=len(token2idx),                              \n",
    "                   tagset_size=len(tag2idx)-1,device=torch.device(\"cuda\" if torch.cuda.is_available() else \"cpu\"))  \n",
    "\n",
    "print(model_sv)"
   ]
  },
  {
   "cell_type": "code",
   "execution_count": 102,
   "metadata": {},
   "outputs": [
    {
     "name": "stderr",
     "output_type": "stream",
     "text": [
      "Epoch 0: 42batch [00:01, 26.10batch/s, accuracy=68.6, loss=0.972]                                                      \n",
      "Epoch 1: 42batch [00:01, 30.32batch/s, accuracy=78.2, loss=0.636]                                                      \n",
      "Epoch 2: 42batch [00:01, 30.52batch/s, accuracy=90, loss=0.339]                                                        \n",
      "Epoch 3: 42batch [00:01, 30.08batch/s, accuracy=91, loss=0.299]                                                        \n",
      "Epoch 4: 42batch [00:01, 30.63batch/s, accuracy=92.8, loss=0.217]                                                      \n",
      "Epoch 5: 42batch [00:01, 30.18batch/s, accuracy=95.8, loss=0.144]                                                      \n",
      "Epoch 6: 42batch [00:01, 30.81batch/s, accuracy=97.5, loss=0.0908]                                                     \n",
      "Epoch 7: 42batch [00:01, 30.36batch/s, accuracy=98.2, loss=0.0666]                                                     \n",
      "Epoch 8: 42batch [00:01, 30.57batch/s, accuracy=97.9, loss=0.0647]                                                     \n",
      "Epoch 9: 42batch [00:01, 30.43batch/s, accuracy=98.3, loss=0.0724]                                                     \n"
     ]
    }
   ],
   "source": [
    "model_sv.fit(sv_dataloader_train,0.01,10)"
   ]
  },
  {
   "cell_type": "code",
   "execution_count": 103,
   "metadata": {},
   "outputs": [
    {
     "data": {
      "text/plain": [
       "85.8175204011405"
      ]
     },
     "execution_count": 103,
     "metadata": {},
     "output_type": "execute_result"
    }
   ],
   "source": [
    "model_sv.score(sv_dataloader_test)"
   ]
  },
  {
   "cell_type": "code",
   "execution_count": 104,
   "metadata": {},
   "outputs": [
    {
     "name": "stdout",
     "output_type": "stream",
     "text": [
      "LSTMTagger_new(\n",
      "  (_word_embedding): Embedding(12810, 40, padding_idx=12809)\n",
      "  (_lstm): LSTM(40, 80, batch_first=True)\n",
      "  (_fc): Linear(in_features=80, out_features=16, bias=True)\n",
      ")\n"
     ]
    }
   ],
   "source": [
    "model_sv2=LSTMTagger_new(word_embedding_dim=40,                                       \n",
    "                   lstm_hidden_dim=80,                                          \n",
    "                   vocabulary_size=len(token2idx),                              \n",
    "                   tagset_size=len(tag2idx)-1,device=torch.device(\"cuda\" if torch.cuda.is_available() else \"cpu\"))  \n",
    "\n",
    "print(model_sv2)"
   ]
  },
  {
   "cell_type": "code",
   "execution_count": 105,
   "metadata": {},
   "outputs": [
    {
     "name": "stderr",
     "output_type": "stream",
     "text": [
      "Epoch 0: 42batch [00:01, 28.93batch/s, accuracy=67.6, loss=0.944]                                                      \n",
      "Epoch 1: 42batch [00:01, 29.08batch/s, accuracy=78.2, loss=0.663]                                                      \n",
      "Epoch 2: 42batch [00:01, 28.88batch/s, accuracy=87.5, loss=0.378]                                                      \n",
      "Epoch 3: 42batch [00:01, 27.42batch/s, accuracy=92.3, loss=0.254]                                                      \n",
      "Epoch 4: 42batch [00:01, 21.13batch/s, accuracy=95.6, loss=0.144]                                                      \n",
      "Epoch 5: 42batch [00:02, 20.42batch/s, accuracy=96.4, loss=0.113]                                                      \n",
      "Epoch 6: 42batch [00:02, 20.09batch/s, accuracy=97.8, loss=0.0775]                                                     \n",
      "Epoch 7: 42batch [00:02, 19.29batch/s, accuracy=98.5, loss=0.0545]                                                     \n",
      "Epoch 8: 42batch [00:02, 18.74batch/s, accuracy=98.3, loss=0.0524]                                                     \n",
      "Epoch 9: 42batch [00:02, 19.47batch/s, accuracy=98.6, loss=0.0397]                                                     \n"
     ]
    }
   ],
   "source": [
    "model_sv2.fit(sv_dataloader_train,0.01,10)"
   ]
  },
  {
   "cell_type": "code",
   "execution_count": 106,
   "metadata": {},
   "outputs": [
    {
     "data": {
      "text/plain": [
       "86.43201258479992"
      ]
     },
     "execution_count": 106,
     "metadata": {},
     "output_type": "execute_result"
    }
   ],
   "source": [
    "model_sv2.score(sv_dataloader_test)"
   ]
  },
  {
   "cell_type": "markdown",
   "metadata": {},
   "source": [
    "## Load the Hungarian Corpus"
   ]
  },
  {
   "cell_type": "code",
   "execution_count": 109,
   "metadata": {},
   "outputs": [
    {
     "name": "stderr",
     "output_type": "stream",
     "text": [
      "--2021-05-18 21:39:47--  https://raw.githubusercontent.com/UniversalDependencies/UD_Hungarian-Szeged/master/hu_szeged-ud-train.conllu\n",
      "Resolving raw.githubusercontent.com (raw.githubusercontent.com)... 185.199.110.133, 185.199.108.133, 185.199.109.133, ...\n",
      "Connecting to raw.githubusercontent.com (raw.githubusercontent.com)|185.199.110.133|:443... connected.\n",
      "HTTP request sent, awaiting response... 200 OK\n",
      "Length: 1457523 (1.4M) [text/plain]\n",
      "Saving to: 'hu_szeged-ud-train.conllu'\n",
      "\n",
      "     0K .......... .......... .......... .......... ..........  3% 9.20M 0s\n",
      "    50K .......... .......... .......... .......... ..........  7% 26.2M 0s\n",
      "   100K .......... .......... .......... .......... .......... 10% 12.1M 0s\n",
      "   150K .......... .......... .......... .......... .......... 14% 17.3M 0s\n",
      "   200K .......... .......... .......... .......... .......... 17% 21.6M 0s\n",
      "   250K .......... .......... .......... .......... .......... 21% 15.0M 0s\n",
      "   300K .......... .......... .......... .......... .......... 24% 18.8M 0s\n",
      "   350K .......... .......... .......... .......... .......... 28% 42.8M 0s\n",
      "   400K .......... .......... .......... .......... .......... 31% 13.9M 0s\n",
      "   450K .......... .......... .......... .......... .......... 35% 22.5M 0s\n",
      "   500K .......... .......... .......... .......... .......... 38% 28.6M 0s\n",
      "   550K .......... .......... .......... .......... .......... 42% 14.0M 0s\n",
      "   600K .......... .......... .......... .......... .......... 45% 1.26M 0s\n",
      "   650K .......... .......... .......... .......... .......... 49% 16.3M 0s\n",
      "   700K .......... .......... .......... .......... .......... 52% 92.7M 0s\n",
      "   750K .......... .......... .......... .......... .......... 56% 12.8M 0s\n",
      "   800K .......... .......... .......... .......... .......... 59% 4.96M 0s\n",
      "   850K .......... .......... .......... .......... .......... 63% 11.2M 0s\n",
      "   900K .......... .......... .......... .......... .......... 66% 14.8M 0s\n",
      "   950K .......... .......... .......... .......... .......... 70% 23.9M 0s\n",
      "  1000K .......... .......... .......... .......... .......... 73% 13.8M 0s\n",
      "  1050K .......... .......... .......... .......... .......... 77% 17.2M 0s\n",
      "  1100K .......... .......... .......... .......... .......... 80% 20.0M 0s\n",
      "  1150K .......... .......... .......... .......... .......... 84% 39.8M 0s\n",
      "  1200K .......... .......... .......... .......... .......... 87% 17.9M 0s\n",
      "  1250K .......... .......... .......... .......... .......... 91% 23.2M 0s\n",
      "  1300K .......... .......... .......... .......... .......... 94% 21.3M 0s\n",
      "  1350K .......... .......... .......... .......... .......... 98% 20.1M 0s\n",
      "  1400K .......... .......... ...                             100%  231M=0.1s\n",
      "\n",
      "Last-modified header missing -- time-stamps turned off.\n",
      "2021-05-18 21:39:48 (11.6 MB/s) - 'hu_szeged-ud-train.conllu' saved [1457523/1457523]\n",
      "\n",
      "--2021-05-18 21:39:48--  https://raw.githubusercontent.com/UniversalDependencies/UD_Hungarian-Szeged/master/hu_szeged-ud-test.conllu\n",
      "Resolving raw.githubusercontent.com (raw.githubusercontent.com)... 185.199.110.133, 185.199.108.133, 185.199.109.133, ...\n",
      "Connecting to raw.githubusercontent.com (raw.githubusercontent.com)|185.199.110.133|:443... connected.\n",
      "HTTP request sent, awaiting response... 200 OK\n",
      "Length: 756978 (739K) [text/plain]\n",
      "Saving to: 'hu_szeged-ud-test.conllu'\n",
      "\n",
      "     0K .......... .......... .......... .......... ..........  6% 8.40M 0s\n",
      "    50K .......... .......... .......... .......... .......... 13% 18.5M 0s\n",
      "   100K .......... .......... .......... .......... .......... 20% 13.2M 0s\n",
      "   150K .......... .......... .......... .......... .......... 27% 31.0M 0s\n",
      "   200K .......... .......... .......... .......... .......... 33% 20.9M 0s\n",
      "   250K .......... .......... .......... .......... .......... 40% 12.0M 0s\n",
      "   300K .......... .......... .......... .......... .......... 47% 19.1M 0s\n",
      "   350K .......... .......... .......... .......... .......... 54% 13.7M 0s\n",
      "   400K .......... .......... .......... .......... .......... 60% 22.3M 0s\n",
      "   450K .......... .......... .......... .......... .......... 67% 20.0M 0s\n",
      "   500K .......... .......... .......... .......... .......... 74% 24.5M 0s\n",
      "   550K .......... .......... .......... .......... .......... 81% 16.3M 0s\n",
      "   600K .......... .......... .......... .......... .......... 87% 20.4M 0s\n",
      "   650K .......... .......... .......... .......... .......... 94% 31.9M 0s\n",
      "   700K .......... .......... .......... .........            100% 25.7M=0.04s\n",
      "\n",
      "Last-modified header missing -- time-stamps turned off.\n",
      "2021-05-18 21:39:48 (17.5 MB/s) - 'hu_szeged-ud-test.conllu' saved [756978/756978]\n",
      "\n"
     ]
    }
   ],
   "source": [
    "!wget -N https://raw.githubusercontent.com/UniversalDependencies/UD_Hungarian-Szeged/master/hu_szeged-ud-train.conllu\n",
    "!wget -N https://raw.githubusercontent.com/UniversalDependencies/UD_Hungarian-Szeged/master/hu_szeged-ud-test.conllu"
   ]
  },
  {
   "cell_type": "code",
   "execution_count": 110,
   "metadata": {},
   "outputs": [
    {
     "name": "stdout",
     "output_type": "stream",
     "text": [
      "908\n",
      "449\n",
      "(['A', 'világban', 'immár', 'tíz', 'éve', 'tartó', 'folyamatos', 'gazdasági', 'fellendülés', 'minden', 'eddigi', 'konjunktúra-időszaknál', 'hosszabb', '.'], ['DET', 'NOUN', 'ADV', 'NUM', 'NOUN', 'ADJ', 'ADJ', 'ADJ', 'NOUN', 'DET', 'ADJ', 'NOUN', 'ADJ', 'PUNCT'])\n",
      "(['Az', 'ezredfordulós', 'szilveszter', 'valószínűleg', 'az', 'átlagos', 'év', 'véginél', 'komolyabb', 'feladatokat', 'ró', 'a', 'sürgősségi', 'betegellátás', 'szervezeteire', 'és', 'a', 'rendőrségre', '.'], ['DET', 'ADJ', 'NOUN', 'ADV', 'DET', 'ADJ', 'NOUN', 'ADJ', 'ADJ', 'NOUN', 'VERB', 'DET', 'ADJ', 'NOUN', 'NOUN', 'CCONJ', 'DET', 'NOUN', 'PUNCT'])\n"
     ]
    }
   ],
   "source": [
    "hu_dataset_train=CorpusDataset(\"./hu_szeged-ud-train.conllu\")\n",
    "hu_dataset_test=CorpusDataset(\"./hu_szeged-ud-test.conllu\")\n",
    "\n",
    "print(len(hu_dataset_train))\n",
    "print(len(hu_dataset_test))\n",
    "print(hu_dataset_train[0])\n",
    "print(hu_dataset_test[0])"
   ]
  },
  {
   "cell_type": "code",
   "execution_count": 111,
   "metadata": {},
   "outputs": [
    {
     "name": "stdout",
     "output_type": "stream",
     "text": [
      "7767\n",
      "['<UNK>', 'egyesületi', 'bevallotta', 'magától', 'februárjában', 'nehezen', 'elmondták', 'országnak', 'megpróbáltatásairól', 'éjjel', 'története', 'javaslatokat', 'nyitottak', 'besúgók', 'látott']\n",
      "['PROPN', 'SCONJ', 'CCONJ', 'NOUN', 'ADP', 'INTJ', 'NUM', 'ADV', 'PRON', 'X', 'DET', 'VERB', 'PART', 'PUNCT', 'AUX', 'ADJ', '<PAD>']\n"
     ]
    }
   ],
   "source": [
    "tokens = {token for sent,_ in hu_dataset_train for token in sent}\n",
    "idx2token = list(tokens)\n",
    "idx2token.insert(0, '<UNK>')\n",
    "idx2token.append('<PAD>')\n",
    "token2idx = {token:idx for idx, token in enumerate(idx2token)}\n",
    "\n",
    "tags = {tag for _,label in hu_dataset_train for tag in label}\n",
    "idx2tag = list(tags)\n",
    "idx2tag.append('<PAD>')\n",
    "tag2idx = {tag:idx for idx, tag in enumerate(idx2tag)}\n",
    "\n",
    "print(len(idx2token))\n",
    "print(idx2token[:15])\n",
    "print(idx2tag)\n",
    "\n",
    "hu_dataloader_train=DataLoader(dataset=hu_dataset_train,batch_size=100,shuffle=True,num_workers=0,collate_fn=pad_and_encode)\n",
    "hu_dataloader_test=DataLoader(dataset=hu_dataset_test,batch_size=100,shuffle=True,num_workers=0,collate_fn=pad_and_encode)"
   ]
  },
  {
   "cell_type": "code",
   "execution_count": 112,
   "metadata": {},
   "outputs": [
    {
     "name": "stdout",
     "output_type": "stream",
     "text": [
      "tensor([ 307, 6409, 1696, 1356, 4734, 7011, 2514, 6653, 3017, 1356, 2555, 2288,\n",
      "        6405,  780,  344, 5362, 6283, 1696, 5027, 4162, 7279, 7001,  584, 3456,\n",
      "        7766, 7766, 7766, 7766, 7766, 7766, 7766, 7766, 7766, 7766, 7766, 7766,\n",
      "        7766, 7766, 7766, 7766, 7766, 7766, 7766, 7766, 7766, 7766, 7766, 7766,\n",
      "        7766, 7766, 7766, 7766, 7766, 7766, 7766, 7766, 7766, 7766, 7766, 7766,\n",
      "        7766, 7766, 7766, 7766, 7766, 7766, 7766, 7766, 7766, 7766, 7766, 7766,\n",
      "        7766, 7766, 7766, 7766, 7766])\n",
      "tensor([ 0,  0, 13, 10, 15, 15,  3,  3,  4, 10, 15, 15,  3,  6,  6,  3, 14, 13,\n",
      "         8,  6, 15,  3, 11, 13, 16, 16, 16, 16, 16, 16, 16, 16, 16, 16, 16, 16,\n",
      "        16, 16, 16, 16, 16, 16, 16, 16, 16, 16, 16, 16, 16, 16, 16, 16, 16, 16,\n",
      "        16, 16, 16, 16, 16, 16, 16, 16, 16, 16, 16, 16, 16, 16, 16, 16, 16, 16,\n",
      "        16, 16, 16, 16, 16])\n",
      "tensor([ 409, 7331, 3865,   43, 5053, 7572,    0,    0, 1356,    0,    0, 1221,\n",
      "        7766, 7766, 7766, 7766, 7766, 7766, 7766, 7766, 7766, 7766, 7766, 7766,\n",
      "        7766, 7766, 7766, 7766, 7766, 7766, 7766, 7766, 7766, 7766, 7766, 7766,\n",
      "        7766, 7766, 7766, 7766, 7766, 7766, 7766, 7766, 7766, 7766, 7766, 7766,\n",
      "        7766, 7766, 7766, 7766, 7766, 7766, 7766])\n",
      "tensor([13,  2,  7, 14,  7, 15,  7, 11, 10,  3,  3, 13, 16, 16, 16, 16, 16, 16,\n",
      "        16, 16, 16, 16, 16, 16, 16, 16, 16, 16, 16, 16, 16, 16, 16, 16, 16, 16,\n",
      "        16, 16, 16, 16, 16, 16, 16, 16, 16, 16, 16, 16, 16, 16, 16, 16, 16, 16,\n",
      "        16])\n"
     ]
    }
   ],
   "source": [
    "examples=iter(hu_dataloader_train)\n",
    "examples2=iter(hu_dataloader_test)\n",
    "sents,labels=examples.next()\n",
    "sents2,labels2=examples2.next()\n",
    "assert len(sents)==len(labels)\n",
    "assert len(sents2)==len(labels2)\n",
    "batch_size=len(sents)\n",
    "print(sents[0])\n",
    "print(labels[0])\n",
    "print(sents2[0])\n",
    "print(labels2[0])"
   ]
  },
  {
   "cell_type": "code",
   "execution_count": 113,
   "metadata": {},
   "outputs": [
    {
     "data": {
      "image/png": "[encoded data removed]",
      "text/plain": [
       "<Figure size 576x288 with 1 Axes>"
      ]
     },
     "metadata": {
      "needs_background": "light"
     },
     "output_type": "display_data"
    }
   ],
   "source": [
    "l1 = np.asarray([len(sent) for sents,_ in hu_dataloader_train for sent in sents], dtype=np.int32)\n",
    "l2 = np.asarray([len(sent) for sents,_ in hu_dataloader_test for sent in sents], dtype=np.int32)\n",
    "l3 = np.append(l1,l2)\n",
    "plt.figure(figsize=(8, 4))\n",
    "x = np.unique(l3)\n",
    "plt.bar(x, [np.sum(l3==e) for e in x], width=1)\n",
    "plt.xlabel(\"Sentence length\")\n",
    "plt.ylabel(\"# sentences\") \n",
    "plt.show()"
   ]
  },
  {
   "cell_type": "code",
   "execution_count": 114,
   "metadata": {},
   "outputs": [
    {
     "name": "stdout",
     "output_type": "stream",
     "text": [
      "LSTMTagger_new(\n",
      "  (_word_embedding): Embedding(7767, 32, padding_idx=7766)\n",
      "  (_lstm): LSTM(32, 64, batch_first=True)\n",
      "  (_fc): Linear(in_features=64, out_features=16, bias=True)\n",
      ")\n"
     ]
    }
   ],
   "source": [
    "model_hu=LSTMTagger_new(word_embedding_dim=32,                                       \n",
    "                   lstm_hidden_dim=64,                                          \n",
    "                   vocabulary_size=len(token2idx),                              \n",
    "                   tagset_size=len(tag2idx)-1,device=torch.device(\"cuda\" if torch.cuda.is_available() else \"cpu\"))  \n",
    "\n",
    "print(model_hu)"
   ]
  },
  {
   "cell_type": "code",
   "execution_count": 115,
   "metadata": {},
   "outputs": [
    {
     "name": "stderr",
     "output_type": "stream",
     "text": [
      "Epoch 0: 10batch [00:00, 16.26batch/s, accuracy=49.4, loss=1.78]                                                       \n",
      "Epoch 1: 10batch [00:00, 26.61batch/s, accuracy=51.8, loss=1.52]                                                       \n",
      "Epoch 2: 10batch [00:00, 26.03batch/s, accuracy=57.1, loss=1.28]                                                       \n",
      "Epoch 3: 10batch [00:00, 26.70batch/s, accuracy=56.8, loss=1.31]                                                       \n",
      "Epoch 4: 10batch [00:00, 26.59batch/s, accuracy=67.5, loss=1.02]                                                       \n",
      "Epoch 5: 10batch [00:00, 26.07batch/s, accuracy=76.9, loss=0.81]                                                       \n",
      "Epoch 6: 10batch [00:00, 25.91batch/s, accuracy=76.8, loss=0.751]                                                      \n",
      "Epoch 7: 10batch [00:00, 25.98batch/s, accuracy=76.5, loss=0.713]                                                      \n",
      "Epoch 8: 10batch [00:00, 26.29batch/s, accuracy=83.3, loss=0.491]                                                      \n",
      "Epoch 9: 10batch [00:00, 26.67batch/s, accuracy=91.6, loss=0.311]                                                      \n"
     ]
    }
   ],
   "source": [
    "model_hu.fit(hu_dataloader_train,0.01,10)"
   ]
  },
  {
   "cell_type": "code",
   "execution_count": 116,
   "metadata": {},
   "outputs": [
    {
     "data": {
      "text/plain": [
       "71.87978560490046"
      ]
     },
     "execution_count": 116,
     "metadata": {},
     "output_type": "execute_result"
    }
   ],
   "source": [
    "model_hu.score(hu_dataloader_test)"
   ]
  },
  {
   "cell_type": "code",
   "execution_count": 121,
   "metadata": {},
   "outputs": [
    {
     "name": "stdout",
     "output_type": "stream",
     "text": [
      "LSTMTagger_new(\n",
      "  (_word_embedding): Embedding(7767, 40, padding_idx=7766)\n",
      "  (_lstm): LSTM(40, 80, batch_first=True)\n",
      "  (_fc): Linear(in_features=80, out_features=16, bias=True)\n",
      ")\n"
     ]
    }
   ],
   "source": [
    "model_hu2=LSTMTagger_new(word_embedding_dim=40,                                       \n",
    "                   lstm_hidden_dim=80,                                          \n",
    "                   vocabulary_size=len(token2idx),                              \n",
    "                   tagset_size=len(tag2idx)-1,device=torch.device(\"cuda\" if torch.cuda.is_available() else \"cpu\"))  \n",
    "\n",
    "print(model_hu2)"
   ]
  },
  {
   "cell_type": "code",
   "execution_count": 122,
   "metadata": {},
   "outputs": [
    {
     "name": "stderr",
     "output_type": "stream",
     "text": [
      "Epoch 0: 10batch [00:00, 24.87batch/s, accuracy=41.1, loss=1.86]                                                       \n",
      "Epoch 1: 10batch [00:00, 24.83batch/s, accuracy=59.5, loss=1.26]                                                       \n",
      "Epoch 2: 10batch [00:00, 25.42batch/s, accuracy=58.7, loss=1.16]                                                       \n",
      "Epoch 3: 10batch [00:00, 24.91batch/s, accuracy=63.4, loss=1.05]                                                       \n",
      "Epoch 4: 10batch [00:00, 24.89batch/s, accuracy=69.2, loss=0.918]                                                      \n",
      "Epoch 5: 10batch [00:00, 25.29batch/s, accuracy=76.9, loss=0.684]                                                      \n",
      "Epoch 6: 10batch [00:00, 24.90batch/s, accuracy=80.9, loss=0.655]                                                      \n",
      "Epoch 7: 10batch [00:00, 25.20batch/s, accuracy=94.9, loss=0.217]                                                      \n",
      "Epoch 8: 10batch [00:00, 25.27batch/s, accuracy=89.9, loss=0.33]                                                       \n",
      "Epoch 9: 10batch [00:00, 23.89batch/s, accuracy=93.8, loss=0.184]                                                      \n"
     ]
    }
   ],
   "source": [
    "model_hu2.fit(hu_dataloader_train,0.01,10)"
   ]
  },
  {
   "cell_type": "code",
   "execution_count": 123,
   "metadata": {},
   "outputs": [
    {
     "data": {
      "text/plain": [
       "72.12863705972435"
      ]
     },
     "execution_count": 123,
     "metadata": {},
     "output_type": "execute_result"
    }
   ],
   "source": [
    "model_hu2.score(hu_dataloader_test)"
   ]
  },
  {
   "cell_type": "markdown",
   "metadata": {},
   "source": [
    "# Load the Hebrew Corpus"
   ]
  },
  {
   "cell_type": "code",
   "execution_count": 253,
   "metadata": {},
   "outputs": [
    {
     "name": "stderr",
     "output_type": "stream",
     "text": [
      "--2021-05-18 23:04:31--  https://raw.githubusercontent.com/UniversalDependencies/UD_Hebrew-HTB/dev/he_htb-ud-train.conllu\n",
      "Resolving raw.githubusercontent.com (raw.githubusercontent.com)... 185.199.108.133, 185.199.109.133, 185.199.111.133, ...\n",
      "Connecting to raw.githubusercontent.com (raw.githubusercontent.com)|185.199.108.133|:443... connected.\n",
      "HTTP request sent, awaiting response... 200 OK\n",
      "Length: 10403144 (9.9M) [text/plain]\n",
      "Saving to: 'he_htb-ud-train.conllu'\n",
      "\n",
      "     0K .......... .......... .......... .......... ..........  0% 9.36M 1s\n",
      "    50K .......... .......... .......... .......... ..........  0% 15.2M 1s\n",
      "   100K .......... .......... .......... .......... ..........  1% 19.4M 1s\n",
      "   150K .......... .......... .......... .......... ..........  1% 21.7M 1s\n",
      "   200K .......... .......... .......... .......... ..........  2% 13.5M 1s\n",
      "   250K .......... .......... .......... .......... ..........  2% 16.9M 1s\n",
      "   300K .......... .......... .......... .......... ..........  3% 15.6M 1s\n",
      "   350K .......... .......... .......... .......... ..........  3% 35.5M 1s\n",
      "   400K .......... .......... .......... .......... ..........  4% 16.0M 1s\n",
      "   450K .......... .......... .......... .......... ..........  4% 11.1M 1s\n",
      "   500K .......... .......... .......... .......... ..........  5% 23.7M 1s\n",
      "   550K .......... .......... .......... .......... ..........  5% 20.0M 1s\n",
      "   600K .......... .......... .......... .......... ..........  6% 22.1M 1s\n",
      "   650K .......... .......... .......... .......... ..........  6% 14.0M 1s\n",
      "   700K .......... .......... .......... .......... ..........  7% 19.8M 1s\n",
      "   750K .......... .......... .......... .......... ..........  7% 21.8M 1s\n",
      "   800K .......... .......... .......... .......... ..........  8% 15.7M 1s\n",
      "   850K .......... .......... .......... .......... ..........  8% 59.6M 1s\n",
      "   900K .......... .......... .......... .......... ..........  9% 13.0M 1s\n",
      "   950K .......... .......... .......... .......... ..........  9% 22.7M 1s\n",
      "  1000K .......... .......... .......... .......... .......... 10% 43.1M 0s\n",
      "  1050K .......... .......... .......... .......... .......... 10% 9.51M 1s\n",
      "  1100K .......... .......... .......... .......... .......... 11% 18.6M 1s\n",
      "  1150K .......... .......... .......... .......... .......... 11% 60.3M 0s\n",
      "  1200K .......... .......... .......... .......... .......... 12% 26.7M 0s\n",
      "  1250K .......... .......... .......... .......... .......... 12% 12.2M 0s\n",
      "  1300K .......... .......... .......... .......... .......... 13% 14.2M 0s\n",
      "  1350K .......... .......... .......... .......... .......... 13% 44.3M 0s\n",
      "  1400K .......... .......... .......... .......... .......... 14% 26.9M 0s\n",
      "  1450K .......... .......... .......... .......... .......... 14% 7.61M 0s\n",
      "  1500K .......... .......... .......... .......... .......... 15% 27.8M 0s\n",
      "  1550K .......... .......... .......... .......... .......... 15% 31.2M 0s\n",
      "  1600K .......... .......... .......... .......... .......... 16% 33.5M 0s\n",
      "  1650K .......... .......... .......... .......... .......... 16% 15.7M 0s\n",
      "  1700K .......... .......... .......... .......... .......... 17% 24.0M 0s\n",
      "  1750K .......... .......... .......... .......... .......... 17% 31.0M 0s\n",
      "  1800K .......... .......... .......... .......... .......... 18% 14.7M 0s\n",
      "  1850K .......... .......... .......... .......... .......... 18% 19.9M 0s\n",
      "  1900K .......... .......... .......... .......... .......... 19% 63.9M 0s\n",
      "  1950K .......... .......... .......... .......... .......... 19% 20.5M 0s\n",
      "  2000K .......... .......... .......... .......... .......... 20% 42.9M 0s\n",
      "  2050K .......... .......... .......... .......... .......... 20% 39.7M 0s\n",
      "  2100K .......... .......... .......... .......... .......... 21% 22.5M 0s\n",
      "  2150K .......... .......... .......... .......... .......... 21% 16.1M 0s\n",
      "  2200K .......... .......... .......... .......... .......... 22% 12.6M 0s\n",
      "  2250K .......... .......... .......... .......... .......... 22% 30.9M 0s\n",
      "  2300K .......... .......... .......... .......... .......... 23% 14.5M 0s\n",
      "  2350K .......... .......... .......... .......... .......... 23%  546M 0s\n",
      "  2400K .......... .......... .......... .......... .......... 24% 27.2M 0s\n",
      "  2450K .......... .......... .......... .......... .......... 24% 22.4M 0s\n",
      "  2500K .......... .......... .......... .......... .......... 25% 40.2M 0s\n",
      "  2550K .......... .......... .......... .......... .......... 25% 17.8M 0s\n",
      "  2600K .......... .......... .......... .......... .......... 26% 19.3M 0s\n",
      "  2650K .......... .......... .......... .......... .......... 26% 32.3M 0s\n",
      "  2700K .......... .......... .......... .......... .......... 27%  358M 0s\n",
      "  2750K .......... .......... .......... .......... .......... 27% 27.8M 0s\n",
      "  2800K .......... .......... .......... .......... .......... 28% 34.6M 0s\n",
      "  2850K .......... .......... .......... .......... .......... 28% 15.3M 0s\n",
      "  2900K .......... .......... .......... .......... .......... 29% 18.3M 0s\n",
      "  2950K .......... .......... .......... .......... .......... 29% 28.3M 0s\n",
      "  3000K .......... .......... .......... .......... .......... 30% 15.1M 0s\n",
      "  3050K .......... .......... .......... .......... .......... 30%  244M 0s\n",
      "  3100K .......... .......... .......... .......... .......... 31% 85.2M 0s\n",
      "  3150K .......... .......... .......... .......... .......... 31% 27.0M 0s\n",
      "  3200K .......... .......... .......... .......... .......... 31% 27.1M 0s\n",
      "  3250K .......... .......... .......... .......... .......... 32% 15.5M 0s\n",
      "  3300K .......... .......... .......... .......... .......... 32% 22.6M 0s\n",
      "  3350K .......... .......... .......... .......... .......... 33%  370M 0s\n",
      "  3400K .......... .......... .......... .......... .......... 33% 15.6M 0s\n",
      "  3450K .......... .......... .......... .......... .......... 34%  343M 0s\n",
      "  3500K .......... .......... .......... .......... .......... 34% 15.3M 0s\n",
      "  3550K .......... .......... .......... .......... .......... 35% 42.1M 0s\n",
      "  3600K .......... .......... .......... .......... .......... 35% 5.87M 0s\n",
      "  3650K .......... .......... .......... .......... .......... 36%  341M 0s\n",
      "  3700K .......... .......... .......... .......... .......... 36% 23.8M 0s\n",
      "  3750K .......... .......... .......... .......... .......... 37% 11.0M 0s\n",
      "  3800K .......... .......... .......... .......... .......... 37%  325M 0s\n",
      "  3850K .......... .......... .......... .......... .......... 38%  367M 0s\n",
      "  3900K .......... .......... .......... .......... .......... 38% 31.6M 0s\n",
      "  3950K .......... .......... .......... .......... .......... 39% 40.4M 0s\n",
      "  4000K .......... .......... .......... .......... .......... 39% 26.2M 0s\n",
      "  4050K .......... .......... .......... .......... .......... 40% 16.5M 0s\n",
      "  4100K .......... .......... .......... .......... .......... 40% 28.3M 0s\n",
      "  4150K .......... .......... .......... .......... .......... 41%  363M 0s\n",
      "  4200K .......... .......... .......... .......... .......... 41% 27.3M 0s\n",
      "  4250K .......... .......... .......... .......... .......... 42% 12.0M 0s\n",
      "  4300K .......... .......... .......... .......... .......... 42%  449M 0s\n",
      "  4350K .......... .......... .......... .......... .......... 43% 9.58M 0s\n",
      "  4400K .......... .......... .......... .......... .......... 43%  391M 0s\n",
      "  4450K .......... .......... .......... .......... .......... 44%  338M 0s\n",
      "  4500K .......... .......... .......... .......... .......... 44% 15.5M 0s\n",
      "  4550K .......... .......... .......... .......... .......... 45% 26.5M 0s\n",
      "  4600K .......... .......... .......... .......... .......... 45%  417M 0s\n",
      "  4650K .......... .......... .......... .......... .......... 46% 30.0M 0s\n",
      "  4700K .......... .......... .......... .......... .......... 46% 16.1M 0s\n",
      "  4750K .......... .......... .......... .......... .......... 47%  228M 0s\n",
      "  4800K .......... .......... .......... .......... .......... 47% 16.5M 0s\n",
      "  4850K .......... .......... .......... .......... .......... 48% 19.7M 0s\n",
      "  4900K .......... .......... .......... .......... .......... 48% 16.9M 0s\n",
      "  4950K .......... .......... .......... .......... .......... 49%  294M 0s\n",
      "  5000K .......... .......... .......... .......... .......... 49% 22.0M 0s\n",
      "  5050K .......... .......... .......... .......... .......... 50%  412M 0s\n",
      "  5100K .......... .......... .......... .......... .......... 50% 12.3M 0s\n",
      "  5150K .......... .......... .......... .......... .......... 51%  371M 0s\n",
      "  5200K .......... .......... .......... .......... .......... 51%  606M 0s\n",
      "  5250K .......... .......... .......... .......... .......... 52% 28.7M 0s\n",
      "  5300K .......... .......... .......... .......... .......... 52% 11.1M 0s\n",
      "  5350K .......... .......... .......... .......... .......... 53%  318M 0s\n",
      "  5400K .......... .......... .......... .......... .......... 53% 18.9M 0s\n",
      "  5450K .......... .......... .......... .......... .......... 54%  411M 0s\n",
      "  5500K .......... .......... .......... .......... .......... 54% 12.3M 0s\n",
      "  5550K .......... .......... .......... .......... .......... 55%  368M 0s\n",
      "  5600K .......... .......... .......... .......... .......... 55%  300M 0s\n",
      "  5650K .......... .......... .......... .......... .......... 56% 11.5M 0s\n",
      "  5700K .......... .......... .......... .......... .......... 56%  425M 0s\n",
      "  5750K .......... .......... .......... .......... .......... 57% 11.3M 0s\n",
      "  5800K .......... .......... .......... .......... .......... 57%  547M 0s\n",
      "  5850K .......... .......... .......... .......... .......... 58%  352M 0s\n",
      "  5900K .......... .......... .......... .......... .......... 58% 4.10M 0s\n",
      "  5950K .......... .......... .......... .......... .......... 59% 78.1M 0s\n",
      "  6000K .......... .......... .......... .......... .......... 59%  103M 0s\n",
      "  6050K .......... .......... .......... .......... .......... 60% 81.7M 0s\n",
      "  6100K .......... .......... .......... .......... .......... 60% 20.8M 0s\n",
      "  6150K .......... .......... .......... .......... .......... 61%  243M 0s\n",
      "  6200K .......... .......... .......... .......... .......... 61%  540M 0s\n",
      "  6250K .......... .......... .......... .......... .......... 62% 30.6M 0s\n",
      "  6300K .......... .......... .......... .......... .......... 62% 9.70M 0s\n",
      "  6350K .......... .......... .......... .......... .......... 62% 65.7M 0s\n",
      "  6400K .......... .......... .......... .......... .......... 63% 17.6M 0s\n",
      "  6450K .......... .......... .......... .......... .......... 63% 28.9M 0s\n",
      "  6500K .......... .......... .......... .......... .......... 64% 15.4M 0s\n",
      "  6550K .......... .......... .......... .......... .......... 64% 45.2M 0s\n",
      "  6600K .......... .......... .......... .......... .......... 65% 15.3M 0s\n",
      "  6650K .......... .......... .......... .......... .......... 65% 7.44M 0s\n",
      "  6700K .......... .......... .......... .......... .......... 66% 7.81M 0s\n",
      "  6750K .......... .......... .......... .......... .......... 66%  342M 0s\n",
      "  6800K .......... .......... .......... .......... .......... 67% 10.5M 0s\n",
      "  6850K .......... .......... .......... .......... .......... 67%  423M 0s\n",
      "  6900K .......... .......... .......... .......... .......... 68%  209M 0s\n",
      "  6950K .......... .......... .......... .......... .......... 68%  487M 0s\n",
      "  7000K .......... .......... .......... .......... .......... 69% 19.9M 0s\n",
      "  7050K .......... .......... .......... .......... .......... 69%  546M 0s\n",
      "  7100K .......... .......... .......... .......... .......... 70% 23.4M 0s\n",
      "  7150K .......... .......... .......... .......... .......... 70% 13.3M 0s\n",
      "  7200K .......... .......... .......... .......... .......... 71%  398M 0s\n",
      "  7250K .......... .......... .......... .......... .......... 71% 29.7M 0s\n",
      "  7300K .......... .......... .......... .......... .......... 72% 22.3M 0s\n",
      "  7350K .......... .......... .......... .......... .......... 72% 30.7M 0s\n",
      "  7400K .......... .......... .......... .......... .......... 73% 46.1M 0s\n",
      "  7450K .......... .......... .......... .......... .......... 73% 26.2M 0s\n",
      "  7500K .......... .......... .......... .......... .......... 74% 16.0M 0s\n",
      "  7550K .......... .......... .......... .......... .......... 74%  345M 0s\n",
      "  7600K .......... .......... .......... .......... .......... 75% 35.6M 0s\n",
      "  7650K .......... .......... .......... .......... .......... 75%  452M 0s\n",
      "  7700K .......... .......... .......... .......... .......... 76% 11.8M 0s\n",
      "  7750K .......... .......... .......... .......... .......... 76%  576M 0s\n",
      "  7800K .......... .......... .......... .......... .......... 77% 16.5M 0s\n",
      "  7850K .......... .......... .......... .......... .......... 77%  576M 0s\n",
      "  7900K .......... .......... .......... .......... .......... 78% 10.7M 0s\n",
      "  7950K .......... .......... .......... .......... .......... 78%  482M 0s\n",
      "  8000K .......... .......... .......... .......... .......... 79%  191M 0s\n",
      "  8050K .......... .......... .......... .......... .......... 79%  280M 0s\n",
      "  8100K .......... .......... .......... .......... .......... 80% 27.7M 0s\n",
      "  8150K .......... .......... .......... .......... .......... 80% 18.9M 0s\n",
      "  8200K .......... .......... .......... .......... .......... 81%  388M 0s\n",
      "  8250K .......... .......... .......... .......... .......... 81%  598M 0s\n",
      "  8300K .......... .......... .......... .......... .......... 82% 18.9M 0s\n",
      "  8350K .......... .......... .......... .......... .......... 82% 18.0M 0s\n",
      "  8400K .......... .......... .......... .......... .......... 83% 34.4M 0s\n",
      "  8450K .......... .......... .......... .......... .......... 83% 14.4M 0s\n",
      "  8500K .......... .......... .......... .......... .......... 84% 15.6M 0s\n",
      "  8550K .......... .......... .......... .......... .......... 84%  334M 0s\n",
      "  8600K .......... .......... .......... .......... .......... 85%  290M 0s\n",
      "  8650K .......... .......... .......... .......... .......... 85% 10.7M 0s\n",
      "  8700K .......... .......... .......... .......... .......... 86%  253M 0s\n",
      "  8750K .......... .......... .......... .......... .......... 86%  591M 0s\n",
      "  8800K .......... .......... .......... .......... .......... 87%  377M 0s\n",
      "  8850K .......... .......... .......... .......... .......... 87% 13.0M 0s\n",
      "  8900K .......... .......... .......... .......... .......... 88%  292M 0s\n",
      "  8950K .......... .......... .......... .......... .......... 88%  447M 0s\n",
      "  9000K .......... .......... .......... .......... .......... 89% 22.7M 0s\n",
      "  9050K .......... .......... .......... .......... .......... 89% 17.2M 0s\n",
      "  9100K .......... .......... .......... .......... .......... 90%  383M 0s\n",
      "  9150K .......... .......... .......... .......... .......... 90% 20.9M 0s\n",
      "  9200K .......... .......... .......... .......... .......... 91%  238M 0s\n",
      "  9250K .......... .......... .......... .......... .......... 91% 11.4M 0s\n",
      "  9300K .......... .......... .......... .......... .......... 92% 13.9M 0s\n",
      "  9350K .......... .......... .......... .......... .......... 92%  545M 0s\n",
      "  9400K .......... .......... .......... .......... .......... 93% 16.6M 0s\n",
      "  9450K .......... .......... .......... .......... .......... 93%  237M 0s\n",
      "  9500K .......... .......... .......... .......... .......... 94%  507M 0s\n",
      "  9550K .......... .......... .......... .......... .......... 94% 17.3M 0s\n",
      "  9600K .......... .......... .......... .......... .......... 94%  452M 0s\n",
      "  9650K .......... .......... .......... .......... .......... 95% 12.3M 0s\n",
      "  9700K .......... .......... .......... .......... .......... 95%  289M 0s\n",
      "  9750K .......... .......... .......... .......... .......... 96%  391M 0s\n",
      "  9800K .......... .......... .......... .......... .......... 96% 26.7M 0s\n",
      "  9850K .......... .......... .......... .......... .......... 97% 7.18M 0s\n",
      "  9900K .......... .......... .......... .......... .......... 97%  128M 0s\n",
      "  9950K .......... .......... .......... .......... .......... 98%  294M 0s\n",
      " 10000K .......... .......... .......... .......... .......... 98%  587M 0s\n",
      " 10050K .......... .......... .......... .......... .......... 99% 10.6M 0s\n",
      " 10100K .......... .......... .......... .......... .......... 99%  398M 0s\n",
      " 10150K .........                                             100%  875M=0.4s\n",
      "\n",
      "Last-modified header missing -- time-stamps turned off.\n",
      "2021-05-18 23:04:32 (24.6 MB/s) - 'he_htb-ud-train.conllu' saved [10403144/10403144]\n",
      "\n"
     ]
    },
    {
     "name": "stderr",
     "output_type": "stream",
     "text": [
      "--2021-05-18 23:04:32--  https://raw.githubusercontent.com/UniversalDependencies/UD_Hebrew-HTB/dev/he_htb-ud-test.conllu\n",
      "Resolving raw.githubusercontent.com (raw.githubusercontent.com)... 185.199.108.133, 185.199.109.133, 185.199.111.133, ...\n",
      "Connecting to raw.githubusercontent.com (raw.githubusercontent.com)|185.199.108.133|:443... connected.\n",
      "HTTP request sent, awaiting response... 200 OK\n",
      "Length: 931163 (909K) [text/plain]\n",
      "Saving to: 'he_htb-ud-test.conllu'\n",
      "\n",
      "     0K .......... .......... .......... .......... ..........  5% 9.20M 0s\n",
      "    50K .......... .......... .......... .......... .......... 10% 26.6M 0s\n",
      "   100K .......... .......... .......... .......... .......... 16% 12.7M 0s\n",
      "   150K .......... .......... .......... .......... .......... 21% 16.9M 0s\n",
      "   200K .......... .......... .......... .......... .......... 27% 30.7M 0s\n",
      "   250K .......... .......... .......... .......... .......... 32% 9.29M 0s\n",
      "   300K .......... .......... .......... .......... .......... 38% 13.6M 0s\n",
      "   350K .......... .......... .......... .......... .......... 43% 76.3M 0s\n",
      "   400K .......... .......... .......... .......... .......... 49% 18.9M 0s\n",
      "   450K .......... .......... .......... .......... .......... 54% 88.7M 0s\n",
      "   500K .......... .......... .......... .......... .......... 60% 11.7M 0s\n",
      "   550K .......... .......... .......... .......... .......... 65% 86.2M 0s\n",
      "   600K .......... .......... .......... .......... .......... 71% 6.47M 0s\n",
      "   650K .......... .......... .......... .......... .......... 76% 77.6M 0s\n",
      "   700K .......... .......... .......... .......... .......... 82% 76.6M 0s\n",
      "   750K .......... .......... .......... .......... .......... 87% 14.6M 0s\n",
      "   800K .......... .......... .......... .......... .......... 93%  117M 0s\n",
      "   850K .......... .......... .......... .......... .......... 98%  168M 0s\n",
      "   900K .........                                             100%  251M=0.05s\n",
      "\n",
      "Last-modified header missing -- time-stamps turned off.\n",
      "2021-05-18 23:04:32 (19.4 MB/s) - 'he_htb-ud-test.conllu' saved [931163/931163]\n",
      "\n"
     ]
    }
   ],
   "source": [
    "!wget -N https://raw.githubusercontent.com/UniversalDependencies/UD_Hebrew-HTB/dev/he_htb-ud-train.conllu\n",
    "!wget -N https://raw.githubusercontent.com/UniversalDependencies/UD_Hebrew-HTB/dev/he_htb-ud-test.conllu"
   ]
  },
  {
   "cell_type": "code",
   "execution_count": 5,
   "metadata": {},
   "outputs": [
    {
     "name": "stdout",
     "output_type": "stream",
     "text": [
      "5222\n",
      "490\n",
      "(['הקהל', 'ה', 'קהל', 'איתר', 'סוף', 'סוף', 'ערבי', 'ויהודים', 'ו', 'יהודים', 'חבטו', 'בו', 'ב_', '_הוא', 'עד', 'זוב', 'דם', '.'], [None, 'DET', 'NOUN', 'VERB', 'NOUN', 'NOUN', 'NOUN', None, 'CCONJ', 'NOUN', 'VERB', None, 'ADP', 'PRON', 'ADP', 'NOUN', 'NOUN', 'PUNCT'])\n",
      "(['הולקומב', 'לא', 'הזכיר', 'את', 'יכולתו', 'יכולת_', '_של_', '_הוא', ',', 'קרטר', 'וסמית', 'ו', 'סמית', 'שהיו', 'ש', 'היו', 'אמורים', 'לעזור', 'בריבאונד', 'ב', 'ריבאונד', ',', 'נתקלו', 'בקמבל', 'ב', 'קמבל', 'ובורמור', 'ו', 'בורמור', 'שקטפו', 'ש', 'קטפו', 'את', 'מרבית', 'הכדורים', 'ה', 'כדורים', 'החוזרים', 'ה', 'חוזרים', 'עובדה', 'שאיפשרה', 'ש', 'איפשרה', 'לגליל', 'ל', 'ה_', 'גליל', 'לצאת', 'להתקפות', 'ל', 'התקפות', 'מתפרצות', 'בורמור', 'הוביל', ',', 'גורדון', 'ומטלון', 'ו', 'מטלון', 'סיימו', 'במרבית', 'ב', 'מרבית', 'המקרים', 'ה', 'מקרים', 'בסל', 'ב', 'סל', '.'], ['PROPN', 'ADV', 'VERB', 'ADP', None, 'NOUN', 'ADP', 'PRON', 'PUNCT', 'PROPN', None, 'CCONJ', 'PROPN', None, 'SCONJ', 'AUX', 'AUX', 'VERB', None, 'ADP', 'NOUN', 'PUNCT', 'VERB', None, 'ADP', 'PROPN', None, 'CCONJ', 'PROPN', None, 'SCONJ', 'VERB', 'ADP', 'DET', None, 'DET', 'NOUN', None, 'DET', 'ADJ', 'NOUN', None, 'SCONJ', 'VERB', None, 'ADP', 'DET', 'NOUN', 'VERB', None, 'ADP', 'NOUN', 'VERB', 'PROPN', 'VERB', 'PUNCT', 'PROPN', None, 'CCONJ', 'PROPN', 'VERB', None, 'ADP', 'DET', None, 'DET', 'NOUN', None, 'ADP', 'NOUN', 'PUNCT'])\n"
     ]
    }
   ],
   "source": [
    "he_dataset_train=CorpusDataset(\"./he_htb-ud-train.conllu\")\n",
    "he_dataset_test=CorpusDataset(\"./he_htb-ud-test.conllu\")\n",
    "\n",
    "print(len(he_dataset_train))\n",
    "print(len(he_dataset_test))\n",
    "print(he_dataset_train[0])\n",
    "print(he_dataset_test[0])"
   ]
  },
  {
   "cell_type": "code",
   "execution_count": 6,
   "metadata": {},
   "outputs": [
    {
     "name": "stdout",
     "output_type": "stream",
     "text": [
      "29667\n",
      "['<UNK>', 'המתרחשים', 'הווריאציה', 'כמעט', 'הקודמות', 'ריח', 'ויידנפלד', 'וחירונה', 'פרדסנות', 'שבר_', 'אלף', 'שהכילה', 'וממשלת', 'היווניות', 'לכניעת']\n",
      "['ADJ', 'VERB', 'NOUN', 'PROPN', 'X', 'SCONJ', None, 'PRON', 'NUM', 'INTJ', 'DET', 'CCONJ', 'PUNCT', 'ADV', 'ADP', 'AUX', '<PAD>']\n"
     ]
    }
   ],
   "source": [
    "tokens = {token for sent,_ in he_dataset_train for token in sent}\n",
    "idx2token = list(tokens)\n",
    "idx2token.insert(0, '<UNK>')\n",
    "idx2token.append('<PAD>')\n",
    "token2idx = {token:idx for idx, token in enumerate(idx2token)}\n",
    "\n",
    "tags = {tag for _,label in he_dataset_train for tag in label}\n",
    "idx2tag = list(tags)\n",
    "idx2tag.append('<PAD>')\n",
    "tag2idx = {tag:idx for idx, tag in enumerate(idx2tag)}\n",
    "\n",
    "print(len(idx2token))\n",
    "print(idx2token[:15])\n",
    "print(idx2tag)\n",
    "\n",
    "he_dataloader_train=DataLoader(dataset=he_dataset_train,batch_size=100,shuffle=True,num_workers=0,collate_fn=pad_and_encode)\n",
    "he_dataloader_test=DataLoader(dataset=he_dataset_test,batch_size=100,shuffle=True,num_workers=0,collate_fn=pad_and_encode)"
   ]
  },
  {
   "cell_type": "code",
   "execution_count": 7,
   "metadata": {},
   "outputs": [
    {
     "name": "stdout",
     "output_type": "stream",
     "text": [
      "tensor([ 7571,  6037, 16655, 17131,  1693,  5569, 29086, 27248, 29666, 29666,\n",
      "        29666, 29666, 29666, 29666, 29666, 29666, 29666, 29666, 29666, 29666,\n",
      "        29666, 29666, 29666, 29666, 29666, 29666, 29666, 29666, 29666, 29666,\n",
      "        29666, 29666, 29666, 29666, 29666, 29666, 29666, 29666, 29666, 29666,\n",
      "        29666, 29666, 29666, 29666, 29666, 29666, 29666, 29666, 29666, 29666,\n",
      "        29666, 29666, 29666, 29666, 29666, 29666, 29666, 29666, 29666, 29666,\n",
      "        29666, 29666, 29666, 29666, 29666, 29666, 29666, 29666, 29666, 29666,\n",
      "        29666, 29666, 29666, 29666, 29666, 29666, 29666, 29666, 29666, 29666,\n",
      "        29666, 29666, 29666, 29666, 29666, 29666, 29666, 29666, 29666, 29666,\n",
      "        29666, 29666, 29666])\n",
      "tensor([ 6, 10,  2,  1,  6, 11,  1, 12, 16, 16, 16, 16, 16, 16, 16, 16, 16, 16,\n",
      "        16, 16, 16, 16, 16, 16, 16, 16, 16, 16, 16, 16, 16, 16, 16, 16, 16, 16,\n",
      "        16, 16, 16, 16, 16, 16, 16, 16, 16, 16, 16, 16, 16, 16, 16, 16, 16, 16,\n",
      "        16, 16, 16, 16, 16, 16, 16, 16, 16, 16, 16, 16, 16, 16, 16, 16, 16, 16,\n",
      "        16, 16, 16, 16, 16, 16, 16, 16, 16, 16, 16, 16, 16, 16, 16, 16, 16, 16,\n",
      "        16, 16, 16])\n",
      "tensor([    0,     0,  5569, 24930, 15546,     0, 27958, 23557,  2582, 27433,\n",
      "         6942,  6037, 15799, 16809, 15546, 15012,  9406, 27248, 29666, 29666,\n",
      "        29666, 29666, 29666, 29666, 29666, 29666, 29666, 29666, 29666, 29666,\n",
      "        29666, 29666, 29666, 29666, 29666, 29666, 29666, 29666, 29666, 29666,\n",
      "        29666, 29666, 29666, 29666, 29666, 29666, 29666, 29666, 29666, 29666,\n",
      "        29666, 29666, 29666, 29666, 29666, 29666, 29666, 29666, 29666, 29666,\n",
      "        29666, 29666, 29666, 29666, 29666, 29666, 29666, 29666, 29666, 29666,\n",
      "        29666, 29666, 29666, 29666, 29666, 29666, 29666, 29666, 29666, 29666,\n",
      "        29666, 29666, 29666, 29666, 29666, 29666, 29666, 29666, 29666, 29666,\n",
      "        29666, 29666])\n",
      "tensor([ 3,  6, 11,  3, 12,  6,  5, 14, 10,  2,  6, 10,  0,  1, 12, 13,  1, 12,\n",
      "        16, 16, 16, 16, 16, 16, 16, 16, 16, 16, 16, 16, 16, 16, 16, 16, 16, 16,\n",
      "        16, 16, 16, 16, 16, 16, 16, 16, 16, 16, 16, 16, 16, 16, 16, 16, 16, 16,\n",
      "        16, 16, 16, 16, 16, 16, 16, 16, 16, 16, 16, 16, 16, 16, 16, 16, 16, 16,\n",
      "        16, 16, 16, 16, 16, 16, 16, 16, 16, 16, 16, 16, 16, 16, 16, 16, 16, 16,\n",
      "        16, 16])\n"
     ]
    }
   ],
   "source": [
    "examples=iter(he_dataloader_train)\n",
    "examples2=iter(he_dataloader_test)\n",
    "sents,labels=examples.next()\n",
    "sents2,labels2=examples2.next()\n",
    "assert len(sents)==len(labels)\n",
    "assert len(sents2)==len(labels2)\n",
    "batch_size=len(sents)\n",
    "print(sents[0])\n",
    "print(labels[0])\n",
    "print(sents2[0])\n",
    "print(labels2[0])"
   ]
  },
  {
   "cell_type": "code",
   "execution_count": 8,
   "metadata": {},
   "outputs": [
    {
     "data": {
      "image/png": "[encoded data removed]",
      "text/plain": [
       "<Figure size 576x288 with 1 Axes>"
      ]
     },
     "metadata": {
      "needs_background": "light"
     },
     "output_type": "display_data"
    }
   ],
   "source": [
    "l1 = np.asarray([len(sent) for sents,_ in he_dataloader_train for sent in sents], dtype=np.int32)\n",
    "l2 = np.asarray([len(sent) for sents,_ in he_dataloader_test for sent in sents], dtype=np.int32)\n",
    "l3 = np.append(l1,l2)\n",
    "plt.figure(figsize=(8, 4))\n",
    "x = np.unique(l3)\n",
    "plt.bar(x, [np.sum(l3==e) for e in x], width=1)\n",
    "plt.xlabel(\"Sentence length\")\n",
    "plt.ylabel(\"# sentences\") \n",
    "plt.show()"
   ]
  },
  {
   "cell_type": "code",
   "execution_count": 11,
   "metadata": {},
   "outputs": [
    {
     "name": "stdout",
     "output_type": "stream",
     "text": [
      "LSTMTagger_new(\n",
      "  (_word_embedding): Embedding(29667, 32, padding_idx=29666)\n",
      "  (_lstm): LSTM(32, 64, batch_first=True)\n",
      "  (_fc): Linear(in_features=64, out_features=16, bias=True)\n",
      ")\n"
     ]
    }
   ],
   "source": [
    "model_he=LSTMTagger_new(word_embedding_dim=32,                                       \n",
    "                   lstm_hidden_dim=64,                                          \n",
    "                   vocabulary_size=len(token2idx),                              \n",
    "                   tagset_size=len(tag2idx)-1,device=torch.device(\"cuda\" if torch.cuda.is_available() else \"cpu\"))  \n",
    "\n",
    "print(model_he) "
   ]
  },
  {
   "cell_type": "code",
   "execution_count": 12,
   "metadata": {},
   "outputs": [
    {
     "name": "stderr",
     "output_type": "stream",
     "text": [
      "Epoch 0: 53batch [00:04, 13.21batch/s, accuracy=70.4, loss=0.889]                                                      \n",
      "Epoch 1: 53batch [00:05, 10.18batch/s, accuracy=85.5, loss=0.446]                                                      \n",
      "Epoch 2: 53batch [00:04, 11.40batch/s, accuracy=89.5, loss=0.327]                                                      \n",
      "Epoch 3: 53batch [00:04, 11.19batch/s, accuracy=97.3, loss=0.125]                                                      \n",
      "Epoch 4: 53batch [00:04, 11.35batch/s, accuracy=97.6, loss=0.0965]                                                     \n",
      "Epoch 5: 53batch [00:04, 11.51batch/s, accuracy=97.3, loss=0.0916]                                                     \n",
      "Epoch 6: 53batch [00:04, 11.56batch/s, accuracy=98.9, loss=0.0473]                                                     \n",
      "Epoch 7: 53batch [00:04, 11.73batch/s, accuracy=99.1, loss=0.0313]                                                     \n",
      "Epoch 8: 53batch [00:04, 11.50batch/s, accuracy=99.3, loss=0.0229]                                                     \n",
      "Epoch 9: 53batch [00:04, 11.57batch/s, accuracy=99.6, loss=0.0151]                                                     \n"
     ]
    }
   ],
   "source": [
    "model_he.fit(he_dataloader_train,0.01,10) "
   ]
  },
  {
   "cell_type": "code",
   "execution_count": 13,
   "metadata": {},
   "outputs": [
    {
     "data": {
      "text/plain": [
       "85.53492367673297"
      ]
     },
     "execution_count": 13,
     "metadata": {},
     "output_type": "execute_result"
    }
   ],
   "source": [
    "model_he.score(he_dataloader_test)"
   ]
  },
  {
   "cell_type": "code",
   "execution_count": 14,
   "metadata": {},
   "outputs": [
    {
     "name": "stdout",
     "output_type": "stream",
     "text": [
      "LSTMTagger_new(\n",
      "  (_word_embedding): Embedding(29667, 40, padding_idx=29666)\n",
      "  (_lstm): LSTM(40, 80, batch_first=True)\n",
      "  (_fc): Linear(in_features=80, out_features=16, bias=True)\n",
      ")\n"
     ]
    }
   ],
   "source": [
    "model_he2=LSTMTagger_new(word_embedding_dim=40,                                       \n",
    "                   lstm_hidden_dim=80,                                          \n",
    "                   vocabulary_size=len(token2idx),                              \n",
    "                   tagset_size=len(tag2idx)-1,device=torch.device(\"cuda\" if torch.cuda.is_available() else \"cpu\"))  \n",
    "\n",
    "print(model_he2)"
   ]
  },
  {
   "cell_type": "code",
   "execution_count": 15,
   "metadata": {},
   "outputs": [
    {
     "name": "stderr",
     "output_type": "stream",
     "text": [
      "Epoch 0: 53batch [00:03, 14.92batch/s, accuracy=74.9, loss=0.748]                                                      \n",
      "Epoch 1: 53batch [00:04, 11.05batch/s, accuracy=83.7, loss=0.502]                                                      \n",
      "Epoch 2: 53batch [00:05, 10.22batch/s, accuracy=91.3, loss=0.34]                                                       \n",
      "Epoch 3: 53batch [00:04, 10.82batch/s, accuracy=96.8, loss=0.12]                                                       \n",
      "Epoch 4: 53batch [00:04, 10.76batch/s, accuracy=96.8, loss=0.099]                                                      \n",
      "Epoch 5: 53batch [00:05, 10.28batch/s, accuracy=98.1, loss=0.0726]                                                     \n",
      "Epoch 6: 53batch [00:04, 10.76batch/s, accuracy=99, loss=0.0529]                                                       \n",
      "Epoch 7: 53batch [00:04, 11.13batch/s, accuracy=98.9, loss=0.037]                                                      \n",
      "Epoch 8: 53batch [00:04, 11.02batch/s, accuracy=99.7, loss=0.0205]                                                     \n",
      "Epoch 9: 53batch [00:04, 11.05batch/s, accuracy=99.6, loss=0.0152]                                                     \n"
     ]
    }
   ],
   "source": [
    "model_he2.fit(he_dataloader_train,0.01,10)"
   ]
  },
  {
   "cell_type": "code",
   "execution_count": 16,
   "metadata": {},
   "outputs": [
    {
     "data": {
      "text/plain": [
       "88.44908478160312"
      ]
     },
     "execution_count": 16,
     "metadata": {},
     "output_type": "execute_result"
    }
   ],
   "source": [
    "model_he2.score(he_dataloader_test)"
   ]
  },
  {
   "cell_type": "markdown",
   "metadata": {},
   "source": [
    "## Load the Hindi Corpus"
   ]
  },
  {
   "cell_type": "code",
   "execution_count": 1,
   "metadata": {},
   "outputs": [
    {
     "name": "stderr",
     "output_type": "stream",
     "text": [
      "--2021-05-19 13:18:42--  https://raw.githubusercontent.com/UniversalDependencies/UD_Hindi-HDTB/master/hi_hdtb-ud-train.conllu\n",
      "Resolving raw.githubusercontent.com (raw.githubusercontent.com)... 185.199.111.133, 185.199.108.133, 185.199.110.133, ...\n",
      "Connecting to raw.githubusercontent.com (raw.githubusercontent.com)|185.199.111.133|:443... connected.\n",
      "HTTP request sent, awaiting response... 200 OK\n",
      "Length: 41227921 (39M) [text/plain]\n",
      "Saving to: 'hi_hdtb-ud-train.conllu'\n",
      "\n",
      "     0K .......... .......... .......... .......... ..........  0% 9.65M 4s\n",
      "    50K .......... .......... .......... .......... ..........  0%  101M 2s\n",
      "   100K .......... .......... .......... .......... ..........  0% 14.5M 2s\n",
      "   150K .......... .......... .......... .......... ..........  0% 11.0M 3s\n",
      "   200K .......... .......... .......... .......... ..........  0% 16.1M 3s\n",
      "   250K .......... .......... .......... .......... ..........  0% 24.7M 2s\n",
      "   300K .......... .......... .......... .......... ..........  0% 14.3M 2s\n",
      "   350K .......... .......... .......... .......... ..........  0% 43.9M 2s\n",
      "   400K .......... .......... .......... .......... ..........  1% 21.5M 2s\n",
      "   450K .......... .......... .......... .......... ..........  1% 15.7M 2s\n",
      "   500K .......... .......... .......... .......... ..........  1% 35.4M 2s\n",
      "   550K .......... .......... .......... .......... ..........  1% 13.8M 2s\n",
      "   600K .......... .......... .......... .......... ..........  1% 21.4M 2s\n",
      "   650K .......... .......... .......... .......... ..........  1% 36.7M 2s\n",
      "   700K .......... .......... .......... .......... ..........  1% 37.5M 2s\n",
      "   750K .......... .......... .......... .......... ..........  1% 20.2M 2s\n",
      "   800K .......... .......... .......... .......... ..........  2% 28.6M 2s\n",
      "   850K .......... .......... .......... .......... ..........  2% 18.2M 2s\n",
      "   900K .......... .......... .......... .......... ..........  2% 21.1M 2s\n",
      "   950K .......... .......... .......... .......... ..........  2% 16.8M 2s\n",
      "  1000K .......... .......... .......... .......... ..........  2% 68.1M 2s\n",
      "  1050K .......... .......... .......... .......... ..........  2% 20.1M 2s\n",
      "  1100K .......... .......... .......... .......... ..........  2% 35.0M 2s\n",
      "  1150K .......... .......... .......... .......... ..........  2% 16.1M 2s\n",
      "  1200K .......... .......... .......... .......... ..........  3% 24.3M 2s\n",
      "  1250K .......... .......... .......... .......... ..........  3% 16.3M 2s\n",
      "  1300K .......... .......... .......... .......... ..........  3% 55.4M 2s\n",
      "  1350K .......... .......... .......... .......... ..........  3% 62.7M 2s\n",
      "  1400K .......... .......... .......... .......... ..........  3% 17.3M 2s\n",
      "  1450K .......... .......... .......... .......... ..........  3% 23.6M 2s\n",
      "  1500K .......... .......... .......... .......... ..........  3% 23.0M 2s\n",
      "  1550K .......... .......... .......... .......... ..........  3%  108M 2s\n",
      "  1600K .......... .......... .......... .......... ..........  4% 21.8M 2s\n",
      "  1650K .......... .......... .......... .......... ..........  4% 11.2M 2s\n",
      "  1700K .......... .......... .......... .......... ..........  4%  129M 2s\n",
      "  1750K .......... .......... .......... .......... ..........  4% 25.0M 2s\n",
      "  1800K .......... .......... .......... .......... ..........  4% 19.2M 2s\n",
      "  1850K .......... .......... .......... .......... ..........  4% 44.4M 2s\n",
      "  1900K .......... .......... .......... .......... ..........  4% 23.1M 2s\n",
      "  1950K .......... .......... .......... .......... ..........  4% 20.2M 2s\n",
      "  2000K .......... .......... .......... .......... ..........  5% 23.3M 2s\n",
      "  2050K .......... .......... .......... .......... ..........  5% 66.2M 2s\n",
      "  2100K .......... .......... .......... .......... ..........  5% 13.8M 2s\n",
      "  2150K .......... .......... .......... .......... ..........  5%  150M 2s\n",
      "  2200K .......... .......... .......... .......... ..........  5% 40.6M 2s\n",
      "  2250K .......... .......... .......... .......... ..........  5% 14.7M 2s\n",
      "  2300K .......... .......... .......... .......... ..........  5%  242M 2s\n",
      "  2350K .......... .......... .......... .......... ..........  5% 13.0M 2s\n",
      "  2400K .......... .......... .......... .......... ..........  6% 93.2M 2s\n",
      "  2450K .......... .......... .......... .......... ..........  6% 15.7M 2s\n",
      "  2500K .......... .......... .......... .......... ..........  6% 23.8M 2s\n",
      "  2550K .......... .......... .......... .......... ..........  6% 38.0M 2s\n",
      "  2600K .......... .......... .......... .......... ..........  6%  309M 2s\n",
      "  2650K .......... .......... .......... .......... ..........  6% 18.9M 2s\n",
      "  2700K .......... .......... .......... .......... ..........  6% 18.7M 2s\n",
      "  2750K .......... .......... .......... .......... ..........  6% 32.6M 2s\n",
      "  2800K .......... .......... .......... .......... ..........  7%  145M 2s\n",
      "  2850K .......... .......... .......... .......... ..........  7% 27.9M 2s\n",
      "  2900K .......... .......... .......... .......... ..........  7% 18.7M 2s\n",
      "  2950K .......... .......... .......... .......... ..........  7% 30.6M 2s\n",
      "  3000K .......... .......... .......... .......... ..........  7% 82.9M 2s\n",
      "  3050K .......... .......... .......... .......... ..........  7% 36.5M 2s\n",
      "  3100K .......... .......... .......... .......... ..........  7% 20.7M 2s\n",
      "  3150K .......... .......... .......... .......... ..........  7% 21.1M 2s\n",
      "  3200K .......... .......... .......... .......... ..........  8% 25.7M 2s\n",
      "  3250K .......... .......... .......... .......... ..........  8% 32.0M 2s\n",
      "  3300K .......... .......... .......... .......... ..........  8% 33.2M 1s\n",
      "  3350K .......... .......... .......... .......... ..........  8%  219M 1s\n",
      "  3400K .......... .......... .......... .......... ..........  8% 34.4M 1s\n",
      "  3450K .......... .......... .......... .......... ..........  8% 40.7M 1s\n",
      "  3500K .......... .......... .......... .......... ..........  8% 7.68M 1s\n",
      "  3550K .......... .......... .......... .......... ..........  8%  168M 1s\n",
      "  3600K .......... .......... .......... .......... ..........  9% 12.6M 1s\n",
      "  3650K .......... .......... .......... .......... ..........  9%  105M 1s\n",
      "  3700K .......... .......... .......... .......... ..........  9% 21.6M 1s\n",
      "  3750K .......... .......... .......... .......... ..........  9%  268M 1s\n",
      "  3800K .......... .......... .......... .......... ..........  9% 22.4M 1s\n",
      "  3850K .......... .......... .......... .......... ..........  9%  143M 1s\n",
      "  3900K .......... .......... .......... .......... ..........  9% 36.6M 1s\n",
      "  3950K .......... .......... .......... .......... ..........  9% 24.5M 1s\n",
      "  4000K .......... .......... .......... .......... .......... 10% 17.2M 1s\n",
      "  4050K .......... .......... .......... .......... .......... 10% 25.5M 1s\n",
      "  4100K .......... .......... .......... .......... .......... 10%  226M 1s\n",
      "  4150K .......... .......... .......... .......... .......... 10% 18.9M 1s\n",
      "  4200K .......... .......... .......... .......... .......... 10%  524M 1s\n",
      "  4250K .......... .......... .......... .......... .......... 10% 20.8M 1s\n",
      "  4300K .......... .......... .......... .......... .......... 10%  525M 1s\n",
      "  4350K .......... .......... .......... .......... .......... 10% 24.8M 1s\n",
      "  4400K .......... .......... .......... .......... .......... 11% 16.1M 1s\n",
      "  4450K .......... .......... .......... .......... .......... 11% 49.8M 1s\n",
      "  4500K .......... .......... .......... .......... .......... 11% 14.9M 1s\n",
      "  4550K .......... .......... .......... .......... .......... 11%  360M 1s\n",
      "  4600K .......... .......... .......... .......... .......... 11% 17.4M 1s\n",
      "  4650K .......... .......... .......... .......... .......... 11%  143M 1s\n",
      "  4700K .......... .......... .......... .......... .......... 11%  263M 1s\n",
      "  4750K .......... .......... .......... .......... .......... 11% 15.5M 1s\n",
      "  4800K .......... .......... .......... .......... .......... 12% 96.1M 1s\n",
      "  4850K .......... .......... .......... .......... .......... 12% 28.5M 1s\n",
      "  4900K .......... .......... .......... .......... .......... 12% 43.6M 1s\n",
      "  4950K .......... .......... .......... .......... .......... 12% 23.3M 1s\n",
      "  5000K .......... .......... .......... .......... .......... 12% 28.9M 1s\n",
      "  5050K .......... .......... .......... .......... .......... 12% 24.9M 1s\n",
      "  5100K .......... .......... .......... .......... .......... 12% 21.7M 1s\n",
      "  5150K .......... .......... .......... .......... .......... 12%  257M 1s\n",
      "  5200K .......... .......... .......... .......... .......... 13% 19.3M 1s\n",
      "  5250K .......... .......... .......... .......... .......... 13%  235M 1s\n",
      "  5300K .......... .......... .......... .......... .......... 13% 16.1M 1s\n",
      "  5350K .......... .......... .......... .......... .......... 13%  189M 1s\n",
      "  5400K .......... .......... .......... .......... .......... 13%  372M 1s\n",
      "  5450K .......... .......... .......... .......... .......... 13% 32.2M 1s\n",
      "  5500K .......... .......... .......... .......... .......... 13% 15.4M 1s\n",
      "  5550K .......... .......... .......... .......... .......... 13% 41.4M 1s\n",
      "  5600K .......... .......... .......... .......... .......... 14% 13.0M 1s\n",
      "  5650K .......... .......... .......... .......... .......... 14%  180M 1s\n",
      "  5700K .......... .......... .......... .......... .......... 14% 25.2M 1s\n",
      "  5750K .......... .......... .......... .......... .......... 14% 22.4M 1s\n",
      "  5800K .......... .......... .......... .......... .......... 14%  256M 1s\n",
      "  5850K .......... .......... .......... .......... .......... 14%  301M 1s\n",
      "  5900K .......... .......... .......... .......... .......... 14% 13.0M 1s\n",
      "  5950K .......... .......... .......... .......... .......... 14% 10.0M 1s\n",
      "  6000K .......... .......... .......... .......... .......... 15% 28.3M 1s\n",
      "  6050K .......... .......... .......... .......... .......... 15% 13.4M 1s\n",
      "  6100K .......... .......... .......... .......... .......... 15% 23.8M 1s\n",
      "  6150K .......... .......... .......... .......... .......... 15%  231M 1s\n",
      "  6200K .......... .......... .......... .......... .......... 15% 14.9M 1s\n",
      "  6250K .......... .......... .......... .......... .......... 15%  164M 1s\n",
      "  6300K .......... .......... .......... .......... .......... 15%  258M 1s\n",
      "  6350K .......... .......... .......... .......... .......... 15% 17.8M 1s\n",
      "  6400K .......... .......... .......... .......... .......... 16%  116M 1s\n",
      "  6450K .......... .......... .......... .......... .......... 16% 25.5M 1s\n",
      "  6500K .......... .......... .......... .......... .......... 16%  177M 1s\n",
      "  6550K .......... .......... .......... .......... .......... 16% 25.2M 1s\n",
      "  6600K .......... .......... .......... .......... .......... 16%  349M 1s\n",
      "  6650K .......... .......... .......... .......... .......... 16% 15.9M 1s\n",
      "  6700K .......... .......... .......... .......... .......... 16%  341M 1s\n",
      "  6750K .......... .......... .......... .......... .......... 16% 15.6M 1s\n",
      "  6800K .......... .......... .......... .......... .......... 17%  502M 1s\n",
      "  6850K .......... .......... .......... .......... .......... 17% 14.8M 1s\n",
      "  6900K .......... .......... .......... .......... .......... 17%  141M 1s\n",
      "  6950K .......... .......... .......... .......... .......... 17%  170M 1s\n",
      "  7000K .......... .......... .......... .......... .......... 17% 40.5M 1s\n",
      "  7050K .......... .......... .......... .......... .......... 17%  227M 1s\n",
      "  7100K .......... .......... .......... .......... .......... 17% 18.5M 1s\n",
      "  7150K .......... .......... .......... .......... .......... 17%  102M 1s\n",
      "  7200K .......... .......... .......... .......... .......... 18% 25.9M 1s\n",
      "  7250K .......... .......... .......... .......... .......... 18% 18.1M 1s\n",
      "  7300K .......... .......... .......... .......... .......... 18%  223M 1s\n",
      "  7350K .......... .......... .......... .......... .......... 18%  202M 1s\n",
      "  7400K .......... .......... .......... .......... .......... 18% 18.7M 1s\n",
      "  7450K .......... .......... .......... .......... .......... 18%  162M 1s\n",
      "  7500K .......... .......... .......... .......... .......... 18% 16.6M 1s\n",
      "  7550K .......... .......... .......... .......... .......... 18%  131M 1s\n",
      "  7600K .......... .......... .......... .......... .......... 19%  252M 1s\n",
      "  7650K .......... .......... .......... .......... .......... 19% 12.7M 1s\n",
      "  7700K .......... .......... .......... .......... .......... 19%  202M 1s\n",
      "  7750K .......... .......... .......... .......... .......... 19% 16.8M 1s\n",
      "  7800K .......... .......... .......... .......... .......... 19%  221M 1s\n",
      "  7850K .......... .......... .......... .......... .......... 19%  367M 1s\n",
      "  7900K .......... .......... .......... .......... .......... 19% 16.4M 1s\n",
      "  7950K .......... .......... .......... .......... .......... 19%  357M 1s\n",
      "  8000K .......... .......... .......... .......... .......... 19% 11.6M 1s\n",
      "  8050K .......... .......... .......... .......... .......... 20% 89.4M 1s\n",
      "  8100K .......... .......... .......... .......... .......... 20%  295M 1s\n",
      "  8150K .......... .......... .......... .......... .......... 20% 13.1M 1s\n",
      "  8200K .......... .......... .......... .......... .......... 20%  192M 1s\n",
      "  8250K .......... .......... .......... .......... .......... 20%  233M 1s\n",
      "  8300K .......... .......... .......... .......... .......... 20%  288M 1s\n",
      "  8350K .......... .......... .......... .......... .......... 20% 14.8M 1s\n",
      "  8400K .......... .......... .......... .......... .......... 20%  161M 1s\n",
      "  8450K .......... .......... .......... .......... .......... 21%  114M 1s\n",
      "  8500K .......... .......... .......... .......... .......... 21% 5.49M 1s\n",
      "  8550K .......... .......... .......... .......... .......... 21% 19.6M 1s\n",
      "  8600K .......... .......... .......... .......... .......... 21%  293M 1s\n",
      "  8650K .......... .......... .......... .......... .......... 21% 24.6M 1s\n",
      "  8700K .......... .......... .......... .......... .......... 21% 20.0M 1s\n",
      "  8750K .......... .......... .......... .......... .......... 21%  109M 1s\n",
      "  8800K .......... .......... .......... .......... .......... 21% 31.9M 1s\n",
      "  8850K .......... .......... .......... .......... .......... 22% 33.5M 1s\n",
      "  8900K .......... .......... .......... .......... .......... 22%  237M 1s\n",
      "  8950K .......... .......... .......... .......... .......... 22% 23.8M 1s\n",
      "  9000K .......... .......... .......... .......... .......... 22%  347M 1s\n",
      "  9050K .......... .......... .......... .......... .......... 22% 17.3M 1s\n",
      "  9100K .......... .......... .......... .......... .......... 22%  516M 1s\n",
      "  9150K .......... .......... .......... .......... .......... 22% 8.04M 1s\n",
      "  9200K .......... .......... .......... .......... .......... 22%  205M 1s\n",
      "  9250K .......... .......... .......... .......... .......... 23% 12.6M 1s\n",
      "  9300K .......... .......... .......... .......... .......... 23%  183M 1s\n",
      "  9350K .......... .......... .......... .......... .......... 23%  134M 1s\n",
      "  9400K .......... .......... .......... .......... .......... 23%  436M 1s\n",
      "  9450K .......... .......... .......... .......... .......... 23% 70.9M 1s\n",
      "  9500K .......... .......... .......... .......... .......... 23% 13.8M 1s\n",
      "  9550K .......... .......... .......... .......... .......... 23%  421M 1s\n",
      "  9600K .......... .......... .......... .......... .......... 23%  666M 1s\n",
      "  9650K .......... .......... .......... .......... .......... 24% 28.1M 1s\n",
      "  9700K .......... .......... .......... .......... .......... 24% 15.9M 1s\n",
      "  9750K .......... .......... .......... .......... .......... 24%  138M 1s\n",
      "  9800K .......... .......... .......... .......... .......... 24%  165M 1s\n",
      "  9850K .......... .......... .......... .......... .......... 24% 20.2M 1s\n",
      "  9900K .......... .......... .......... .......... .......... 24%  399M 1s\n",
      "  9950K .......... .......... .......... .......... .......... 24% 4.50M 1s\n",
      " 10000K .......... .......... .......... .......... .......... 24% 69.9M 1s\n",
      " 10050K .......... .......... .......... .......... .......... 25% 47.4M 1s\n",
      " 10100K .......... .......... .......... .......... .......... 25% 39.5M 1s\n",
      " 10150K .......... .......... .......... .......... .......... 25%  141M 1s\n",
      " 10200K .......... .......... .......... .......... .......... 25%  240M 1s\n",
      " 10250K .......... .......... .......... .......... .......... 25%  339M 1s\n",
      " 10300K .......... .......... .......... .......... .......... 25% 12.6M 1s\n",
      " 10350K .......... .......... .......... .......... .......... 25%  121M 1s\n",
      " 10400K .......... .......... .......... .......... .......... 25%  315M 1s\n",
      " 10450K .......... .......... .......... .......... .......... 26% 29.8M 1s\n",
      " 10500K .......... .......... .......... .......... .......... 26%  365M 1s\n",
      " 10550K .......... .......... .......... .......... .......... 26% 23.5M 1s\n",
      " 10600K .......... .......... .......... .......... .......... 26%  409M 1s\n",
      " 10650K .......... .......... .......... .......... .......... 26% 21.9M 1s\n",
      " 10700K .......... .......... .......... .......... .......... 26% 56.0M 1s\n",
      " 10750K .......... .......... .......... .......... .......... 26% 27.7M 1s\n",
      " 10800K .......... .......... .......... .......... .......... 26% 48.8M 1s\n",
      " 10850K .......... .......... .......... .......... .......... 27% 35.2M 1s\n",
      " 10900K .......... .......... .......... .......... .......... 27% 11.9M 1s\n",
      " 10950K .......... .......... .......... .......... .......... 27%  231M 1s\n",
      " 11000K .......... .......... .......... .......... .......... 27% 16.6M 1s\n",
      " 11050K .......... .......... .......... .......... .......... 27%  137M 1s\n",
      " 11100K .......... .......... .......... .......... .......... 27%  236M 1s\n",
      " 11150K .......... .......... .......... .......... .......... 27% 16.8M 1s\n",
      " 11200K .......... .......... .......... .......... .......... 27%  209M 1s\n",
      " 11250K .......... .......... .......... .......... .......... 28% 83.4M 1s\n",
      " 11300K .......... .......... .......... .......... .......... 28% 10.3M 1s\n",
      " 11350K .......... .......... .......... .......... .......... 28%  178M 1s\n",
      " 11400K .......... .......... .......... .......... .......... 28%  287M 1s\n",
      " 11450K .......... .......... .......... .......... .......... 28%  364M 1s\n",
      " 11500K .......... .......... .......... .......... .......... 28% 17.4M 1s\n",
      " 11550K .......... .......... .......... .......... .......... 28%  171M 1s\n",
      " 11600K .......... .......... .......... .......... .......... 28%  312M 1s\n",
      " 11650K .......... .......... .......... .......... .......... 29%  161M 1s\n",
      " 11700K .......... .......... .......... .......... .......... 29% 9.96M 1s\n",
      " 11750K .......... .......... .......... .......... .......... 29%  139M 1s\n",
      " 11800K .......... .......... .......... .......... .......... 29%  274M 1s\n",
      " 11850K .......... .......... .......... .......... .......... 29%  574M 1s\n",
      " 11900K .......... .......... .......... .......... .......... 29%  634K 1s\n",
      " 11950K .......... .......... .......... .......... .......... 29% 9.91M 1s\n",
      " 12000K .......... .......... .......... .......... .......... 29% 68.9M 1s\n",
      " 12050K .......... .......... .......... .......... .......... 30% 68.7M 1s\n",
      " 12100K .......... .......... .......... .......... .......... 30% 15.6M 1s\n",
      " 12150K .......... .......... .......... .......... .......... 30%  169M 1s\n",
      " 12200K .......... .......... .......... .......... .......... 30%  204M 1s\n",
      " 12250K .......... .......... .......... .......... .......... 30%  149M 1s\n",
      " 12300K .......... .......... .......... .......... .......... 30% 13.8M 1s\n",
      " 12350K .......... .......... .......... .......... .......... 30%  202M 1s\n",
      " 12400K .......... .......... .......... .......... .......... 30%  326M 1s\n",
      " 12450K .......... .......... .......... .......... .......... 31%  106M 1s\n",
      " 12500K .......... .......... .......... .......... .......... 31% 13.8M 1s\n",
      " 12550K .......... .......... .......... .......... .......... 31%  187M 1s\n",
      " 12600K .......... .......... .......... .......... .......... 31%  217M 1s\n",
      " 12650K .......... .......... .......... .......... .......... 31%  391M 1s\n",
      " 12700K .......... .......... .......... .......... .......... 31% 8.45M 1s\n",
      " 12750K .......... .......... .......... .......... .......... 31% 13.4M 1s\n",
      " 12800K .......... .......... .......... .......... .......... 31% 20.9M 1s\n",
      " 12850K .......... .......... .......... .......... .......... 32% 16.9M 1s\n",
      " 12900K .......... .......... .......... .......... .......... 32% 43.2M 1s\n",
      " 12950K .......... .......... .......... .......... .......... 32% 16.7M 1s\n",
      " 13000K .......... .......... .......... .......... .......... 32% 26.8M 1s\n",
      " 13050K .......... .......... .......... .......... .......... 32% 18.4M 1s\n",
      " 13100K .......... .......... .......... .......... .......... 32%  263M 1s\n",
      " 13150K .......... .......... .......... .......... .......... 32%  286M 1s\n",
      " 13200K .......... .......... .......... .......... .......... 32% 12.5M 1s\n",
      " 13250K .......... .......... .......... .......... .......... 33% 86.1M 1s\n",
      " 13300K .......... .......... .......... .......... .......... 33% 9.54M 1s\n",
      " 13350K .......... .......... .......... .......... .......... 33%  211M 1s\n",
      " 13400K .......... .......... .......... .......... .......... 33% 12.7M 1s\n",
      " 13450K .......... .......... .......... .......... .......... 33%  216M 1s\n",
      " 13500K .......... .......... .......... .......... .......... 33%  154M 1s\n",
      " 13550K .......... .......... .......... .......... .......... 33%  246M 1s\n",
      " 13600K .......... .......... .......... .......... .......... 33% 13.6M 1s\n",
      " 13650K .......... .......... .......... .......... .......... 34% 81.1M 1s\n",
      " 13700K .......... .......... .......... .......... .......... 34%  324M 1s\n",
      " 13750K .......... .......... .......... .......... .......... 34%  351M 1s\n",
      " 13800K .......... .......... .......... .......... .......... 34% 17.9M 1s\n",
      " 13850K .......... .......... .......... .......... .......... 34%  138M 1s\n",
      " 13900K .......... .......... .......... .......... .......... 34% 17.2M 1s\n",
      " 13950K .......... .......... .......... .......... .......... 34%  237M 1s\n",
      " 14000K .......... .......... .......... .......... .......... 34%  262M 1s\n",
      " 14050K .......... .......... .......... .......... .......... 35% 10.7M 1s\n",
      " 14100K .......... .......... .......... .......... .......... 35%  139M 1s\n",
      " 14150K .......... .......... .......... .......... .......... 35%  639M 1s\n",
      " 14200K .......... .......... .......... .......... .......... 35%  503M 1s\n",
      " 14250K .......... .......... .......... .......... .......... 35% 14.0M 1s\n",
      " 14300K .......... .......... .......... .......... .......... 35%  132M 1s\n",
      " 14350K .......... .......... .......... .......... .......... 35%  450M 1s\n",
      " 14400K .......... .......... .......... .......... .......... 35%  316M 1s\n",
      " 14450K .......... .......... .......... .......... .......... 36% 10.9M 1s\n",
      " 14500K .......... .......... .......... .......... .......... 36%  248M 1s\n",
      " 14550K .......... .......... .......... .......... .......... 36%  232M 1s\n",
      " 14600K .......... .......... .......... .......... .......... 36% 14.3M 1s\n",
      " 14650K .......... .......... .......... .......... .......... 36%  127M 1s\n",
      " 14700K .......... .......... .......... .......... .......... 36%  247M 1s\n",
      " 14750K .......... .......... .......... .......... .......... 36%  310M 1s\n",
      " 14800K .......... .......... .......... .......... .......... 36% 15.0M 1s\n",
      " 14850K .......... .......... .......... .......... .......... 37% 93.4M 1s\n",
      " 14900K .......... .......... .......... .......... .......... 37%  329M 1s\n",
      " 14950K .......... .......... .......... .......... .......... 37% 11.0M 1s\n",
      " 15000K .......... .......... .......... .......... .......... 37%  238M 1s\n",
      " 15050K .......... .......... .......... .......... .......... 37%  318M 1s\n",
      " 15100K .......... .......... .......... .......... .......... 37%  230M 1s\n",
      " 15150K .......... .......... .......... .......... .......... 37% 13.8M 1s\n",
      " 15200K .......... .......... .......... .......... .......... 37%  305M 1s\n",
      " 15250K .......... .......... .......... .......... .......... 38%  438M 1s\n",
      " 15300K .......... .......... .......... .......... .......... 38%  199M 1s\n",
      " 15350K .......... .......... .......... .......... .......... 38% 11.3M 1s\n",
      " 15400K .......... .......... .......... .......... .......... 38%  162M 1s\n",
      " 15450K .......... .......... .......... .......... .......... 38%  319M 1s\n",
      " 15500K .......... .......... .......... .......... .......... 38% 12.5M 1s\n",
      " 15550K .......... .......... .......... .......... .......... 38%  206M 1s\n",
      " 15600K .......... .......... .......... .......... .......... 38%  196M 1s\n",
      " 15650K .......... .......... .......... .......... .......... 38%  398M 1s\n",
      " 15700K .......... .......... .......... .......... .......... 39% 11.7M 1s\n",
      " 15750K .......... .......... .......... .......... .......... 39%  267M 1s\n",
      " 15800K .......... .......... .......... .......... .......... 39%  410M 1s\n",
      " 15850K .......... .......... .......... .......... .......... 39%  357M 1s\n",
      " 15900K .......... .......... .......... .......... .......... 39% 12.7M 1s\n",
      " 15950K .......... .......... .......... .......... .......... 39%  205M 1s\n",
      " 16000K .......... .......... .......... .......... .......... 39%  279M 1s\n",
      " 16050K .......... .......... .......... .......... .......... 39% 14.6M 1s\n",
      " 16100K .......... .......... .......... .......... .......... 40% 79.9M 1s\n",
      " 16150K .......... .......... .......... .......... .......... 40%  314M 1s\n",
      " 16200K .......... .......... .......... .......... .......... 40%  390M 1s\n",
      " 16250K .......... .......... .......... .......... .......... 40% 14.4M 1s\n",
      " 16300K .......... .......... .......... .......... .......... 40%  186M 1s\n",
      " 16350K .......... .......... .......... .......... .......... 40%  230M 1s\n",
      " 16400K .......... .......... .......... .......... .......... 40%  478M 1s\n",
      " 16450K .......... .......... .......... .......... .......... 40% 13.6M 1s\n",
      " 16500K .......... .......... .......... .......... .......... 41%  173M 1s\n",
      " 16550K .......... .......... .......... .......... .......... 41%  348M 1s\n",
      " 16600K .......... .......... .......... .......... .......... 41% 9.24M 1s\n",
      " 16650K .......... .......... .......... .......... .......... 41%  165M 1s\n",
      " 16700K .......... .......... .......... .......... .......... 41%  332M 1s\n",
      " 16750K .......... .......... .......... .......... .......... 41%  478M 1s\n",
      " 16800K .......... .......... .......... .......... .......... 41% 14.7M 1s\n",
      " 16850K .......... .......... .......... .......... .......... 41% 7.86M 1s\n",
      " 16900K .......... .......... .......... .......... .......... 42%  153M 1s\n",
      " 16950K .......... .......... .......... .......... .......... 42% 15.0M 1s\n",
      " 17000K .......... .......... .......... .......... .......... 42%  215M 1s\n",
      " 17050K .......... .......... .......... .......... .......... 42%  202M 1s\n",
      " 17100K .......... .......... .......... .......... .......... 42%  432M 1s\n",
      " 17150K .......... .......... .......... .......... .......... 42%  753K 1s\n",
      " 17200K .......... .......... .......... .......... .......... 42%  210M 1s\n",
      " 17250K .......... .......... .......... .......... .......... 42%  238M 1s\n",
      " 17300K .......... .......... .......... .......... .......... 43% 12.7M 1s\n",
      " 17350K .......... .......... .......... .......... .......... 43%  223M 1s\n",
      " 17400K .......... .......... .......... .......... .......... 43%  124M 1s\n",
      " 17450K .......... .......... .......... .......... .......... 43%  238M 1s\n",
      " 17500K .......... .......... .......... .......... .......... 43% 13.6M 1s\n",
      " 17550K .......... .......... .......... .......... .......... 43%  269M 1s\n",
      " 17600K .......... .......... .......... .......... .......... 43%  132M 1s\n",
      " 17650K .......... .......... .......... .......... .......... 43%  121M 1s\n",
      " 17700K .......... .......... .......... .......... .......... 44% 15.7M 1s\n",
      " 17750K .......... .......... .......... .......... .......... 44%  323M 1s\n",
      " 17800K .......... .......... .......... .......... .......... 44%  453M 1s\n",
      " 17850K .......... .......... .......... .......... .......... 44%  161M 1s\n",
      " 17900K .......... .......... .......... .......... .......... 44% 15.6M 1s\n",
      " 17950K .......... .......... .......... .......... .......... 44%  244M 1s\n",
      " 18000K .......... .......... .......... .......... .......... 44%  332M 1s\n",
      " 18050K .......... .......... .......... .......... .......... 44% 40.9M 1s\n",
      " 18100K .......... .......... .......... .......... .......... 45% 27.8M 1s\n",
      " 18150K .......... .......... .......... .......... .......... 45% 19.6M 1s\n",
      " 18200K .......... .......... .......... .......... .......... 45% 12.9M 1s\n",
      " 18250K .......... .......... .......... .......... .......... 45% 71.5M 1s\n",
      " 18300K .......... .......... .......... .......... .......... 45% 24.9M 1s\n",
      " 18350K .......... .......... .......... .......... .......... 45% 14.5M 1s\n",
      " 18400K .......... .......... .......... .......... .......... 45%  105M 1s\n",
      " 18450K .......... .......... .......... .......... .......... 45% 55.8M 1s\n",
      " 18500K .......... .......... .......... .......... .......... 46% 14.2M 1s\n",
      " 18550K .......... .......... .......... .......... .......... 46%  297M 1s\n",
      " 18600K .......... .......... .......... .......... .......... 46% 9.27M 1s\n",
      " 18650K .......... .......... .......... .......... .......... 46%  128M 1s\n",
      " 18700K .......... .......... .......... .......... .......... 46%  273M 1s\n",
      " 18750K .......... .......... .......... .......... .......... 46% 10.1M 1s\n",
      " 18800K .......... .......... .......... .......... .......... 46%  197M 1s\n",
      " 18850K .......... .......... .......... .......... .......... 46%  353M 1s\n",
      " 18900K .......... .......... .......... .......... .......... 47% 14.1M 1s\n",
      " 18950K .......... .......... .......... .......... .......... 47%  124M 1s\n",
      " 19000K .......... .......... .......... .......... .......... 47%  496M 1s\n",
      " 19050K .......... .......... .......... .......... .......... 47%  588M 1s\n",
      " 19100K .......... .......... .......... .......... .......... 47% 12.1M 1s\n",
      " 19150K .......... .......... .......... .......... .......... 47%  159M 1s\n",
      " 19200K .......... .......... .......... .......... .......... 47%  465M 1s\n",
      " 19250K .......... .......... .......... .......... .......... 47% 14.7M 1s\n",
      " 19300K .......... .......... .......... .......... .......... 48% 73.1M 1s\n",
      " 19350K .......... .......... .......... .......... .......... 48%  314M 1s\n",
      " 19400K .......... .......... .......... .......... .......... 48%  679M 1s\n",
      " 19450K .......... .......... .......... .......... .......... 48% 16.8M 1s\n",
      " 19500K .......... .......... .......... .......... .......... 48%  352M 1s\n",
      " 19550K .......... .......... .......... .......... .......... 48%  344M 1s\n",
      " 19600K .......... .......... .......... .......... .......... 48%  648M 1s\n",
      " 19650K .......... .......... .......... .......... .......... 48% 9.07M 1s\n",
      " 19700K .......... .......... .......... .......... .......... 49%  104M 1s\n",
      " 19750K .......... .......... .......... .......... .......... 49%  416M 1s\n",
      " 19800K .......... .......... .......... .......... .......... 49%  532M 1s\n",
      " 19850K .......... .......... .......... .......... .......... 49% 14.5M 1s\n",
      " 19900K .......... .......... .......... .......... .......... 49%  156M 1s\n",
      " 19950K .......... .......... .......... .......... .......... 49%  236M 1s\n",
      " 20000K .......... .......... .......... .......... .......... 49% 14.0M 1s\n",
      " 20050K .......... .......... .......... .......... .......... 49%  255M 1s\n",
      " 20100K .......... .......... .......... .......... .......... 50%  163M 1s\n",
      " 20150K .......... .......... .......... .......... .......... 50%  300M 1s\n",
      " 20200K .......... .......... .......... .......... .......... 50% 11.1M 1s\n",
      " 20250K .......... .......... .......... .......... .......... 50%  224M 1s\n",
      " 20300K .......... .......... .......... .......... .......... 50%  625M 1s\n",
      " 20350K .......... .......... .......... .......... .......... 50%  516M 1s\n",
      " 20400K .......... .......... .......... .......... .......... 50% 13.3M 1s\n",
      " 20450K .......... .......... .......... .......... .......... 50%  148M 1s\n",
      " 20500K .......... .......... .......... .......... .......... 51%  169M 1s\n",
      " 20550K .......... .......... .......... .......... .......... 51% 12.9M 1s\n",
      " 20600K .......... .......... .......... .......... .......... 51%  136M 1s\n",
      " 20650K .......... .......... .......... .......... .......... 51%  256M 1s\n",
      " 20700K .......... .......... .......... .......... .......... 51%  218M 1s\n",
      " 20750K .......... .......... .......... .......... .......... 51% 13.2M 1s\n",
      " 20800K .......... .......... .......... .......... .......... 51%  138M 1s\n",
      " 20850K .......... .......... .......... .......... .......... 51%  210M 1s\n",
      " 20900K .......... .......... .......... .......... .......... 52% 14.1M 1s\n",
      " 20950K .......... .......... .......... .......... .......... 52%  142M 1s\n",
      " 21000K .......... .......... .......... .......... .......... 52%  318M 1s\n",
      " 21050K .......... .......... .......... .......... .......... 52%  344M 1s\n",
      " 21100K .......... .......... .......... .......... .......... 52% 12.1M 1s\n",
      " 21150K .......... .......... .......... .......... .......... 52%  165M 1s\n",
      " 21200K .......... .......... .......... .......... .......... 52%  568M 1s\n",
      " 21250K .......... .......... .......... .......... .......... 52%  306M 1s\n",
      " 21300K .......... .......... .......... .......... .......... 53% 13.8M 1s\n",
      " 21350K .......... .......... .......... .......... .......... 53%  186M 1s\n",
      " 21400K .......... .......... .......... .......... .......... 53%  351M 1s\n",
      " 21450K .......... .......... .......... .......... .......... 53% 15.5M 1s\n",
      " 21500K .......... .......... .......... .......... .......... 53%  238M 1s\n",
      " 21550K .......... .......... .......... .......... .......... 53%  303M 1s\n",
      " 21600K .......... .......... .......... .......... .......... 53%  446M 1s\n",
      " 21650K .......... .......... .......... .......... .......... 53% 13.4M 1s\n",
      " 21700K .......... .......... .......... .......... .......... 54%  155M 1s\n",
      " 21750K .......... .......... .......... .......... .......... 54%  320M 1s\n",
      " 21800K .......... .......... .......... .......... .......... 54%  448M 1s\n",
      " 21850K .......... .......... .......... .......... .......... 54% 15.0M 1s\n",
      " 21900K .......... .......... .......... .......... .......... 54% 10.8M 1s\n",
      " 21950K .......... .......... .......... .......... .......... 54% 9.25M 1s\n",
      " 22000K .......... .......... .......... .......... .......... 54% 12.0M 1s\n",
      " 22050K .......... .......... .......... .......... .......... 54%  129M 1s\n",
      " 22100K .......... .......... .......... .......... .......... 55%  128M 1s\n",
      " 22150K .......... .......... .......... .......... .......... 55%  299M 1s\n",
      " 22200K .......... .......... .......... .......... .......... 55% 9.66M 1s\n",
      " 22250K .......... .......... .......... .......... .......... 55% 7.29M 1s\n",
      " 22300K .......... .......... .......... .......... .......... 55%  214M 1s\n",
      " 22350K .......... .......... .......... .......... .......... 55%  592M 1s\n",
      " 22400K .......... .......... .......... .......... .......... 55% 12.8M 1s\n",
      " 22450K .......... .......... .......... .......... .......... 55%  171M 1s\n",
      " 22500K .......... .......... .......... .......... .......... 56%  115M 1s\n",
      " 22550K .......... .......... .......... .......... .......... 56% 13.6M 1s\n",
      " 22600K .......... .......... .......... .......... .......... 56%  102M 1s\n",
      " 22650K .......... .......... .......... .......... .......... 56%  413M 1s\n",
      " 22700K .......... .......... .......... .......... .......... 56%  326M 1s\n",
      " 22750K .......... .......... .......... .......... .......... 56% 10.3M 1s\n",
      " 22800K .......... .......... .......... .......... .......... 56%  434M 1s\n",
      " 22850K .......... .......... .......... .......... .......... 56%  561M 1s\n",
      " 22900K .......... .......... .......... .......... .......... 57% 11.6M 1s\n",
      " 22950K .......... .......... .......... .......... .......... 57% 90.8M 1s\n",
      " 23000K .......... .......... .......... .......... .......... 57%  148M 1s\n",
      " 23050K .......... .......... .......... .......... .......... 57%  242M 1s\n",
      " 23100K .......... .......... .......... .......... .......... 57% 14.1M 1s\n",
      " 23150K .......... .......... .......... .......... .......... 57%  191M 1s\n",
      " 23200K .......... .......... .......... .......... .......... 57%  236M 1s\n",
      " 23250K .......... .......... .......... .......... .......... 57%  200M 1s\n",
      " 23300K .......... .......... .......... .......... .......... 57% 12.9M 1s\n",
      " 23350K .......... .......... .......... .......... .......... 58%  105M 1s\n",
      " 23400K .......... .......... .......... .......... .......... 58%  314M 1s\n",
      " 23450K .......... .......... .......... .......... .......... 58% 12.6M 1s\n",
      " 23500K .......... .......... .......... .......... .......... 58%  227M 1s\n",
      " 23550K .......... .......... .......... .......... .......... 58%  206M 1s\n",
      " 23600K .......... .......... .......... .......... .......... 58%  566M 1s\n",
      " 23650K .......... .......... .......... .......... .......... 58% 12.1M 1s\n",
      " 23700K .......... .......... .......... .......... .......... 58% 96.7M 1s\n",
      " 23750K .......... .......... .......... .......... .......... 59%  176M 1s\n",
      " 23800K .......... .......... .......... .......... .......... 59%  333M 1s\n",
      " 23850K .......... .......... .......... .......... .......... 59% 10.6M 1s\n",
      " 23900K .......... .......... .......... .......... .......... 59%  221M 1s\n",
      " 23950K .......... .......... .......... .......... .......... 59%  455M 1s\n",
      " 24000K .......... .......... .......... .......... .......... 59% 12.4M 1s\n",
      " 24050K .......... .......... .......... .......... .......... 59%  111M 1s\n",
      " 24100K .......... .......... .......... .......... .......... 59% 7.37M 1s\n",
      " 24150K .......... .......... .......... .......... .......... 60%  137M 1s\n",
      " 24200K .......... .......... .......... .......... .......... 60% 10.7M 1s\n",
      " 24250K .......... .......... .......... .......... .......... 60% 76.9M 1s\n",
      " 24300K .......... .......... .......... .......... .......... 60%  216M 1s\n",
      " 24350K .......... .......... .......... .......... .......... 60%  356M 1s\n",
      " 24400K .......... .......... .......... .......... .......... 60% 16.8M 1s\n",
      " 24450K .......... .......... .......... .......... .......... 60%  137M 1s\n",
      " 24500K .......... .......... .......... .......... .......... 60%  424M 1s\n",
      " 24550K .......... .......... .......... .......... .......... 61% 10.1M 1s\n",
      " 24600K .......... .......... .......... .......... .......... 61%  248M 1s\n",
      " 24650K .......... .......... .......... .......... .......... 61%  205M 1s\n",
      " 24700K .......... .......... .......... .......... .......... 61%  702M 1s\n",
      " 24750K .......... .......... .......... .......... .......... 61% 11.7M 1s\n",
      " 24800K .......... .......... .......... .......... .......... 61%  153M 1s\n",
      " 24850K .......... .......... .......... .......... .......... 61%  232M 1s\n",
      " 24900K .......... .......... .......... .......... .......... 61% 12.6M 1s\n",
      " 24950K .......... .......... .......... .......... .......... 62%  134M 1s\n",
      " 25000K .......... .......... .......... .......... .......... 62%  285M 1s\n",
      " 25050K .......... .......... .......... .......... .......... 62%  352M 1s\n",
      " 25100K .......... .......... .......... .......... .......... 62% 11.8M 1s\n",
      " 25150K .......... .......... .......... .......... .......... 62% 97.6M 1s\n",
      " 25200K .......... .......... .......... .......... .......... 62%  315M 1s\n",
      " 25250K .......... .......... .......... .......... .......... 62%  538M 1s\n",
      " 25300K .......... .......... .......... .......... .......... 62% 13.2M 1s\n",
      " 25350K .......... .......... .......... .......... .......... 63% 69.7M 1s\n",
      " 25400K .......... .......... .......... .......... .......... 63%  223M 1s\n",
      " 25450K .......... .......... .......... .......... .......... 63% 17.8M 1s\n",
      " 25500K .......... .......... .......... .......... .......... 63%  168M 1s\n",
      " 25550K .......... .......... .......... .......... .......... 63%  167M 1s\n",
      " 25600K .......... .......... .......... .......... .......... 63%  229M 1s\n",
      " 25650K .......... .......... .......... .......... .......... 63% 9.52M 1s\n",
      " 25700K .......... .......... .......... .......... .......... 63%  128M 1s\n",
      " 25750K .......... .......... .......... .......... .......... 64%  113M 1s\n",
      " 25800K .......... .......... .......... .......... .......... 64%  637M 1s\n",
      " 25850K .......... .......... .......... .......... .......... 64% 4.04M 1s\n",
      " 25900K .......... .......... .......... .......... .......... 64%  123M 1s\n",
      " 25950K .......... .......... .......... .......... .......... 64%  649M 1s\n",
      " 26000K .......... .......... .......... .......... .......... 64%  628M 1s\n",
      " 26050K .......... .......... .......... .......... .......... 64% 12.8M 1s\n",
      " 26100K .......... .......... .......... .......... .......... 64%  230M 1s\n",
      " 26150K .......... .......... .......... .......... .......... 65%  167M 1s\n",
      " 26200K .......... .......... .......... .......... .......... 65% 12.2M 1s\n",
      " 26250K .......... .......... .......... .......... .......... 65%  115M 1s\n",
      " 26300K .......... .......... .......... .......... .......... 65%  466M 1s\n",
      " 26350K .......... .......... .......... .......... .......... 65%  297M 1s\n",
      " 26400K .......... .......... .......... .......... .......... 65% 13.1M 1s\n",
      " 26450K .......... .......... .......... .......... .......... 65%  164M 0s\n",
      " 26500K .......... .......... .......... .......... .......... 65%  237M 0s\n",
      " 26550K .......... .......... .......... .......... .......... 66% 13.1M 0s\n",
      " 26600K .......... .......... .......... .......... .......... 66%  142M 0s\n",
      " 26650K .......... .......... .......... .......... .......... 66%  135M 0s\n",
      " 26700K .......... .......... .......... .......... .......... 66%  157M 0s\n",
      " 26750K .......... .......... .......... .......... .......... 66% 15.5M 0s\n",
      " 26800K .......... .......... .......... .......... .......... 66%  251M 0s\n",
      " 26850K .......... .......... .......... .......... .......... 66%  153M 0s\n",
      " 26900K .......... .......... .......... .......... .......... 66%  480M 0s\n",
      " 26950K .......... .......... .......... .......... .......... 67% 11.4M 0s\n",
      " 27000K .......... .......... .......... .......... .......... 67%  206M 0s\n",
      " 27050K .......... .......... .......... .......... .......... 67%  113M 0s\n",
      " 27100K .......... .......... .......... .......... .......... 67% 15.1M 0s\n",
      " 27150K .......... .......... .......... .......... .......... 67%  336M 0s\n",
      " 27200K .......... .......... .......... .......... .......... 67%  259M 0s\n",
      " 27250K .......... .......... .......... .......... .......... 67%  113M 0s\n",
      " 27300K .......... .......... .......... .......... .......... 67% 9.39M 0s\n",
      " 27350K .......... .......... .......... .......... .......... 68%  129M 0s\n",
      " 27400K .......... .......... .......... .......... .......... 68%  623M 0s\n",
      " 27450K .......... .......... .......... .......... .......... 68%  204M 0s\n",
      " 27500K .......... .......... .......... .......... .......... 68% 16.1M 0s\n",
      " 27550K .......... .......... .......... .......... .......... 68%  297M 0s\n",
      " 27600K .......... .......... .......... .......... .......... 68%  448M 0s\n",
      " 27650K .......... .......... .......... .......... .......... 68% 9.20M 0s\n",
      " 27700K .......... .......... .......... .......... .......... 68%  166M 0s\n",
      " 27750K .......... .......... .......... .......... .......... 69%  160M 0s\n",
      " 27800K .......... .......... .......... .......... .......... 69%  333M 0s\n",
      " 27850K .......... .......... .......... .......... .......... 69% 11.0M 0s\n",
      " 27900K .......... .......... .......... .......... .......... 69%  345M 0s\n",
      " 27950K .......... .......... .......... .......... .......... 69%  628M 0s\n",
      " 28000K .......... .......... .......... .......... .......... 69%  355M 0s\n",
      " 28050K .......... .......... .......... .......... .......... 69% 10.8M 0s\n",
      " 28100K .......... .......... .......... .......... .......... 69%  235M 0s\n",
      " 28150K .......... .......... .......... .......... .......... 70%  131M 0s\n",
      " 28200K .......... .......... .......... .......... .......... 70% 9.75M 0s\n",
      " 28250K .......... .......... .......... .......... .......... 70%  190M 0s\n",
      " 28300K .......... .......... .......... .......... .......... 70%  382M 0s\n",
      " 28350K .......... .......... .......... .......... .......... 70%  147M 0s\n",
      " 28400K .......... .......... .......... .......... .......... 70% 12.7M 0s\n",
      " 28450K .......... .......... .......... .......... .......... 70%  230M 0s\n",
      " 28500K .......... .......... .......... .......... .......... 70%  256M 0s\n",
      " 28550K .......... .......... .......... .......... .......... 71% 10.4M 0s\n",
      " 28600K .......... .......... .......... .......... .......... 71% 97.9M 0s\n",
      " 28650K .......... .......... .......... .......... .......... 71%  177M 0s\n",
      " 28700K .......... .......... .......... .......... .......... 71%  434M 0s\n",
      " 28750K .......... .......... .......... .......... .......... 71% 16.1M 0s\n",
      " 28800K .......... .......... .......... .......... .......... 71%  175M 0s\n",
      " 28850K .......... .......... .......... .......... .......... 71%  178M 0s\n",
      " 28900K .......... .......... .......... .......... .......... 71%  305M 0s\n",
      " 28950K .......... .......... .......... .......... .......... 72% 10.6M 0s\n",
      " 29000K .......... .......... .......... .......... .......... 72%  292M 0s\n",
      " 29050K .......... .......... .......... .......... .......... 72%  269M 0s\n",
      " 29100K .......... .......... .......... .......... .......... 72% 8.85M 0s\n",
      " 29150K .......... .......... .......... .......... .......... 72%  157M 0s\n",
      " 29200K .......... .......... .......... .......... .......... 72%  196M 0s\n",
      " 29250K .......... .......... .......... .......... .......... 72%  334M 0s\n",
      " 29300K .......... .......... .......... .......... .......... 72% 16.1M 0s\n",
      " 29350K .......... .......... .......... .......... .......... 73%  161M 0s\n",
      " 29400K .......... .......... .......... .......... .......... 73%  434M 0s\n",
      " 29450K .......... .......... .......... .......... .......... 73%  633M 0s\n",
      " 29500K .......... .......... .......... .......... .......... 73% 9.27M 0s\n",
      " 29550K .......... .......... .......... .......... .......... 73%  286M 0s\n",
      " 29600K .......... .......... .......... .......... .......... 73% 9.08M 0s\n",
      " 29650K .......... .......... .......... .......... .......... 73% 77.6M 0s\n",
      " 29700K .......... .......... .......... .......... .......... 73%  192M 0s\n",
      " 29750K .......... .......... .......... .......... .......... 74%  190M 0s\n",
      " 29800K .......... .......... .......... .......... .......... 74% 17.5M 0s\n",
      " 29850K .......... .......... .......... .......... .......... 74%  236M 0s\n",
      " 29900K .......... .......... .......... .......... .......... 74%  655M 0s\n",
      " 29950K .......... .......... .......... .......... .......... 74%  237M 0s\n",
      " 30000K .......... .......... .......... .......... .......... 74% 8.95M 0s\n",
      " 30050K .......... .......... .......... .......... .......... 74%  132M 0s\n",
      " 30100K .......... .......... .......... .......... .......... 74%  266M 0s\n",
      " 30150K .......... .......... .......... .......... .......... 75% 13.6M 0s\n",
      " 30200K .......... .......... .......... .......... .......... 75%  102M 0s\n",
      " 30250K .......... .......... .......... .......... .......... 75%  243M 0s\n",
      " 30300K .......... .......... .......... .......... .......... 75%  671M 0s\n",
      " 30350K .......... .......... .......... .......... .......... 75% 12.9M 0s\n",
      " 30400K .......... .......... .......... .......... .......... 75%  214M 0s\n",
      " 30450K .......... .......... .......... .......... .......... 75%  127M 0s\n",
      " 30500K .......... .......... .......... .......... .......... 75% 9.75M 0s\n",
      " 30550K .......... .......... .......... .......... .......... 76%  208M 0s\n",
      " 30600K .......... .......... .......... .......... .......... 76%  101M 0s\n",
      " 30650K .......... .......... .......... .......... .......... 76%  127M 0s\n",
      " 30700K .......... .......... .......... .......... .......... 76% 17.5M 0s\n",
      " 30750K .......... .......... .......... .......... .......... 76%  221M 0s\n",
      " 30800K .......... .......... .......... .......... .......... 76%  381M 0s\n",
      " 30850K .......... .......... .......... .......... .......... 76% 12.0M 0s\n",
      " 30900K .......... .......... .......... .......... .......... 76%  157M 0s\n",
      " 30950K .......... .......... .......... .......... .......... 76%  110M 0s\n",
      " 31000K .......... .......... .......... .......... .......... 77%  103M 0s\n",
      " 31050K .......... .......... .......... .......... .......... 77% 14.9M 0s\n",
      " 31100K .......... .......... .......... .......... .......... 77%  462M 0s\n",
      " 31150K .......... .......... .......... .......... .......... 77%  245M 0s\n",
      " 31200K .......... .......... .......... .......... .......... 77%  358M 0s\n",
      " 31250K .......... .......... .......... .......... .......... 77% 8.93M 0s\n",
      " 31300K .......... .......... .......... .......... .......... 77%  127M 0s\n",
      " 31350K .......... .......... .......... .......... .......... 77%  589M 0s\n",
      " 31400K .......... .......... .......... .......... .......... 78%  183M 0s\n",
      " 31450K .......... .......... .......... .......... .......... 78% 14.6M 0s\n",
      " 31500K .......... .......... .......... .......... .......... 78%  168M 0s\n",
      " 31550K .......... .......... .......... .......... .......... 78%  253M 0s\n",
      " 31600K .......... .......... .......... .......... .......... 78% 10.4M 0s\n",
      " 31650K .......... .......... .......... .......... .......... 78%  140M 0s\n",
      " 31700K .......... .......... .......... .......... .......... 78%  240M 0s\n",
      " 31750K .......... .......... .......... .......... .......... 78%  442M 0s\n",
      " 31800K .......... .......... .......... .......... .......... 79% 8.96M 0s\n",
      " 31850K .......... .......... .......... .......... .......... 79%  126M 0s\n",
      " 31900K .......... .......... .......... .......... .......... 79%  621M 0s\n",
      " 31950K .......... .......... .......... .......... .......... 79%  668M 0s\n",
      " 32000K .......... .......... .......... .......... .......... 79% 13.2M 0s\n",
      " 32050K .......... .......... .......... .......... .......... 79%  132M 0s\n",
      " 32100K .......... .......... .......... .......... .......... 79%  220M 0s\n",
      " 32150K .......... .......... .......... .......... .......... 79% 12.3M 0s\n",
      " 32200K .......... .......... .......... .......... .......... 80% 92.1M 0s\n",
      " 32250K .......... .......... .......... .......... .......... 80%  399M 0s\n",
      " 32300K .......... .......... .......... .......... .......... 80%  657M 0s\n",
      " 32350K .......... .......... .......... .......... .......... 80% 12.9M 0s\n",
      " 32400K .......... .......... .......... .......... .......... 80%  268M 0s\n",
      " 32450K .......... .......... .......... .......... .......... 80%  211M 0s\n",
      " 32500K .......... .......... .......... .......... .......... 80% 13.2M 0s\n",
      " 32550K .......... .......... .......... .......... .......... 80%  185M 0s\n",
      " 32600K .......... .......... .......... .......... .......... 81% 89.4M 0s\n",
      " 32650K .......... .......... .......... .......... .......... 81%  304M 0s\n",
      " 32700K .......... .......... .......... .......... .......... 81% 15.0M 0s\n",
      " 32750K .......... .......... .......... .......... .......... 81%  135M 0s\n",
      " 32800K .......... .......... .......... .......... .......... 81%  531M 0s\n",
      " 32850K .......... .......... .......... .......... .......... 81%  522M 0s\n",
      " 32900K .......... .......... .......... .......... .......... 81% 9.08M 0s\n",
      " 32950K .......... .......... .......... .......... .......... 81%  113M 0s\n",
      " 33000K .......... .......... .......... .......... .......... 82%  116M 0s\n",
      " 33050K .......... .......... .......... .......... .......... 82% 15.8M 0s\n",
      " 33100K .......... .......... .......... .......... .......... 82%  256M 0s\n",
      " 33150K .......... .......... .......... .......... .......... 82%  123M 0s\n",
      " 33200K .......... .......... .......... .......... .......... 82%  652M 0s\n",
      " 33250K .......... .......... .......... .......... .......... 82% 10.1M 0s\n",
      " 33300K .......... .......... .......... .......... .......... 82%  303M 0s\n",
      " 33350K .......... .......... .......... .......... .......... 82% 9.38M 0s\n",
      " 33400K .......... .......... .......... .......... .......... 83% 78.0M 0s\n",
      " 33450K .......... .......... .......... .......... .......... 83%  198M 0s\n",
      " 33500K .......... .......... .......... .......... .......... 83%  418M 0s\n",
      " 33550K .......... .......... .......... .......... .......... 83% 15.3M 0s\n",
      " 33600K .......... .......... .......... .......... .......... 83%  237M 0s\n",
      " 33650K .......... .......... .......... .......... .......... 83%  249M 0s\n",
      " 33700K .......... .......... .......... .......... .......... 83%  155M 0s\n",
      " 33750K .......... .......... .......... .......... .......... 83% 9.21M 0s\n",
      " 33800K .......... .......... .......... .......... .......... 84%  123M 0s\n",
      " 33850K .......... .......... .......... .......... .......... 84%  392M 0s\n",
      " 33900K .......... .......... .......... .......... .......... 84% 9.50M 0s\n",
      " 33950K .......... .......... .......... .......... .......... 84%  159M 0s\n",
      " 34000K .......... .......... .......... .......... .......... 84%  115M 0s\n",
      " 34050K .......... .......... .......... .......... .......... 84%  383M 0s\n",
      " 34100K .......... .......... .......... .......... .......... 84% 14.2M 0s\n",
      " 34150K .......... .......... .......... .......... .......... 84%  135M 0s\n",
      " 34200K .......... .......... .......... .......... .......... 85%  145M 0s\n",
      " 34250K .......... .......... .......... .......... .......... 85%  370M 0s\n",
      " 34300K .......... .......... .......... .......... .......... 85% 12.5M 0s\n",
      " 34350K .......... .......... .......... .......... .......... 85% 93.8M 0s\n",
      " 34400K .......... .......... .......... .......... .......... 85%  154M 0s\n",
      " 34450K .......... .......... .......... .......... .......... 85% 14.4M 0s\n",
      " 34500K .......... .......... .......... .......... .......... 85%  243M 0s\n",
      " 34550K .......... .......... .......... .......... .......... 85%  315M 0s\n",
      " 34600K .......... .......... .......... .......... .......... 86%  123M 0s\n",
      " 34650K .......... .......... .......... .......... .......... 86% 13.7M 0s\n",
      " 34700K .......... .......... .......... .......... .......... 86%  309M 0s\n",
      " 34750K .......... .......... .......... .......... .......... 86%  295M 0s\n",
      " 34800K .......... .......... .......... .......... .......... 86%  177M 0s\n",
      " 34850K .......... .......... .......... .......... .......... 86% 11.0M 0s\n",
      " 34900K .......... .......... .......... .......... .......... 86%  236M 0s\n",
      " 34950K .......... .......... .......... .......... .......... 86%  598M 0s\n",
      " 35000K .......... .......... .......... .......... .......... 87% 14.9M 0s\n",
      " 35050K .......... .......... .......... .......... .......... 87%  262M 0s\n",
      " 35100K .......... .......... .......... .......... .......... 87%  239M 0s\n",
      " 35150K .......... .......... .......... .......... .......... 87%  381M 0s\n",
      " 35200K .......... .......... .......... .......... .......... 87% 9.36M 0s\n",
      " 35250K .......... .......... .......... .......... .......... 87% 85.6M 0s\n",
      " 35300K .......... .......... .......... .......... .......... 87%  417M 0s\n",
      " 35350K .......... .......... .......... .......... .......... 87%  699M 0s\n",
      " 35400K .......... .......... .......... .......... .......... 88% 8.94M 0s\n",
      " 35450K .......... .......... .......... .......... .......... 88%  127M 0s\n",
      " 35500K .......... .......... .......... .......... .......... 88%  132M 0s\n",
      " 35550K .......... .......... .......... .......... .......... 88% 16.7M 0s\n",
      " 35600K .......... .......... .......... .......... .......... 88%  389M 0s\n",
      " 35650K .......... .......... .......... .......... .......... 88%  227M 0s\n",
      " 35700K .......... .......... .......... .......... .......... 88%  236M 0s\n",
      " 35750K .......... .......... .......... .......... .......... 88% 12.1M 0s\n",
      " 35800K .......... .......... .......... .......... .......... 89% 80.9M 0s\n",
      " 35850K .......... .......... .......... .......... .......... 89%  374M 0s\n",
      " 35900K .......... .......... .......... .......... .......... 89%  276M 0s\n",
      " 35950K .......... .......... .......... .......... .......... 89% 11.2M 0s\n",
      " 36000K .......... .......... .......... .......... .......... 89%  272M 0s\n",
      " 36050K .......... .......... .......... .......... .......... 89%  411M 0s\n",
      " 36100K .......... .......... .......... .......... .......... 89% 10.5M 0s\n",
      " 36150K .......... .......... .......... .......... .......... 89%  222M 0s\n",
      " 36200K .......... .......... .......... .......... .......... 90%  134M 0s\n",
      " 36250K .......... .......... .......... .......... .......... 90%  209M 0s\n",
      " 36300K .......... .......... .......... .......... .......... 90% 9.43M 0s\n",
      " 36350K .......... .......... .......... .......... .......... 90% 73.6M 0s\n",
      " 36400K .......... .......... .......... .......... .......... 90%  446M 0s\n",
      " 36450K .......... .......... .......... .......... .......... 90% 15.1M 0s\n",
      " 36500K .......... .......... .......... .......... .......... 90%  136M 0s\n",
      " 36550K .......... .......... .......... .......... .......... 90%  242M 0s\n",
      " 36600K .......... .......... .......... .......... .......... 91% 74.2M 0s\n",
      " 36650K .......... .......... .......... .......... .......... 91% 15.1M 0s\n",
      " 36700K .......... .......... .......... .......... .......... 91%  140M 0s\n",
      " 36750K .......... .......... .......... .......... .......... 91%  335M 0s\n",
      " 36800K .......... .......... .......... .......... .......... 91%  209M 0s\n",
      " 36850K .......... .......... .......... .......... .......... 91% 9.24M 0s\n",
      " 36900K .......... .......... .......... .......... .......... 91%  199M 0s\n",
      " 36950K .......... .......... .......... .......... .......... 91%  341M 0s\n",
      " 37000K .......... .......... .......... .......... .......... 92% 10.3M 0s\n",
      " 37050K .......... .......... .......... .......... .......... 92%  217M 0s\n",
      " 37100K .......... .......... .......... .......... .......... 92%  291M 0s\n",
      " 37150K .......... .......... .......... .......... .......... 92% 9.51M 0s\n",
      " 37200K .......... .......... .......... .......... .......... 92% 7.47M 0s\n",
      " 37250K .......... .......... .......... .......... .......... 92% 8.73M 0s\n",
      " 37300K .......... .......... .......... .......... .......... 92%  118M 0s\n",
      " 37350K .......... .......... .......... .......... .......... 92%  291M 0s\n",
      " 37400K .......... .......... .......... .......... .......... 93%  234M 0s\n",
      " 37450K .......... .......... .......... .......... .......... 93% 17.7M 0s\n",
      " 37500K .......... .......... .......... .......... .......... 93%  248M 0s\n",
      " 37550K .......... .......... .......... .......... .......... 93%  462M 0s\n",
      " 37600K .......... .......... .......... .......... .......... 93%  207M 0s\n",
      " 37650K .......... .......... .......... .......... .......... 93% 9.77M 0s\n",
      " 37700K .......... .......... .......... .......... .......... 93%  258M 0s\n",
      " 37750K .......... .......... .......... .......... .......... 93%  260M 0s\n",
      " 37800K .......... .......... .......... .......... .......... 94% 13.1M 0s\n",
      " 37850K .......... .......... .......... .......... .......... 94% 80.6M 0s\n",
      " 37900K .......... .......... .......... .......... .......... 94%  432M 0s\n",
      " 37950K .......... .......... .......... .......... .......... 94%  402M 0s\n",
      " 38000K .......... .......... .......... .......... .......... 94% 12.4M 0s\n",
      " 38050K .......... .......... .......... .......... .......... 94% 77.1M 0s\n",
      " 38100K .......... .......... .......... .......... .......... 94%  185M 0s\n",
      " 38150K .......... .......... .......... .......... .......... 94% 14.4M 0s\n",
      " 38200K .......... .......... .......... .......... .......... 95%  216M 0s\n",
      " 38250K .......... .......... .......... .......... .......... 95% 75.7M 0s\n",
      " 38300K .......... .......... .......... .......... .......... 95%  221M 0s\n",
      " 38350K .......... .......... .......... .......... .......... 95% 9.73M 0s\n",
      " 38400K .......... .......... .......... .......... .......... 95% 88.5M 0s\n",
      " 38450K .......... .......... .......... .......... .......... 95%  288M 0s\n",
      " 38500K .......... .......... .......... .......... .......... 95%  636M 0s\n",
      " 38550K .......... .......... .......... .......... .......... 95% 14.2M 0s\n",
      " 38600K .......... .......... .......... .......... .......... 95%  159M 0s\n",
      " 38650K .......... .......... .......... .......... .......... 96%  136M 0s\n",
      " 38700K .......... .......... .......... .......... .......... 96% 9.94M 0s\n",
      " 38750K .......... .......... .......... .......... .......... 96%  159M 0s\n",
      " 38800K .......... .......... .......... .......... .......... 96%  209M 0s\n",
      " 38850K .......... .......... .......... .......... .......... 96% 86.3M 0s\n",
      " 38900K .......... .......... .......... .......... .......... 96% 16.5M 0s\n",
      " 38950K .......... .......... .......... .......... .......... 96%  281M 0s\n",
      " 39000K .......... .......... .......... .......... .......... 96%  201M 0s\n",
      " 39050K .......... .......... .......... .......... .......... 97%  151M 0s\n",
      " 39100K .......... .......... .......... .......... .......... 97% 10.8M 0s\n",
      " 39150K .......... .......... .......... .......... .......... 97%  238M 0s\n",
      " 39200K .......... .......... .......... .......... .......... 97%  260M 0s\n",
      " 39250K .......... .......... .......... .......... .......... 97% 12.4M 0s\n",
      " 39300K .......... .......... .......... .......... .......... 97%  172M 0s\n",
      " 39350K .......... .......... .......... .......... .......... 97%  264M 0s\n",
      " 39400K .......... .......... .......... .......... .......... 97%  298M 0s\n",
      " 39450K .......... .......... .......... .......... .......... 98% 11.2M 0s\n",
      " 39500K .......... .......... .......... .......... .......... 98%  256M 0s\n",
      " 39550K .......... .......... .......... .......... .......... 98%  573M 0s\n",
      " 39600K .......... .......... .......... .......... .......... 98%  620M 0s\n",
      " 39650K .......... .......... .......... .......... .......... 98% 12.8M 0s\n",
      " 39700K .......... .......... .......... .......... .......... 98%  172M 0s\n",
      " 39750K .......... .......... .......... .......... .......... 98%  345M 0s\n",
      " 39800K .......... .......... .......... .......... .......... 98% 10.0M 0s\n",
      " 39850K .......... .......... .......... .......... .......... 99% 69.9M 0s\n",
      " 39900K .......... .......... .......... .......... .......... 99%  122M 0s\n",
      " 39950K .......... .......... .......... .......... .......... 99%  400M 0s\n",
      " 40000K .......... .......... .......... .......... .......... 99% 16.3M 0s\n",
      " 40050K .......... .......... .......... .......... .......... 99%  102M 0s\n",
      " 40100K .......... .......... .......... .......... .......... 99%  450M 0s\n",
      " 40150K .......... .......... .......... .......... .......... 99%  340M 0s\n",
      " 40200K .......... .......... .......... .......... .......... 99% 22.9M 0s\n",
      " 40250K .......... .                                          100%  107M=1.3s\n",
      "\n",
      "Last-modified header missing -- time-stamps turned off.\n",
      "2021-05-19 13:18:45 (29.4 MB/s) - 'hi_hdtb-ud-train.conllu' saved [41227921/41227921]\n",
      "\n"
     ]
    },
    {
     "name": "stderr",
     "output_type": "stream",
     "text": [
      "--2021-05-19 13:18:45--  https://raw.githubusercontent.com/UniversalDependencies/UD_Hindi-HDTB/master/hi_hdtb-ud-test.conllu\n",
      "Resolving raw.githubusercontent.com (raw.githubusercontent.com)... 185.199.111.133, 185.199.108.133, 185.199.110.133, ...\n",
      "Connecting to raw.githubusercontent.com (raw.githubusercontent.com)|185.199.111.133|:443... connected.\n",
      "HTTP request sent, awaiting response... 200 OK\n",
      "Length: 5180998 (4.9M) [text/plain]\n",
      "Saving to: 'hi_hdtb-ud-test.conllu'\n",
      "\n",
      "     0K .......... .......... .......... .......... ..........  0% 10.1M 0s\n",
      "    50K .......... .......... .......... .......... ..........  1% 34.1M 0s\n",
      "   100K .......... .......... .......... .......... ..........  2% 14.1M 0s\n",
      "   150K .......... .......... .......... .......... ..........  3% 29.8M 0s\n",
      "   200K .......... .......... .......... .......... ..........  4% 10.7M 0s\n",
      "   250K .......... .......... .......... .......... ..........  5% 17.5M 0s\n",
      "   300K .......... .......... .......... .......... ..........  6% 39.4M 0s\n",
      "   350K .......... .......... .......... .......... ..........  7% 20.4M 0s\n",
      "   400K .......... .......... .......... .......... ..........  8% 10.9M 0s\n",
      "   450K .......... .......... .......... .......... ..........  9% 23.5M 0s\n",
      "   500K .......... .......... .......... .......... .......... 10% 69.4M 0s\n",
      "   550K .......... .......... .......... .......... .......... 11% 17.6M 0s\n",
      "   600K .......... .......... .......... .......... .......... 12% 10.2M 0s\n",
      "   650K .......... .......... .......... .......... .......... 13% 24.1M 0s\n",
      "   700K .......... .......... .......... .......... .......... 14% 21.4M 0s\n",
      "   750K .......... .......... .......... .......... .......... 15% 21.2M 0s\n",
      "   800K .......... .......... .......... .......... .......... 16% 17.0M 0s\n",
      "   850K .......... .......... .......... .......... .......... 17% 69.6M 0s\n",
      "   900K .......... .......... .......... .......... .......... 18% 15.5M 0s\n",
      "   950K .......... .......... .......... .......... .......... 19% 17.3M 0s\n",
      "  1000K .......... .......... .......... .......... .......... 20% 40.7M 0s\n",
      "  1050K .......... .......... .......... .......... .......... 21% 16.5M 0s\n",
      "  1100K .......... .......... .......... .......... .......... 22% 41.5M 0s\n",
      "  1150K .......... .......... .......... .......... .......... 23% 17.2M 0s\n",
      "  1200K .......... .......... .......... .......... .......... 24% 28.9M 0s\n",
      "  1250K .......... .......... .......... .......... .......... 25% 17.8M 0s\n",
      "  1300K .......... .......... .......... .......... .......... 26% 56.9M 0s\n",
      "  1350K .......... .......... .......... .......... .......... 27% 17.8M 0s\n",
      "  1400K .......... .......... .......... .......... .......... 28% 12.9M 0s\n",
      "  1450K .......... .......... .......... .......... .......... 29% 21.1M 0s\n",
      "  1500K .......... .......... .......... .......... .......... 30% 21.1M 0s\n",
      "  1550K .......... .......... .......... .......... .......... 31% 23.8M 0s\n",
      "  1600K .......... .......... .......... .......... .......... 32%  142M 0s\n",
      "  1650K .......... .......... .......... .......... .......... 33% 20.0M 0s\n",
      "  1700K .......... .......... .......... .......... .......... 34% 13.7M 0s\n",
      "  1750K .......... .......... .......... .......... .......... 35% 36.1M 0s\n",
      "  1800K .......... .......... .......... .......... .......... 36% 19.6M 0s\n",
      "  1850K .......... .......... .......... .......... .......... 37% 34.9M 0s\n",
      "  1900K .......... .......... .......... .......... .......... 38% 53.8M 0s\n",
      "  1950K .......... .......... .......... .......... .......... 39% 19.1M 0s\n",
      "  2000K .......... .......... .......... .......... .......... 40% 18.6M 0s\n",
      "  2050K .......... .......... .......... .......... .......... 41% 9.88M 0s\n",
      "  2100K .......... .......... .......... .......... .......... 42%  164M 0s\n",
      "  2150K .......... .......... .......... .......... .......... 43% 27.0M 0s\n",
      "  2200K .......... .......... .......... .......... .......... 44% 96.9M 0s\n",
      "  2250K .......... .......... .......... .......... .......... 45% 30.1M 0s\n",
      "  2300K .......... .......... .......... .......... .......... 46% 14.3M 0s\n",
      "  2350K .......... .......... .......... .......... .......... 47% 18.4M 0s\n",
      "  2400K .......... .......... .......... .......... .......... 48% 64.8M 0s\n",
      "  2450K .......... .......... .......... .......... .......... 49% 20.0M 0s\n",
      "  2500K .......... .......... .......... .......... .......... 50% 20.8M 0s\n",
      "  2550K .......... .......... .......... .......... .......... 51%  158M 0s\n",
      "  2600K .......... .......... .......... .......... .......... 52% 34.4M 0s\n",
      "  2650K .......... .......... .......... .......... .......... 53% 14.4M 0s\n",
      "  2700K .......... .......... .......... .......... .......... 54%  271M 0s\n",
      "  2750K .......... .......... .......... .......... .......... 55% 15.5M 0s\n",
      "  2800K .......... .......... .......... .......... .......... 56% 27.6M 0s\n",
      "  2850K .......... .......... .......... .......... .......... 57% 24.8M 0s\n",
      "  2900K .......... .......... .......... .......... .......... 58%  301M 0s\n",
      "  2950K .......... .......... .......... .......... .......... 59% 19.2M 0s\n",
      "  3000K .......... .......... .......... .......... .......... 60% 16.0M 0s\n",
      "  3050K .......... .......... .......... .......... .......... 61%  129M 0s\n",
      "  3100K .......... .......... .......... .......... .......... 62% 16.4M 0s\n",
      "  3150K .......... .......... .......... .......... .......... 63% 25.7M 0s\n",
      "  3200K .......... .......... .......... .......... .......... 64%  208M 0s\n",
      "  3250K .......... .......... .......... .......... .......... 65% 11.2M 0s\n",
      "  3300K .......... .......... .......... .......... .......... 66%  210M 0s\n",
      "  3350K .......... .......... .......... .......... .......... 67% 20.3M 0s\n",
      "  3400K .......... .......... .......... .......... .......... 68% 33.9M 0s\n",
      "  3450K .......... .......... .......... .......... .......... 69% 15.2M 0s\n",
      "  3500K .......... .......... .......... .......... .......... 70%  145M 0s\n",
      "  3550K .......... .......... .......... .......... .......... 71% 14.9M 0s\n",
      "  3600K .......... .......... .......... .......... .......... 72%  221M 0s\n",
      "  3650K .......... .......... .......... .......... .......... 73% 25.1M 0s\n",
      "  3700K .......... .......... .......... .......... .......... 74%  140M 0s\n",
      "  3750K .......... .......... .......... .......... .......... 75% 17.7M 0s\n",
      "  3800K .......... .......... .......... .......... .......... 76%  186M 0s\n",
      "  3850K .......... .......... .......... .......... .......... 77% 14.8M 0s\n",
      "  3900K .......... .......... .......... .......... .......... 78% 33.9M 0s\n",
      "  3950K .......... .......... .......... .......... .......... 79% 16.3M 0s\n",
      "  4000K .......... .......... .......... .......... .......... 80%  128M 0s\n",
      "  4050K .......... .......... .......... .......... .......... 81% 17.4M 0s\n",
      "  4100K .......... .......... .......... .......... .......... 82%  175M 0s\n",
      "  4150K .......... .......... .......... .......... .......... 83% 23.4M 0s\n",
      "  4200K .......... .......... .......... .......... .......... 83%  236M 0s\n",
      "  4250K .......... .......... .......... .......... .......... 84% 13.4M 0s\n",
      "  4300K .......... .......... .......... .......... .......... 85%  242M 0s\n",
      "  4350K .......... .......... .......... .......... .......... 86%  154M 0s\n",
      "  4400K .......... .......... .......... .......... .......... 87% 7.85M 0s\n",
      "  4450K .......... .......... .......... .......... .......... 88%  184M 0s\n",
      "  4500K .......... .......... .......... .......... .......... 89% 14.4M 0s\n",
      "  4550K .......... .......... .......... .......... .......... 90%  324M 0s\n",
      "  4600K .......... .......... .......... .......... .......... 91%  145M 0s\n",
      "  4650K .......... .......... .......... .......... .......... 92% 25.1M 0s\n",
      "  4700K .......... .......... .......... .......... .......... 93% 13.3M 0s\n",
      "  4750K .......... .......... .......... .......... .......... 94%  170M 0s\n",
      "  4800K .......... .......... .......... .......... .......... 95% 21.7M 0s\n",
      "  4850K .......... .......... .......... .......... .......... 96%  137M 0s\n",
      "  4900K .......... .......... .......... .......... .......... 97% 28.6M 0s\n",
      "  4950K .......... .......... .......... .......... .......... 98% 20.2M 0s\n",
      "  5000K .......... .......... .......... .......... .......... 99%  167M 0s\n",
      "  5050K .........                                             100%  588M=0.2s\n",
      "\n",
      "Last-modified header missing -- time-stamps turned off.\n",
      "2021-05-19 13:18:46 (24.3 MB/s) - 'hi_hdtb-ud-test.conllu' saved [5180998/5180998]\n",
      "\n"
     ]
    }
   ],
   "source": [
    "!wget -N https://raw.githubusercontent.com/UniversalDependencies/UD_Hindi-HDTB/master/hi_hdtb-ud-train.conllu\n",
    "!wget -N https://raw.githubusercontent.com/UniversalDependencies/UD_Hindi-HDTB/master/hi_hdtb-ud-test.conllu"
   ]
  },
  {
   "cell_type": "code",
   "execution_count": 58,
   "metadata": {},
   "outputs": [
    {
     "name": "stdout",
     "output_type": "stream",
     "text": [
      "13302\n",
      "1684\n",
      "(['यह', 'एशिया', 'की', 'सबसे', 'बड़ी', 'मस्जिदों', 'में', 'से', 'एक', 'है', '।'], ['DET', 'PROPN', 'ADP', 'ADV', 'ADJ', 'NOUN', 'ADP', 'ADP', 'NUM', 'AUX', 'PUNCT'])\n",
      "(['इसके', 'अतिरिक्त', 'गुग्गुल', 'कुंड', ',', 'भीम', 'गुफा', 'तथा', 'भीमशिला', 'भी', 'दर्शनीय', 'स्थल', 'हैं', '।'], ['PRON', 'ADP', 'PROPN', 'PROPN', 'PUNCT', 'PROPN', 'PROPN', 'CCONJ', 'PROPN', 'PART', 'ADJ', 'NOUN', 'AUX', 'PUNCT'])\n"
     ]
    }
   ],
   "source": [
    "hi_dataset_train=CorpusDataset(\"./hi_hdtb-ud-train.conllu\")\n",
    "hi_dataset_test=CorpusDataset(\"./hi_hdtb-ud-test.conllu\")\n",
    "\n",
    "print(len(hi_dataset_train))\n",
    "print(len(hi_dataset_test))\n",
    "print(hi_dataset_train[0])\n",
    "print(hi_dataset_test[0])"
   ]
  },
  {
   "cell_type": "code",
   "execution_count": 59,
   "metadata": {},
   "outputs": [
    {
     "name": "stdout",
     "output_type": "stream",
     "text": [
      "16881\n",
      "['<UNK>', '१.७४', '५३०', 'बुद्धदेव', 'बीएससी', 'सुप्रीमकोर्ट', 'फूलों', 'डोना', 'कैफे', 'फिरोज', 'खिलाफत', 'नोटिस', '५.६', 'वायुसैनिकों', 'कव्वाली']\n",
      "['ADJ', 'VERB', 'PART', 'NOUN', 'PROPN', 'X', 'SCONJ', 'PRON', 'NUM', 'INTJ', 'DET', 'PUNCT', 'CCONJ', 'ADV', 'ADP', 'AUX', '<PAD>']\n"
     ]
    }
   ],
   "source": [
    "tokens = {token for sent,_ in hi_dataset_train for token in sent}\n",
    "idx2token = list(tokens)\n",
    "idx2token.insert(0, '<UNK>')\n",
    "idx2token.append('<PAD>')\n",
    "token2idx = {token:idx for idx, token in enumerate(idx2token)}\n",
    "\n",
    "tags = {tag for _,label in hi_dataset_train for tag in label}\n",
    "idx2tag = list(tags)\n",
    "idx2tag.append('<PAD>')\n",
    "tag2idx = {tag:idx for idx, tag in enumerate(idx2tag)}\n",
    "\n",
    "print(len(idx2token))\n",
    "print(idx2token[:15])\n",
    "print(idx2tag)\n",
    "\n",
    "hi_dataloader_train=DataLoader(dataset=hi_dataset_train,batch_size=100,shuffle=True,num_workers=0,collate_fn=pad_and_encode)\n",
    "hi_dataloader_test=DataLoader(dataset=hi_dataset_test,batch_size=100,shuffle=True,num_workers=0,collate_fn=pad_and_encode)"
   ]
  },
  {
   "cell_type": "code",
   "execution_count": 60,
   "metadata": {},
   "outputs": [
    {
     "name": "stdout",
     "output_type": "stream",
     "text": [
      "tensor([ 6634,   811, 12395,  1215,  7515,  6661,  5925,  1694,  7887, 16880,\n",
      "        16880, 16880, 16880, 16880, 16880, 16880, 16880, 16880, 16880, 16880,\n",
      "        16880, 16880, 16880, 16880, 16880, 16880, 16880, 16880, 16880, 16880,\n",
      "        16880, 16880, 16880, 16880, 16880, 16880, 16880, 16880, 16880, 16880,\n",
      "        16880, 16880, 16880, 16880, 16880, 16880, 16880, 16880, 16880, 16880,\n",
      "        16880])\n",
      "tensor([10,  3, 10,  0,  3, 14,  1, 15, 11, 16, 16, 16, 16, 16, 16, 16, 16, 16,\n",
      "        16, 16, 16, 16, 16, 16, 16, 16, 16, 16, 16, 16, 16, 16, 16, 16, 16, 16,\n",
      "        16, 16, 16, 16, 16, 16, 16, 16, 16, 16, 16, 16, 16, 16, 16])\n",
      "tensor([ 9798,  1694, 12757,  6627,     0,  6062,  8923, 16481,  6504,     0,\n",
      "        14073,  3902,  4282, 14584,     0, 15676,  2236, 13942,  6217, 15491,\n",
      "         1188,  4796,  7887, 16880, 16880, 16880, 16880, 16880, 16880, 16880,\n",
      "        16880, 16880, 16880, 16880, 16880, 16880, 16880, 16880, 16880, 16880,\n",
      "        16880, 16880, 16880, 16880, 16880, 16880, 16880, 16880, 16880, 16880,\n",
      "        16880, 16880, 16880, 16880])\n",
      "tensor([ 3, 15,  6, 10,  3, 14, 10, 13,  0,  3,  0,  1, 14, 14,  3,  1, 14,  3,\n",
      "         1, 15, 15, 15, 11, 16, 16, 16, 16, 16, 16, 16, 16, 16, 16, 16, 16, 16,\n",
      "        16, 16, 16, 16, 16, 16, 16, 16, 16, 16, 16, 16, 16, 16, 16, 16, 16, 16])\n"
     ]
    }
   ],
   "source": [
    "examples=iter(hi_dataloader_train)\n",
    "examples2=iter(hi_dataloader_test)\n",
    "sents,labels=examples.next()\n",
    "sents2,labels2=examples2.next()\n",
    "assert len(sents)==len(labels)\n",
    "assert len(sents2)==len(labels2)\n",
    "batch_size=len(sents)\n",
    "print(sents[0])\n",
    "print(labels[0])\n",
    "print(sents2[0])\n",
    "print(labels2[0])"
   ]
  },
  {
   "cell_type": "code",
   "execution_count": 61,
   "metadata": {},
   "outputs": [
    {
     "data": {
      "image/png": "[encoded data removed]",
      "text/plain": [
       "<Figure size 576x288 with 1 Axes>"
      ]
     },
     "metadata": {
      "needs_background": "light"
     },
     "output_type": "display_data"
    }
   ],
   "source": [
    "l1 = np.asarray([len(sent) for sents,_ in hi_dataloader_train for sent in sents], dtype=np.int32)\n",
    "l2 = np.asarray([len(sent) for sents,_ in hi_dataloader_test for sent in sents], dtype=np.int32)\n",
    "l3 = np.append(l1,l2)\n",
    "plt.figure(figsize=(8, 4))\n",
    "x = np.unique(l3)\n",
    "plt.bar(x, [np.sum(l3==e) for e in x], width=1)\n",
    "plt.xlabel(\"Sentence length\")\n",
    "plt.ylabel(\"# sentences\") \n",
    "plt.show()"
   ]
  },
  {
   "cell_type": "code",
   "execution_count": 36,
   "metadata": {},
   "outputs": [
    {
     "name": "stdout",
     "output_type": "stream",
     "text": [
      "LSTMTagger_new(\n",
      "  (_word_embedding): Embedding(16881, 32, padding_idx=16880)\n",
      "  (_lstm): LSTM(32, 64, batch_first=True)\n",
      "  (_fc): Linear(in_features=64, out_features=16, bias=True)\n",
      ")\n"
     ]
    }
   ],
   "source": [
    "model_hi=LSTMTagger_new(word_embedding_dim=32,                                       \n",
    "                   lstm_hidden_dim=64,                                          \n",
    "                   vocabulary_size=len(token2idx),                              \n",
    "                   tagset_size=len(tag2idx)-1,device=torch.device(\"cuda\" if torch.cuda.is_available() else \"cpu\"))  \n",
    "\n",
    "print(model_hi) "
   ]
  },
  {
   "cell_type": "code",
   "execution_count": 37,
   "metadata": {},
   "outputs": [
    {
     "name": "stderr",
     "output_type": "stream",
     "text": [
      "Epoch 0: 134batch [00:07, 18.32batch/s, accuracy=100, loss=0.0836]                                                     \n",
      "Epoch 1: 134batch [00:07, 17.93batch/s, accuracy=90.2, loss=0.321]                                                     \n",
      "Epoch 2: 134batch [00:07, 17.97batch/s, accuracy=100, loss=0.0661]                                                     \n",
      "Epoch 3: 134batch [00:07, 17.96batch/s, accuracy=98.2, loss=0.0624]                                                    \n",
      "Epoch 4: 134batch [00:07, 17.83batch/s, accuracy=98.1, loss=0.0634]                                                    \n",
      "Epoch 5: 134batch [00:07, 17.99batch/s, accuracy=100, loss=0.0592]                                                     \n",
      "Epoch 6: 134batch [00:07, 17.95batch/s, accuracy=100, loss=0.0302]                                                     \n",
      "Epoch 7: 134batch [00:07, 17.64batch/s, accuracy=100, loss=0.0214]                                                     \n",
      "Epoch 8: 134batch [00:08, 16.33batch/s, accuracy=100, loss=0.0219]                                                     \n",
      "Epoch 9: 134batch [00:07, 17.75batch/s, accuracy=100, loss=0.012]                                                      \n"
     ]
    }
   ],
   "source": [
    "model_hi.fit(hi_dataloader_train,0.01,10) "
   ]
  },
  {
   "cell_type": "code",
   "execution_count": 38,
   "metadata": {},
   "outputs": [
    {
     "data": {
      "text/plain": [
       "93.53090601185437"
      ]
     },
     "execution_count": 38,
     "metadata": {},
     "output_type": "execute_result"
    }
   ],
   "source": [
    "model_hi.score(hi_dataloader_test)"
   ]
  },
  {
   "cell_type": "code",
   "execution_count": 39,
   "metadata": {},
   "outputs": [
    {
     "name": "stdout",
     "output_type": "stream",
     "text": [
      "LSTMTagger_new(\n",
      "  (_word_embedding): Embedding(16881, 40, padding_idx=16880)\n",
      "  (_lstm): LSTM(40, 80, batch_first=True)\n",
      "  (_fc): Linear(in_features=80, out_features=16, bias=True)\n",
      ")\n"
     ]
    }
   ],
   "source": [
    "model_hi2=LSTMTagger_new(word_embedding_dim=40,                                       \n",
    "                   lstm_hidden_dim=80,                                          \n",
    "                   vocabulary_size=len(token2idx),                              \n",
    "                   tagset_size=len(tag2idx)-1,device=torch.device(\"cuda\" if torch.cuda.is_available() else \"cpu\"))  \n",
    "\n",
    "print(model_hi2) "
   ]
  },
  {
   "cell_type": "code",
   "execution_count": 40,
   "metadata": {},
   "outputs": [
    {
     "name": "stderr",
     "output_type": "stream",
     "text": [
      "Epoch 0: 134batch [00:07, 18.66batch/s, accuracy=96.7, loss=0.167]                                                     \n",
      "Epoch 1: 134batch [00:08, 16.35batch/s, accuracy=96.8, loss=0.118]                                                     \n",
      "Epoch 2: 134batch [00:08, 15.57batch/s, accuracy=98.7, loss=0.0606]                                                    \n",
      "Epoch 3: 134batch [00:07, 17.13batch/s, accuracy=97.4, loss=0.215]                                                     \n",
      "Epoch 4: 134batch [00:07, 17.29batch/s, accuracy=100, loss=0.00539]                                                    \n",
      "Epoch 5: 134batch [00:07, 17.29batch/s, accuracy=95.7, loss=0.0622]                                                    \n",
      "Epoch 6: 134batch [00:07, 17.37batch/s, accuracy=90.5, loss=0.284]                                                     \n",
      "Epoch 7: 134batch [00:07, 17.37batch/s, accuracy=93.8, loss=0.191]                                                     \n",
      "Epoch 8: 134batch [00:07, 17.32batch/s, accuracy=100, loss=0.0211]                                                     \n",
      "Epoch 9: 134batch [00:07, 17.36batch/s, accuracy=100, loss=0.0198]                                                     \n"
     ]
    }
   ],
   "source": [
    "model_hi2.fit(hi_dataloader_train,0.01,10) "
   ]
  },
  {
   "cell_type": "code",
   "execution_count": 41,
   "metadata": {},
   "outputs": [
    {
     "data": {
      "text/plain": [
       "91.65678803274061"
      ]
     },
     "execution_count": 41,
     "metadata": {},
     "output_type": "execute_result"
    }
   ],
   "source": [
    "model_hi2.score(hi_dataloader_test)"
   ]
  },
  {
   "cell_type": "markdown",
   "metadata": {},
   "source": [
    "## Extension 8  Compare the Performance of Japanese Corpus with UD tag sets  to it with Japanese specific tag sets\n",
    "If I wanna load the  Corpus with its specific tagsets then I need a new dataset class to parse the xpos tag items where stores Japanese specific tag sets"
   ]
  },
  {
   "cell_type": "code",
   "execution_count": 5,
   "metadata": {},
   "outputs": [],
   "source": [
    "class CorpusDataset2(Dataset):\n",
    "\n",
    "    def __init__(self,source):\n",
    "        conll =pyconll.load_from_file(source) # load the whole data\n",
    "        conll=[sentence for sentence in conll if len(sentence)>2] #remove the short sentences\n",
    "        self.x=[[word.form for word in sentence] for sentence in conll] #get the list of tokens\n",
    "        self.y=[[word.xpos for word in sentence] for sentence in conll] #get the list of tags\n",
    "        self.n_samples=len(conll)\n",
    "    \n",
    "    def __getitem__(self,index):\n",
    "        return self.x[index],self.y[index]\n",
    "    \n",
    "    def __len__(self):\n",
    "        return self.n_samples"
   ]
  },
  {
   "cell_type": "code",
   "execution_count": 12,
   "metadata": {},
   "outputs": [
    {
     "name": "stdout",
     "output_type": "stream",
     "text": [
      "7045\n",
      "542\n",
      "(['ホッケー', 'に', 'は', 'デンジャラス', 'プレー', 'の', '反則', 'が', 'ある', 'の', 'で', '、', '膝', 'より', '上', 'に', 'ボール', 'を', '浮かす', 'こと', 'は', '基本', '的', 'に', '反則', 'に', 'なる', 'が', '、', 'その', '例外', 'の', '一', 'つ', 'が', 'この', 'スクープ', 'で', 'ある', '。'], ['名詞-普通名詞-一般', '助詞-格助詞', '助詞-係助詞', '名詞-普通名詞-一般', '名詞-普通名詞-サ変可能', '助詞-格助詞', '名詞-普通名詞-サ変可能', '助詞-格助詞', '動詞-非自立可能', '助詞-準体助詞', '助動詞', '補助記号-読点', '名詞-普通名詞-一般', '助詞-格助詞', '名詞-普通名詞-副詞可能', '助詞-格助詞', '名詞-普通名詞-一般', '助詞-格助詞', '動詞-一般', '名詞-普通名詞-一般', '助詞-係助詞', '名詞-普通名詞-一般', '接尾辞-形状詞的', '助動詞', '名詞-普通名詞-サ変可能', '助詞-格助詞', '動詞-非自立可能', '助詞-接続助詞', '補助記号-読点', '連体詞', '名詞-普通名詞-一般', '助詞-格助詞', '名詞-数詞', '接尾辞-名詞的-助数詞', '助詞-格助詞', '連体詞', '名詞-普通名詞-サ変可能', '助動詞', '動詞-非自立可能', '補助記号-句点'])\n",
      "(['これ', 'に', '不快', '感', 'を', '示す', '住民', 'は', 'い', 'まし', 'た', 'が', ',', '現在', ',', '表立っ', 'て', '反対', 'や', '抗議', 'の', '声', 'を', '挙げ', 'て', 'いる', '住民', 'は', 'い', 'ない', 'よう', 'です', '。'], ['代名詞', '助詞-格助詞', '名詞-普通名詞-形状詞可能', '名詞-普通名詞-一般', '助詞-格助詞', '動詞-一般', '名詞-普通名詞-一般', '助詞-係助詞', '動詞-非自立可能', '助動詞', '助動詞', '助詞-接続助詞', '補助記号-読点', '名詞-普通名詞-副詞可能', '補助記号-読点', '動詞-一般', '助詞-接続助詞', '名詞-普通名詞-サ変形状詞可能', '助詞-副助詞', '名詞-普通名詞-サ変可能', '助詞-格助詞', '名詞-普通名詞-一般', '助詞-格助詞', '動詞-非自立可能', '助詞-接続助詞', '動詞-非自立可能', '名詞-普通名詞-一般', '助詞-係助詞', '動詞-非自立可能', '助動詞', '形状詞-助動詞語幹', '助動詞', '補助記号-句点'])\n"
     ]
    }
   ],
   "source": [
    "ja_dataset_train2=CorpusDataset2(\"./ja_gsd-ud-train.conllu\")\n",
    "ja_dataset_test2=CorpusDataset2(\"./ja_gsd-ud-test.conllu\")\n",
    "\n",
    "print(len(ja_dataset_train2))\n",
    "print(len(ja_dataset_test2))\n",
    "print(ja_dataset_train2[0])\n",
    "print(ja_dataset_test2[0])"
   ]
  },
  {
   "cell_type": "code",
   "execution_count": 13,
   "metadata": {},
   "outputs": [
    {
     "name": "stdout",
     "output_type": "stream",
     "text": [
      "20177\n",
      "['<UNK>', '行ける', 'オープン', '小柄', '多賀', '恐れる', 'シンプル', 'コーヒー', 'こげ', '傭兵', '該当', 'オフコン', '膨大', '六合', 'インター']\n",
      "['接尾辞-形状詞的', '名詞-普通名詞-一般', '名詞-普通名詞-副詞可能', '接尾辞-名詞的-副詞可能', '名詞-固有名詞-地名-国', '形状詞-助動詞語幹', '名詞-固有名詞-人名-名', '形状詞-一般', '代名詞', '補助記号-読点', '助詞-接続助詞', '名詞-数詞', '副詞', '助動詞', '名詞-普通名詞-形状詞可能', '名詞-固有名詞-人名-姓', '形容詞-非自立可能', '接尾辞-形容詞的', '記号-文字', '助詞-副助詞', '感動詞-フィラー', '名詞-固有名詞-一般', '補助記号-括弧開', '動詞-一般', '接尾辞-名詞的-サ変可能', '形状詞-タリ', '補助記号-括弧閉', '接続詞', '形容詞-一般', '名詞-助動詞語幹', '接尾辞-動詞的', '助詞-係助詞', '接尾辞-名詞的-一般', '連体詞', '接尾辞-名詞的-助数詞', '名詞-普通名詞-サ変形状詞可能', '名詞-普通名詞-助数詞可能', '絵文字・記号等', '接頭辞', '動詞-非自立可能', '感動詞-一般', '外国語', '名詞-固有名詞-人名-一般', '名詞-普通名詞-サ変可能', '記号-一般', '補助記号-一般', '助詞-格助詞', '補助記号-句点', '名詞-固有名詞-地名-一般', '助詞-終助詞', '助詞-準体助詞', '<PAD>']\n"
     ]
    }
   ],
   "source": [
    "tokens = {token for sent,_ in ja_dataset_train2 for token in sent}\n",
    "idx2token = list(tokens)\n",
    "idx2token.insert(0, '<UNK>')\n",
    "idx2token.append('<PAD>')\n",
    "token2idx = {token:idx for idx, token in enumerate(idx2token)}\n",
    "\n",
    "tags = {tag for _,label in ja_dataset_train2 for tag in label}\n",
    "idx2tag = list(tags)\n",
    "idx2tag.append('<PAD>')\n",
    "tag2idx = {tag:idx for idx, tag in enumerate(idx2tag)}\n",
    "\n",
    "print(len(idx2token))\n",
    "print(idx2token[:15])\n",
    "print(idx2tag)\n",
    "\n",
    "\n",
    "ja_dataloader_train2=DataLoader(dataset=ja_dataset_train2,batch_size=100,shuffle=True,num_workers=0,collate_fn=pad_and_encode)\n",
    "ja_dataloader_test2=DataLoader(dataset=ja_dataset_test2,batch_size=100,shuffle=True,num_workers=0,collate_fn=pad_and_encode)"
   ]
  },
  {
   "cell_type": "code",
   "execution_count": 16,
   "metadata": {},
   "outputs": [
    {
     "name": "stdout",
     "output_type": "stream",
     "text": [
      "tensor([ 3111,  8122,  2254,   424, 19567,  8293, 12242,  7390,  1696,  3468,\n",
      "        19106,  9970,  7712, 14398,  3144, 10258,  7969, 16122,  7991,  7240,\n",
      "         9851, 10258,  8582,  7890, 14398,  2298, 10258,  6629,  1373, 14077,\n",
      "         3144, 10258,  7969,  1318, 14398,  2298, 10258, 15556,  1373, 14077,\n",
      "        11485, 12845, 14628, 12242, 18972,  6034, 14628, 13106, 19106, 15438,\n",
      "        20176, 20176, 20176, 20176, 20176, 20176, 20176, 20176, 20176, 20176,\n",
      "        20176, 20176, 20176, 20176, 20176, 20176, 20176, 20176, 20176, 20176,\n",
      "        20176, 20176, 20176, 20176, 20176, 20176, 20176, 20176, 20176, 20176,\n",
      "        20176, 20176, 20176, 20176])\n",
      "tensor([11, 36, 46,  4,  1, 46, 43, 46, 43, 39, 13,  1, 32, 13,  9, 18, 11,  1,\n",
      "        27,  1,  1, 18, 11,  1, 46, 31, 18, 11,  1,  1,  9, 18, 11,  1, 46, 31,\n",
      "        18, 11,  1,  1, 46, 23, 10, 43, 39, 13, 10, 39, 13, 47, 51, 51, 51, 51,\n",
      "        51, 51, 51, 51, 51, 51, 51, 51, 51, 51, 51, 51, 51, 51, 51, 51, 51, 51,\n",
      "        51, 51, 51, 51, 51, 51, 51, 51, 51, 51, 51, 51])\n",
      "tensor([14291,  3144,     0, 11485,  2298,     0, 11485,     0, 14398,  6849,\n",
      "            0,  8293, 17952,  5531, 15438, 20176, 20176, 20176, 20176, 20176,\n",
      "        20176, 20176, 20176, 20176, 20176, 20176, 20176, 20176, 20176, 20176,\n",
      "        20176, 20176, 20176, 20176, 20176, 20176, 20176, 20176, 20176, 20176,\n",
      "        20176, 20176, 20176, 20176, 20176, 20176, 20176, 20176, 20176, 20176,\n",
      "        20176, 20176, 20176, 20176, 20176, 20176, 20176, 20176, 20176, 20176,\n",
      "        20176, 20176, 20176, 20176, 20176, 20176, 20176, 20176, 20176, 20176,\n",
      "        20176, 20176, 20176, 20176, 20176, 20176, 20176, 20176, 20176, 20176,\n",
      "        20176, 20176, 20176, 20176, 20176])\n",
      "tensor([27,  9,  2, 46, 31,  1, 46,  1, 46,  1,  1, 46, 23, 13, 47, 51, 51, 51,\n",
      "        51, 51, 51, 51, 51, 51, 51, 51, 51, 51, 51, 51, 51, 51, 51, 51, 51, 51,\n",
      "        51, 51, 51, 51, 51, 51, 51, 51, 51, 51, 51, 51, 51, 51, 51, 51, 51, 51,\n",
      "        51, 51, 51, 51, 51, 51, 51, 51, 51, 51, 51, 51, 51, 51, 51, 51, 51, 51,\n",
      "        51, 51, 51, 51, 51, 51, 51, 51, 51, 51, 51, 51, 51])\n"
     ]
    }
   ],
   "source": [
    "examples=iter(ja_dataloader_train2)\n",
    "examples2=iter(ja_dataloader_test2)\n",
    "sents,labels=examples.next()\n",
    "sents2,labels2=examples2.next()\n",
    "assert len(sents)==len(labels)\n",
    "assert len(sents2)==len(labels2)\n",
    "batch_size=len(sents)\n",
    "print(sents[0])\n",
    "print(labels[0])\n",
    "print(sents2[0])\n",
    "print(labels2[0])"
   ]
  },
  {
   "cell_type": "code",
   "execution_count": 71,
   "metadata": {},
   "outputs": [
    {
     "name": "stdout",
     "output_type": "stream",
     "text": [
      "LSTMTagger_new(\n",
      "  (_word_embedding): Embedding(20177, 32, padding_idx=20176)\n",
      "  (_lstm): LSTM(32, 64, batch_first=True)\n",
      "  (_fc): Linear(in_features=64, out_features=51, bias=True)\n",
      ")\n"
     ]
    }
   ],
   "source": [
    "model_ja_sp=LSTMTagger_new(word_embedding_dim=32,                                       \n",
    "                   lstm_hidden_dim=64,                                          \n",
    "                   vocabulary_size=len(token2idx),                              \n",
    "                   tagset_size=len(tag2idx)-1,device=torch.device(\"cuda\" if torch.cuda.is_available() else \"cpu\"))  \n",
    "\n",
    "print(model_ja_sp) "
   ]
  },
  {
   "cell_type": "code",
   "execution_count": 72,
   "metadata": {},
   "outputs": [
    {
     "name": "stderr",
     "output_type": "stream",
     "text": [
      "Epoch 0: 71batch [00:03, 20.74batch/s, accuracy=75.3, loss=0.867]                                                      \n",
      "Epoch 1: 71batch [00:04, 17.08batch/s, accuracy=89.3, loss=0.472]                                                      \n",
      "Epoch 2: 71batch [00:04, 14.73batch/s, accuracy=91.2, loss=0.332]                                                      \n",
      "Epoch 3: 71batch [00:04, 15.07batch/s, accuracy=94, loss=0.243]                                                        \n",
      "Epoch 4: 71batch [00:04, 15.23batch/s, accuracy=96.2, loss=0.164]                                                      \n",
      "Epoch 5: 71batch [00:04, 15.22batch/s, accuracy=97.9, loss=0.0869]                                                     \n",
      "Epoch 6: 71batch [00:04, 15.23batch/s, accuracy=98.1, loss=0.0775]                                                     \n",
      "Epoch 7: 71batch [00:04, 15.31batch/s, accuracy=99.1, loss=0.0466]                                                     \n",
      "Epoch 8: 71batch [00:04, 14.97batch/s, accuracy=98.6, loss=0.0534]                                                     \n",
      "Epoch 9: 71batch [00:04, 14.65batch/s, accuracy=99.2, loss=0.0323]                                                     \n"
     ]
    }
   ],
   "source": [
    "model_ja_sp.fit(ja_dataloader_train2,0.01,10)"
   ]
  },
  {
   "cell_type": "code",
   "execution_count": 73,
   "metadata": {},
   "outputs": [
    {
     "data": {
      "text/plain": [
       "93.76151012891344"
      ]
     },
     "execution_count": 73,
     "metadata": {},
     "output_type": "execute_result"
    }
   ],
   "source": [
    "model_ja_sp.score(ja_dataloader_test2)"
   ]
  },
  {
   "cell_type": "markdown",
   "metadata": {},
   "source": [
    "## Visualization for test accuracy performance of Arabic Corpus on LSTM variables"
   ]
  },
  {
   "cell_type": "code",
   "execution_count": 26,
   "metadata": {},
   "outputs": [],
   "source": [
    "import pandas as pd\n",
    "import matplotlib.pyplot as plt\n",
    "import seaborn as sns"
   ]
  },
  {
   "cell_type": "code",
   "execution_count": 58,
   "metadata": {},
   "outputs": [
    {
     "name": "stdout",
     "output_type": "stream",
     "text": [
      "  Variables on LSTM  Accuracy\n",
      "0              LSTM     0.903\n",
      "1               GRU     0.910\n",
      "2           Bi-LSTM     0.933\n",
      "3          Drop_out     0.918\n",
      "4      Weight_decay     0.921\n",
      "5          Data_aug     0.912\n"
     ]
    }
   ],
   "source": [
    "dict1={\"Variables on LSTM\":[\"LSTM\",\"GRU\",\"Bi-LSTM\",\"Drop_out\",\"Weight_decay\",\"Data_aug\"],\"Accuracy\":[0.903,0.91,0.933,0.918,0.921,0.912]}\n",
    "df1=pd.DataFrame.from_dict(dict1)\n",
    "print(df1)"
   ]
  },
  {
   "cell_type": "code",
   "execution_count": 59,
   "metadata": {},
   "outputs": [
    {
     "data": {
      "image/png": "[encoded data removed]",
      "text/plain": [
       "<Figure size 576x288 with 1 Axes>"
      ]
     },
     "metadata": {},
     "output_type": "display_data"
    }
   ],
   "source": [
    "plt.figure(figsize=(8,4))\n",
    "sns.set_theme(style=\"whitegrid\")\n",
    "sns.barplot(data=df1,x=\"Variables on LSTM\",y=\"Accuracy\").set_title(\"Test accuracy with LSTM variables on Arabic Corpus\")\n",
    "plt.ylim([0.9,0.95])\n",
    "plt.show()"
   ]
  },
  {
   "cell_type": "markdown",
   "metadata": {},
   "source": [
    "## Visualization for test accuracy performance of 11 languages on original LSTM model between 2 embedding and hidden state dimensions"
   ]
  },
  {
   "cell_type": "code",
   "execution_count": 60,
   "metadata": {},
   "outputs": [
    {
     "name": "stdout",
     "output_type": "stream",
     "text": [
      "   language em_hid_dim  accuracy\n",
      "0        ar      32/64     0.903\n",
      "1        zh      32/64     0.839\n",
      "2        en      32/64     0.831\n",
      "3        el      32/64     0.881\n",
      "4        es      32/64     0.935\n",
      "5        ko      32/64     0.706\n",
      "6        ja      32/64     0.926\n",
      "7        sv      32/64     0.858\n",
      "8        hu      32/64     0.718\n",
      "9        he      32/64     0.855\n",
      "10       hi      32/64     0.935\n",
      "11       ar      40/80     0.914\n",
      "12       zh      40/80     0.844\n",
      "13       en      40/80     0.844\n",
      "14       el      40/80     0.888\n",
      "15       es      40/80     0.944\n",
      "16       ko      40/80     0.769\n",
      "17       ja      40/80     0.928\n",
      "18       sv      40/80     0.864\n",
      "19       hu      40/80     0.721\n",
      "20       he      40/80     0.884\n",
      "21       hi      40/80     0.916\n"
     ]
    }
   ],
   "source": [
    "dict2={\"language\":[\"ar\",\"zh\",\"en\",\"el\",\"es\",\"ko\",\"ja\",\"sv\",\"hu\",\"he\",\"hi\"]*2,\"em_hid_dim\":[\"32/64\"]*11+[\"40/80\"]*11,\n",
    "      \"accuracy\":[0.903,0.839,0.831,0.881,0.935,0.706,0.926,0.858,0.718,0.855,0.935,0.914,0.844,0.844,0.888,0.944,0.769,0.928,0.864,0.721,0.884,0.916]}\n",
    "\n",
    "df2=pd.DataFrame.from_dict(dict2)\n",
    "print(df2)"
   ]
  },
  {
   "cell_type": "code",
   "execution_count": 61,
   "metadata": {},
   "outputs": [
    {
     "data": {
      "image/png": "[encoded data removed]",
      "text/plain": [
       "<Figure size 576x288 with 1 Axes>"
      ]
     },
     "metadata": {},
     "output_type": "display_data"
    }
   ],
   "source": [
    "plt.figure(figsize=(8,4))\n",
    "sns.set_theme(style=\"whitegrid\")\n",
    "ax=sns.barplot(data=df2,x=\"language\",y=\"accuracy\",hue=\"em_hid_dim\",palette=[\"salmon\",\"green\"])\n",
    "plt.ylim([0.7,0.95])\n",
    "plt.show()"
   ]
  },
  {
   "cell_type": "markdown",
   "metadata": {},
   "source": [
    "## Visualization for test accuracy performance of Japanese corpus between UD tag sets and Japanese specific tag sets"
   ]
  },
  {
   "cell_type": "code",
   "execution_count": 91,
   "metadata": {},
   "outputs": [
    {
     "name": "stdout",
     "output_type": "stream",
     "text": [
      "        Tag  Accuracy\n",
      "0        UD     0.928\n",
      "1  Specific     0.937\n"
     ]
    }
   ],
   "source": [
    "dict3={\"Tag\":[\"UD\",\"Specific\"],\"Accuracy\":[0.928,0.937]}\n",
    "df3=pd.DataFrame.from_dict(dict3)\n",
    "print(df3)"
   ]
  },
  {
   "cell_type": "code",
   "execution_count": 97,
   "metadata": {},
   "outputs": [
    {
     "data": {
      "image/png": "[encoded data removed]",
      "text/plain": [
       "<Figure size 576x144 with 1 Axes>"
      ]
     },
     "metadata": {},
     "output_type": "display_data"
    }
   ],
   "source": [
    "plt.figure(figsize=(8,2))\n",
    "sns.set_theme(style=\"whitegrid\")\n",
    "sns.barplot(data=df3,x=\"Accuracy\",y=\"Tag\",palette=[\"salmon\",\"green\"]).set_title(\"Test accuracy between UD tag sets and Japanese specific tag sets\",)\n",
    "plt.xlim([0.9,0.95])\n",
    "plt.show()"
   ]
  }
 ],
 "metadata": {
  "accelerator": "GPU",
  "colab": {
   "collapsed_sections": [],
   "name": "Assignment 3 - Evaluating and extending an RNN based POS tagger.ipynb",
   "provenance": []
  },
  "kernelspec": {
   "display_name": "Python 3",
   "language": "python",
   "name": "python3"
  },
  "language_info": {
   "codemirror_mode": {
    "name": "ipython",
    "version": 3
   },
   "file_extension": ".py",
   "mimetype": "text/x-python",
   "name": "python",
   "nbconvert_exporter": "python",
   "pygments_lexer": "ipython3",
   "version": "3.8.5"
  }
 },
 "nbformat": 4,
 "nbformat_minor": 1
}
