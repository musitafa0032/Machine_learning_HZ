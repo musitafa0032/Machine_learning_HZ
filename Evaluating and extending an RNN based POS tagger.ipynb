{
 "cells": [
  {
   "cell_type": "markdown",
   "metadata": {
    "id": "GgPqt4p1y36p"
   },
   "source": [
    "# Assignment 3: Evaluating and extending an RNN based POS tagger\n",
    " \n",
    "*version 2021.2, details/bugs might be fixed within the first week of publication, you will be notified if this happens*\n",
    " \n",
    "When solving a new problem (or an old problem on a new data set), there are often some \"shoulders of giants\" to stand on. The first step is to look at the best papers and try to download someone's code for solving a similar problem to the one you are faced with. The challenge is as much about understanding and adapting already existing code as it is about theoretical knowledge and creativity.\n",
    " \n",
    "For this assignment, you start with a working pipeline for POS tagging using LSTMs and mini-batch training. Your task is to evaluate the model on a number of sources in different languages. The neural model represents the data's tokens as non-pretrained embedding vectors. The sequences of embedding vectors are passed through a LSTM layer. The outputs from the recurrent layer are then transformed to probabilities over POS tags by passing them through a fully connected layer and a softmax. You will have to refactor (i.e. rearrange the code) and extend the model by adding some commonly used properties, e.g. the RNN layer type or regularization (see the list of suggestions below).\n",
    " \n",
    "The familiar Brown corpus is used for the reference implementation. This corpus should not be used in your submission.\n",
    "\n",
    "## Submission\n",
    " \n",
    "Please submit your code as a notebook through studium. You should include the following:\n",
    " \n",
    "1. A working implementation of your pipeline, reproducing your principal results when run. Please ensure that outputs are stored in the notebook (preferably by rerunning your notebook as the last thing you do before submitting).\n",
    "2. Comment the code properly, especially for longer or opaque functionality. Please try to write self documenting code (e.g. by choosing descriptive variables names, refactoring to isolate functionality, and by minimizing code duplication).\n",
    "4. Comments on what you thought was hard in the assignment, what you think was educational, what took most time, and which parts might be unnecessarily tricky.\n",
    "5. As the submission is anonymous, **all personal information must be removed**.\n",
    "6. Apart from sections and titles, please remove all unnecessary text and code from the notebook you hand in. Keep only that which strengthens the case that you fulfil the listed requirements.\n",
    "\n",
    "\n",
    "## Requirements for grade G\n",
    "\n",
    "To achieve a pass (G) on this assignment, you must solve the following tasks without serious errors.\n",
    "\n",
    "1. Extend the given model in at least three of the ways listed in the *extensions* section. State clearly which ones you have implemented.\n",
    "2. Include a short (250-500 words) qualitative analysis in your submission. Discuss the performance difference between languages/genres and design choices. You can spread this in the notebook or put them in one place.\n",
    "3. Refactor the given model as a class (including relevant preprocessing, forward/backward pass etc). Your model class should follow the sklearn API where possible.\n",
    "4. Not all languages require the same model complexity for POS tagging. Some might need a higher dimensionality for the embedding or layers for the model to perform well. Briefly explore the relation between model complexity and accuracy?\n",
    "5. In your quantitative evaluation, use some genre of text in three languages from the [universal dependencies](https://universaldependencies.org/) project (UD). These will be in the familiar `.conllu` format. Parse the files to get the words (not lemmas).\n",
    "6. Network accuracy for one model doesn't say much about how well a model performs. Define a baseline accuracy and compare your results to it.\n",
    "\n",
    "\n",
    "### Additional requirements for grade VG\n",
    "\n",
    "For a pass with distinction grade (VG), you should extend your analysis to include all the items under *extensions*. State clearly which ones you have done.\n",
    "\n",
    "\n",
    "### Extensions \n",
    " \n",
    "1. There are other types of RNNs layers commonly used in NLP. Add the option to use a GRU layer instead of LSTM, and include this in your performance comparison.\n",
    "2. The given implementation only allows for dependencies from left to right. Add the option to use a bi-directional RNN layer.\n",
    "3. Use pyTorch's `Dataset` and `DataLoader` classes for loading the data. [This tutorial](https://pytorch.org/tutorials/beginner/data_loading_tutorial.html) is a good starting point. This should make it easier to loop over data sets.\n",
    "4. Try some type of data augmentation in your training data (e.g. masking random tokens). This should theoretically increase the generalizability of your model. How much augmentation is too much?\n",
    "5. Implement some level of regularization in your model. This can be implemented in several ways, e.g. dropout or weight decay. Briefly argue for the choices you made and show how network preformance might change with the rate of regularization.\n",
    "6. Add more sources. You can both add sources with different genres and/or more languages. A suggestion is to try how languages with very different levels of morphological richness (e.g. English vs Finish) requires more or less training data. The total number of sources should be above 10.\n",
    "7. Comment on shortcomings and how to improve the model in relation to a recent POS tagging paper (a good starting point for searching is [NLP-progress](http://nlpprogress.com/).\n",
    "10. Compare performace using UD's universal vs language specific tag sets.\n",
    "\n",
    "*Note that trying all combinations of the extensions is not required. It is enough to do some structured testing of extensions and then, for example, go on to compare the tag sets on the best model configuration. This is an exercise in extending and evaluating a model, not in finding the patience to wait for your computer to finish grid searching over alternatives.*\n",
    "\n",
    "\n",
    "## General advice\n",
    "\n",
    "The task is to predict, for an unseen review, whether it is positive or negative. This is a binary classification task. Work from the given code and change one piece at a time, ensuring functionality throughout your work. You should test your code every couple of lines to make sure your assumptions on functionality and variable content is correct. A good rule of thumb is that a coder will introduce a bug every five lines (even as a professional).\n",
    "\n",
    "To make sure your code does what it is supposed to do, use ```assert``` statements to check your assumptions. Keep the given asserts if you need them. Professional coders sometimes start with writing tests for some functionality instead of starting with the functionality itself. This is called *test-driven development*.\n",
    "\n",
    "Finally, remember the great motto **RTFM**. It will save you in the future.\n",
    "\n",
    "\n",
    "## Plagiarism\n",
    " \n",
    "In code assignments, plagiarism is a tricky concept. A clean cut way would be to demand that you write all the code yourself, from memory, with only the assigned literature as help. This is not how code is developed professionally. It is common to copy and share. However, since this is a learning exercise, you must implement everything on your own, but please look at the course repo, Stack Overflow etc. Moreover, discuss with course mates and TAs to find inspiration and solutions. Code that is *obviously* copied (with minor modifications) will be considered as plagiarized. As a part of the examination, you might be asked to explain any particular part of the functionality in your implementation."
   ]
  },
  {
   "cell_type": "markdown",
   "metadata": {},
   "source": [
    "# In my assignment I will implement 3 extensions below.\n",
    "1. There are other types of RNNs layers commonly used in NLP. Add the option to use a GRU layer instead of LSTM, and include this in your performance comparison.\n",
    "2. The given implementation only allows for dependencies from left to right. Add the option to use a bi-directional RNN layer.\n",
    "3. Use pyTorch's Dataset and DataLoader classes for loading the data"
   ]
  },
  {
   "cell_type": "code",
   "execution_count": 6,
   "metadata": {
    "id": "qDDstzhwztQS"
   },
   "outputs": [],
   "source": [
    "# Our standard imports for maths and basic methodology\n",
    "import numpy as np\n",
    "from sklearn.model_selection import train_test_split\n",
    "\n",
    "# For user feedback\n",
    "from tqdm import tqdm\n",
    "import matplotlib.pyplot as plt\n",
    "\n",
    "# Imports for pytorch\n",
    "import torch\n",
    "import torch.nn as nn"
   ]
  },
  {
   "cell_type": "markdown",
   "metadata": {
    "id": "Okj6Den-4-Wd"
   },
   "source": [
    "Let's see if we have a GPU."
   ]
  },
  {
   "cell_type": "code",
   "execution_count": 2,
   "metadata": {
    "colab": {
     "base_uri": "https://localhost:8080/"
    },
    "id": "nYGiUxG746pz",
    "outputId": "b38febd6-e797-4154-ace3-1ab4d2d213e3"
   },
   "outputs": [
    {
     "name": "stdout",
     "output_type": "stream",
     "text": [
      "GeForce MX250\n"
     ]
    }
   ],
   "source": [
    "if torch.cuda.is_available():\n",
    "    for i in range(torch.cuda.device_count()):\n",
    "        print(torch.cuda.get_device_name(i))\n",
    "else:\n",
    "    print(\"No GPU available\")"
   ]
  },
  {
   "cell_type": "markdown",
   "metadata": {
    "id": "hO0m41-MzJRc"
   },
   "source": [
    "## Load tagging data\n",
    "\n",
    "The following downloads the [Brown corpus](https://en.wikipedia.org/wiki/Brown_Corpus). This data is only here to demonstrate the network below."
   ]
  },
  {
   "cell_type": "code",
   "execution_count": 2,
   "metadata": {
    "colab": {
     "base_uri": "https://localhost:8080/"
    },
    "id": "l67a4Qnr5ac7",
    "outputId": "2c388dcd-0d91-4f6b-81b7-ad42e9545828"
   },
   "outputs": [
    {
     "name": "stderr",
     "output_type": "stream",
     "text": [
      "[nltk_data] Error loading brown: <urlopen error [Errno 11001]\n",
      "[nltk_data]     getaddrinfo failed>\n",
      "[nltk_data] Error loading universal_tagset: <urlopen error [Errno\n",
      "[nltk_data]     11001] getaddrinfo failed>\n"
     ]
    },
    {
     "name": "stdout",
     "output_type": "stream",
     "text": [
      "Loaded 56283 sentences\n",
      "[('The', 'DET'), ('Fulton', 'NOUN'), ('County', 'NOUN'), ('Grand', 'ADJ'), ('Jury', 'NOUN'), ('said', 'VERB'), ('Friday', 'NOUN'), ('an', 'DET'), ('investigation', 'NOUN'), ('of', 'ADP'), (\"Atlanta's\", 'NOUN'), ('recent', 'ADJ'), ('primary', 'NOUN'), ('election', 'NOUN'), ('produced', 'VERB'), ('``', '.'), ('no', 'DET'), ('evidence', 'NOUN'), (\"''\", '.'), ('that', 'ADP'), ('any', 'DET'), ('irregularities', 'NOUN'), ('took', 'VERB'), ('place', 'NOUN'), ('.', '.')]\n"
     ]
    }
   ],
   "source": [
    "import nltk\n",
    "nltk.download('brown')\n",
    "from nltk.corpus import brown\n",
    "nltk.download('universal_tagset')\n",
    "\n",
    "sentences = brown.tagged_sents(tagset='universal')                        # Load the data\n",
    "sentences = [sentence for sentence in sentences if len(sentence) > 2]     # Remove very short sentences\n",
    "\n",
    "print(\"Loaded %i sentences\" % len(sentences))\n",
    "print(sentences[0])"
   ]
  },
  {
   "cell_type": "markdown",
   "metadata": {
    "id": "SOQVXabf6MH9"
   },
   "source": [
    "Preprocessing for the brow corpus. This splits the data into our standard X and y format."
   ]
  },
  {
   "cell_type": "code",
   "execution_count": 4,
   "metadata": {
    "colab": {
     "base_uri": "https://localhost:8080/"
    },
    "id": "9UuA4rJC6Hge",
    "outputId": "782302c2-7159-4a97-b710-38fb2ff32ad1"
   },
   "outputs": [
    {
     "name": "stdout",
     "output_type": "stream",
     "text": [
      "['The', 'Fulton', 'County', 'Grand', 'Jury', 'said', 'Friday', 'an', 'investigation', 'of', \"Atlanta's\", 'recent', 'primary', 'election', 'produced', '``', 'no', 'evidence', \"''\", 'that', 'any', 'irregularities', 'took', 'place', '.']\n",
      "['DET', 'NOUN', 'NOUN', 'ADJ', 'NOUN', 'VERB', 'NOUN', 'DET', 'NOUN', 'ADP', 'NOUN', 'ADJ', 'NOUN', 'NOUN', 'VERB', '.', 'DET', 'NOUN', '.', 'ADP', 'DET', 'NOUN', 'VERB', 'NOUN', '.']\n"
     ]
    }
   ],
   "source": [
    "X = [[token for token, tag in sentence] for sentence in sentences]\n",
    "y = [[tag for token, tag in sentence] for sentence in sentences]\n",
    "\n",
    "assert len(X) == len(y)\n",
    "\n",
    "print(X[0])\n",
    "print(y[0])"
   ]
  },
  {
   "cell_type": "code",
   "execution_count": 7,
   "metadata": {
    "colab": {
     "base_uri": "https://localhost:8080/"
    },
    "id": "0SKxeDs2seHV",
    "outputId": "5d354f88-d764-4f51-c06c-d125ba753f05"
   },
   "outputs": [
    {
     "name": "stdout",
     "output_type": "stream",
     "text": [
      "The training set includes 50654 sentences\n",
      "The test set includes 5629 sentences\n"
     ]
    }
   ],
   "source": [
    "X_train, X_test, y_train, y_test = train_test_split(X, y, test_size=0.1, random_state=0)\n",
    "\n",
    "assert len(X_train) == len(y_train)\n",
    "assert len(X_test) == len(y_test)\n",
    "assert len(X_train)+len(X_test) == len(X)\n",
    "\n",
    "print(\"The training set includes %i sentences\" % len(X_train))\n",
    "print(\"The test set includes %i sentences\" % len(X_test))"
   ]
  },
  {
   "cell_type": "markdown",
   "metadata": {
    "id": "TlL3-sS57GeE"
   },
   "source": [
    "Most sentences are short, but some are very long."
   ]
  },
  {
   "cell_type": "code",
   "execution_count": 8,
   "metadata": {
    "colab": {
     "base_uri": "https://localhost:8080/",
     "height": 279
    },
    "id": "Z25i9_UxtUeR",
    "outputId": "f86bb088-e603-46a9-8610-cbb37a2cdb5e"
   },
   "outputs": [
    {
     "data": {
      "image/png": "[encoded data removed]",
      "text/plain": [
       "<Figure size 576x288 with 1 Axes>"
      ]
     },
     "metadata": {
      "needs_background": "light"
     },
     "output_type": "display_data"
    }
   ],
   "source": [
    "l = np.asarray([len(x) for x in X], dtype=np.int)\n",
    "plt.figure(figsize=(8, 4))\n",
    "x = np.unique(l)\n",
    "plt.bar(x, [np.sum(l==e) for e in x], width=1)\n",
    "plt.xlabel(\"Sentence length\")\n",
    "plt.ylabel(\"# sentences\")\n",
    "plt.show()"
   ]
  },
  {
   "cell_type": "markdown",
   "metadata": {
    "id": "fHIiYxLyz2cf"
   },
   "source": [
    "## Data encoding and padding"
   ]
  },
  {
   "cell_type": "code",
   "execution_count": 10,
   "metadata": {
    "colab": {
     "base_uri": "https://localhost:8080/"
    },
    "id": "9fjVkyDOP9MU",
    "outputId": "8bfb9e71-ef5c-42b2-c6b6-d44d91c89ac4"
   },
   "outputs": [
    {
     "name": "stdout",
     "output_type": "stream",
     "text": [
      "['<UNK>', 'enable', 'suburbia', 'promptly', 'quarts', 'Developments', 'sunt', 'bubble', 'NYU', 'pee-wee', 'accolade', 'handlebars', 'roi', 'tripping', 'parlor']\n",
      "['PRT', 'CONJ', 'X', 'NOUN', 'ADP', 'ADJ', 'DET', 'NUM', 'VERB', '.', 'ADV', 'PRON', '<PAD>']\n"
     ]
    }
   ],
   "source": [
    "tokens = {token for sentence in X_train for token in sentence}\n",
    "\n",
    "idx2token = list(tokens)\n",
    "idx2token.insert(0, '<UNK>')\n",
    "idx2token.append('<PAD>')\n",
    "token2idx = {token:idx for idx, token in enumerate(idx2token)}\n",
    "\n",
    "tags = {tag for tags in y_train for tag in tags}\n",
    "idx2tag = list(tags)\n",
    "idx2tag.append('<PAD>')\n",
    "tag2idx = {tag:idx for idx, tag in enumerate(idx2tag)}\n",
    "\n",
    "print(idx2token[:15])\n",
    "print(idx2tag)"
   ]
  },
  {
   "cell_type": "code",
   "execution_count": 9,
   "metadata": {
    "colab": {
     "base_uri": "https://localhost:8080/"
    },
    "id": "PdgiIDVP9Brw",
    "outputId": "3b2889c6-10ce-4520-def1-efd74cd2b1dd"
   },
   "outputs": [
    {
     "name": "stdout",
     "output_type": "stream",
     "text": [
      "tensor([[49376, 23877,   953,  2756, 29752, 20992,  6789,  3918, 50871, 46284,\n",
      "          6789,  3918, 45619,  6789, 47463,  5599, 28835, 53337, 53337, 53337,\n",
      "         53337, 53337, 53337, 53337, 53337, 53337, 53337, 53337, 53337],\n",
      "        [53337, 53337, 53337, 53337, 53337, 53337, 53337, 53337, 53337, 53337,\n",
      "         53337, 53337, 53337, 53337, 53337, 53337, 53337, 53337, 53337, 53337,\n",
      "         53337, 53337, 53337, 53337, 53337, 53337, 53337, 53337, 53337],\n",
      "        [53337, 53337, 53337, 53337, 53337, 53337, 53337, 53337, 53337, 53337,\n",
      "         53337, 53337, 53337, 53337, 53337, 53337, 53337, 53337, 53337, 53337,\n",
      "         53337, 53337, 53337, 53337, 53337, 53337, 53337, 53337, 53337],\n",
      "        [53337, 53337, 53337, 53337, 53337, 53337, 53337, 53337, 53337, 53337,\n",
      "         53337, 53337, 53337, 53337, 53337, 53337, 53337, 53337, 53337, 53337,\n",
      "         53337, 53337, 53337, 53337, 53337, 53337, 53337, 53337, 53337],\n",
      "        [53337, 53337, 53337, 53337, 53337, 53337, 53337, 53337, 53337, 53337,\n",
      "         53337, 53337, 53337, 53337, 53337, 53337, 53337, 53337, 53337, 53337,\n",
      "         53337, 53337, 53337, 53337, 53337, 53337, 53337, 53337, 53337]])\n",
      "tensor([[ 7, 12, 12, 12, 12, 12, 12, 12, 12, 12, 12, 12, 12, 12, 12, 12, 12, 12,\n",
      "         12, 12, 12, 12, 12, 12, 12, 12, 12, 12, 12],\n",
      "        [12, 12, 12, 12, 12, 12, 12, 12, 12, 12, 12, 12, 12, 12, 12, 12, 12, 12,\n",
      "         12, 12, 12, 12, 12, 12, 12, 12, 12, 12, 12],\n",
      "        [12, 12, 12, 12, 12, 12, 12, 12, 12, 12, 12, 12, 12, 12, 12, 12, 12, 12,\n",
      "         12, 12, 12, 12, 12, 12, 12, 12, 12, 12, 12],\n",
      "        [12, 12, 12, 12, 12, 12, 12, 12, 12, 12, 12, 12, 12, 12, 12, 12, 12, 12,\n",
      "         12, 12, 12, 12, 12, 12, 12, 12, 12, 12, 12],\n",
      "        [12, 12, 12, 12, 12, 12, 12, 12, 12, 12, 12, 12, 12, 12, 12, 12, 12, 12,\n",
      "         12, 12, 12, 12, 12, 12, 12, 12, 12, 12, 12]])\n"
     ]
    }
   ],
   "source": [
    "def pad_and_encode(sentences, labels):\n",
    "    assert len(sentences)==len(labels)\n",
    "    assert np.all([len(sentence)==len(tags) for sentence, tags in zip(sentences, labels)])\n",
    "    max_sentence_length = np.max([len(sentence) for sentence in sentences]) # Find out how much to pad\n",
    "    padded_sentences = torch.zeros(len(sentences), max_sentence_length,     # Create data structures with <PAD> as default\n",
    "                                 dtype=torch.long)\n",
    "    padded_sentences[:] = token2idx['<PAD>']\n",
    "    padded_labels = torch.zeros(len(sentences), max_sentence_length, \n",
    "                              dtype=torch.long)\n",
    "    padded_labels[:] = tag2idx['<PAD>']\n",
    "    for i, (sentence, tags) in enumerate(zip(sentences, labels)):               # Loop over the data\n",
    "        for j, token in enumerate(sentence):\n",
    "            if token in token2idx.keys():\n",
    "                padded_sentences[i, j] = token2idx[token]\n",
    "            else:\n",
    "                padded_sentences[i, j] = token2idx['<UNK>']\n",
    "        for j, tag in enumerate(tags):\n",
    "            padded_labels[i, j] = tag2idx[tag]\n",
    "            return padded_sentences, padded_labels\n",
    "\n",
    "a, b = pad_and_encode(X_train[:5], y_train[:5])\n",
    "print(a)\n",
    "print(b)"
   ]
  },
  {
   "cell_type": "code",
   "execution_count": 10,
   "metadata": {
    "colab": {
     "base_uri": "https://localhost:8080/"
    },
    "id": "RbZWgBRAGWQa",
    "outputId": "06130360-e086-4651-c3c9-8b4624ce7b3a"
   },
   "outputs": [
    {
     "data": {
      "text/plain": [
       "(tensor([[49376, 23877,   953,  2756, 29752, 20992,  6789,  3918, 50871, 46284,\n",
       "           6789,  3918, 45619,  6789, 47463,  5599, 28835, 53337, 53337, 53337,\n",
       "          53337, 53337, 53337, 53337, 53337, 53337, 53337, 53337, 53337],\n",
       "         [53337, 53337, 53337, 53337, 53337, 53337, 53337, 53337, 53337, 53337,\n",
       "          53337, 53337, 53337, 53337, 53337, 53337, 53337, 53337, 53337, 53337,\n",
       "          53337, 53337, 53337, 53337, 53337, 53337, 53337, 53337, 53337],\n",
       "         [53337, 53337, 53337, 53337, 53337, 53337, 53337, 53337, 53337, 53337,\n",
       "          53337, 53337, 53337, 53337, 53337, 53337, 53337, 53337, 53337, 53337,\n",
       "          53337, 53337, 53337, 53337, 53337, 53337, 53337, 53337, 53337],\n",
       "         [53337, 53337, 53337, 53337, 53337, 53337, 53337, 53337, 53337, 53337,\n",
       "          53337, 53337, 53337, 53337, 53337, 53337, 53337, 53337, 53337, 53337,\n",
       "          53337, 53337, 53337, 53337, 53337, 53337, 53337, 53337, 53337],\n",
       "         [53337, 53337, 53337, 53337, 53337, 53337, 53337, 53337, 53337, 53337,\n",
       "          53337, 53337, 53337, 53337, 53337, 53337, 53337, 53337, 53337, 53337,\n",
       "          53337, 53337, 53337, 53337, 53337, 53337, 53337, 53337, 53337]],\n",
       "        device='cuda:0'),\n",
       " tensor([[ 7, 12, 12, 12, 12, 12, 12, 12, 12, 12, 12, 12, 12, 12, 12, 12, 12, 12,\n",
       "          12, 12, 12, 12, 12, 12, 12, 12, 12, 12, 12],\n",
       "         [12, 12, 12, 12, 12, 12, 12, 12, 12, 12, 12, 12, 12, 12, 12, 12, 12, 12,\n",
       "          12, 12, 12, 12, 12, 12, 12, 12, 12, 12, 12],\n",
       "         [12, 12, 12, 12, 12, 12, 12, 12, 12, 12, 12, 12, 12, 12, 12, 12, 12, 12,\n",
       "          12, 12, 12, 12, 12, 12, 12, 12, 12, 12, 12],\n",
       "         [12, 12, 12, 12, 12, 12, 12, 12, 12, 12, 12, 12, 12, 12, 12, 12, 12, 12,\n",
       "          12, 12, 12, 12, 12, 12, 12, 12, 12, 12, 12],\n",
       "         [12, 12, 12, 12, 12, 12, 12, 12, 12, 12, 12, 12, 12, 12, 12, 12, 12, 12,\n",
       "          12, 12, 12, 12, 12, 12, 12, 12, 12, 12, 12]], device='cuda:0'))"
      ]
     },
     "execution_count": 10,
     "metadata": {},
     "output_type": "execute_result"
    }
   ],
   "source": [
    "def batch_iterator(sentences, labels, batch_size=64):\n",
    "    assert len(sentences) == len(labels)\n",
    "    for i in range(0, len(sentences), batch_size):\n",
    "        X, y = pad_and_encode(sentences[i:min(i+batch_size, len(sentences))], \n",
    "                          labels[i:min(i+batch_size, len(sentences))])\n",
    "        if torch.cuda.is_available():                                               # Move data to the GPU, if possible, before yielding it\n",
    "            yield (X.cuda(), y.cuda())\n",
    "        else:\n",
    "            yield (X, y)\n",
    "\n",
    "next(batch_iterator(X_train, y_train, batch_size=5))"
   ]
  },
  {
   "cell_type": "markdown",
   "metadata": {
    "id": "ZmgbWbsJk8DW"
   },
   "source": [
    "## Model"
   ]
  },
  {
   "cell_type": "code",
   "execution_count": 11,
   "metadata": {
    "colab": {
     "base_uri": "https://localhost:8080/"
    },
    "id": "SwU6cWT2AqT6",
    "outputId": "ee37719f-3edf-423f-c928-4c4d820441a6"
   },
   "outputs": [
    {
     "name": "stdout",
     "output_type": "stream",
     "text": [
      "LSTMTagger(\n",
      "  (_word_embedding): Embedding(53338, 32, padding_idx=53337)\n",
      "  (_lstm): LSTM(32, 64, batch_first=True)\n",
      "  (_fc): Linear(in_features=64, out_features=12, bias=True)\n",
      "  (_softmax): LogSoftmax(dim=1)\n",
      ")\n"
     ]
    }
   ],
   "source": [
    "class LSTMTagger(nn.Module):\n",
    "    def __init__(self, word_embedding_dim, lstm_hidden_dim, vocabulary_size, tagset_size):\n",
    "        super(LSTMTagger, self).__init__()                                          \n",
    "        self.lstm_hidden_dim_ = lstm_hidden_dim                                     \n",
    "        self.vocabulary_size_ = vocabulary_size\n",
    "        self.tagset_size_ = tagset_size\n",
    "\n",
    "        self._word_embedding = nn.Embedding(num_embeddings=vocabulary_size,         \n",
    "                                         embedding_dim=word_embedding_dim, \n",
    "                                         padding_idx=token2idx['<PAD>'])\n",
    "        self._lstm = nn.LSTM(input_size=word_embedding_dim,                        \n",
    "                         hidden_size=lstm_hidden_dim,                          \n",
    "                         batch_first=True)\n",
    "        self._fc = nn.Linear(lstm_hidden_dim, tagset_size)                          \n",
    "        self._softmax = nn.LogSoftmax(dim=1)                                        \n",
    "    \n",
    "        self.training_loss_ = list()                                               \n",
    "        self.training_accuracy_ = list()\n",
    "\n",
    "        if torch.cuda.is_available():\n",
    "            self.cuda()\n",
    "\n",
    "    def forward(self, padded_sentences):\n",
    "        batch_size, max_sentence_length = padded_sentences.size()\n",
    "\n",
    "        embedded_sentences = self._word_embedding(padded_sentences)                 \n",
    "\n",
    "        sentence_lengths = (padded_sentences!=token2idx['<PAD>']).sum(dim=1)       \n",
    "        sentence_lengths = sentence_lengths.long().cpu()                            \n",
    "        X = nn.utils.rnn.pack_padded_sequence(embedded_sentences, sentence_lengths, \n",
    "                                          batch_first=True, enforce_sorted=False)\n",
    "        lstm_out, _ = self._lstm(X)                                                 \n",
    "        X, _ = nn.utils.rnn.pad_packed_sequence(lstm_out, batch_first=True)       \n",
    "\n",
    "        X = X.contiguous().view(-1, X.shape[2])                                     \n",
    "        tag_space = self._fc(X)                                                     \n",
    "        tag_scores = self._softmax(tag_space)                                       \n",
    "        return tag_scores.view(batch_size, max_sentence_length, self.tagset_size_)\n",
    "\n",
    "\n",
    "model = LSTMTagger(word_embedding_dim=32,                                       \n",
    "                   lstm_hidden_dim=64,                                          \n",
    "                   vocabulary_size=len(token2idx),                              \n",
    "                   tagset_size=len(tag2idx)-1)                                  \n",
    "print(model)"
   ]
  },
  {
   "cell_type": "markdown",
   "metadata": {
    "id": "pEZlbcallbff"
   },
   "source": [
    "## Network training"
   ]
  },
  {
   "cell_type": "code",
   "execution_count": 14,
   "metadata": {
    "colab": {
     "base_uri": "https://localhost:8080/"
    },
    "id": "IVBW4NNNOwY5",
    "outputId": "56dd2ab2-41fa-43b9-f8e8-c8e64bc16468"
   },
   "outputs": [
    {
     "name": "stderr",
     "output_type": "stream",
     "text": [
      "Epoch 0:   0%|                                                                              | 0/198 [00:00<?, ?batch/s]\n"
     ]
    },
    {
     "ename": "RuntimeError",
     "evalue": "Length of all samples has to be greater than 0, but found an element in 'lengths' that is <= 0",
     "output_type": "error",
     "traceback": [
      "\u001b[1;31m---------------------------------------------------------------------------\u001b[0m",
      "\u001b[1;31mRuntimeError\u001b[0m                              Traceback (most recent call last)",
      "\u001b[1;32m<ipython-input-14-3062ddef19a6>\u001b[0m in \u001b[0;36m<module>\u001b[1;34m\u001b[0m\n\u001b[0;32m      9\u001b[0m     \u001b[1;32mfor\u001b[0m \u001b[0minputs\u001b[0m\u001b[1;33m,\u001b[0m \u001b[0mtargets\u001b[0m \u001b[1;32min\u001b[0m \u001b[0mbatches\u001b[0m\u001b[1;33m:\u001b[0m                                             \u001b[1;31m# Loop once over the training data\u001b[0m\u001b[1;33m\u001b[0m\u001b[1;33m\u001b[0m\u001b[0m\n\u001b[0;32m     10\u001b[0m       \u001b[0mmodel\u001b[0m\u001b[1;33m.\u001b[0m\u001b[0mzero_grad\u001b[0m\u001b[1;33m(\u001b[0m\u001b[1;33m)\u001b[0m                                                         \u001b[1;31m# Reset gradients\u001b[0m\u001b[1;33m\u001b[0m\u001b[1;33m\u001b[0m\u001b[0m\n\u001b[1;32m---> 11\u001b[1;33m       \u001b[0mscores\u001b[0m \u001b[1;33m=\u001b[0m \u001b[0mmodel\u001b[0m\u001b[1;33m(\u001b[0m\u001b[0minputs\u001b[0m\u001b[1;33m)\u001b[0m                                                    \u001b[1;31m# Forward pass\u001b[0m\u001b[1;33m\u001b[0m\u001b[1;33m\u001b[0m\u001b[0m\n\u001b[0m\u001b[0;32m     12\u001b[0m       loss = loss_function(scores.view(-1, model.tagset_size_),                 # Get loss, the data is reshaped as a long line of predictions and targets\n\u001b[0;32m     13\u001b[0m                            targets.view(-1))               \n",
      "\u001b[1;32mc:\\python39\\lib\\site-packages\\torch\\nn\\modules\\module.py\u001b[0m in \u001b[0;36m_call_impl\u001b[1;34m(self, *input, **kwargs)\u001b[0m\n\u001b[0;32m    887\u001b[0m             \u001b[0mresult\u001b[0m \u001b[1;33m=\u001b[0m \u001b[0mself\u001b[0m\u001b[1;33m.\u001b[0m\u001b[0m_slow_forward\u001b[0m\u001b[1;33m(\u001b[0m\u001b[1;33m*\u001b[0m\u001b[0minput\u001b[0m\u001b[1;33m,\u001b[0m \u001b[1;33m**\u001b[0m\u001b[0mkwargs\u001b[0m\u001b[1;33m)\u001b[0m\u001b[1;33m\u001b[0m\u001b[1;33m\u001b[0m\u001b[0m\n\u001b[0;32m    888\u001b[0m         \u001b[1;32melse\u001b[0m\u001b[1;33m:\u001b[0m\u001b[1;33m\u001b[0m\u001b[1;33m\u001b[0m\u001b[0m\n\u001b[1;32m--> 889\u001b[1;33m             \u001b[0mresult\u001b[0m \u001b[1;33m=\u001b[0m \u001b[0mself\u001b[0m\u001b[1;33m.\u001b[0m\u001b[0mforward\u001b[0m\u001b[1;33m(\u001b[0m\u001b[1;33m*\u001b[0m\u001b[0minput\u001b[0m\u001b[1;33m,\u001b[0m \u001b[1;33m**\u001b[0m\u001b[0mkwargs\u001b[0m\u001b[1;33m)\u001b[0m\u001b[1;33m\u001b[0m\u001b[1;33m\u001b[0m\u001b[0m\n\u001b[0m\u001b[0;32m    890\u001b[0m         for hook in itertools.chain(\n\u001b[0;32m    891\u001b[0m                 \u001b[0m_global_forward_hooks\u001b[0m\u001b[1;33m.\u001b[0m\u001b[0mvalues\u001b[0m\u001b[1;33m(\u001b[0m\u001b[1;33m)\u001b[0m\u001b[1;33m,\u001b[0m\u001b[1;33m\u001b[0m\u001b[1;33m\u001b[0m\u001b[0m\n",
      "\u001b[1;32m<ipython-input-11-6598d62d09f8>\u001b[0m in \u001b[0;36mforward\u001b[1;34m(self, padded_sentences)\u001b[0m\n\u001b[0;32m     28\u001b[0m         \u001b[0msentence_lengths\u001b[0m \u001b[1;33m=\u001b[0m \u001b[1;33m(\u001b[0m\u001b[0mpadded_sentences\u001b[0m\u001b[1;33m!=\u001b[0m\u001b[0mtoken2idx\u001b[0m\u001b[1;33m[\u001b[0m\u001b[1;34m'<PAD>'\u001b[0m\u001b[1;33m]\u001b[0m\u001b[1;33m)\u001b[0m\u001b[1;33m.\u001b[0m\u001b[0msum\u001b[0m\u001b[1;33m(\u001b[0m\u001b[0mdim\u001b[0m\u001b[1;33m=\u001b[0m\u001b[1;36m1\u001b[0m\u001b[1;33m)\u001b[0m\u001b[1;33m\u001b[0m\u001b[1;33m\u001b[0m\u001b[0m\n\u001b[0;32m     29\u001b[0m         \u001b[0msentence_lengths\u001b[0m \u001b[1;33m=\u001b[0m \u001b[0msentence_lengths\u001b[0m\u001b[1;33m.\u001b[0m\u001b[0mlong\u001b[0m\u001b[1;33m(\u001b[0m\u001b[1;33m)\u001b[0m\u001b[1;33m.\u001b[0m\u001b[0mcpu\u001b[0m\u001b[1;33m(\u001b[0m\u001b[1;33m)\u001b[0m\u001b[1;33m\u001b[0m\u001b[1;33m\u001b[0m\u001b[0m\n\u001b[1;32m---> 30\u001b[1;33m         X = nn.utils.rnn.pack_padded_sequence(embedded_sentences, sentence_lengths, \n\u001b[0m\u001b[0;32m     31\u001b[0m                                           batch_first=True, enforce_sorted=False)\n\u001b[0;32m     32\u001b[0m         \u001b[0mlstm_out\u001b[0m\u001b[1;33m,\u001b[0m \u001b[0m_\u001b[0m \u001b[1;33m=\u001b[0m \u001b[0mself\u001b[0m\u001b[1;33m.\u001b[0m\u001b[0m_lstm\u001b[0m\u001b[1;33m(\u001b[0m\u001b[0mX\u001b[0m\u001b[1;33m)\u001b[0m\u001b[1;33m\u001b[0m\u001b[1;33m\u001b[0m\u001b[0m\n",
      "\u001b[1;32mc:\\python39\\lib\\site-packages\\torch\\nn\\utils\\rnn.py\u001b[0m in \u001b[0;36mpack_padded_sequence\u001b[1;34m(input, lengths, batch_first, enforce_sorted)\u001b[0m\n\u001b[0;32m    243\u001b[0m \u001b[1;33m\u001b[0m\u001b[0m\n\u001b[0;32m    244\u001b[0m     \u001b[0mdata\u001b[0m\u001b[1;33m,\u001b[0m \u001b[0mbatch_sizes\u001b[0m \u001b[1;33m=\u001b[0m\u001b[0;31m \u001b[0m\u001b[0;31m\\\u001b[0m\u001b[1;33m\u001b[0m\u001b[1;33m\u001b[0m\u001b[0m\n\u001b[1;32m--> 245\u001b[1;33m         \u001b[0m_VF\u001b[0m\u001b[1;33m.\u001b[0m\u001b[0m_pack_padded_sequence\u001b[0m\u001b[1;33m(\u001b[0m\u001b[0minput\u001b[0m\u001b[1;33m,\u001b[0m \u001b[0mlengths\u001b[0m\u001b[1;33m,\u001b[0m \u001b[0mbatch_first\u001b[0m\u001b[1;33m)\u001b[0m\u001b[1;33m\u001b[0m\u001b[1;33m\u001b[0m\u001b[0m\n\u001b[0m\u001b[0;32m    246\u001b[0m     \u001b[1;32mreturn\u001b[0m \u001b[0m_packed_sequence_init\u001b[0m\u001b[1;33m(\u001b[0m\u001b[0mdata\u001b[0m\u001b[1;33m,\u001b[0m \u001b[0mbatch_sizes\u001b[0m\u001b[1;33m,\u001b[0m \u001b[0msorted_indices\u001b[0m\u001b[1;33m,\u001b[0m \u001b[1;32mNone\u001b[0m\u001b[1;33m)\u001b[0m\u001b[1;33m\u001b[0m\u001b[1;33m\u001b[0m\u001b[0m\n\u001b[0;32m    247\u001b[0m \u001b[1;33m\u001b[0m\u001b[0m\n",
      "\u001b[1;31mRuntimeError\u001b[0m: Length of all samples has to be greater than 0, but found an element in 'lengths' that is <= 0"
     ]
    }
   ],
   "source": [
    "loss_function = nn.NLLLoss(ignore_index=tag2idx['<PAD>'])                       # A loss function that fits our choice of output layer and data. The\n",
    "                                                                                # loss function will ignore the padding index in the targets.\n",
    "optimizer = torch.optim.Adam(model.parameters(), lr=0.01)                                # We give the optimiser the parameters to work with, note that we can choose to only give some parameters\n",
    "\n",
    "batch_size = 256                                                                # Define the size of each batch\n",
    "for epoch in range(5):                                                          # Times to loop over the full dataset\n",
    "  with tqdm(batch_iterator(X_train, y_train, batch_size=batch_size), \n",
    "            total=len(X_train)//batch_size+1, unit=\"batch\", desc=\"Epoch %i\" % epoch) as batches:\n",
    "    for inputs, targets in batches:                                             # Loop once over the training data\n",
    "      model.zero_grad()                                                         # Reset gradients\n",
    "      scores = model(inputs)                                                    # Forward pass\n",
    "      loss = loss_function(scores.view(-1, model.tagset_size_),                 # Get loss, the data is reshaped as a long line of predictions and targets\n",
    "                           targets.view(-1))               \n",
    "      loss.backward()                                                           # Backpropagate the error\n",
    "      optimizer.step()                                                          # Run the optimizer to change the weights w.r.t the loss\n",
    "      predictions = scores.argmax(dim=2, keepdim=True).squeeze()                # Calculate the batch training accuracy\n",
    "      mask = targets!=tag2idx['<PAD>']                                          # Create a mask for ignoring <PAD> in the targets\n",
    "      correct = (predictions[mask] == targets[mask]).sum().item()               # Item pulls the value from the GPU automatically (if needed)\n",
    "      accuracy = correct / mask.sum().item()*100\n",
    "      model.training_accuracy_.append(accuracy)                                 # Save the accuracy for plotting\n",
    "      model.training_loss_.append(loss.item())                                  # Save the loss for plotting\n",
    "      batches.set_postfix(loss=loss.item(), accuracy=accuracy)                  # Update the progress bar"
   ]
  },
  {
   "cell_type": "markdown",
   "metadata": {
    "id": "fSf4AVZislgg"
   },
   "source": [
    "We can plot the stored loss over epochs."
   ]
  },
  {
   "cell_type": "code",
   "execution_count": 12,
   "metadata": {
    "colab": {
     "base_uri": "https://localhost:8080/",
     "height": 297
    },
    "id": "m6rd8T0_q24D",
    "outputId": "2199a30f-897b-4cd3-d966-d566f4937027"
   },
   "outputs": [
    {
     "data": {
      "image/png": "[encoded data removed]",
      "text/plain": [
       "<Figure size 432x288 with 2 Axes>"
      ]
     },
     "metadata": {
      "needs_background": "light",
      "tags": []
     },
     "output_type": "display_data"
    }
   ],
   "source": [
    "fig = plt.figure(figsize=(6, 4))\n",
    "ax = plt.subplot()\n",
    "ax.set_title(\"Plot for the (hopefully) decreasing loss over epochs\")\n",
    "ax.plot(model.training_loss_, 'b-')\n",
    "ax.set_ylabel(\"Training Loss\", color='b')\n",
    "ax.set_xlabel(\"Epoch\")\n",
    "# ax.set_yscale('log')\n",
    "ax.tick_params(axis='y', labelcolor='b')\n",
    "ax = ax.twinx()\n",
    "ax.plot(model.training_accuracy_, 'r-')\n",
    "ax.set_ylabel(\"Accuracy [%]\", color='r')\n",
    "ax.tick_params(axis='y', labelcolor='r')\n",
    "a = list(ax.axis())\n",
    "a[2] = 0\n",
    "a[3] = 100\n",
    "ax.axis(a)\n",
    "t = np.arange(0, len(model.training_accuracy_), len(X_train)//batch_size+1)\n",
    "ax.set_xticks(ticks=t)\n",
    "ax.set_xticklabels(labels=np.arange(len(t)))\n",
    "fig.tight_layout()\n",
    "plt.show()"
   ]
  },
  {
   "cell_type": "markdown",
   "metadata": {
    "id": "PUDy6CJKcMSh"
   },
   "source": [
    "## Test data accuracy\n",
    "\n",
    "This shows that the model sort of works. A per sentence accuracy would be better while being able to also analyse the predictions qualitatively would be best."
   ]
  },
  {
   "cell_type": "code",
   "execution_count": 13,
   "metadata": {
    "colab": {
     "base_uri": "https://localhost:8080/"
    },
    "id": "48fkSBgEBnFd",
    "outputId": "a6fc8ab5-bfd1-422f-c92b-a87c61ade8a0"
   },
   "outputs": [
    {
     "name": "stdout",
     "output_type": "stream",
     "text": [
      "Test accuracy 95.3%\n"
     ]
    }
   ],
   "source": [
    "with torch.no_grad():                                                           # Do not use the following forward passes to calculate a gradient\n",
    "    n_correct = 0\n",
    "    n_total = 0\n",
    "    for inputs, targets in batch_iterator(X_test, y_test, batch_size=batch_size): # Loop once over the test data\n",
    "        scores = model(inputs)                                                      # Runs the test data through the model\n",
    "        predictions = scores.argmax(dim=2, keepdim=True).squeeze()                  # Finds the predictions\n",
    "        mask = targets!=tag2idx['<PAD>']                                            # Create a mask for ignoring <PAD> in the targets\n",
    "        n_correct += (predictions[mask] == targets[mask]).sum().item()              # Sums the number of correct predictions\n",
    "        n_total += mask.sum().item()\n",
    "print(\"Test accuracy %.1f%%\" % (100*n_correct/n_total))"
   ]
  }
 ],
 "metadata": {
  "accelerator": "GPU",
  "colab": {
   "collapsed_sections": [],
   "name": "Assignment 3 - Evaluating and extending an RNN based POS tagger.ipynb",
   "provenance": []
  },
  "kernelspec": {
   "display_name": "Python 3",
   "language": "python",
   "name": "python3"
  },
  "language_info": {
   "codemirror_mode": {
    "name": "ipython",
    "version": 3
   },
   "file_extension": ".py",
   "mimetype": "text/x-python",
   "name": "python",
   "nbconvert_exporter": "python",
   "pygments_lexer": "ipython3",
   "version": "3.9.1"
  }
 },
 "nbformat": 4,
 "nbformat_minor": 1
}
