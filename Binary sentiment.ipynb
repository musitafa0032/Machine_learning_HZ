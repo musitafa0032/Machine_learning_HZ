{
 "cells": [
  {
   "cell_type": "code",
   "execution_count": 2,
   "id": "4a88c42d",
   "metadata": {},
   "outputs": [],
   "source": [
    "# G part\n",
    "# Parsing dataset and get X_raw list of strings. I read all pos files first and neg next.\n",
    "from pathlib import Path\n",
    "import glob\n",
    "import numpy as np\n",
    "file_list_pos = Path('./pos').glob('*.txt')\n",
    "file_list_neg = Path('./neg').glob('*.txt')\n",
    "X_raw=[]\n",
    "y=[]\n",
    "for file in file_list_pos:\n",
    "    with file.open() as f_input:\n",
    "        X_raw.append(f_input.read())\n",
    "for file in file_list_neg:\n",
    "    with file.open() as f_input:\n",
    "        X_raw.append(f_input.read())\n",
    "\n",
    "\n",
    "#get y label list using while loop\n",
    "n=2000\n",
    "while n>0:\n",
    "    while n>1000:\n",
    "        y.append(1)\n",
    "        n=n-1\n",
    "    y.append(-1)\n",
    "    n=n-1"
   ]
  },
  {
   "cell_type": "code",
   "execution_count": 3,
   "id": "34cd842d",
   "metadata": {},
   "outputs": [],
   "source": [
    "#Extracting features\n",
    "\n",
    "#create a list of mutilple sets\n",
    "X_set=[]\n",
    "for i ,doc in enumerate(X_raw):\n",
    "    X_raw[i]=doc.split()\n",
    "    X_set.append(set(X_raw[i]))\n",
    "    \n",
    "#Get the ordered vocabulary and X vector with shape(numbet of all documents,length of V)\n",
    "import numpy as np\n",
    "ordered_vocabulary=sorted(set(sum(X_raw,[])))\n",
    "X=np.zeros(shape=(len(X_raw),len(ordered_vocabulary)))\n",
    "for i1,doc in enumerate(X_set):\n",
    "    for i2,w in enumerate(ordered_vocabulary):\n",
    "        if w in doc:\n",
    "            X[i1][i2]=1"
   ]
  },
  {
   "cell_type": "code",
   "execution_count": 4,
   "id": "ed459186",
   "metadata": {},
   "outputs": [],
   "source": [
    "#Learning framework\n",
    "\n",
    "#pseudo input\n",
    "\n",
    "X=np.insert(X,0,1,axis=1)\n",
    "\n",
    "#Split traing and testing set in a balanced way\n",
    "\n",
    "X_training=np.vstack((X[0:800],X[-800:]))\n",
    "X_testing=X[800:1200]\n",
    "\n",
    "y_training=y[0:800]+y[-800:]\n",
    "y_testing=y[800:1200]\n",
    "\n",
    "#Define the hyperplane model\n",
    "class Hyperplane_model:\n",
    "    def __init__(self,lr=0.0001,lambda_p=0.01,iterations=1000):\n",
    "        self.lr=lr\n",
    "        self.lambda_p=lambda_p\n",
    "        self.iterations=iterations\n",
    "        self.w=np.random.randn(X.shape[1])#define the initial guess for w vector\n",
    "        \n",
    "    #use np.sign function to get the predicted label\n",
    "    def predict(self,X):\n",
    "        pre_label=np.dot(X,self.w)\n",
    "        return np.sign(pre_label)\n",
    "    \n",
    "    #Calculate the loss score and also include the regularization inside it\n",
    "    def score(self,X,y):\n",
    "        loss=0\n",
    "        for i,x in enumerate(X):\n",
    "            loss+=max(0,1-y[i]*np.dot(x,self.w))\n",
    "        regularization=np.sum(self.w**2)\n",
    "        return loss+(self.lambda_p/2)*regularization   \n",
    "\n",
    "    def accuracy(self,X,y):\n",
    "        y=np.array(y)\n",
    "        return np.sum(y==self.predict(X))/len(y)\n",
    "\n",
    "    #I inserted gradient descent inside the fit function and use score function inside this function to make the criteria for stop iterating\n",
    "    def fit(self,X,y):\n",
    "        update=0\n",
    "        for _ in range(self.iterations):\n",
    "            previous_score=self.score(X,y)\n",
    "            for i,v in enumerate(X):\n",
    "                condition=y[i]*(np.dot(v,self.w))>=1\n",
    "                if not condition:\n",
    "                    update+=-y[i]*v\n",
    "            omega=self.lambda_p*self.w+update\n",
    "            self.w -= omega*self.lr\n",
    "            current_score=self.score(X,y)\n",
    "            difference=current_score-previous_score\n",
    "            if abs(difference)<0.1:#define the criteria for stop iterating.I explained why I chose this criteria for in the last analysis\n",
    "                break"
   ]
  },
  {
   "cell_type": "code",
   "execution_count": 4,
   "id": "a9449bde",
   "metadata": {},
   "outputs": [
    {
     "name": "stdout",
     "output_type": "stream",
     "text": [
      "   reguliser_dampening  Learning_rate  Train-Accuracy\n",
      "0             0.000100       0.030711             1.0\n",
      "1             0.009769       0.000314             1.0\n",
      "2             0.003107       0.303533             1.0\n",
      "3             0.030711       0.954253             1.0\n",
      "4             0.096549       0.954253             1.0\n",
      "5             0.000314       0.303533             1.0\n",
      "6             0.009769       0.096549             1.0\n",
      "7             0.096549       0.003107             1.0\n",
      "8             0.000100       0.003107             1.0\n",
      "9             0.954253       0.000100             1.0\n",
      "Best parameters: 0.00010, 0.03071\n"
     ]
    }
   ],
   "source": [
    "# Exploring hyperparameters\n",
    "# I use pandas to print the data frame\n",
    "import pandas as pd\n",
    "import random\n",
    "data_dic={\"reguliser_dampening\":[],\"Learning_rate\":[],\"Train-Accuracy\":[]}\n",
    "para_combi=[]\n",
    "best_hyperparameters = None\n",
    "reguliser_dampening= np.exp(np.linspace(np.log(0.0001), np.log(3), 10))\n",
    "learning_rate=np.exp(np.linspace(np.log(0.0001), np.log(3), 10))\n",
    "for rd in reguliser_dampening: # Use nested for loop to get all grid points combinations\n",
    "    for lr in learning_rate:\n",
    "        para_combi.append((rd,lr))\n",
    "random.shuffle(para_combi)\n",
    "slice_tuple=random.sample(para_combi,10)# due to the limitation, I just chose 10 combinations randomly out of 100 grid points\n",
    "best_hyperparameters = None\n",
    "for hyperparameters in slice_tuple:\n",
    "    lam=hyperparameters[0]\n",
    "    data_dic[\"reguliser_dampening\"].append(lam)\n",
    "    learningrate=hyperparameters[1]\n",
    "    data_dic[\"Learning_rate\"].append(learningrate)\n",
    "    model=Hyperplane_model(lr=learningrate,lambda_p=lam)\n",
    "    model.fit(X_training,y_training)\n",
    "    train_accuracy=model.accuracy(X_training,y_training)\n",
    "    data_dic[\"Train-Accuracy\"].append(train_accuracy)\n",
    "    if best_hyperparameters is None or best_hyperparameters[1] < train_accuracy:\n",
    "        best_hyperparameters = (hyperparameters, train_accuracy)\n",
    "df=pd.DataFrame.from_dict(data_dic)\n",
    "print(df)\n",
    "best_learning_rate = best_hyperparameters[0][0]\n",
    "best_reguliser_dampening = best_hyperparameters[0][1]\n",
    "print(\"Best parameters: %.5f, %.5f\" % (best_learning_rate, best_reguliser_dampening))\n",
    "# Its a little weird that all train-accuracies with different patameters are 1.\n",
    "# Maybe the dataset is so small that the model is overfitting(Professor Fredrick comfirmed it).\n",
    "# In this case, let's see the result for testing data."
   ]
  },
  {
   "cell_type": "code",
   "execution_count": 22,
   "id": "dc3f2d1d",
   "metadata": {},
   "outputs": [
    {
     "name": "stdout",
     "output_type": "stream",
     "text": [
      "84.75%\n"
     ]
    }
   ],
   "source": [
    "# Get the test dataset accuracy with best parameters\n",
    "model=Hyperplane_model(lr=0.0001,lambda_p=0.03071)\n",
    "model.fit(X_training,y_training)\n",
    "print('%.2f%%' % (model.accuracy(X_testing,y_testing)*100))\n",
    "#The test accuracy is 84.75% and it's not bad."
   ]
  },
  {
   "cell_type": "code",
   "execution_count": 23,
   "id": "4a91c31b",
   "metadata": {},
   "outputs": [
    {
     "data": {
      "image/png": "[encoded data removed]",
      "text/plain": [
       "<Figure size 1440x216 with 1 Axes>"
      ]
     },
     "metadata": {
      "needs_background": "light"
     },
     "output_type": "display_data"
    },
    {
     "name": "stdout",
     "output_type": "stream",
     "text": [
      "                Word   Weight  Occurences\n",
      "              reason   -10.633\t360 \n",
      "           sometimes   10.729\t203 \n",
      "       unfortunately   -10.824\t329 \n",
      "                poor   -10.933\t174 \n",
      "                i've   11.069\t285 \n",
      "               until   11.176\t377 \n",
      "                seen   11.232\t629 \n",
      "              boring   -11.235\t217 \n",
      "              others   12.060\t246 \n",
      "            director   -12.248\t798 \n",
      "             through   -12.428\t816 \n",
      "                your   12.648\t553 \n",
      "               point   -12.799\t492 \n",
      "           hilarious   12.880\t175 \n",
      "                both   13.555\t620 \n",
      "                best   14.719\t835 \n",
      "            supposed   -15.610\t255 \n",
      "               worst   -16.031\t237 \n",
      "                 bad   -17.956\t760 \n",
      "             nothing   -19.191\t589 \n"
     ]
    }
   ],
   "source": [
    "# Define the final decision boundary based on the weight plot\n",
    "import matplotlib.pyplot as plt\n",
    " \n",
    "plt.figure(figsize=(20, 3))\n",
    "plt.plot(model.w[1:])\n",
    "plt.xlabel(\"Value\")\n",
    "plt.xlabel(\"Weights\")\n",
    "plt.show()\n",
    "\n",
    "assert (len(model.w)-1) == len(ordered_vocabulary)\n",
    "\n",
    "\n",
    "idx = np.argsort(np.abs(model.w[1:]))\n",
    "\n",
    "print(\"                Word   Weight  Occurences\")\n",
    "for i in idx[-20:]:   # Pick words with highest weights\n",
    "  print(\"%20s   %.3f\\t%i \" % (ordered_vocabulary[i], model.w[i+1], np.sum([ordered_vocabulary[i] in d for d in X_raw])))\n",
    "\n"
   ]
  },
  {
   "cell_type": "markdown",
   "id": "0fb832d2",
   "metadata": {},
   "source": [
    "The analysis for decision boundary\n",
    "\n",
    "Generally, the model is over-learning on a large number of the highest weighted words, but it seems to be over-learning specifically on single instances of certain words that do not contribute to making a judgment about whether a review would be positive or negative.For example, the words until, your, others, and reason. On the other hand, the negative words \"poor\",\"unfortunately\",\"worst\",\"bad\",and \"boring\" are weighed highly in determining that a review is negative, which totally makes sense, as they have a high number of instances and they would be useful in determining whether a new unseen review is negative or positive.\n",
    "Also, the same applies for the word like \"best\" which determines a positive review. I guess that's why my model gets good results in terms of test accuracy. Due to the model over learning on quite a few single instance words that are notary useful for determining polarity, the model still has some loss. Bag of words features don't take the word occurrences into account, so it's more reasonable to consider tf-idf features, where the higher the word frequency is, the higher the weight is.\n",
    "I chose the parameters that generate the highest training accuracy, since all train accuracies are 100%,just choose the first parameter set.\n",
    "As for the criteria of stop running iterations,I simply followed the instructions w(t+1)approximately equals w(t);however, it's a little abstract and tricky to compare the similarity between two vectors,so we can employ it in the loss score function to compare if two loss socres are similar.\n",
    "\n",
    "General analysis\n",
    "\n",
    "I found the gradient descent part of the assignment to be particularly challenging. It is challenging to implement a method that reflects the mathematical aim of taking the gradient descent, which is to take the derivative of the loss function with respect to each weight iteratively. The analytical equivalent of the derivative that is shown in the assignment is an easier condition to implement in code, but understanding how the function should move through that condition-- namely if y[i] (each element in y)* the weight * X[i]every element in the data vector X >= 0.In my fit function, I employed the whole dataset X_trainig to update the weight in 1 iteration.  \n",
    "\n",
    "The section in Part 4 that called for tuning the different hyperparameters was also a challenge. It required that we fit the model using the  train data, and using different combinations of hyperparameters, chose the best combination to get maximum accuracy when we tried the model on the test data and not the training data. The model reached 100 percent accuracy right away, and as we can see from the results above, the model never reached anything below 100 percent accuracy on the training set. This seems strange, but it is most likely due to the model overfitting, which is nor surprising given the small data set we are training on. Either way, the fact the model aklways reached 100 percent accuracy made it difficult to tune the hyperparameters to a degree that would be considered optimal. It seems that the only way to tune the hyperparameters would have been to test all the different combinations on the test set, since there was no way to differentiate accuracy on the training set. \n",
    "\n",
    "Additonally, it seems the model was overlearning on specific instances of words that had no relevance on whether or not an unseen review would be classified as positive or negative in terms of the polarity of said words. The analysis of the specific instances where this happened can be found above. In general it is not surprising that the model did not reach 100 percent accuracy on the test set given these difficulties. I would also wager that part of the reason the model did not reach a higher accuracy was due to the fact the preprocessing stage only involved splitting in this model, and I did not include any other filters for stopwords or puntuation. \n",
    "\n",
    "The loss on the training set ranged from about 40 to 100, which is a pretty good range comparatively, as on the first iteration it started at around 15,000, and as the model went through the 1000 iterations, it reduced significantly. It makes sense then that the model would reach a pretty good accuracy, varying around 85% each time I ran the entire pipeline, but not anything above 90%. \n",
    "\n",
    "In terms of the implementation for part three specifically, I found it was more economical to write the code in a way that would mirror the scikitlearn documentation about an SVG classifier, which was also outlined in the general assignment guidelines. Using fit, accuracy and predict made the code more easily comparable to the scikit learn code, which also fascilitated my work in part four， insofar as I was just able to train the model using the training data using the fit method, predict the labels once the model had been trained, and scored the model in terms of how accurate the predictions were compared to the given labels. My score method was implemented especially to return the loss score. \n",
    "\n"
   ]
  },
  {
   "cell_type": "code",
   "execution_count": 8,
   "id": "a8e6bda2",
   "metadata": {},
   "outputs": [
    {
     "name": "stdout",
     "output_type": "stream",
     "text": [
      "0.7425\n"
     ]
    }
   ],
   "source": [
    "# VG part\n",
    "# Implement the optimization as SGD. \n",
    "#The central idea of SGD is to update weight using a random datapoint instead of the whole dataset in each iteration \n",
    "import random\n",
    "\n",
    "class SDG_model:\n",
    "    def __init__(self,lr=0.001,lambda_p=0.001,iterations=1000):\n",
    "        self.lr=lr\n",
    "        self.lambda_p=lambda_p\n",
    "        self.iterations=iterations\n",
    "        self.w=np.random.randn(X.shape[1])#define the initial guess for w vector\n",
    "        \n",
    "    def predict(self,X):\n",
    "        pre_label=np.dot(X,self.w)\n",
    "        return np.sign(pre_label)\n",
    "    \n",
    "    #Calculate the loss score\n",
    "    def score(self,X,y):\n",
    "        loss=0\n",
    "        for i,x in enumerate(X):\n",
    "            loss+=max(0,1-y[i]*np.dot(x,self.w))\n",
    "        regularization=np.sum(self.w**2)\n",
    "        return loss+(self.lambda_p/2)*regularization   \n",
    "\n",
    "    def accuracy(self,X,y):\n",
    "        y=np.array(y)\n",
    "        return np.sum(y==self.predict(X))/len(y)\n",
    "\n",
    "\n",
    "    def fit(self,X,y):\n",
    "        update=0\n",
    "        for _ in range(self.iterations):\n",
    "            a=random.randint(0,X.shape[0]-1)\n",
    "            previous_score=self.score(X,y)\n",
    "            condition=y[a]*(np.dot(X[a],self.w))>=1\n",
    "            if not condition:\n",
    "                update+=-y[a]*X[a]\n",
    "            omega=self.lambda_p*self.w+update\n",
    "            self.w -= omega*self.lr\n",
    "            current_score=self.score(X,y)\n",
    "            difference=current_score-previous_score\n",
    "            if abs(difference)<0.01:#define the criteria for stop iterating\n",
    "                print(current_score)\n",
    "                break\n",
    "\n",
    "model=SDG_model()\n",
    "model.fit(X_training,y_training)\n",
    "print(model.accuracy(X_testing,y_testing))\n",
    "#it seems to save a lot of time, "
   ]
  },
  {
   "cell_type": "code",
   "execution_count": 9,
   "id": "db5660c6",
   "metadata": {},
   "outputs": [],
   "source": [
    "#Implement a tf-idf feature model/due to the limitation of time, I cannot complete the vg part sorry about that.\n",
    "import math\n",
    "\n",
    "d={}\n",
    "X_tfidf=np.zeros(shape=(len(X_raw),len(ordered_vocabulary)))\n",
    "for w in ordered_vocabulary:\n",
    "    DF=0\n",
    "    for doc in X_set:\n",
    "        if w in doc:\n",
    "            DF+=1\n",
    "    d[w]=math.log(len(X_raw)/DF+1)\n",
    "\n",
    "for i1,doc in enumerate(X_raw):\n",
    "    for i2,w in enumerate(ordered_vocabulary):\n",
    "        X_tfidf[i1][i2]=doc.count(w)*d[w]"
   ]
  },
  {
   "cell_type": "code",
   "execution_count": 9,
   "id": "1c700fa1",
   "metadata": {},
   "outputs": [
    {
     "name": "stderr",
     "output_type": "stream",
     "text": [
      "--2021-05-10 21:51:22--  http://www.cs.cornell.edu/people/pabo/movie-review-data/review_polarity.tar.gz\n",
      "Resolving www.cs.cornell.edu (www.cs.cornell.edu)... 132.236.207.36\n",
      "Connecting to www.cs.cornell.edu (www.cs.cornell.edu)|132.236.207.36|:80... connected.\n",
      "HTTP request sent, awaiting response... 304 Not Modified\n",
      "File 'review_polarity.tar.gz' not modified on server. Omitting download.\n",
      "\n"
     ]
    }
   ],
   "source": [
    "#Use sklearn to implement 10-fold cross-validation\n",
    "!wget -N http://www.cs.cornell.edu/people/pabo/movie-review-data/review_polarity.tar.gz\n",
    "docs = !tar vzxf review_polarity.tar.gz\n",
    "X_raw=[]"
   ]
  },
  {
   "cell_type": "code",
   "execution_count": 35,
   "id": "f25ecf67",
   "metadata": {},
   "outputs": [],
   "source": [
    "for doc in docs[:2000]:\n",
    "    with open(doc[2:],\"r\") as f:\n",
    "        X_raw.append(f.read()) "
   ]
  },
  {
   "cell_type": "code",
   "execution_count": 36,
   "id": "610b1659",
   "metadata": {},
   "outputs": [],
   "source": [
    "import numpy as np\n",
    "array_pos=np.empty(1000,dtype=np.int)\n",
    "array_pos.fill(1)\n",
    "array_neg=np.empty(1000,dtype=np.int)\n",
    "array_neg.fill(-1)\n",
    "y_raw=np.concatenate((array_pos,array_neg))"
   ]
  },
  {
   "cell_type": "code",
   "execution_count": 37,
   "id": "9620dda2",
   "metadata": {},
   "outputs": [],
   "source": [
    "from sklearn.feature_extraction.text import TfidfVectorizer\n",
    "vec=TfidfVectorizer()\n",
    "X=vec.fit_transform(X_raw)\n",
    "X=X.todense()"
   ]
  },
  {
   "cell_type": "code",
   "execution_count": 38,
   "id": "df9d2e97",
   "metadata": {},
   "outputs": [],
   "source": [
    "from sklearn.model_selection import KFold,train_test_split,cross_val_score\n",
    "from sklearn.linear_model import SGDClassifier\n",
    "kf=KFold(n_splits=10,shuffle=True,random_state=42)\n",
    "#X_train,X_test,y_train,y_text=train_test_split(X,y.test_size=0.2)\n",
    "model=SGDClassifier()\n",
    "scores=cross_val_score(model,X,y_raw,cv=kf)\n",
    "# best_score=0\n",
    "# for train_index,test_index in kf.split(X):\n",
    "#     X_train,X_test=X_train[train_index],X_test[test_index]\n",
    "#     y_train,y_test=y_train[train_index],y_text[test_index]\n",
    "#     model.fit(X_train,y_train)\n",
    "#     current_score=model.score(X_test,y_test)\n",
    "#     if current_score>best_score:\n",
    "#         best_score=current_score\n",
    "#         X_best=X_train\n",
    "#         y_best=y_train"
   ]
  },
  {
   "cell_type": "code",
   "execution_count": 41,
   "id": "5000de50",
   "metadata": {},
   "outputs": [],
   "source": [
    "mean_score=np.mean(np.array(scores))"
   ]
  },
  {
   "cell_type": "code",
   "execution_count": 42,
   "id": "82815042",
   "metadata": {},
   "outputs": [
    {
     "name": "stdout",
     "output_type": "stream",
     "text": [
      "0.8539999999999999\n"
     ]
    }
   ],
   "source": [
    "print(mean_score)"
   ]
  },
  {
   "cell_type": "code",
   "execution_count": null,
   "id": "2ddb23d7",
   "metadata": {},
   "outputs": [],
   "source": []
  }
 ],
 "metadata": {
  "kernelspec": {
   "display_name": "Python 3",
   "language": "python",
   "name": "python3"
  },
  "language_info": {
   "codemirror_mode": {
    "name": "ipython",
    "version": 3
   },
   "file_extension": ".py",
   "mimetype": "text/x-python",
   "name": "python",
   "nbconvert_exporter": "python",
   "pygments_lexer": "ipython3",
   "version": "3.9.1"
  }
 },
 "nbformat": 4,
 "nbformat_minor": 5
}
